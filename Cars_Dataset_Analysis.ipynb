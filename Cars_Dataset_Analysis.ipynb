{
 "cells": [
  {
   "cell_type": "markdown",
   "id": "48acb693",
   "metadata": {},
   "source": [
    "# Cars Dataset Analysis "
   ]
  },
  {
   "cell_type": "markdown",
   "id": "85552af1-aedf-4969-a4ad-d49d742af479",
   "metadata": {},
   "source": [
    "## Introduction  \n",
    "This analysis explores the Cars dataset to understand relationships between different features.We will use statistical summaries and visualizations to uncover patterns.  \n",
    "- **Dataset Information**  \n",
    "\n",
    "- **Entries (rows):** 428  \n",
    "- **Columns (features):** 15\n",
    "- **Column Details**  \n",
    "\n",
    "| #  | Column       | Non-Null Count | Dtype    | Description |\n",
    "|----|--------------|----------------|----------|-------------|\n",
    "| 0  | Make         | 428 non-null   | object   | Car manufacturer (e.g., Toyota, Ford) |\n",
    "| 1  | Model        | 428 non-null   | object   | Car model name |\n",
    "| 2  | Type         | 428 non-null   | object   | Vehicle type (e.g., Sedan, SUV, Truck) |\n",
    "| 3  | Origin       | 428 non-null   | object   | Country/region of origin |\n",
    "| 4  | DriveTrain   | 428 non-null   | object   | Type of drive (e.g., FWD, RWD, AWD) |\n",
    "| 5  | MSRP         | 428 non-null   | int64    | Manufacturer’s Suggested Retail Price |\n",
    "| 6  | Invoice      | 428 non-null   | int64    | Dealer invoice price |\n",
    "| 7  | EngineSize   | 428 non-null   | float64  | Engine size in liters |\n",
    "| 8  | Cylinders    | 426 non-null   | float64  | Number of engine cylinders |\n",
    "| 9  | Horsepower   | 428 non-null   | int64    | Engine power output |\n",
    "| 10 | MPG_City     | 428 non-null   | int64    | Fuel efficiency (miles per gallon, city) |\n",
    "| 11 | MPG_Highway  | 428 non-null   | int64    | Fuel efficiency (miles per gallon, highway) |\n",
    "| 12 | Weight       | 428 non-null   | int64    | Vehicle weight (in lbs) |\n",
    "| 13 | Wheelbase    | 428 non-null   | int64    | Distance between front and rear axles (in inches) |\n",
    "| 14 | Length       | 428 non-null   | int64    | Vehicle length (in inches) |\n",
    "\n",
    "### Observations  \n",
    "- The dataset has **428 cars** described by **15 features**.  \n",
    "- Most columns are complete, except **Cylinders**, which has 2 missing values.  \n",
    "- Data types include **categorical (object)** and **numerical (int64, float64)**.  \n",
    "- It contains both **technical specs** (Horsepower, Engine Size, Weight) and **pricing info** (MSRP, Invoice).  \n"
   ]
  },
  {
   "cell_type": "markdown",
   "id": "08d48679",
   "metadata": {},
   "source": [
    "## _import libraries_"
   ]
  },
  {
   "cell_type": "code",
   "execution_count": 1,
   "id": "356d6881",
   "metadata": {},
   "outputs": [],
   "source": [
    "import pandas as pd\n",
    "import numpy as np\n",
    "import seaborn as sns\n",
    "import matplotlib.pyplot as plt"
   ]
  },
  {
   "cell_type": "markdown",
   "id": "cd16e3eb",
   "metadata": {},
   "source": [
    "# _Load the Dataset_"
   ]
  },
  {
   "cell_type": "code",
   "execution_count": 13,
   "id": "5101ac51",
   "metadata": {},
   "outputs": [
    {
     "data": {
      "text/html": [
       "<div>\n",
       "<style scoped>\n",
       "    .dataframe tbody tr th:only-of-type {\n",
       "        vertical-align: middle;\n",
       "    }\n",
       "\n",
       "    .dataframe tbody tr th {\n",
       "        vertical-align: top;\n",
       "    }\n",
       "\n",
       "    .dataframe thead th {\n",
       "        text-align: right;\n",
       "    }\n",
       "</style>\n",
       "<table border=\"1\" class=\"dataframe\">\n",
       "  <thead>\n",
       "    <tr style=\"text-align: right;\">\n",
       "      <th></th>\n",
       "      <th>Make</th>\n",
       "      <th>Model</th>\n",
       "      <th>Type</th>\n",
       "      <th>Origin</th>\n",
       "      <th>DriveTrain</th>\n",
       "      <th>MSRP</th>\n",
       "      <th>Invoice</th>\n",
       "      <th>EngineSize</th>\n",
       "      <th>Cylinders</th>\n",
       "      <th>Horsepower</th>\n",
       "      <th>MPG_City</th>\n",
       "      <th>MPG_Highway</th>\n",
       "      <th>Weight</th>\n",
       "      <th>Wheelbase</th>\n",
       "      <th>Length</th>\n",
       "    </tr>\n",
       "  </thead>\n",
       "  <tbody>\n",
       "    <tr>\n",
       "      <th>0</th>\n",
       "      <td>Acura</td>\n",
       "      <td>MDX</td>\n",
       "      <td>SUV</td>\n",
       "      <td>Asia</td>\n",
       "      <td>All</td>\n",
       "      <td>36945</td>\n",
       "      <td>33337</td>\n",
       "      <td>3.5</td>\n",
       "      <td>6.0</td>\n",
       "      <td>265</td>\n",
       "      <td>17</td>\n",
       "      <td>23</td>\n",
       "      <td>4451</td>\n",
       "      <td>106</td>\n",
       "      <td>189</td>\n",
       "    </tr>\n",
       "    <tr>\n",
       "      <th>1</th>\n",
       "      <td>Acura</td>\n",
       "      <td>RSX Type S 2dr</td>\n",
       "      <td>Sedan</td>\n",
       "      <td>Asia</td>\n",
       "      <td>Front</td>\n",
       "      <td>23820</td>\n",
       "      <td>21761</td>\n",
       "      <td>2.0</td>\n",
       "      <td>4.0</td>\n",
       "      <td>200</td>\n",
       "      <td>24</td>\n",
       "      <td>31</td>\n",
       "      <td>2778</td>\n",
       "      <td>101</td>\n",
       "      <td>172</td>\n",
       "    </tr>\n",
       "    <tr>\n",
       "      <th>2</th>\n",
       "      <td>Acura</td>\n",
       "      <td>TSX 4dr</td>\n",
       "      <td>Sedan</td>\n",
       "      <td>Asia</td>\n",
       "      <td>Front</td>\n",
       "      <td>26990</td>\n",
       "      <td>24647</td>\n",
       "      <td>2.4</td>\n",
       "      <td>4.0</td>\n",
       "      <td>200</td>\n",
       "      <td>22</td>\n",
       "      <td>29</td>\n",
       "      <td>3230</td>\n",
       "      <td>105</td>\n",
       "      <td>183</td>\n",
       "    </tr>\n",
       "    <tr>\n",
       "      <th>3</th>\n",
       "      <td>Acura</td>\n",
       "      <td>TL 4dr</td>\n",
       "      <td>Sedan</td>\n",
       "      <td>Asia</td>\n",
       "      <td>Front</td>\n",
       "      <td>33195</td>\n",
       "      <td>30299</td>\n",
       "      <td>3.2</td>\n",
       "      <td>6.0</td>\n",
       "      <td>270</td>\n",
       "      <td>20</td>\n",
       "      <td>28</td>\n",
       "      <td>3575</td>\n",
       "      <td>108</td>\n",
       "      <td>186</td>\n",
       "    </tr>\n",
       "    <tr>\n",
       "      <th>4</th>\n",
       "      <td>Acura</td>\n",
       "      <td>3.5 RL 4dr</td>\n",
       "      <td>Sedan</td>\n",
       "      <td>Asia</td>\n",
       "      <td>Front</td>\n",
       "      <td>43755</td>\n",
       "      <td>39014</td>\n",
       "      <td>3.5</td>\n",
       "      <td>6.0</td>\n",
       "      <td>225</td>\n",
       "      <td>18</td>\n",
       "      <td>24</td>\n",
       "      <td>3880</td>\n",
       "      <td>115</td>\n",
       "      <td>197</td>\n",
       "    </tr>\n",
       "    <tr>\n",
       "      <th>...</th>\n",
       "      <td>...</td>\n",
       "      <td>...</td>\n",
       "      <td>...</td>\n",
       "      <td>...</td>\n",
       "      <td>...</td>\n",
       "      <td>...</td>\n",
       "      <td>...</td>\n",
       "      <td>...</td>\n",
       "      <td>...</td>\n",
       "      <td>...</td>\n",
       "      <td>...</td>\n",
       "      <td>...</td>\n",
       "      <td>...</td>\n",
       "      <td>...</td>\n",
       "      <td>...</td>\n",
       "    </tr>\n",
       "    <tr>\n",
       "      <th>423</th>\n",
       "      <td>Volvo</td>\n",
       "      <td>C70 LPT convertible 2dr</td>\n",
       "      <td>Sedan</td>\n",
       "      <td>Europe</td>\n",
       "      <td>Front</td>\n",
       "      <td>40565</td>\n",
       "      <td>38203</td>\n",
       "      <td>2.4</td>\n",
       "      <td>5.0</td>\n",
       "      <td>197</td>\n",
       "      <td>21</td>\n",
       "      <td>28</td>\n",
       "      <td>3450</td>\n",
       "      <td>105</td>\n",
       "      <td>186</td>\n",
       "    </tr>\n",
       "    <tr>\n",
       "      <th>424</th>\n",
       "      <td>Volvo</td>\n",
       "      <td>C70 HPT convertible 2dr</td>\n",
       "      <td>Sedan</td>\n",
       "      <td>Europe</td>\n",
       "      <td>Front</td>\n",
       "      <td>42565</td>\n",
       "      <td>40083</td>\n",
       "      <td>2.3</td>\n",
       "      <td>5.0</td>\n",
       "      <td>242</td>\n",
       "      <td>20</td>\n",
       "      <td>26</td>\n",
       "      <td>3450</td>\n",
       "      <td>105</td>\n",
       "      <td>186</td>\n",
       "    </tr>\n",
       "    <tr>\n",
       "      <th>425</th>\n",
       "      <td>Volvo</td>\n",
       "      <td>S80 T6 4dr</td>\n",
       "      <td>Sedan</td>\n",
       "      <td>Europe</td>\n",
       "      <td>Front</td>\n",
       "      <td>45210</td>\n",
       "      <td>42573</td>\n",
       "      <td>2.9</td>\n",
       "      <td>6.0</td>\n",
       "      <td>268</td>\n",
       "      <td>19</td>\n",
       "      <td>26</td>\n",
       "      <td>3653</td>\n",
       "      <td>110</td>\n",
       "      <td>190</td>\n",
       "    </tr>\n",
       "    <tr>\n",
       "      <th>426</th>\n",
       "      <td>Volvo</td>\n",
       "      <td>V40</td>\n",
       "      <td>Wagon</td>\n",
       "      <td>Europe</td>\n",
       "      <td>Front</td>\n",
       "      <td>26135</td>\n",
       "      <td>24641</td>\n",
       "      <td>1.9</td>\n",
       "      <td>4.0</td>\n",
       "      <td>170</td>\n",
       "      <td>22</td>\n",
       "      <td>29</td>\n",
       "      <td>2822</td>\n",
       "      <td>101</td>\n",
       "      <td>180</td>\n",
       "    </tr>\n",
       "    <tr>\n",
       "      <th>427</th>\n",
       "      <td>Volvo</td>\n",
       "      <td>XC70</td>\n",
       "      <td>Wagon</td>\n",
       "      <td>Europe</td>\n",
       "      <td>All</td>\n",
       "      <td>35145</td>\n",
       "      <td>33112</td>\n",
       "      <td>2.5</td>\n",
       "      <td>5.0</td>\n",
       "      <td>208</td>\n",
       "      <td>20</td>\n",
       "      <td>27</td>\n",
       "      <td>3823</td>\n",
       "      <td>109</td>\n",
       "      <td>186</td>\n",
       "    </tr>\n",
       "  </tbody>\n",
       "</table>\n",
       "<p>428 rows × 15 columns</p>\n",
       "</div>"
      ],
      "text/plain": [
       "      Make                     Model   Type  Origin DriveTrain   MSRP  \\\n",
       "0    Acura                       MDX    SUV    Asia        All  36945   \n",
       "1    Acura            RSX Type S 2dr  Sedan    Asia      Front  23820   \n",
       "2    Acura                   TSX 4dr  Sedan    Asia      Front  26990   \n",
       "3    Acura                    TL 4dr  Sedan    Asia      Front  33195   \n",
       "4    Acura                3.5 RL 4dr  Sedan    Asia      Front  43755   \n",
       "..     ...                       ...    ...     ...        ...    ...   \n",
       "423  Volvo   C70 LPT convertible 2dr  Sedan  Europe      Front  40565   \n",
       "424  Volvo   C70 HPT convertible 2dr  Sedan  Europe      Front  42565   \n",
       "425  Volvo                S80 T6 4dr  Sedan  Europe      Front  45210   \n",
       "426  Volvo                       V40  Wagon  Europe      Front  26135   \n",
       "427  Volvo                      XC70  Wagon  Europe        All  35145   \n",
       "\n",
       "     Invoice  EngineSize  Cylinders  Horsepower  MPG_City  MPG_Highway  \\\n",
       "0      33337         3.5        6.0         265        17           23   \n",
       "1      21761         2.0        4.0         200        24           31   \n",
       "2      24647         2.4        4.0         200        22           29   \n",
       "3      30299         3.2        6.0         270        20           28   \n",
       "4      39014         3.5        6.0         225        18           24   \n",
       "..       ...         ...        ...         ...       ...          ...   \n",
       "423    38203         2.4        5.0         197        21           28   \n",
       "424    40083         2.3        5.0         242        20           26   \n",
       "425    42573         2.9        6.0         268        19           26   \n",
       "426    24641         1.9        4.0         170        22           29   \n",
       "427    33112         2.5        5.0         208        20           27   \n",
       "\n",
       "     Weight  Wheelbase  Length  \n",
       "0      4451        106     189  \n",
       "1      2778        101     172  \n",
       "2      3230        105     183  \n",
       "3      3575        108     186  \n",
       "4      3880        115     197  \n",
       "..      ...        ...     ...  \n",
       "423    3450        105     186  \n",
       "424    3450        105     186  \n",
       "425    3653        110     190  \n",
       "426    2822        101     180  \n",
       "427    3823        109     186  \n",
       "\n",
       "[428 rows x 15 columns]"
      ]
     },
     "execution_count": 13,
     "metadata": {},
     "output_type": "execute_result"
    }
   ],
   "source": [
    "cars = pd.read_excel('c:/Users/hp/OneDrive - Higher Education Commission/Desktop/Business Data Analytics/CARS.xlsx')\n",
    "cars"
   ]
  },
  {
   "cell_type": "markdown",
   "id": "2d9363e7",
   "metadata": {},
   "source": [
    "# _Understand the Dataset_"
   ]
  },
  {
   "cell_type": "code",
   "execution_count": 42,
   "id": "c2e8e9aa",
   "metadata": {},
   "outputs": [
    {
     "data": {
      "text/html": [
       "<div>\n",
       "<style scoped>\n",
       "    .dataframe tbody tr th:only-of-type {\n",
       "        vertical-align: middle;\n",
       "    }\n",
       "\n",
       "    .dataframe tbody tr th {\n",
       "        vertical-align: top;\n",
       "    }\n",
       "\n",
       "    .dataframe thead th {\n",
       "        text-align: right;\n",
       "    }\n",
       "</style>\n",
       "<table border=\"1\" class=\"dataframe\">\n",
       "  <thead>\n",
       "    <tr style=\"text-align: right;\">\n",
       "      <th></th>\n",
       "      <th>Make</th>\n",
       "      <th>Model</th>\n",
       "      <th>Type</th>\n",
       "      <th>Origin</th>\n",
       "      <th>DriveTrain</th>\n",
       "      <th>MSRP</th>\n",
       "      <th>Invoice</th>\n",
       "      <th>EngineSize</th>\n",
       "      <th>Cylinders</th>\n",
       "      <th>Horsepower</th>\n",
       "      <th>MPG_City</th>\n",
       "      <th>MPG_Highway</th>\n",
       "      <th>Weight</th>\n",
       "      <th>Wheelbase</th>\n",
       "      <th>Length</th>\n",
       "    </tr>\n",
       "  </thead>\n",
       "  <tbody>\n",
       "    <tr>\n",
       "      <th>0</th>\n",
       "      <td>Acura</td>\n",
       "      <td>MDX</td>\n",
       "      <td>suv</td>\n",
       "      <td>asia</td>\n",
       "      <td>all</td>\n",
       "      <td>36945</td>\n",
       "      <td>33337</td>\n",
       "      <td>3.5</td>\n",
       "      <td>6.0</td>\n",
       "      <td>265</td>\n",
       "      <td>17</td>\n",
       "      <td>23</td>\n",
       "      <td>4451</td>\n",
       "      <td>106</td>\n",
       "      <td>189</td>\n",
       "    </tr>\n",
       "    <tr>\n",
       "      <th>1</th>\n",
       "      <td>Acura</td>\n",
       "      <td>RSX Type S 2dr</td>\n",
       "      <td>sedan</td>\n",
       "      <td>asia</td>\n",
       "      <td>front</td>\n",
       "      <td>23820</td>\n",
       "      <td>21761</td>\n",
       "      <td>2.0</td>\n",
       "      <td>4.0</td>\n",
       "      <td>200</td>\n",
       "      <td>24</td>\n",
       "      <td>31</td>\n",
       "      <td>2778</td>\n",
       "      <td>101</td>\n",
       "      <td>172</td>\n",
       "    </tr>\n",
       "    <tr>\n",
       "      <th>2</th>\n",
       "      <td>Acura</td>\n",
       "      <td>TSX 4dr</td>\n",
       "      <td>sedan</td>\n",
       "      <td>asia</td>\n",
       "      <td>front</td>\n",
       "      <td>26990</td>\n",
       "      <td>24647</td>\n",
       "      <td>2.4</td>\n",
       "      <td>4.0</td>\n",
       "      <td>200</td>\n",
       "      <td>22</td>\n",
       "      <td>29</td>\n",
       "      <td>3230</td>\n",
       "      <td>105</td>\n",
       "      <td>183</td>\n",
       "    </tr>\n",
       "  </tbody>\n",
       "</table>\n",
       "</div>"
      ],
      "text/plain": [
       "    Make            Model   Type Origin DriveTrain   MSRP  Invoice  \\\n",
       "0  Acura              MDX    suv   asia        all  36945    33337   \n",
       "1  Acura   RSX Type S 2dr  sedan   asia      front  23820    21761   \n",
       "2  Acura          TSX 4dr  sedan   asia      front  26990    24647   \n",
       "\n",
       "   EngineSize  Cylinders  Horsepower  MPG_City  MPG_Highway  Weight  \\\n",
       "0         3.5        6.0         265        17           23    4451   \n",
       "1         2.0        4.0         200        24           31    2778   \n",
       "2         2.4        4.0         200        22           29    3230   \n",
       "\n",
       "   Wheelbase  Length  \n",
       "0        106     189  \n",
       "1        101     172  \n",
       "2        105     183  "
      ]
     },
     "execution_count": 42,
     "metadata": {},
     "output_type": "execute_result"
    }
   ],
   "source": [
    "cars.head(3)"
   ]
  },
  {
   "cell_type": "code",
   "execution_count": 6,
   "id": "f39dadc2",
   "metadata": {},
   "outputs": [
    {
     "data": {
      "application/vnd.microsoft.datawrangler.viewer.v0+json": {
       "columns": [
        {
         "name": "index",
         "rawType": "int64",
         "type": "integer"
        },
        {
         "name": "Make",
         "rawType": "object",
         "type": "string"
        },
        {
         "name": "Model",
         "rawType": "object",
         "type": "string"
        },
        {
         "name": "Type",
         "rawType": "object",
         "type": "string"
        },
        {
         "name": "Origin",
         "rawType": "object",
         "type": "string"
        },
        {
         "name": "DriveTrain",
         "rawType": "object",
         "type": "string"
        },
        {
         "name": "MSRP",
         "rawType": "int64",
         "type": "integer"
        },
        {
         "name": "Invoice",
         "rawType": "int64",
         "type": "integer"
        },
        {
         "name": "EngineSize",
         "rawType": "float64",
         "type": "float"
        },
        {
         "name": "Cylinders",
         "rawType": "float64",
         "type": "float"
        },
        {
         "name": "Horsepower",
         "rawType": "int64",
         "type": "integer"
        },
        {
         "name": "MPG_City",
         "rawType": "int64",
         "type": "integer"
        },
        {
         "name": "MPG_Highway",
         "rawType": "int64",
         "type": "integer"
        },
        {
         "name": "Weight",
         "rawType": "int64",
         "type": "integer"
        },
        {
         "name": "Wheelbase",
         "rawType": "int64",
         "type": "integer"
        },
        {
         "name": "Length",
         "rawType": "int64",
         "type": "integer"
        }
       ],
       "ref": "392565c0-aa52-4191-9ad0-5371c61a817d",
       "rows": [
        [
         "425",
         "Volvo",
         " S80 T6 4dr",
         "Sedan",
         "Europe",
         "Front",
         "45210",
         "42573",
         "2.9",
         "6.0",
         "268",
         "19",
         "26",
         "3653",
         "110",
         "190"
        ],
        [
         "426",
         "Volvo",
         " V40",
         "Wagon",
         "Europe",
         "Front",
         "26135",
         "24641",
         "1.9",
         "4.0",
         "170",
         "22",
         "29",
         "2822",
         "101",
         "180"
        ],
        [
         "427",
         "Volvo",
         " XC70",
         "Wagon",
         "Europe",
         "All",
         "35145",
         "33112",
         "2.5",
         "5.0",
         "208",
         "20",
         "27",
         "3823",
         "109",
         "186"
        ]
       ],
       "shape": {
        "columns": 15,
        "rows": 3
       }
      },
      "text/html": [
       "<div>\n",
       "<style scoped>\n",
       "    .dataframe tbody tr th:only-of-type {\n",
       "        vertical-align: middle;\n",
       "    }\n",
       "\n",
       "    .dataframe tbody tr th {\n",
       "        vertical-align: top;\n",
       "    }\n",
       "\n",
       "    .dataframe thead th {\n",
       "        text-align: right;\n",
       "    }\n",
       "</style>\n",
       "<table border=\"1\" class=\"dataframe\">\n",
       "  <thead>\n",
       "    <tr style=\"text-align: right;\">\n",
       "      <th></th>\n",
       "      <th>Make</th>\n",
       "      <th>Model</th>\n",
       "      <th>Type</th>\n",
       "      <th>Origin</th>\n",
       "      <th>DriveTrain</th>\n",
       "      <th>MSRP</th>\n",
       "      <th>Invoice</th>\n",
       "      <th>EngineSize</th>\n",
       "      <th>Cylinders</th>\n",
       "      <th>Horsepower</th>\n",
       "      <th>MPG_City</th>\n",
       "      <th>MPG_Highway</th>\n",
       "      <th>Weight</th>\n",
       "      <th>Wheelbase</th>\n",
       "      <th>Length</th>\n",
       "    </tr>\n",
       "  </thead>\n",
       "  <tbody>\n",
       "    <tr>\n",
       "      <th>425</th>\n",
       "      <td>Volvo</td>\n",
       "      <td>S80 T6 4dr</td>\n",
       "      <td>Sedan</td>\n",
       "      <td>Europe</td>\n",
       "      <td>Front</td>\n",
       "      <td>45210</td>\n",
       "      <td>42573</td>\n",
       "      <td>2.9</td>\n",
       "      <td>6.0</td>\n",
       "      <td>268</td>\n",
       "      <td>19</td>\n",
       "      <td>26</td>\n",
       "      <td>3653</td>\n",
       "      <td>110</td>\n",
       "      <td>190</td>\n",
       "    </tr>\n",
       "    <tr>\n",
       "      <th>426</th>\n",
       "      <td>Volvo</td>\n",
       "      <td>V40</td>\n",
       "      <td>Wagon</td>\n",
       "      <td>Europe</td>\n",
       "      <td>Front</td>\n",
       "      <td>26135</td>\n",
       "      <td>24641</td>\n",
       "      <td>1.9</td>\n",
       "      <td>4.0</td>\n",
       "      <td>170</td>\n",
       "      <td>22</td>\n",
       "      <td>29</td>\n",
       "      <td>2822</td>\n",
       "      <td>101</td>\n",
       "      <td>180</td>\n",
       "    </tr>\n",
       "    <tr>\n",
       "      <th>427</th>\n",
       "      <td>Volvo</td>\n",
       "      <td>XC70</td>\n",
       "      <td>Wagon</td>\n",
       "      <td>Europe</td>\n",
       "      <td>All</td>\n",
       "      <td>35145</td>\n",
       "      <td>33112</td>\n",
       "      <td>2.5</td>\n",
       "      <td>5.0</td>\n",
       "      <td>208</td>\n",
       "      <td>20</td>\n",
       "      <td>27</td>\n",
       "      <td>3823</td>\n",
       "      <td>109</td>\n",
       "      <td>186</td>\n",
       "    </tr>\n",
       "  </tbody>\n",
       "</table>\n",
       "</div>"
      ],
      "text/plain": [
       "      Make        Model   Type  Origin DriveTrain   MSRP  Invoice  EngineSize  \\\n",
       "425  Volvo   S80 T6 4dr  Sedan  Europe      Front  45210    42573         2.9   \n",
       "426  Volvo          V40  Wagon  Europe      Front  26135    24641         1.9   \n",
       "427  Volvo         XC70  Wagon  Europe        All  35145    33112         2.5   \n",
       "\n",
       "     Cylinders  Horsepower  MPG_City  MPG_Highway  Weight  Wheelbase  Length  \n",
       "425        6.0         268        19           26    3653        110     190  \n",
       "426        4.0         170        22           29    2822        101     180  \n",
       "427        5.0         208        20           27    3823        109     186  "
      ]
     },
     "execution_count": 6,
     "metadata": {},
     "output_type": "execute_result"
    }
   ],
   "source": [
    "cars.tail(3)"
   ]
  },
  {
   "cell_type": "code",
   "execution_count": 7,
   "id": "a8a156e1",
   "metadata": {},
   "outputs": [
    {
     "data": {
      "text/plain": [
       "(428, 15)"
      ]
     },
     "execution_count": 7,
     "metadata": {},
     "output_type": "execute_result"
    }
   ],
   "source": [
    "cars.shape"
   ]
  },
  {
   "cell_type": "code",
   "execution_count": 8,
   "id": "819938cc",
   "metadata": {},
   "outputs": [
    {
     "name": "stdout",
     "output_type": "stream",
     "text": [
      "<class 'pandas.core.frame.DataFrame'>\n",
      "RangeIndex: 428 entries, 0 to 427\n",
      "Data columns (total 15 columns):\n",
      " #   Column       Non-Null Count  Dtype  \n",
      "---  ------       --------------  -----  \n",
      " 0   Make         428 non-null    object \n",
      " 1   Model        428 non-null    object \n",
      " 2   Type         428 non-null    object \n",
      " 3   Origin       428 non-null    object \n",
      " 4   DriveTrain   428 non-null    object \n",
      " 5   MSRP         428 non-null    int64  \n",
      " 6   Invoice      428 non-null    int64  \n",
      " 7   EngineSize   428 non-null    float64\n",
      " 8   Cylinders    426 non-null    float64\n",
      " 9   Horsepower   428 non-null    int64  \n",
      " 10  MPG_City     428 non-null    int64  \n",
      " 11  MPG_Highway  428 non-null    int64  \n",
      " 12  Weight       428 non-null    int64  \n",
      " 13  Wheelbase    428 non-null    int64  \n",
      " 14  Length       428 non-null    int64  \n",
      "dtypes: float64(2), int64(8), object(5)\n",
      "memory usage: 50.3+ KB\n"
     ]
    }
   ],
   "source": [
    "cars.info()"
   ]
  },
  {
   "cell_type": "code",
   "execution_count": 9,
   "id": "cfb9854c",
   "metadata": {},
   "outputs": [
    {
     "data": {
      "application/vnd.microsoft.datawrangler.viewer.v0+json": {
       "columns": [
        {
         "name": "index",
         "rawType": "object",
         "type": "string"
        },
        {
         "name": "MSRP",
         "rawType": "float64",
         "type": "float"
        },
        {
         "name": "Invoice",
         "rawType": "float64",
         "type": "float"
        },
        {
         "name": "EngineSize",
         "rawType": "float64",
         "type": "float"
        },
        {
         "name": "Cylinders",
         "rawType": "float64",
         "type": "float"
        },
        {
         "name": "Horsepower",
         "rawType": "float64",
         "type": "float"
        },
        {
         "name": "MPG_City",
         "rawType": "float64",
         "type": "float"
        },
        {
         "name": "MPG_Highway",
         "rawType": "float64",
         "type": "float"
        },
        {
         "name": "Weight",
         "rawType": "float64",
         "type": "float"
        },
        {
         "name": "Wheelbase",
         "rawType": "float64",
         "type": "float"
        },
        {
         "name": "Length",
         "rawType": "float64",
         "type": "float"
        }
       ],
       "ref": "0929068c-c3f7-452f-bb25-c496a58b6a9d",
       "rows": [
        [
         "count",
         "428.0",
         "428.0",
         "428.0",
         "426.0",
         "428.0",
         "428.0",
         "428.0",
         "428.0",
         "428.0",
         "428.0"
        ],
        [
         "mean",
         "32774.85514018692",
         "30014.70093457944",
         "3.1967289719626164",
         "5.807511737089202",
         "215.8855140186916",
         "20.060747663551403",
         "26.843457943925234",
         "3577.9532710280373",
         "108.15420560747664",
         "186.36214953271028"
        ],
        [
         "std",
         "19431.716673717518",
         "17642.117750314763",
         "1.1085947183514753",
         "1.5584426332202217",
         "71.83603158369077",
         "5.238217638649044",
         "5.741200716984228",
         "758.9832146098709",
         "8.31181299108951",
         "14.357991256895623"
        ],
        [
         "min",
         "10280.0",
         "9875.0",
         "1.3",
         "3.0",
         "73.0",
         "10.0",
         "12.0",
         "1850.0",
         "89.0",
         "143.0"
        ],
        [
         "25%",
         "20334.25",
         "18866.0",
         "2.375",
         "4.0",
         "165.0",
         "17.0",
         "24.0",
         "3104.0",
         "103.0",
         "178.0"
        ],
        [
         "50%",
         "27635.0",
         "25294.5",
         "3.0",
         "6.0",
         "210.0",
         "19.0",
         "26.0",
         "3474.5",
         "107.0",
         "187.0"
        ],
        [
         "75%",
         "39205.0",
         "35710.25",
         "3.9",
         "6.0",
         "255.0",
         "21.25",
         "29.0",
         "3977.75",
         "112.0",
         "194.0"
        ],
        [
         "max",
         "192465.0",
         "173560.0",
         "8.3",
         "12.0",
         "500.0",
         "60.0",
         "66.0",
         "7190.0",
         "144.0",
         "238.0"
        ]
       ],
       "shape": {
        "columns": 10,
        "rows": 8
       }
      },
      "text/html": [
       "<div>\n",
       "<style scoped>\n",
       "    .dataframe tbody tr th:only-of-type {\n",
       "        vertical-align: middle;\n",
       "    }\n",
       "\n",
       "    .dataframe tbody tr th {\n",
       "        vertical-align: top;\n",
       "    }\n",
       "\n",
       "    .dataframe thead th {\n",
       "        text-align: right;\n",
       "    }\n",
       "</style>\n",
       "<table border=\"1\" class=\"dataframe\">\n",
       "  <thead>\n",
       "    <tr style=\"text-align: right;\">\n",
       "      <th></th>\n",
       "      <th>MSRP</th>\n",
       "      <th>Invoice</th>\n",
       "      <th>EngineSize</th>\n",
       "      <th>Cylinders</th>\n",
       "      <th>Horsepower</th>\n",
       "      <th>MPG_City</th>\n",
       "      <th>MPG_Highway</th>\n",
       "      <th>Weight</th>\n",
       "      <th>Wheelbase</th>\n",
       "      <th>Length</th>\n",
       "    </tr>\n",
       "  </thead>\n",
       "  <tbody>\n",
       "    <tr>\n",
       "      <th>count</th>\n",
       "      <td>428.000000</td>\n",
       "      <td>428.000000</td>\n",
       "      <td>428.000000</td>\n",
       "      <td>426.000000</td>\n",
       "      <td>428.000000</td>\n",
       "      <td>428.000000</td>\n",
       "      <td>428.000000</td>\n",
       "      <td>428.000000</td>\n",
       "      <td>428.000000</td>\n",
       "      <td>428.000000</td>\n",
       "    </tr>\n",
       "    <tr>\n",
       "      <th>mean</th>\n",
       "      <td>32774.855140</td>\n",
       "      <td>30014.700935</td>\n",
       "      <td>3.196729</td>\n",
       "      <td>5.807512</td>\n",
       "      <td>215.885514</td>\n",
       "      <td>20.060748</td>\n",
       "      <td>26.843458</td>\n",
       "      <td>3577.953271</td>\n",
       "      <td>108.154206</td>\n",
       "      <td>186.362150</td>\n",
       "    </tr>\n",
       "    <tr>\n",
       "      <th>std</th>\n",
       "      <td>19431.716674</td>\n",
       "      <td>17642.117750</td>\n",
       "      <td>1.108595</td>\n",
       "      <td>1.558443</td>\n",
       "      <td>71.836032</td>\n",
       "      <td>5.238218</td>\n",
       "      <td>5.741201</td>\n",
       "      <td>758.983215</td>\n",
       "      <td>8.311813</td>\n",
       "      <td>14.357991</td>\n",
       "    </tr>\n",
       "    <tr>\n",
       "      <th>min</th>\n",
       "      <td>10280.000000</td>\n",
       "      <td>9875.000000</td>\n",
       "      <td>1.300000</td>\n",
       "      <td>3.000000</td>\n",
       "      <td>73.000000</td>\n",
       "      <td>10.000000</td>\n",
       "      <td>12.000000</td>\n",
       "      <td>1850.000000</td>\n",
       "      <td>89.000000</td>\n",
       "      <td>143.000000</td>\n",
       "    </tr>\n",
       "    <tr>\n",
       "      <th>25%</th>\n",
       "      <td>20334.250000</td>\n",
       "      <td>18866.000000</td>\n",
       "      <td>2.375000</td>\n",
       "      <td>4.000000</td>\n",
       "      <td>165.000000</td>\n",
       "      <td>17.000000</td>\n",
       "      <td>24.000000</td>\n",
       "      <td>3104.000000</td>\n",
       "      <td>103.000000</td>\n",
       "      <td>178.000000</td>\n",
       "    </tr>\n",
       "    <tr>\n",
       "      <th>50%</th>\n",
       "      <td>27635.000000</td>\n",
       "      <td>25294.500000</td>\n",
       "      <td>3.000000</td>\n",
       "      <td>6.000000</td>\n",
       "      <td>210.000000</td>\n",
       "      <td>19.000000</td>\n",
       "      <td>26.000000</td>\n",
       "      <td>3474.500000</td>\n",
       "      <td>107.000000</td>\n",
       "      <td>187.000000</td>\n",
       "    </tr>\n",
       "    <tr>\n",
       "      <th>75%</th>\n",
       "      <td>39205.000000</td>\n",
       "      <td>35710.250000</td>\n",
       "      <td>3.900000</td>\n",
       "      <td>6.000000</td>\n",
       "      <td>255.000000</td>\n",
       "      <td>21.250000</td>\n",
       "      <td>29.000000</td>\n",
       "      <td>3977.750000</td>\n",
       "      <td>112.000000</td>\n",
       "      <td>194.000000</td>\n",
       "    </tr>\n",
       "    <tr>\n",
       "      <th>max</th>\n",
       "      <td>192465.000000</td>\n",
       "      <td>173560.000000</td>\n",
       "      <td>8.300000</td>\n",
       "      <td>12.000000</td>\n",
       "      <td>500.000000</td>\n",
       "      <td>60.000000</td>\n",
       "      <td>66.000000</td>\n",
       "      <td>7190.000000</td>\n",
       "      <td>144.000000</td>\n",
       "      <td>238.000000</td>\n",
       "    </tr>\n",
       "  </tbody>\n",
       "</table>\n",
       "</div>"
      ],
      "text/plain": [
       "                MSRP        Invoice  EngineSize   Cylinders  Horsepower  \\\n",
       "count     428.000000     428.000000  428.000000  426.000000  428.000000   \n",
       "mean    32774.855140   30014.700935    3.196729    5.807512  215.885514   \n",
       "std     19431.716674   17642.117750    1.108595    1.558443   71.836032   \n",
       "min     10280.000000    9875.000000    1.300000    3.000000   73.000000   \n",
       "25%     20334.250000   18866.000000    2.375000    4.000000  165.000000   \n",
       "50%     27635.000000   25294.500000    3.000000    6.000000  210.000000   \n",
       "75%     39205.000000   35710.250000    3.900000    6.000000  255.000000   \n",
       "max    192465.000000  173560.000000    8.300000   12.000000  500.000000   \n",
       "\n",
       "         MPG_City  MPG_Highway       Weight   Wheelbase      Length  \n",
       "count  428.000000   428.000000   428.000000  428.000000  428.000000  \n",
       "mean    20.060748    26.843458  3577.953271  108.154206  186.362150  \n",
       "std      5.238218     5.741201   758.983215    8.311813   14.357991  \n",
       "min     10.000000    12.000000  1850.000000   89.000000  143.000000  \n",
       "25%     17.000000    24.000000  3104.000000  103.000000  178.000000  \n",
       "50%     19.000000    26.000000  3474.500000  107.000000  187.000000  \n",
       "75%     21.250000    29.000000  3977.750000  112.000000  194.000000  \n",
       "max     60.000000    66.000000  7190.000000  144.000000  238.000000  "
      ]
     },
     "execution_count": 9,
     "metadata": {},
     "output_type": "execute_result"
    }
   ],
   "source": [
    "cars.describe()"
   ]
  },
  {
   "cell_type": "code",
   "execution_count": 3,
   "id": "1289522e-d260-46e1-ae92-07a0be637968",
   "metadata": {},
   "outputs": [
    {
     "data": {
      "text/html": [
       "<div>\n",
       "<style scoped>\n",
       "    .dataframe tbody tr th:only-of-type {\n",
       "        vertical-align: middle;\n",
       "    }\n",
       "\n",
       "    .dataframe tbody tr th {\n",
       "        vertical-align: top;\n",
       "    }\n",
       "\n",
       "    .dataframe thead th {\n",
       "        text-align: right;\n",
       "    }\n",
       "</style>\n",
       "<table border=\"1\" class=\"dataframe\">\n",
       "  <thead>\n",
       "    <tr style=\"text-align: right;\">\n",
       "      <th></th>\n",
       "      <th>count</th>\n",
       "      <th>mean</th>\n",
       "      <th>std</th>\n",
       "      <th>min</th>\n",
       "      <th>25%</th>\n",
       "      <th>50%</th>\n",
       "      <th>75%</th>\n",
       "      <th>max</th>\n",
       "    </tr>\n",
       "  </thead>\n",
       "  <tbody>\n",
       "    <tr>\n",
       "      <th>MSRP</th>\n",
       "      <td>428.0</td>\n",
       "      <td>32774.855140</td>\n",
       "      <td>19431.716674</td>\n",
       "      <td>10280.0</td>\n",
       "      <td>20334.250</td>\n",
       "      <td>27635.0</td>\n",
       "      <td>39205.00</td>\n",
       "      <td>192465.0</td>\n",
       "    </tr>\n",
       "    <tr>\n",
       "      <th>Invoice</th>\n",
       "      <td>428.0</td>\n",
       "      <td>30014.700935</td>\n",
       "      <td>17642.117750</td>\n",
       "      <td>9875.0</td>\n",
       "      <td>18866.000</td>\n",
       "      <td>25294.5</td>\n",
       "      <td>35710.25</td>\n",
       "      <td>173560.0</td>\n",
       "    </tr>\n",
       "    <tr>\n",
       "      <th>EngineSize</th>\n",
       "      <td>428.0</td>\n",
       "      <td>3.196729</td>\n",
       "      <td>1.108595</td>\n",
       "      <td>1.3</td>\n",
       "      <td>2.375</td>\n",
       "      <td>3.0</td>\n",
       "      <td>3.90</td>\n",
       "      <td>8.3</td>\n",
       "    </tr>\n",
       "    <tr>\n",
       "      <th>Cylinders</th>\n",
       "      <td>426.0</td>\n",
       "      <td>5.807512</td>\n",
       "      <td>1.558443</td>\n",
       "      <td>3.0</td>\n",
       "      <td>4.000</td>\n",
       "      <td>6.0</td>\n",
       "      <td>6.00</td>\n",
       "      <td>12.0</td>\n",
       "    </tr>\n",
       "    <tr>\n",
       "      <th>Horsepower</th>\n",
       "      <td>428.0</td>\n",
       "      <td>215.885514</td>\n",
       "      <td>71.836032</td>\n",
       "      <td>73.0</td>\n",
       "      <td>165.000</td>\n",
       "      <td>210.0</td>\n",
       "      <td>255.00</td>\n",
       "      <td>500.0</td>\n",
       "    </tr>\n",
       "    <tr>\n",
       "      <th>MPG_City</th>\n",
       "      <td>428.0</td>\n",
       "      <td>20.060748</td>\n",
       "      <td>5.238218</td>\n",
       "      <td>10.0</td>\n",
       "      <td>17.000</td>\n",
       "      <td>19.0</td>\n",
       "      <td>21.25</td>\n",
       "      <td>60.0</td>\n",
       "    </tr>\n",
       "    <tr>\n",
       "      <th>MPG_Highway</th>\n",
       "      <td>428.0</td>\n",
       "      <td>26.843458</td>\n",
       "      <td>5.741201</td>\n",
       "      <td>12.0</td>\n",
       "      <td>24.000</td>\n",
       "      <td>26.0</td>\n",
       "      <td>29.00</td>\n",
       "      <td>66.0</td>\n",
       "    </tr>\n",
       "    <tr>\n",
       "      <th>Weight</th>\n",
       "      <td>428.0</td>\n",
       "      <td>3577.953271</td>\n",
       "      <td>758.983215</td>\n",
       "      <td>1850.0</td>\n",
       "      <td>3104.000</td>\n",
       "      <td>3474.5</td>\n",
       "      <td>3977.75</td>\n",
       "      <td>7190.0</td>\n",
       "    </tr>\n",
       "    <tr>\n",
       "      <th>Wheelbase</th>\n",
       "      <td>428.0</td>\n",
       "      <td>108.154206</td>\n",
       "      <td>8.311813</td>\n",
       "      <td>89.0</td>\n",
       "      <td>103.000</td>\n",
       "      <td>107.0</td>\n",
       "      <td>112.00</td>\n",
       "      <td>144.0</td>\n",
       "    </tr>\n",
       "    <tr>\n",
       "      <th>Length</th>\n",
       "      <td>428.0</td>\n",
       "      <td>186.362150</td>\n",
       "      <td>14.357991</td>\n",
       "      <td>143.0</td>\n",
       "      <td>178.000</td>\n",
       "      <td>187.0</td>\n",
       "      <td>194.00</td>\n",
       "      <td>238.0</td>\n",
       "    </tr>\n",
       "  </tbody>\n",
       "</table>\n",
       "</div>"
      ],
      "text/plain": [
       "             count          mean           std      min        25%      50%  \\\n",
       "MSRP         428.0  32774.855140  19431.716674  10280.0  20334.250  27635.0   \n",
       "Invoice      428.0  30014.700935  17642.117750   9875.0  18866.000  25294.5   \n",
       "EngineSize   428.0      3.196729      1.108595      1.3      2.375      3.0   \n",
       "Cylinders    426.0      5.807512      1.558443      3.0      4.000      6.0   \n",
       "Horsepower   428.0    215.885514     71.836032     73.0    165.000    210.0   \n",
       "MPG_City     428.0     20.060748      5.238218     10.0     17.000     19.0   \n",
       "MPG_Highway  428.0     26.843458      5.741201     12.0     24.000     26.0   \n",
       "Weight       428.0   3577.953271    758.983215   1850.0   3104.000   3474.5   \n",
       "Wheelbase    428.0    108.154206      8.311813     89.0    103.000    107.0   \n",
       "Length       428.0    186.362150     14.357991    143.0    178.000    187.0   \n",
       "\n",
       "                  75%       max  \n",
       "MSRP         39205.00  192465.0  \n",
       "Invoice      35710.25  173560.0  \n",
       "EngineSize       3.90       8.3  \n",
       "Cylinders        6.00      12.0  \n",
       "Horsepower     255.00     500.0  \n",
       "MPG_City        21.25      60.0  \n",
       "MPG_Highway     29.00      66.0  \n",
       "Weight        3977.75    7190.0  \n",
       "Wheelbase      112.00     144.0  \n",
       "Length         194.00     238.0  "
      ]
     },
     "execution_count": 3,
     "metadata": {},
     "output_type": "execute_result"
    }
   ],
   "source": [
    "cars.describe().T"
   ]
  },
  {
   "cell_type": "code",
   "execution_count": 4,
   "id": "4d347b0d-a75f-413c-8ab1-0c9a49425127",
   "metadata": {},
   "outputs": [
    {
     "data": {
      "text/plain": [
       "Index(['Make', 'Model', 'Type', 'Origin', 'DriveTrain', 'MSRP', 'Invoice',\n",
       "       'EngineSize', 'Cylinders', 'Horsepower', 'MPG_City', 'MPG_Highway',\n",
       "       'Weight', 'Wheelbase', 'Length'],\n",
       "      dtype='object')"
      ]
     },
     "execution_count": 4,
     "metadata": {},
     "output_type": "execute_result"
    }
   ],
   "source": [
    "cars.columns"
   ]
  },
  {
   "cell_type": "markdown",
   "id": "037010c5-3554-4177-a12a-6e6634f8c57f",
   "metadata": {},
   "source": [
    "# Handle Missing Values"
   ]
  },
  {
   "cell_type": "code",
   "execution_count": 14,
   "id": "20284dc2-d82f-4a02-9c32-c04af61ec35c",
   "metadata": {},
   "outputs": [
    {
     "data": {
      "text/plain": [
       "Make           0\n",
       "Model          0\n",
       "Type           0\n",
       "Origin         0\n",
       "DriveTrain     0\n",
       "MSRP           0\n",
       "Invoice        0\n",
       "EngineSize     0\n",
       "Cylinders      2\n",
       "Horsepower     0\n",
       "MPG_City       0\n",
       "MPG_Highway    0\n",
       "Weight         0\n",
       "Wheelbase      0\n",
       "Length         0\n",
       "dtype: int64"
      ]
     },
     "execution_count": 14,
     "metadata": {},
     "output_type": "execute_result"
    }
   ],
   "source": [
    "cars.isnull().sum()\n"
   ]
  },
  {
   "cell_type": "code",
   "execution_count": 15,
   "id": "8c185040-7df9-4859-ade3-7c6acf725421",
   "metadata": {},
   "outputs": [
    {
     "data": {
      "text/plain": [
       "np.int64(2)"
      ]
     },
     "execution_count": 15,
     "metadata": {},
     "output_type": "execute_result"
    }
   ],
   "source": [
    "cars.isnull().sum().sum()"
   ]
  },
  {
   "cell_type": "code",
   "execution_count": 16,
   "id": "5ecb2e91-350e-4564-8145-557eb04d05db",
   "metadata": {},
   "outputs": [],
   "source": [
    "# Fill missing values in Cylinders with median\n",
    "cars['Cylinders'] = cars['Cylinders'].fillna(cars['Cylinders'].median())"
   ]
  },
  {
   "cell_type": "code",
   "execution_count": 17,
   "id": "68c6a2fb-e0fd-4b4c-9c58-24370ef4c9a5",
   "metadata": {},
   "outputs": [
    {
     "data": {
      "text/plain": [
       "Make           0\n",
       "Model          0\n",
       "Type           0\n",
       "Origin         0\n",
       "DriveTrain     0\n",
       "MSRP           0\n",
       "Invoice        0\n",
       "EngineSize     0\n",
       "Cylinders      0\n",
       "Horsepower     0\n",
       "MPG_City       0\n",
       "MPG_Highway    0\n",
       "Weight         0\n",
       "Wheelbase      0\n",
       "Length         0\n",
       "dtype: int64"
      ]
     },
     "execution_count": 17,
     "metadata": {},
     "output_type": "execute_result"
    }
   ],
   "source": [
    "cars.isnull().sum()\n"
   ]
  },
  {
   "cell_type": "markdown",
   "id": "6515aecd-b257-4124-b534-e0401d13dfab",
   "metadata": {},
   "source": [
    "# Remove Duplicates"
   ]
  },
  {
   "cell_type": "code",
   "execution_count": 18,
   "id": "218f048e-deba-4470-8d5f-928017fd3e03",
   "metadata": {},
   "outputs": [
    {
     "data": {
      "text/plain": [
       "np.int64(0)"
      ]
     },
     "execution_count": 18,
     "metadata": {},
     "output_type": "execute_result"
    }
   ],
   "source": [
    " cars.duplicated().sum()"
   ]
  },
  {
   "cell_type": "markdown",
   "id": "9547b942-d5fa-4ff0-a5b7-a59cb3ccf390",
   "metadata": {},
   "source": [
    "# Standardize Categories"
   ]
  },
  {
   "cell_type": "code",
   "execution_count": 20,
   "id": "b295ca88-dd92-4227-ae6d-72ca0c798967",
   "metadata": {},
   "outputs": [],
   "source": [
    "# Convert categorical columns to lowercase\n",
    "cars['Type'] = cars['Type'].str.lower()\n",
    "cars['Origin'] = cars['Origin'].str.lower()\n",
    "cars['DriveTrain'] = cars['DriveTrain'].str.lower()\n"
   ]
  },
  {
   "cell_type": "code",
   "execution_count": null,
   "id": "727acf4b-e042-4ea8-9d9f-48963b4e9866",
   "metadata": {},
   "outputs": [],
   "source": []
  },
  {
   "cell_type": "markdown",
   "id": "136a95a6",
   "metadata": {},
   "source": [
    "# _Selecting a specific columns_ "
   ]
  },
  {
   "cell_type": "code",
   "execution_count": 21,
   "id": "d1c3ceb7",
   "metadata": {},
   "outputs": [
    {
     "data": {
      "text/plain": [
       "0      36945\n",
       "1      23820\n",
       "2      26990\n",
       "3      33195\n",
       "4      43755\n",
       "       ...  \n",
       "423    40565\n",
       "424    42565\n",
       "425    45210\n",
       "426    26135\n",
       "427    35145\n",
       "Name: MSRP, Length: 428, dtype: int64"
      ]
     },
     "execution_count": 21,
     "metadata": {},
     "output_type": "execute_result"
    }
   ],
   "source": [
    "cars['MSRP']"
   ]
  },
  {
   "cell_type": "code",
   "execution_count": 22,
   "id": "18a0c2c6",
   "metadata": {},
   "outputs": [
    {
     "data": {
      "text/plain": [
       "0      Acura\n",
       "1      Acura\n",
       "2      Acura\n",
       "3      Acura\n",
       "4      Acura\n",
       "       ...  \n",
       "423    Volvo\n",
       "424    Volvo\n",
       "425    Volvo\n",
       "426    Volvo\n",
       "427    Volvo\n",
       "Name: Make, Length: 428, dtype: object"
      ]
     },
     "execution_count": 22,
     "metadata": {},
     "output_type": "execute_result"
    }
   ],
   "source": [
    "cars.Make"
   ]
  },
  {
   "cell_type": "code",
   "execution_count": 23,
   "id": "6deb5c8b",
   "metadata": {},
   "outputs": [
    {
     "data": {
      "text/plain": [
       "np.float64(3.1967289719626164)"
      ]
     },
     "execution_count": 23,
     "metadata": {},
     "output_type": "execute_result"
    }
   ],
   "source": [
    "cars['EngineSize'].mean()"
   ]
  },
  {
   "cell_type": "code",
   "execution_count": 24,
   "id": "eeba4b78",
   "metadata": {},
   "outputs": [
    {
     "data": {
      "text/plain": [
       "np.float64(3.1967289719626164)"
      ]
     },
     "execution_count": 24,
     "metadata": {},
     "output_type": "execute_result"
    }
   ],
   "source": [
    "# other method\n",
    "cars.EngineSize.mean() "
   ]
  },
  {
   "cell_type": "markdown",
   "id": "09a43d9d",
   "metadata": {},
   "source": [
    "# For non_numeric"
   ]
  },
  {
   "cell_type": "code",
   "execution_count": 16,
   "id": "a38bdc6a",
   "metadata": {},
   "outputs": [
    {
     "ename": "TypeError",
     "evalue": "Could not convert ['AcuraAcuraAcuraAcuraAcuraAcuraAcuraAudiAudiAudiAudiAudiAudiAudiAudiAudiAudiAudiAudiAudiAudiAudiAudiAudiAudiAudiBMWBMWBMWBMWBMWBMWBMWBMWBMWBMWBMWBMWBMWBMWBMWBMWBMWBMWBMWBMWBuickBuickBuickBuickBuickBuickBuickBuickBuickCadillacCadillacCadillacCadillacCadillacCadillacCadillacCadillacChevroletChevroletChevroletChevroletChevroletChevroletChevroletChevroletChevroletChevroletChevroletChevroletChevroletChevroletChevroletChevroletChevroletChevroletChevroletChevroletChevroletChevroletChevroletChevroletChevroletChevroletChevroletChryslerChryslerChryslerChryslerChryslerChryslerChryslerChryslerChryslerChryslerChryslerChryslerChryslerChryslerChryslerDodgeDodgeDodgeDodgeDodgeDodgeDodgeDodgeDodgeDodgeDodgeDodgeDodgeFordFordFordFordFordFordFordFordFordFordFordFordFordFordFordFordFordFordFordFordFordFordFordGMCGMCGMCGMCGMCGMCGMCGMCHondaHondaHondaHondaHondaHondaHondaHondaHondaHondaHondaHondaHondaHondaHondaHondaHondaHummerHyundaiHyundaiHyundaiHyundaiHyundaiHyundaiHyundaiHyundaiHyundaiHyundaiHyundaiHyundaiInfinitiInfinitiInfinitiInfinitiInfinitiInfinitiInfinitiInfinitiIsuzuIsuzuJaguarJaguarJaguarJaguarJaguarJaguarJaguarJaguarJaguarJaguarJaguarJaguarJeepJeepJeepKiaKiaKiaKiaKiaKiaKiaKiaKiaKiaKiaLand RoverLand RoverLand RoverLexusLexusLexusLexusLexusLexusLexusLexusLexusLexusLexusLincolnLincolnLincolnLincolnLincolnLincolnLincolnLincolnLincolnMINIMINIMazdaMazdaMazdaMazdaMazdaMazdaMazdaMazdaMazdaMazdaMazdaMercedes-BenzMercedes-BenzMercedes-BenzMercedes-BenzMercedes-BenzMercedes-BenzMercedes-BenzMercedes-BenzMercedes-BenzMercedes-BenzMercedes-BenzMercedes-BenzMercedes-BenzMercedes-BenzMercedes-BenzMercedes-BenzMercedes-BenzMercedes-BenzMercedes-BenzMercedes-BenzMercedes-BenzMercedes-BenzMercedes-BenzMercedes-BenzMercedes-BenzMercedes-BenzMercuryMercuryMercuryMercuryMercuryMercuryMercuryMercuryMercuryMitsubishiMitsubishiMitsubishiMitsubishiMitsubishiMitsubishiMitsubishiMitsubishiMitsubishiMitsubishiMitsubishiMitsubishiMitsubishiNissanNissanNissanNissanNissanNissanNissanNissanNissanNissanNissanNissanNissanNissanNissanNissanNissanOldsmobileOldsmobileOldsmobilePontiacPontiacPontiacPontiacPontiacPontiacPontiacPontiacPontiacPontiacPontiacPorschePorschePorschePorschePorschePorschePorscheSaabSaabSaabSaabSaabSaabSaabSaturnSaturnSaturnSaturnSaturnSaturnSaturnSaturnScionScionSubaruSubaruSubaruSubaruSubaruSubaruSubaruSubaruSubaruSubaruSubaruSuzukiSuzukiSuzukiSuzukiSuzukiSuzukiSuzukiSuzukiToyotaToyotaToyotaToyotaToyotaToyotaToyotaToyotaToyotaToyotaToyotaToyotaToyotaToyotaToyotaToyotaToyotaToyotaToyotaToyotaToyotaToyotaToyotaToyotaToyotaToyotaToyotaToyotaVolkswagenVolkswagenVolkswagenVolkswagenVolkswagenVolkswagenVolkswagenVolkswagenVolkswagenVolkswagenVolkswagenVolkswagenVolkswagenVolkswagenVolkswagenVolvoVolvoVolvoVolvoVolvoVolvoVolvoVolvoVolvoVolvoVolvoVolvo'\n ' MDX RSX Type S 2dr TSX 4dr TL 4dr 3.5 RL 4dr 3.5 RL w/Navigation 4dr NSX coupe 2dr manual S A4 1.8T 4dr A41.8T convertible 2dr A4 3.0 4dr A4 3.0 Quattro 4dr manual A4 3.0 Quattro 4dr auto A6 3.0 4dr A6 3.0 Quattro 4dr A4 3.0 convertible 2dr A4 3.0 Quattro convertible 2dr A6 2.7 Turbo Quattro 4dr A6 4.2 Quattro 4dr A8 L Quattro 4dr S4 Quattro 4dr RS 6 4dr TT 1.8 convertible 2dr (coupe) TT 1.8 Quattro 2dr (convertible) TT 3.2 coupe 2dr (convertible) A6 3.0 Avant Quattro S4 Avant Quattro X3 3.0i X5 4.4i 325i 4dr 325Ci 2dr 325Ci convertible 2dr 325xi 4dr 330i 4dr 330Ci 2dr 330xi 4dr 525i 4dr 330Ci convertible 2dr 530i 4dr 545iA 4dr 745i 4dr 745Li 4dr M3 coupe 2dr M3 convertible 2dr Z4 convertible 2.5i 2dr Z4 convertible 3.0i 2dr 325xi Sport Rainier Rendezvous CX Century Custom 4dr LeSabre Custom 4dr Regal LS 4dr Regal GS 4dr LeSabre Limited 4dr Park Avenue 4dr Park Avenue Ultra 4dr Escalade SRX V8 CTS VVT 4dr Deville 4dr Deville DTS 4dr Seville SLS 4dr XLR convertible 2dr Escalade EXT Suburban 1500 LT Tahoe LT TrailBlazer LT Tracker Aveo 4dr Aveo LS 4dr hatch Cavalier 2dr Cavalier 4dr Cavalier LS 2dr Impala 4dr Malibu 4dr Malibu LS 4dr Monte Carlo LS 2dr Impala LS 4dr Impala SS 4dr Malibu LT 4dr Monte Carlo SS 2dr Astro Venture LS Corvette 2dr Corvette convertible 2dr Avalanche 1500 Colorado Z85 Silverado 1500 Regular Cab Silverado SS SSR Malibu Maxx LS PT Cruiser 4dr PT Cruiser Limited 4dr Sebring 4dr Sebring Touring 4dr 300M 4dr Concorde LX 4dr Concorde LXi 4dr PT Cruiser GT 4dr Sebring convertible 2dr 300M Special Edition 4dr Sebring Limited convertible 2dr Town and Country LX Town and Country Limited Crossfire 2dr Pacifica Durango SLT Neon SE 4dr Neon SXT 4dr Intrepid SE 4dr Stratus SXT 4dr Stratus SE 4dr Intrepid ES 4dr Caravan SE Grand Caravan SXT Viper SRT-10 convertible 2dr Dakota Regular Cab Dakota Club Cab Ram 1500 Regular Cab ST Excursion 6.8 XLT Expedition 4.6 XLT Explorer XLT V6 Escape XLS Focus ZX3 2dr hatch Focus LX 4dr Focus SE 4dr Focus ZX5 5dr Focus SVT 2dr Taurus LX 4dr Taurus SES Duratec 4dr Crown Victoria 4dr Crown Victoria LX 4dr Crown Victoria LX Sport 4dr Freestar SE Mustang 2dr (convertible) Mustang GT Premium convertible 2dr Thunderbird Deluxe convert w/hardtop 2d F-150 Regular Cab XL F-150 Supercab Lariat Ranger 2.3 XL Regular Cab Focus ZTW Taurus SE Envoy XUV SLE Yukon 1500 SLE Yukon XL 2500 SLT Safari SLE Canyon Z85 SL Regular Cab Sierra Extended Cab 1500 Sierra HD 2500 Sonoma Crew Cab Civic Hybrid 4dr manual (gas/electric) Insight 2dr (gas/electric) Pilot LX CR-V LX Element LX Civic DX 2dr Civic HX 2dr Civic LX 4dr Accord LX 2dr Accord EX 2dr Civic EX 4dr Civic Si 2dr hatch Accord LX V6 4dr Accord EX V6 2dr Odyssey LX Odyssey EX S2000 convertible 2dr H2 Santa Fe GLS Accent 2dr hatch Accent GL 4dr Accent GT 2dr hatch Elantra GLS 4dr Elantra GT 4dr Elantra GT 4dr hatch Sonata GLS 4dr Sonata LX 4dr XG350 4dr XG350 L 4dr Tiburon GT V6 2dr G35 4dr G35 Sport Coupe 2dr G35 4dr I35 4dr M45 4dr Q45 Luxury 4dr FX35 FX45 Ascender S Rodeo S X-Type 2.5 4dr X-Type 3.0 4dr S-Type 3.0 4dr S-Type 4.2 4dr S-Type R 4dr Vanden Plas 4dr XJ8 4dr XJR 4dr XK8 coupe 2dr XK8 convertible 2dr XKR coupe 2dr XKR convertible 2dr Grand Cherokee Laredo Liberty Sport Wrangler Sahara convertible 2dr Sorento LX Optima LX 4dr Rio 4dr manual Rio 4dr auto Spectra 4dr Spectra GS 4dr hatch Spectra GSX 4dr hatch Optima LX V6 4dr Amanti 4dr Sedona LX Rio Cinco Range Rover HSE Discovery SE Freelander SE GX 470 LX 470 RX 330 ES 330 4dr IS 300 4dr manual IS 300 4dr auto GS 300 4dr GS 430 4dr LS 430 4dr SC 430 convertible 2dr IS 300 SportCross Navigator Luxury Aviator Ultimate LS V6 Luxury 4dr LS V6 Premium 4dr LS V8 Sport 4dr LS V8 Ultimate 4dr Town Car Signature 4dr Town Car Ultimate 4dr Town Car Ultimate L 4dr Cooper Cooper S Tribute DX 2.0 Mazda3 i 4dr Mazda3 s 4dr Mazda6 i 4dr MPV ES MX-5 Miata convertible 2dr MX-5 Miata LS convertible 2dr RX-8 4dr automatic RX-8 4dr manual B2300 SX Regular Cab B4000 SE Cab Plus G500 ML500 C230 Sport 2dr C320 Sport 2dr C240 4dr C240 4dr C320 Sport 4dr C320 4dr C320 4dr C32 AMG 4dr CL500 2dr CL600 2dr CLK320 coupe 2dr (convertible) CLK500 coupe 2dr (convertible) E320 4dr E500 4dr S430 4dr S500 4dr SL500 convertible 2dr SL55 AMG 2dr SL600 convertible 2dr SLK230 convertible 2dr SLK32 AMG 2dr C240 E320 E500 Mountaineer Sable GS 4dr Grand Marquis GS 4dr Grand Marquis LS Premium 4dr Sable LS Premium 4dr Grand Marquis LS Ultimate 4dr Marauder 4dr Monterey Luxury Sable GS Endeavor XLS Montero XLS Outlander LS Lancer ES 4dr Lancer LS 4dr Galant ES 2.4L 4dr Lancer OZ Rally 4dr auto Diamante LS 4dr Galant GTS 4dr Eclipse GTS 2dr Eclipse Spyder GT convertible 2dr Lancer Evolution 4dr Lancer Sportback LS Pathfinder Armada SE Pathfinder SE Xterra XE V6 Sentra 1.8 4dr Sentra 1.8 S 4dr Altima S 4dr Sentra SE-R 4dr Altima SE 4dr Maxima SE 4dr Maxima SL 4dr Quest S Quest SE 350Z coupe 2dr 350Z Enthusiast convertible 2dr Frontier King Cab XE V6 Titan King Cab XE Murano SL Alero GX 2dr Alero GLS 2dr Silhouette GL Aztekt Sunfire 1SA 2dr Grand Am GT 2dr Grand Prix GT1 4dr Sunfire 1SC 2dr Grand Prix GT2 4dr Bonneville GXP 4dr Montana Montana EWB GTO 2dr Vibe Cayenne S 911 Carrera convertible 2dr (coupe) 911 Carrera 4S coupe 2dr (convert) 911 Targa coupe 2dr 911 GT2 2dr Boxster convertible 2dr Boxster S convertible 2dr 9-3 Arc Sport 4dr 9-3 Aero 4dr 9-5 Arc 4dr 9-5 Aero 4dr 9-3 Arc convertible 2dr 9-3 Aero convertible 2dr 9-5 Aero VUE Ion1 4dr lon2 4dr lon3 4dr lon2 quad coupe 2dr lon3 quad coupe 2dr L300-2 4dr L300 2 xA 4dr hatch xB Impreza 2.5 RS 4dr Legacy L 4dr Legacy GT 4dr Outback Limited Sedan 4dr Outback H6 4dr Outback H-6 VDC 4dr Impreza WRX 4dr Impreza WRX STi 4dr Baja Forester X Outback XL-7 EX Vitara LX Aeno S 4dr Aerio LX 4dr Forenza S 4dr Forenza EX 4dr Verona LX 4dr Aerio SX Prius 4dr (gas/electric) Sequoia SR5 4Runner SR5 V6 Highlander V6 Land Cruiser RAV4 Corolla CE 4dr Corolla S 4dr Corolla LE 4dr Echo 2dr manual Echo 2dr auto Echo 4dr Camry LE 4dr Camry LE V6 4dr Camry Solara SE 2dr Camry Solara SE V6 2dr Avalon XL 4dr Camry XLE V6 4dr Camry Solara SLE V6 2dr Avalon XLS 4dr Sienna CE Sienna XLE Limited Celica GT-S 2dr MR2 Spyder convertible 2dr Tacoma Tundra Regular Cab V6 Tundra Access Cab V6 SR5 Matrix XR Touareg V6 Golf GLS 4dr GTI 1.8T 2dr hatch Jetta GLS TDI 4dr New Beetle GLS 1.8T 2dr Jetta GLI VR6 4dr New Beetle GLS convertible 2dr Passat GLS 4dr Passat GLX V6 4MOTION 4dr Passat W8 4MOTION 4dr Phaeton 4dr Phaeton W12 4dr Jetta GL Passat GLS 1.8T Passat W8 XC90 T6 S40 4dr S60 2.5 4dr S60 T5 4dr S60 R 4dr S80 2.9 4dr S80 2.5T 4dr C70 LPT convertible 2dr C70 HPT convertible 2dr S80 T6 4dr V40 XC70'\n 'SUVSedanSedanSedanSedanSedanSportsSedanSedanSedanSedanSedanSedanSedanSedanSedanSedanSedanSedanSedanSportsSportsSportsSportsWagonWagonSUVSUVSedanSedanSedanSedanSedanSedanSedanSedanSedanSedanSedanSedanSedanSportsSportsSportsSportsWagonSUVSUVSedanSedanSedanSedanSedanSedanSedanSUVSUVSedanSedanSedanSedanSportsTruckSUVSUVSUVSUVSedanSedanSedanSedanSedanSedanSedanSedanSedanSedanSedanSedanSedanSedanSedanSportsSportsTruckTruckTruckTruckTruckWagonSedanSedanSedanSedanSedanSedanSedanSedanSedanSedanSedanSedanSedanSportsWagonSUVSedanSedanSedanSedanSedanSedanSedanSedanSportsTruckTruckTruckSUVSUVSUVSUVSedanSedanSedanSedanSedanSedanSedanSedanSedanSedanSedanSportsSportsSportsTruckTruckTruckWagonWagonSUVSUVSUVSedanTruckTruckTruckTruckHybridHybridSUVSUVSUVSedanSedanSedanSedanSedanSedanSedanSedanSedanSedanSedanSportsSUVSUVSedanSedanSedanSedanSedanSedanSedanSedanSedanSedanSportsSedanSedanSedanSedanSedanSedanWagonWagonSUVSUVSedanSedanSedanSedanSedanSedanSedanSedanSportsSportsSportsSportsSUVSUVSUVSUVSedanSedanSedanSedanSedanSedanSedanSedanSedanWagonSUVSUVSUVSUVSUVSUVSedanSedanSedanSedanSedanSedanSportsWagonSUVSUVSedanSedanSedanSedanSedanSedanSedanSedanSedanSUVSedanSedanSedanSedanSportsSportsSportsSportsTruckTruckSUVSUVSedanSedanSedanSedanSedanSedanSedanSedanSedanSedanSedanSedanSedanSedanSedanSedanSportsSportsSportsSportsSportsWagonWagonWagonSUVSedanSedanSedanSedanSedanSedanSedanWagonSUVSUVSUVSedanSedanSedanSedanSedanSedanSportsSportsSportsWagonSUVSUVSUVSedanSedanSedanSedanSedanSedanSedanSedanSedanSportsSportsTruckTruckWagonSedanSedanSedanSUVSedanSedanSedanSedanSedanSedanSedanSedanSportsWagonSUVSportsSportsSportsSportsSportsSportsSedanSedanSedanSedanSedanSedanWagonSUVSedanSedanSedanSedanSedanSedanWagonSedanWagonSedanSedanSedanSedanSedanSedanSportsSportsTruckWagonWagonSUVSUVSedanSedanSedanSedanSedanWagonHybridSUVSUVSUVSUVSUVSedanSedanSedanSedanSedanSedanSedanSedanSedanSedanSedanSedanSedanSedanSedanSedanSportsSportsTruckTruckTruckWagonSUVSedanSedanSedanSedanSedanSedanSedanSedanSedanSedanSedanWagonWagonWagonSUVSedanSedanSedanSedanSedanSedanSedanSedanSedanWagonWagon'\n 'AsiaAsiaAsiaAsiaAsiaAsiaAsiaEuropeEuropeEuropeEuropeEuropeEuropeEuropeEuropeEuropeEuropeEuropeEuropeEuropeEuropeEuropeEuropeEuropeEuropeEuropeEuropeEuropeEuropeEuropeEuropeEuropeEuropeEuropeEuropeEuropeEuropeEuropeEuropeEuropeEuropeEuropeEuropeEuropeEuropeEuropeUSAUSAUSAUSAUSAUSAUSAUSAUSAUSAUSAUSAUSAUSAUSAUSAUSAUSAUSAUSAUSAUSAUSAUSAUSAUSAUSAUSAUSAUSAUSAUSAUSAUSAUSAUSAUSAUSAUSAUSAUSAUSAUSAUSAUSAUSAUSAUSAUSAUSAUSAUSAUSAUSAUSAUSAUSAUSAUSAUSAUSAUSAUSAUSAUSAUSAUSAUSAUSAUSAUSAUSAUSAUSAUSAUSAUSAUSAUSAUSAUSAUSAUSAUSAUSAUSAUSAUSAUSAUSAUSAUSAUSAUSAUSAUSAUSAUSAUSAUSAUSAUSAUSAAsiaAsiaAsiaAsiaAsiaAsiaAsiaAsiaAsiaAsiaAsiaAsiaAsiaAsiaAsiaAsiaAsiaUSAAsiaAsiaAsiaAsiaAsiaAsiaAsiaAsiaAsiaAsiaAsiaAsiaAsiaAsiaAsiaAsiaAsiaAsiaAsiaAsiaAsiaAsiaEuropeEuropeEuropeEuropeEuropeEuropeEuropeEuropeEuropeEuropeEuropeEuropeUSAUSAUSAAsiaAsiaAsiaAsiaAsiaAsiaAsiaAsiaAsiaAsiaAsiaEuropeEuropeEuropeAsiaAsiaAsiaAsiaAsiaAsiaAsiaAsiaAsiaAsiaAsiaUSAUSAUSAUSAUSAUSAUSAUSAUSAEuropeEuropeAsiaAsiaAsiaAsiaAsiaAsiaAsiaAsiaAsiaAsiaAsiaEuropeEuropeEuropeEuropeEuropeEuropeEuropeEuropeEuropeEuropeEuropeEuropeEuropeEuropeEuropeEuropeEuropeEuropeEuropeEuropeEuropeEuropeEuropeEuropeEuropeEuropeUSAUSAUSAUSAUSAUSAUSAUSAUSAAsiaAsiaAsiaAsiaAsiaAsiaAsiaAsiaAsiaAsiaAsiaAsiaAsiaAsiaAsiaAsiaAsiaAsiaAsiaAsiaAsiaAsiaAsiaAsiaAsiaAsiaAsiaAsiaAsiaAsiaUSAUSAUSAUSAUSAUSAUSAUSAUSAUSAUSAUSAUSAUSAEuropeEuropeEuropeEuropeEuropeEuropeEuropeEuropeEuropeEuropeEuropeEuropeEuropeEuropeUSAUSAUSAUSAUSAUSAUSAUSAAsiaAsiaAsiaAsiaAsiaAsiaAsiaAsiaAsiaAsiaAsiaAsiaAsiaAsiaAsiaAsiaAsiaAsiaAsiaAsiaAsiaAsiaAsiaAsiaAsiaAsiaAsiaAsiaAsiaAsiaAsiaAsiaAsiaAsiaAsiaAsiaAsiaAsiaAsiaAsiaAsiaAsiaAsiaAsiaAsiaAsiaAsiaAsiaAsiaEuropeEuropeEuropeEuropeEuropeEuropeEuropeEuropeEuropeEuropeEuropeEuropeEuropeEuropeEuropeEuropeEuropeEuropeEuropeEuropeEuropeEuropeEuropeEuropeEuropeEuropeEurope'\n 'AllFrontFrontFrontFrontFrontRearFrontFrontFrontAllAllFrontAllFrontAllAllAllAllAllFrontFrontAllAllAllAllAllAllRearRearRearAllRearRearAllRearRearRearRearRearRearRearRearRearRearAllAllFrontFrontFrontFrontFrontFrontFrontFrontFrontFrontRearFrontFrontFrontRearAllFrontAllFrontFrontFrontFrontFrontFrontFrontFrontFrontFrontFrontFrontFrontFrontFrontAllFrontRearRearAllAllRearAllRearFrontFrontFrontFrontFrontFrontFrontFrontFrontFrontFrontFrontFrontFrontRearRearAllFrontFrontFrontFrontFrontFrontFrontAllRearRearRearRearAllFrontAllAllFrontFrontFrontFrontFrontFrontFrontRearRearRearFrontRearRearFrontRearAllRearFrontFrontFrontFrontAllRearRearRearAllAllFrontFrontAllAllAllFrontFrontFrontFrontFrontFrontFrontFrontFrontFrontFrontRearAllFrontFrontFrontFrontFrontFrontFrontFrontFrontFrontFrontFrontRearRearAllFrontRearRearRearAllAllFrontAllAllRearRearRearRearRearRearRearRearRearRearFrontAllAllFrontFrontFrontFrontFrontFrontFrontFrontFrontFrontFrontAllAllAllAllAllAllFrontRearRearRearRearRearRearRearAllFrontRearRearRearRearRearRearRearFrontFrontAllFrontFrontFrontFrontRearRearRearRearRearAllAllAllRearRearRearAllRearRearAllRearRearRearRearRearRearRearRearAllRearRearRearRearRearRearRearAllFrontFrontRearRearFrontRearRearFrontFrontAllAllFrontFrontFrontFrontFrontFrontFrontFrontFrontFrontFrontFrontFrontFrontFrontFrontFrontFrontFrontFrontFrontFrontFrontRearRearAllAllRearFrontFrontFrontFrontFrontFrontFrontFrontFrontFrontFrontAllRearRearAllRearAllRearRearRearRearFrontFrontFrontFrontFrontFrontFrontAllFrontFrontFrontFrontFrontFrontFrontFrontFrontAllAllAllAllAllAllAllAllAllAllAllFrontAllFrontFrontFrontFrontFrontAllFrontAllFrontAllAllAllFrontFrontFrontFrontFrontFrontFrontFrontFrontFrontFrontFrontFrontFrontFrontFrontFrontRearRearRearAllFrontAllFrontFrontFrontFrontFrontFrontFrontFrontFrontFrontFrontFrontFrontFrontAllFrontAllFrontAllFrontAllFrontFrontFrontFrontAll'] to numeric",
     "output_type": "error",
     "traceback": [
      "\u001b[1;31m---------------------------------------------------------------------------\u001b[0m",
      "\u001b[1;31mTypeError\u001b[0m                                 Traceback (most recent call last)",
      "Cell \u001b[1;32mIn[16], line 1\u001b[0m\n\u001b[1;32m----> 1\u001b[0m cars\u001b[38;5;241m.\u001b[39mmean()\n",
      "File \u001b[1;32mc:\\Users\\hp\\anaconda3\\Lib\\site-packages\\pandas\\core\\frame.py:11693\u001b[0m, in \u001b[0;36mDataFrame.mean\u001b[1;34m(self, axis, skipna, numeric_only, **kwargs)\u001b[0m\n\u001b[0;32m  11685\u001b[0m \u001b[38;5;129m@doc\u001b[39m(make_doc(\u001b[38;5;124m\"\u001b[39m\u001b[38;5;124mmean\u001b[39m\u001b[38;5;124m\"\u001b[39m, ndim\u001b[38;5;241m=\u001b[39m\u001b[38;5;241m2\u001b[39m))\n\u001b[0;32m  11686\u001b[0m \u001b[38;5;28;01mdef\u001b[39;00m\u001b[38;5;250m \u001b[39m\u001b[38;5;21mmean\u001b[39m(\n\u001b[0;32m  11687\u001b[0m     \u001b[38;5;28mself\u001b[39m,\n\u001b[1;32m   (...)\u001b[0m\n\u001b[0;32m  11691\u001b[0m     \u001b[38;5;241m*\u001b[39m\u001b[38;5;241m*\u001b[39mkwargs,\n\u001b[0;32m  11692\u001b[0m ):\n\u001b[1;32m> 11693\u001b[0m     result \u001b[38;5;241m=\u001b[39m \u001b[38;5;28msuper\u001b[39m()\u001b[38;5;241m.\u001b[39mmean(axis, skipna, numeric_only, \u001b[38;5;241m*\u001b[39m\u001b[38;5;241m*\u001b[39mkwargs)\n\u001b[0;32m  11694\u001b[0m     \u001b[38;5;28;01mif\u001b[39;00m \u001b[38;5;28misinstance\u001b[39m(result, Series):\n\u001b[0;32m  11695\u001b[0m         result \u001b[38;5;241m=\u001b[39m result\u001b[38;5;241m.\u001b[39m__finalize__(\u001b[38;5;28mself\u001b[39m, method\u001b[38;5;241m=\u001b[39m\u001b[38;5;124m\"\u001b[39m\u001b[38;5;124mmean\u001b[39m\u001b[38;5;124m\"\u001b[39m)\n",
      "File \u001b[1;32mc:\\Users\\hp\\anaconda3\\Lib\\site-packages\\pandas\\core\\generic.py:12420\u001b[0m, in \u001b[0;36mNDFrame.mean\u001b[1;34m(self, axis, skipna, numeric_only, **kwargs)\u001b[0m\n\u001b[0;32m  12413\u001b[0m \u001b[38;5;28;01mdef\u001b[39;00m\u001b[38;5;250m \u001b[39m\u001b[38;5;21mmean\u001b[39m(\n\u001b[0;32m  12414\u001b[0m     \u001b[38;5;28mself\u001b[39m,\n\u001b[0;32m  12415\u001b[0m     axis: Axis \u001b[38;5;241m|\u001b[39m \u001b[38;5;28;01mNone\u001b[39;00m \u001b[38;5;241m=\u001b[39m \u001b[38;5;241m0\u001b[39m,\n\u001b[1;32m   (...)\u001b[0m\n\u001b[0;32m  12418\u001b[0m     \u001b[38;5;241m*\u001b[39m\u001b[38;5;241m*\u001b[39mkwargs,\n\u001b[0;32m  12419\u001b[0m ) \u001b[38;5;241m-\u001b[39m\u001b[38;5;241m>\u001b[39m Series \u001b[38;5;241m|\u001b[39m \u001b[38;5;28mfloat\u001b[39m:\n\u001b[1;32m> 12420\u001b[0m     \u001b[38;5;28;01mreturn\u001b[39;00m \u001b[38;5;28mself\u001b[39m\u001b[38;5;241m.\u001b[39m_stat_function(\n\u001b[0;32m  12421\u001b[0m         \u001b[38;5;124m\"\u001b[39m\u001b[38;5;124mmean\u001b[39m\u001b[38;5;124m\"\u001b[39m, nanops\u001b[38;5;241m.\u001b[39mnanmean, axis, skipna, numeric_only, \u001b[38;5;241m*\u001b[39m\u001b[38;5;241m*\u001b[39mkwargs\n\u001b[0;32m  12422\u001b[0m     )\n",
      "File \u001b[1;32mc:\\Users\\hp\\anaconda3\\Lib\\site-packages\\pandas\\core\\generic.py:12377\u001b[0m, in \u001b[0;36mNDFrame._stat_function\u001b[1;34m(self, name, func, axis, skipna, numeric_only, **kwargs)\u001b[0m\n\u001b[0;32m  12373\u001b[0m nv\u001b[38;5;241m.\u001b[39mvalidate_func(name, (), kwargs)\n\u001b[0;32m  12375\u001b[0m validate_bool_kwarg(skipna, \u001b[38;5;124m\"\u001b[39m\u001b[38;5;124mskipna\u001b[39m\u001b[38;5;124m\"\u001b[39m, none_allowed\u001b[38;5;241m=\u001b[39m\u001b[38;5;28;01mFalse\u001b[39;00m)\n\u001b[1;32m> 12377\u001b[0m \u001b[38;5;28;01mreturn\u001b[39;00m \u001b[38;5;28mself\u001b[39m\u001b[38;5;241m.\u001b[39m_reduce(\n\u001b[0;32m  12378\u001b[0m     func, name\u001b[38;5;241m=\u001b[39mname, axis\u001b[38;5;241m=\u001b[39maxis, skipna\u001b[38;5;241m=\u001b[39mskipna, numeric_only\u001b[38;5;241m=\u001b[39mnumeric_only\n\u001b[0;32m  12379\u001b[0m )\n",
      "File \u001b[1;32mc:\\Users\\hp\\anaconda3\\Lib\\site-packages\\pandas\\core\\frame.py:11562\u001b[0m, in \u001b[0;36mDataFrame._reduce\u001b[1;34m(self, op, name, axis, skipna, numeric_only, filter_type, **kwds)\u001b[0m\n\u001b[0;32m  11558\u001b[0m     df \u001b[38;5;241m=\u001b[39m df\u001b[38;5;241m.\u001b[39mT\n\u001b[0;32m  11560\u001b[0m \u001b[38;5;66;03m# After possibly _get_data and transposing, we are now in the\u001b[39;00m\n\u001b[0;32m  11561\u001b[0m \u001b[38;5;66;03m#  simple case where we can use BlockManager.reduce\u001b[39;00m\n\u001b[1;32m> 11562\u001b[0m res \u001b[38;5;241m=\u001b[39m df\u001b[38;5;241m.\u001b[39m_mgr\u001b[38;5;241m.\u001b[39mreduce(blk_func)\n\u001b[0;32m  11563\u001b[0m out \u001b[38;5;241m=\u001b[39m df\u001b[38;5;241m.\u001b[39m_constructor_from_mgr(res, axes\u001b[38;5;241m=\u001b[39mres\u001b[38;5;241m.\u001b[39maxes)\u001b[38;5;241m.\u001b[39miloc[\u001b[38;5;241m0\u001b[39m]\n\u001b[0;32m  11564\u001b[0m \u001b[38;5;28;01mif\u001b[39;00m out_dtype \u001b[38;5;129;01mis\u001b[39;00m \u001b[38;5;129;01mnot\u001b[39;00m \u001b[38;5;28;01mNone\u001b[39;00m \u001b[38;5;129;01mand\u001b[39;00m out\u001b[38;5;241m.\u001b[39mdtype \u001b[38;5;241m!=\u001b[39m \u001b[38;5;124m\"\u001b[39m\u001b[38;5;124mboolean\u001b[39m\u001b[38;5;124m\"\u001b[39m:\n",
      "File \u001b[1;32mc:\\Users\\hp\\anaconda3\\Lib\\site-packages\\pandas\\core\\internals\\managers.py:1500\u001b[0m, in \u001b[0;36mBlockManager.reduce\u001b[1;34m(self, func)\u001b[0m\n\u001b[0;32m   1498\u001b[0m res_blocks: \u001b[38;5;28mlist\u001b[39m[Block] \u001b[38;5;241m=\u001b[39m []\n\u001b[0;32m   1499\u001b[0m \u001b[38;5;28;01mfor\u001b[39;00m blk \u001b[38;5;129;01min\u001b[39;00m \u001b[38;5;28mself\u001b[39m\u001b[38;5;241m.\u001b[39mblocks:\n\u001b[1;32m-> 1500\u001b[0m     nbs \u001b[38;5;241m=\u001b[39m blk\u001b[38;5;241m.\u001b[39mreduce(func)\n\u001b[0;32m   1501\u001b[0m     res_blocks\u001b[38;5;241m.\u001b[39mextend(nbs)\n\u001b[0;32m   1503\u001b[0m index \u001b[38;5;241m=\u001b[39m Index([\u001b[38;5;28;01mNone\u001b[39;00m])  \u001b[38;5;66;03m# placeholder\u001b[39;00m\n",
      "File \u001b[1;32mc:\\Users\\hp\\anaconda3\\Lib\\site-packages\\pandas\\core\\internals\\blocks.py:404\u001b[0m, in \u001b[0;36mBlock.reduce\u001b[1;34m(self, func)\u001b[0m\n\u001b[0;32m    398\u001b[0m \u001b[38;5;129m@final\u001b[39m\n\u001b[0;32m    399\u001b[0m \u001b[38;5;28;01mdef\u001b[39;00m\u001b[38;5;250m \u001b[39m\u001b[38;5;21mreduce\u001b[39m(\u001b[38;5;28mself\u001b[39m, func) \u001b[38;5;241m-\u001b[39m\u001b[38;5;241m>\u001b[39m \u001b[38;5;28mlist\u001b[39m[Block]:\n\u001b[0;32m    400\u001b[0m     \u001b[38;5;66;03m# We will apply the function and reshape the result into a single-row\u001b[39;00m\n\u001b[0;32m    401\u001b[0m     \u001b[38;5;66;03m#  Block with the same mgr_locs; squeezing will be done at a higher level\u001b[39;00m\n\u001b[0;32m    402\u001b[0m     \u001b[38;5;28;01massert\u001b[39;00m \u001b[38;5;28mself\u001b[39m\u001b[38;5;241m.\u001b[39mndim \u001b[38;5;241m==\u001b[39m \u001b[38;5;241m2\u001b[39m\n\u001b[1;32m--> 404\u001b[0m     result \u001b[38;5;241m=\u001b[39m func(\u001b[38;5;28mself\u001b[39m\u001b[38;5;241m.\u001b[39mvalues)\n\u001b[0;32m    406\u001b[0m     \u001b[38;5;28;01mif\u001b[39;00m \u001b[38;5;28mself\u001b[39m\u001b[38;5;241m.\u001b[39mvalues\u001b[38;5;241m.\u001b[39mndim \u001b[38;5;241m==\u001b[39m \u001b[38;5;241m1\u001b[39m:\n\u001b[0;32m    407\u001b[0m         res_values \u001b[38;5;241m=\u001b[39m result\n",
      "File \u001b[1;32mc:\\Users\\hp\\anaconda3\\Lib\\site-packages\\pandas\\core\\frame.py:11481\u001b[0m, in \u001b[0;36mDataFrame._reduce.<locals>.blk_func\u001b[1;34m(values, axis)\u001b[0m\n\u001b[0;32m  11479\u001b[0m         \u001b[38;5;28;01mreturn\u001b[39;00m np\u001b[38;5;241m.\u001b[39marray([result])\n\u001b[0;32m  11480\u001b[0m \u001b[38;5;28;01melse\u001b[39;00m:\n\u001b[1;32m> 11481\u001b[0m     \u001b[38;5;28;01mreturn\u001b[39;00m op(values, axis\u001b[38;5;241m=\u001b[39maxis, skipna\u001b[38;5;241m=\u001b[39mskipna, \u001b[38;5;241m*\u001b[39m\u001b[38;5;241m*\u001b[39mkwds)\n",
      "File \u001b[1;32mc:\\Users\\hp\\anaconda3\\Lib\\site-packages\\pandas\\core\\nanops.py:147\u001b[0m, in \u001b[0;36mbottleneck_switch.__call__.<locals>.f\u001b[1;34m(values, axis, skipna, **kwds)\u001b[0m\n\u001b[0;32m    145\u001b[0m         result \u001b[38;5;241m=\u001b[39m alt(values, axis\u001b[38;5;241m=\u001b[39maxis, skipna\u001b[38;5;241m=\u001b[39mskipna, \u001b[38;5;241m*\u001b[39m\u001b[38;5;241m*\u001b[39mkwds)\n\u001b[0;32m    146\u001b[0m \u001b[38;5;28;01melse\u001b[39;00m:\n\u001b[1;32m--> 147\u001b[0m     result \u001b[38;5;241m=\u001b[39m alt(values, axis\u001b[38;5;241m=\u001b[39maxis, skipna\u001b[38;5;241m=\u001b[39mskipna, \u001b[38;5;241m*\u001b[39m\u001b[38;5;241m*\u001b[39mkwds)\n\u001b[0;32m    149\u001b[0m \u001b[38;5;28;01mreturn\u001b[39;00m result\n",
      "File \u001b[1;32mc:\\Users\\hp\\anaconda3\\Lib\\site-packages\\pandas\\core\\nanops.py:404\u001b[0m, in \u001b[0;36m_datetimelike_compat.<locals>.new_func\u001b[1;34m(values, axis, skipna, mask, **kwargs)\u001b[0m\n\u001b[0;32m    401\u001b[0m \u001b[38;5;28;01mif\u001b[39;00m datetimelike \u001b[38;5;129;01mand\u001b[39;00m mask \u001b[38;5;129;01mis\u001b[39;00m \u001b[38;5;28;01mNone\u001b[39;00m:\n\u001b[0;32m    402\u001b[0m     mask \u001b[38;5;241m=\u001b[39m isna(values)\n\u001b[1;32m--> 404\u001b[0m result \u001b[38;5;241m=\u001b[39m func(values, axis\u001b[38;5;241m=\u001b[39maxis, skipna\u001b[38;5;241m=\u001b[39mskipna, mask\u001b[38;5;241m=\u001b[39mmask, \u001b[38;5;241m*\u001b[39m\u001b[38;5;241m*\u001b[39mkwargs)\n\u001b[0;32m    406\u001b[0m \u001b[38;5;28;01mif\u001b[39;00m datetimelike:\n\u001b[0;32m    407\u001b[0m     result \u001b[38;5;241m=\u001b[39m _wrap_results(result, orig_values\u001b[38;5;241m.\u001b[39mdtype, fill_value\u001b[38;5;241m=\u001b[39miNaT)\n",
      "File \u001b[1;32mc:\\Users\\hp\\anaconda3\\Lib\\site-packages\\pandas\\core\\nanops.py:720\u001b[0m, in \u001b[0;36mnanmean\u001b[1;34m(values, axis, skipna, mask)\u001b[0m\n\u001b[0;32m    718\u001b[0m count \u001b[38;5;241m=\u001b[39m _get_counts(values\u001b[38;5;241m.\u001b[39mshape, mask, axis, dtype\u001b[38;5;241m=\u001b[39mdtype_count)\n\u001b[0;32m    719\u001b[0m the_sum \u001b[38;5;241m=\u001b[39m values\u001b[38;5;241m.\u001b[39msum(axis, dtype\u001b[38;5;241m=\u001b[39mdtype_sum)\n\u001b[1;32m--> 720\u001b[0m the_sum \u001b[38;5;241m=\u001b[39m _ensure_numeric(the_sum)\n\u001b[0;32m    722\u001b[0m \u001b[38;5;28;01mif\u001b[39;00m axis \u001b[38;5;129;01mis\u001b[39;00m \u001b[38;5;129;01mnot\u001b[39;00m \u001b[38;5;28;01mNone\u001b[39;00m \u001b[38;5;129;01mand\u001b[39;00m \u001b[38;5;28mgetattr\u001b[39m(the_sum, \u001b[38;5;124m\"\u001b[39m\u001b[38;5;124mndim\u001b[39m\u001b[38;5;124m\"\u001b[39m, \u001b[38;5;28;01mFalse\u001b[39;00m):\n\u001b[0;32m    723\u001b[0m     count \u001b[38;5;241m=\u001b[39m cast(np\u001b[38;5;241m.\u001b[39mndarray, count)\n",
      "File \u001b[1;32mc:\\Users\\hp\\anaconda3\\Lib\\site-packages\\pandas\\core\\nanops.py:1686\u001b[0m, in \u001b[0;36m_ensure_numeric\u001b[1;34m(x)\u001b[0m\n\u001b[0;32m   1683\u001b[0m inferred \u001b[38;5;241m=\u001b[39m lib\u001b[38;5;241m.\u001b[39minfer_dtype(x)\n\u001b[0;32m   1684\u001b[0m \u001b[38;5;28;01mif\u001b[39;00m inferred \u001b[38;5;129;01min\u001b[39;00m [\u001b[38;5;124m\"\u001b[39m\u001b[38;5;124mstring\u001b[39m\u001b[38;5;124m\"\u001b[39m, \u001b[38;5;124m\"\u001b[39m\u001b[38;5;124mmixed\u001b[39m\u001b[38;5;124m\"\u001b[39m]:\n\u001b[0;32m   1685\u001b[0m     \u001b[38;5;66;03m# GH#44008, GH#36703 avoid casting e.g. strings to numeric\u001b[39;00m\n\u001b[1;32m-> 1686\u001b[0m     \u001b[38;5;28;01mraise\u001b[39;00m \u001b[38;5;167;01mTypeError\u001b[39;00m(\u001b[38;5;124mf\u001b[39m\u001b[38;5;124m\"\u001b[39m\u001b[38;5;124mCould not convert \u001b[39m\u001b[38;5;132;01m{\u001b[39;00mx\u001b[38;5;132;01m}\u001b[39;00m\u001b[38;5;124m to numeric\u001b[39m\u001b[38;5;124m\"\u001b[39m)\n\u001b[0;32m   1687\u001b[0m \u001b[38;5;28;01mtry\u001b[39;00m:\n\u001b[0;32m   1688\u001b[0m     x \u001b[38;5;241m=\u001b[39m x\u001b[38;5;241m.\u001b[39mastype(np\u001b[38;5;241m.\u001b[39mcomplex128)\n",
      "\u001b[1;31mTypeError\u001b[0m: Could not convert ['AcuraAcuraAcuraAcuraAcuraAcuraAcuraAudiAudiAudiAudiAudiAudiAudiAudiAudiAudiAudiAudiAudiAudiAudiAudiAudiAudiAudiBMWBMWBMWBMWBMWBMWBMWBMWBMWBMWBMWBMWBMWBMWBMWBMWBMWBMWBMWBMWBuickBuickBuickBuickBuickBuickBuickBuickBuickCadillacCadillacCadillacCadillacCadillacCadillacCadillacCadillacChevroletChevroletChevroletChevroletChevroletChevroletChevroletChevroletChevroletChevroletChevroletChevroletChevroletChevroletChevroletChevroletChevroletChevroletChevroletChevroletChevroletChevroletChevroletChevroletChevroletChevroletChevroletChryslerChryslerChryslerChryslerChryslerChryslerChryslerChryslerChryslerChryslerChryslerChryslerChryslerChryslerChryslerDodgeDodgeDodgeDodgeDodgeDodgeDodgeDodgeDodgeDodgeDodgeDodgeDodgeFordFordFordFordFordFordFordFordFordFordFordFordFordFordFordFordFordFordFordFordFordFordFordGMCGMCGMCGMCGMCGMCGMCGMCHondaHondaHondaHondaHondaHondaHondaHondaHondaHondaHondaHondaHondaHondaHondaHondaHondaHummerHyundaiHyundaiHyundaiHyundaiHyundaiHyundaiHyundaiHyundaiHyundaiHyundaiHyundaiHyundaiInfinitiInfinitiInfinitiInfinitiInfinitiInfinitiInfinitiInfinitiIsuzuIsuzuJaguarJaguarJaguarJaguarJaguarJaguarJaguarJaguarJaguarJaguarJaguarJaguarJeepJeepJeepKiaKiaKiaKiaKiaKiaKiaKiaKiaKiaKiaLand RoverLand RoverLand RoverLexusLexusLexusLexusLexusLexusLexusLexusLexusLexusLexusLincolnLincolnLincolnLincolnLincolnLincolnLincolnLincolnLincolnMINIMINIMazdaMazdaMazdaMazdaMazdaMazdaMazdaMazdaMazdaMazdaMazdaMercedes-BenzMercedes-BenzMercedes-BenzMercedes-BenzMercedes-BenzMercedes-BenzMercedes-BenzMercedes-BenzMercedes-BenzMercedes-BenzMercedes-BenzMercedes-BenzMercedes-BenzMercedes-BenzMercedes-BenzMercedes-BenzMercedes-BenzMercedes-BenzMercedes-BenzMercedes-BenzMercedes-BenzMercedes-BenzMercedes-BenzMercedes-BenzMercedes-BenzMercedes-BenzMercuryMercuryMercuryMercuryMercuryMercuryMercuryMercuryMercuryMitsubishiMitsubishiMitsubishiMitsubishiMitsubishiMitsubishiMitsubishiMitsubishiMitsubishiMitsubishiMitsubishiMitsubishiMitsubishiNissanNissanNissanNissanNissanNissanNissanNissanNissanNissanNissanNissanNissanNissanNissanNissanNissanOldsmobileOldsmobileOldsmobilePontiacPontiacPontiacPontiacPontiacPontiacPontiacPontiacPontiacPontiacPontiacPorschePorschePorschePorschePorschePorschePorscheSaabSaabSaabSaabSaabSaabSaabSaturnSaturnSaturnSaturnSaturnSaturnSaturnSaturnScionScionSubaruSubaruSubaruSubaruSubaruSubaruSubaruSubaruSubaruSubaruSubaruSuzukiSuzukiSuzukiSuzukiSuzukiSuzukiSuzukiSuzukiToyotaToyotaToyotaToyotaToyotaToyotaToyotaToyotaToyotaToyotaToyotaToyotaToyotaToyotaToyotaToyotaToyotaToyotaToyotaToyotaToyotaToyotaToyotaToyotaToyotaToyotaToyotaToyotaVolkswagenVolkswagenVolkswagenVolkswagenVolkswagenVolkswagenVolkswagenVolkswagenVolkswagenVolkswagenVolkswagenVolkswagenVolkswagenVolkswagenVolkswagenVolvoVolvoVolvoVolvoVolvoVolvoVolvoVolvoVolvoVolvoVolvoVolvo'\n ' MDX RSX Type S 2dr TSX 4dr TL 4dr 3.5 RL 4dr 3.5 RL w/Navigation 4dr NSX coupe 2dr manual S A4 1.8T 4dr A41.8T convertible 2dr A4 3.0 4dr A4 3.0 Quattro 4dr manual A4 3.0 Quattro 4dr auto A6 3.0 4dr A6 3.0 Quattro 4dr A4 3.0 convertible 2dr A4 3.0 Quattro convertible 2dr A6 2.7 Turbo Quattro 4dr A6 4.2 Quattro 4dr A8 L Quattro 4dr S4 Quattro 4dr RS 6 4dr TT 1.8 convertible 2dr (coupe) TT 1.8 Quattro 2dr (convertible) TT 3.2 coupe 2dr (convertible) A6 3.0 Avant Quattro S4 Avant Quattro X3 3.0i X5 4.4i 325i 4dr 325Ci 2dr 325Ci convertible 2dr 325xi 4dr 330i 4dr 330Ci 2dr 330xi 4dr 525i 4dr 330Ci convertible 2dr 530i 4dr 545iA 4dr 745i 4dr 745Li 4dr M3 coupe 2dr M3 convertible 2dr Z4 convertible 2.5i 2dr Z4 convertible 3.0i 2dr 325xi Sport Rainier Rendezvous CX Century Custom 4dr LeSabre Custom 4dr Regal LS 4dr Regal GS 4dr LeSabre Limited 4dr Park Avenue 4dr Park Avenue Ultra 4dr Escalade SRX V8 CTS VVT 4dr Deville 4dr Deville DTS 4dr Seville SLS 4dr XLR convertible 2dr Escalade EXT Suburban 1500 LT Tahoe LT TrailBlazer LT Tracker Aveo 4dr Aveo LS 4dr hatch Cavalier 2dr Cavalier 4dr Cavalier LS 2dr Impala 4dr Malibu 4dr Malibu LS 4dr Monte Carlo LS 2dr Impala LS 4dr Impala SS 4dr Malibu LT 4dr Monte Carlo SS 2dr Astro Venture LS Corvette 2dr Corvette convertible 2dr Avalanche 1500 Colorado Z85 Silverado 1500 Regular Cab Silverado SS SSR Malibu Maxx LS PT Cruiser 4dr PT Cruiser Limited 4dr Sebring 4dr Sebring Touring 4dr 300M 4dr Concorde LX 4dr Concorde LXi 4dr PT Cruiser GT 4dr Sebring convertible 2dr 300M Special Edition 4dr Sebring Limited convertible 2dr Town and Country LX Town and Country Limited Crossfire 2dr Pacifica Durango SLT Neon SE 4dr Neon SXT 4dr Intrepid SE 4dr Stratus SXT 4dr Stratus SE 4dr Intrepid ES 4dr Caravan SE Grand Caravan SXT Viper SRT-10 convertible 2dr Dakota Regular Cab Dakota Club Cab Ram 1500 Regular Cab ST Excursion 6.8 XLT Expedition 4.6 XLT Explorer XLT V6 Escape XLS Focus ZX3 2dr hatch Focus LX 4dr Focus SE 4dr Focus ZX5 5dr Focus SVT 2dr Taurus LX 4dr Taurus SES Duratec 4dr Crown Victoria 4dr Crown Victoria LX 4dr Crown Victoria LX Sport 4dr Freestar SE Mustang 2dr (convertible) Mustang GT Premium convertible 2dr Thunderbird Deluxe convert w/hardtop 2d F-150 Regular Cab XL F-150 Supercab Lariat Ranger 2.3 XL Regular Cab Focus ZTW Taurus SE Envoy XUV SLE Yukon 1500 SLE Yukon XL 2500 SLT Safari SLE Canyon Z85 SL Regular Cab Sierra Extended Cab 1500 Sierra HD 2500 Sonoma Crew Cab Civic Hybrid 4dr manual (gas/electric) Insight 2dr (gas/electric) Pilot LX CR-V LX Element LX Civic DX 2dr Civic HX 2dr Civic LX 4dr Accord LX 2dr Accord EX 2dr Civic EX 4dr Civic Si 2dr hatch Accord LX V6 4dr Accord EX V6 2dr Odyssey LX Odyssey EX S2000 convertible 2dr H2 Santa Fe GLS Accent 2dr hatch Accent GL 4dr Accent GT 2dr hatch Elantra GLS 4dr Elantra GT 4dr Elantra GT 4dr hatch Sonata GLS 4dr Sonata LX 4dr XG350 4dr XG350 L 4dr Tiburon GT V6 2dr G35 4dr G35 Sport Coupe 2dr G35 4dr I35 4dr M45 4dr Q45 Luxury 4dr FX35 FX45 Ascender S Rodeo S X-Type 2.5 4dr X-Type 3.0 4dr S-Type 3.0 4dr S-Type 4.2 4dr S-Type R 4dr Vanden Plas 4dr XJ8 4dr XJR 4dr XK8 coupe 2dr XK8 convertible 2dr XKR coupe 2dr XKR convertible 2dr Grand Cherokee Laredo Liberty Sport Wrangler Sahara convertible 2dr Sorento LX Optima LX 4dr Rio 4dr manual Rio 4dr auto Spectra 4dr Spectra GS 4dr hatch Spectra GSX 4dr hatch Optima LX V6 4dr Amanti 4dr Sedona LX Rio Cinco Range Rover HSE Discovery SE Freelander SE GX 470 LX 470 RX 330 ES 330 4dr IS 300 4dr manual IS 300 4dr auto GS 300 4dr GS 430 4dr LS 430 4dr SC 430 convertible 2dr IS 300 SportCross Navigator Luxury Aviator Ultimate LS V6 Luxury 4dr LS V6 Premium 4dr LS V8 Sport 4dr LS V8 Ultimate 4dr Town Car Signature 4dr Town Car Ultimate 4dr Town Car Ultimate L 4dr Cooper Cooper S Tribute DX 2.0 Mazda3 i 4dr Mazda3 s 4dr Mazda6 i 4dr MPV ES MX-5 Miata convertible 2dr MX-5 Miata LS convertible 2dr RX-8 4dr automatic RX-8 4dr manual B2300 SX Regular Cab B4000 SE Cab Plus G500 ML500 C230 Sport 2dr C320 Sport 2dr C240 4dr C240 4dr C320 Sport 4dr C320 4dr C320 4dr C32 AMG 4dr CL500 2dr CL600 2dr CLK320 coupe 2dr (convertible) CLK500 coupe 2dr (convertible) E320 4dr E500 4dr S430 4dr S500 4dr SL500 convertible 2dr SL55 AMG 2dr SL600 convertible 2dr SLK230 convertible 2dr SLK32 AMG 2dr C240 E320 E500 Mountaineer Sable GS 4dr Grand Marquis GS 4dr Grand Marquis LS Premium 4dr Sable LS Premium 4dr Grand Marquis LS Ultimate 4dr Marauder 4dr Monterey Luxury Sable GS Endeavor XLS Montero XLS Outlander LS Lancer ES 4dr Lancer LS 4dr Galant ES 2.4L 4dr Lancer OZ Rally 4dr auto Diamante LS 4dr Galant GTS 4dr Eclipse GTS 2dr Eclipse Spyder GT convertible 2dr Lancer Evolution 4dr Lancer Sportback LS Pathfinder Armada SE Pathfinder SE Xterra XE V6 Sentra 1.8 4dr Sentra 1.8 S 4dr Altima S 4dr Sentra SE-R 4dr Altima SE 4dr Maxima SE 4dr Maxima SL 4dr Quest S Quest SE 350Z coupe 2dr 350Z Enthusiast convertible 2dr Frontier King Cab XE V6 Titan King Cab XE Murano SL Alero GX 2dr Alero GLS 2dr Silhouette GL Aztekt Sunfire 1SA 2dr Grand Am GT 2dr Grand Prix GT1 4dr Sunfire 1SC 2dr Grand Prix GT2 4dr Bonneville GXP 4dr Montana Montana EWB GTO 2dr Vibe Cayenne S 911 Carrera convertible 2dr (coupe) 911 Carrera 4S coupe 2dr (convert) 911 Targa coupe 2dr 911 GT2 2dr Boxster convertible 2dr Boxster S convertible 2dr 9-3 Arc Sport 4dr 9-3 Aero 4dr 9-5 Arc 4dr 9-5 Aero 4dr 9-3 Arc convertible 2dr 9-3 Aero convertible 2dr 9-5 Aero VUE Ion1 4dr lon2 4dr lon3 4dr lon2 quad coupe 2dr lon3 quad coupe 2dr L300-2 4dr L300 2 xA 4dr hatch xB Impreza 2.5 RS 4dr Legacy L 4dr Legacy GT 4dr Outback Limited Sedan 4dr Outback H6 4dr Outback H-6 VDC 4dr Impreza WRX 4dr Impreza WRX STi 4dr Baja Forester X Outback XL-7 EX Vitara LX Aeno S 4dr Aerio LX 4dr Forenza S 4dr Forenza EX 4dr Verona LX 4dr Aerio SX Prius 4dr (gas/electric) Sequoia SR5 4Runner SR5 V6 Highlander V6 Land Cruiser RAV4 Corolla CE 4dr Corolla S 4dr Corolla LE 4dr Echo 2dr manual Echo 2dr auto Echo 4dr Camry LE 4dr Camry LE V6 4dr Camry Solara SE 2dr Camry Solara SE V6 2dr Avalon XL 4dr Camry XLE V6 4dr Camry Solara SLE V6 2dr Avalon XLS 4dr Sienna CE Sienna XLE Limited Celica GT-S 2dr MR2 Spyder convertible 2dr Tacoma Tundra Regular Cab V6 Tundra Access Cab V6 SR5 Matrix XR Touareg V6 Golf GLS 4dr GTI 1.8T 2dr hatch Jetta GLS TDI 4dr New Beetle GLS 1.8T 2dr Jetta GLI VR6 4dr New Beetle GLS convertible 2dr Passat GLS 4dr Passat GLX V6 4MOTION 4dr Passat W8 4MOTION 4dr Phaeton 4dr Phaeton W12 4dr Jetta GL Passat GLS 1.8T Passat W8 XC90 T6 S40 4dr S60 2.5 4dr S60 T5 4dr S60 R 4dr S80 2.9 4dr S80 2.5T 4dr C70 LPT convertible 2dr C70 HPT convertible 2dr S80 T6 4dr V40 XC70'\n 'SUVSedanSedanSedanSedanSedanSportsSedanSedanSedanSedanSedanSedanSedanSedanSedanSedanSedanSedanSedanSportsSportsSportsSportsWagonWagonSUVSUVSedanSedanSedanSedanSedanSedanSedanSedanSedanSedanSedanSedanSedanSportsSportsSportsSportsWagonSUVSUVSedanSedanSedanSedanSedanSedanSedanSUVSUVSedanSedanSedanSedanSportsTruckSUVSUVSUVSUVSedanSedanSedanSedanSedanSedanSedanSedanSedanSedanSedanSedanSedanSedanSedanSportsSportsTruckTruckTruckTruckTruckWagonSedanSedanSedanSedanSedanSedanSedanSedanSedanSedanSedanSedanSedanSportsWagonSUVSedanSedanSedanSedanSedanSedanSedanSedanSportsTruckTruckTruckSUVSUVSUVSUVSedanSedanSedanSedanSedanSedanSedanSedanSedanSedanSedanSportsSportsSportsTruckTruckTruckWagonWagonSUVSUVSUVSedanTruckTruckTruckTruckHybridHybridSUVSUVSUVSedanSedanSedanSedanSedanSedanSedanSedanSedanSedanSedanSportsSUVSUVSedanSedanSedanSedanSedanSedanSedanSedanSedanSedanSportsSedanSedanSedanSedanSedanSedanWagonWagonSUVSUVSedanSedanSedanSedanSedanSedanSedanSedanSportsSportsSportsSportsSUVSUVSUVSUVSedanSedanSedanSedanSedanSedanSedanSedanSedanWagonSUVSUVSUVSUVSUVSUVSedanSedanSedanSedanSedanSedanSportsWagonSUVSUVSedanSedanSedanSedanSedanSedanSedanSedanSedanSUVSedanSedanSedanSedanSportsSportsSportsSportsTruckTruckSUVSUVSedanSedanSedanSedanSedanSedanSedanSedanSedanSedanSedanSedanSedanSedanSedanSedanSportsSportsSportsSportsSportsWagonWagonWagonSUVSedanSedanSedanSedanSedanSedanSedanWagonSUVSUVSUVSedanSedanSedanSedanSedanSedanSportsSportsSportsWagonSUVSUVSUVSedanSedanSedanSedanSedanSedanSedanSedanSedanSportsSportsTruckTruckWagonSedanSedanSedanSUVSedanSedanSedanSedanSedanSedanSedanSedanSportsWagonSUVSportsSportsSportsSportsSportsSportsSedanSedanSedanSedanSedanSedanWagonSUVSedanSedanSedanSedanSedanSedanWagonSedanWagonSedanSedanSedanSedanSedanSedanSportsSportsTruckWagonWagonSUVSUVSedanSedanSedanSedanSedanWagonHybridSUVSUVSUVSUVSUVSedanSedanSedanSedanSedanSedanSedanSedanSedanSedanSedanSedanSedanSedanSedanSedanSportsSportsTruckTruckTruckWagonSUVSedanSedanSedanSedanSedanSedanSedanSedanSedanSedanSedanWagonWagonWagonSUVSedanSedanSedanSedanSedanSedanSedanSedanSedanWagonWagon'\n 'AsiaAsiaAsiaAsiaAsiaAsiaAsiaEuropeEuropeEuropeEuropeEuropeEuropeEuropeEuropeEuropeEuropeEuropeEuropeEuropeEuropeEuropeEuropeEuropeEuropeEuropeEuropeEuropeEuropeEuropeEuropeEuropeEuropeEuropeEuropeEuropeEuropeEuropeEuropeEuropeEuropeEuropeEuropeEuropeEuropeEuropeUSAUSAUSAUSAUSAUSAUSAUSAUSAUSAUSAUSAUSAUSAUSAUSAUSAUSAUSAUSAUSAUSAUSAUSAUSAUSAUSAUSAUSAUSAUSAUSAUSAUSAUSAUSAUSAUSAUSAUSAUSAUSAUSAUSAUSAUSAUSAUSAUSAUSAUSAUSAUSAUSAUSAUSAUSAUSAUSAUSAUSAUSAUSAUSAUSAUSAUSAUSAUSAUSAUSAUSAUSAUSAUSAUSAUSAUSAUSAUSAUSAUSAUSAUSAUSAUSAUSAUSAUSAUSAUSAUSAUSAUSAUSAUSAUSAUSAUSAUSAUSAUSAUSAAsiaAsiaAsiaAsiaAsiaAsiaAsiaAsiaAsiaAsiaAsiaAsiaAsiaAsiaAsiaAsiaAsiaUSAAsiaAsiaAsiaAsiaAsiaAsiaAsiaAsiaAsiaAsiaAsiaAsiaAsiaAsiaAsiaAsiaAsiaAsiaAsiaAsiaAsiaAsiaEuropeEuropeEuropeEuropeEuropeEuropeEuropeEuropeEuropeEuropeEuropeEuropeUSAUSAUSAAsiaAsiaAsiaAsiaAsiaAsiaAsiaAsiaAsiaAsiaAsiaEuropeEuropeEuropeAsiaAsiaAsiaAsiaAsiaAsiaAsiaAsiaAsiaAsiaAsiaUSAUSAUSAUSAUSAUSAUSAUSAUSAEuropeEuropeAsiaAsiaAsiaAsiaAsiaAsiaAsiaAsiaAsiaAsiaAsiaEuropeEuropeEuropeEuropeEuropeEuropeEuropeEuropeEuropeEuropeEuropeEuropeEuropeEuropeEuropeEuropeEuropeEuropeEuropeEuropeEuropeEuropeEuropeEuropeEuropeEuropeUSAUSAUSAUSAUSAUSAUSAUSAUSAAsiaAsiaAsiaAsiaAsiaAsiaAsiaAsiaAsiaAsiaAsiaAsiaAsiaAsiaAsiaAsiaAsiaAsiaAsiaAsiaAsiaAsiaAsiaAsiaAsiaAsiaAsiaAsiaAsiaAsiaUSAUSAUSAUSAUSAUSAUSAUSAUSAUSAUSAUSAUSAUSAEuropeEuropeEuropeEuropeEuropeEuropeEuropeEuropeEuropeEuropeEuropeEuropeEuropeEuropeUSAUSAUSAUSAUSAUSAUSAUSAAsiaAsiaAsiaAsiaAsiaAsiaAsiaAsiaAsiaAsiaAsiaAsiaAsiaAsiaAsiaAsiaAsiaAsiaAsiaAsiaAsiaAsiaAsiaAsiaAsiaAsiaAsiaAsiaAsiaAsiaAsiaAsiaAsiaAsiaAsiaAsiaAsiaAsiaAsiaAsiaAsiaAsiaAsiaAsiaAsiaAsiaAsiaAsiaAsiaEuropeEuropeEuropeEuropeEuropeEuropeEuropeEuropeEuropeEuropeEuropeEuropeEuropeEuropeEuropeEuropeEuropeEuropeEuropeEuropeEuropeEuropeEuropeEuropeEuropeEuropeEurope'\n 'AllFrontFrontFrontFrontFrontRearFrontFrontFrontAllAllFrontAllFrontAllAllAllAllAllFrontFrontAllAllAllAllAllAllRearRearRearAllRearRearAllRearRearRearRearRearRearRearRearRearRearAllAllFrontFrontFrontFrontFrontFrontFrontFrontFrontFrontRearFrontFrontFrontRearAllFrontAllFrontFrontFrontFrontFrontFrontFrontFrontFrontFrontFrontFrontFrontFrontFrontAllFrontRearRearAllAllRearAllRearFrontFrontFrontFrontFrontFrontFrontFrontFrontFrontFrontFrontFrontFrontRearRearAllFrontFrontFrontFrontFrontFrontFrontAllRearRearRearRearAllFrontAllAllFrontFrontFrontFrontFrontFrontFrontRearRearRearFrontRearRearFrontRearAllRearFrontFrontFrontFrontAllRearRearRearAllAllFrontFrontAllAllAllFrontFrontFrontFrontFrontFrontFrontFrontFrontFrontFrontRearAllFrontFrontFrontFrontFrontFrontFrontFrontFrontFrontFrontFrontRearRearAllFrontRearRearRearAllAllFrontAllAllRearRearRearRearRearRearRearRearRearRearFrontAllAllFrontFrontFrontFrontFrontFrontFrontFrontFrontFrontFrontAllAllAllAllAllAllFrontRearRearRearRearRearRearRearAllFrontRearRearRearRearRearRearRearFrontFrontAllFrontFrontFrontFrontRearRearRearRearRearAllAllAllRearRearRearAllRearRearAllRearRearRearRearRearRearRearRearAllRearRearRearRearRearRearRearAllFrontFrontRearRearFrontRearRearFrontFrontAllAllFrontFrontFrontFrontFrontFrontFrontFrontFrontFrontFrontFrontFrontFrontFrontFrontFrontFrontFrontFrontFrontFrontFrontRearRearAllAllRearFrontFrontFrontFrontFrontFrontFrontFrontFrontFrontFrontAllRearRearAllRearAllRearRearRearRearFrontFrontFrontFrontFrontFrontFrontAllFrontFrontFrontFrontFrontFrontFrontFrontFrontAllAllAllAllAllAllAllAllAllAllAllFrontAllFrontFrontFrontFrontFrontAllFrontAllFrontAllAllAllFrontFrontFrontFrontFrontFrontFrontFrontFrontFrontFrontFrontFrontFrontFrontFrontFrontRearRearRearAllFrontAllFrontFrontFrontFrontFrontFrontFrontFrontFrontFrontFrontFrontFrontFrontAllFrontAllFrontAllFrontAllFrontFrontFrontFrontAll'] to numeric"
     ]
    }
   ],
   "source": [
    "cars.mean()"
   ]
  },
  {
   "cell_type": "markdown",
   "id": "ae8fa046",
   "metadata": {},
   "source": [
    "### For a non-numeric dataset, pandas gives us an error \n"
   ]
  },
  {
   "cell_type": "code",
   "execution_count": 25,
   "id": "afd7ba2a",
   "metadata": {},
   "outputs": [
    {
     "data": {
      "text/plain": [
       "MSRP           32774.855140\n",
       "Invoice        30014.700935\n",
       "EngineSize         3.196729\n",
       "Cylinders          5.808411\n",
       "Horsepower       215.885514\n",
       "MPG_City          20.060748\n",
       "MPG_Highway       26.843458\n",
       "Weight          3577.953271\n",
       "Wheelbase        108.154206\n",
       "Length           186.362150\n",
       "dtype: float64"
      ]
     },
     "execution_count": 25,
     "metadata": {},
     "output_type": "execute_result"
    }
   ],
   "source": [
    "# For non_numeric we use \n",
    "cars.mean(numeric_only=True)"
   ]
  },
  {
   "cell_type": "code",
   "execution_count": null,
   "id": "b4c19a4c",
   "metadata": {},
   "outputs": [
    {
     "data": {
      "application/vnd.microsoft.datawrangler.viewer.v0+json": {
       "columns": [
        {
         "name": "index",
         "rawType": "int64",
         "type": "integer"
        },
        {
         "name": "0",
         "rawType": "float64",
         "type": "float"
        }
       ],
       "ref": "361d6f0a-550f-410e-aae3-c73f74e81a80",
       "rows": [
        [
         "0",
         "7534.25"
        ],
        [
         "1",
         "4889.3"
        ],
        [
         "2",
         "5541.24"
        ],
        [
         "3",
         "6769.0199999999995"
        ],
        [
         "4",
         "8723.75"
        ],
        [
         "5",
         "9168.15"
        ],
        [
         "6",
         "17351.02"
        ],
        [
         "7",
         "5321.18"
        ],
        [
         "8",
         "7259.780000000001"
        ],
        [
         "9",
         "6470.8"
        ],
        [
         "10",
         "6793.4"
        ],
        [
         "11",
         "7005.0"
        ],
        [
         "12",
         "7390.7"
        ],
        [
         "13",
         "8008.5"
        ],
        [
         "14",
         "8519.0"
        ],
        [
         "15",
         "8888.5"
        ],
        [
         "16",
         "8611.869999999999"
        ],
        [
         "17",
         "9930.52"
        ],
        [
         "18",
         "13903.720000000001"
        ],
        [
         "19",
         "9609.02"
        ],
        [
         "20",
         "16584.02"
        ],
        [
         "21",
         "7207.08"
        ],
        [
         "22",
         "7473.58"
        ],
        [
         "23",
         "8124.42"
        ],
        [
         "24",
         "8250.8"
        ],
        [
         "25",
         "9814.32"
        ],
        [
         "26",
         "7545.9"
        ],
        [
         "27",
         "10540.939999999999"
        ],
        [
         "28",
         "5839.35"
        ],
        [
         "29",
         "6276.25"
        ],
        [
         "30",
         "7687.75"
        ],
        [
         "31",
         "6197.25"
        ],
        [
         "32",
         "7187.2"
        ],
        [
         "33",
         "7473.7"
        ],
        [
         "34",
         "7540.9"
        ],
        [
         "35",
         "8058.75"
        ],
        [
         "36",
         "8900.6"
        ],
        [
         "37",
         "9022.6"
        ],
        [
         "38",
         "10976.539999999999"
        ],
        [
         "39",
         "13745.84"
        ],
        [
         "40",
         "14519.74"
        ],
        [
         "41",
         "9644.72"
        ],
        [
         "42",
         "11285.72"
        ],
        [
         "43",
         "6839.15"
        ],
        [
         "44",
         "8216.1"
        ],
        [
         "45",
         "6706.95"
        ],
        [
         "46",
         "7747.92"
        ],
        [
         "47",
         "5519.24"
        ],
        [
         "48",
         "4642.21"
        ],
        [
         "49",
         "5489.4800000000005"
        ]
       ],
       "shape": {
        "columns": 1,
        "rows": 428
       }
      },
      "text/plain": [
       "0      7534.25\n",
       "1      4889.30\n",
       "2      5541.24\n",
       "3      6769.02\n",
       "4      8723.75\n",
       "        ...   \n",
       "423    8276.24\n",
       "424    8668.43\n",
       "425    9205.79\n",
       "426    5410.59\n",
       "427    7263.75\n",
       "Length: 428, dtype: float64"
      ]
     },
     "execution_count": 16,
     "metadata": {},
     "output_type": "execute_result"
    }
   ],
   "source": [
    "# Axis = 0 means along the columns\n",
    "# Axis = 1 means along the rows\n",
    "cars.mean(axis=1,numeric_only=True)"
   ]
  },
  {
   "cell_type": "markdown",
   "id": "f829dde9",
   "metadata": {},
   "source": [
    "## origion of car"
   ]
  },
  {
   "cell_type": "code",
   "execution_count": null,
   "id": "fde76105",
   "metadata": {},
   "outputs": [
    {
     "data": {
      "text/plain": [
       "array(['Asia', 'Europe', 'USA'], dtype=object)"
      ]
     },
     "execution_count": 18,
     "metadata": {},
     "output_type": "execute_result"
    }
   ],
   "source": [
    "cars.Origin.unique()"
   ]
  },
  {
   "cell_type": "code",
   "execution_count": null,
   "id": "2bbc0d75",
   "metadata": {},
   "outputs": [
    {
     "data": {
      "text/plain": [
       "3"
      ]
     },
     "execution_count": 19,
     "metadata": {},
     "output_type": "execute_result"
    }
   ],
   "source": [
    "cars.Origin.nunique()"
   ]
  },
  {
   "cell_type": "code",
   "execution_count": null,
   "id": "e63bcb12",
   "metadata": {},
   "outputs": [
    {
     "data": {
      "application/vnd.microsoft.datawrangler.viewer.v0+json": {
       "columns": [
        {
         "name": "Origin",
         "rawType": "object",
         "type": "string"
        },
        {
         "name": "count",
         "rawType": "int64",
         "type": "integer"
        }
       ],
       "ref": "0e10549c-a7d5-4078-81ca-d540f3af364d",
       "rows": [
        [
         "Asia",
         "158"
        ],
        [
         "USA",
         "147"
        ],
        [
         "Europe",
         "123"
        ]
       ],
       "shape": {
        "columns": 1,
        "rows": 3
       }
      },
      "text/plain": [
       "Origin\n",
       "Asia      158\n",
       "USA       147\n",
       "Europe    123\n",
       "Name: count, dtype: int64"
      ]
     },
     "execution_count": 17,
     "metadata": {},
     "output_type": "execute_result"
    }
   ],
   "source": [
    "# To find origion of car\n",
    "cars.Origin.value_counts() "
   ]
  },
  {
   "cell_type": "markdown",
   "id": "91c00033",
   "metadata": {},
   "source": [
    "# _Groupby Analysis_"
   ]
  },
  {
   "cell_type": "code",
   "execution_count": null,
   "id": "0ee8b428",
   "metadata": {},
   "outputs": [
    {
     "data": {
      "application/vnd.microsoft.datawrangler.viewer.v0+json": {
       "columns": [
        {
         "name": "Origin",
         "rawType": "object",
         "type": "string"
        },
        {
         "name": "MSRP",
         "rawType": "float64",
         "type": "float"
        },
        {
         "name": "Invoice",
         "rawType": "float64",
         "type": "float"
        },
        {
         "name": "EngineSize",
         "rawType": "float64",
         "type": "float"
        },
        {
         "name": "Cylinders",
         "rawType": "float64",
         "type": "float"
        },
        {
         "name": "Horsepower",
         "rawType": "float64",
         "type": "float"
        },
        {
         "name": "MPG_City",
         "rawType": "float64",
         "type": "float"
        },
        {
         "name": "MPG_Highway",
         "rawType": "float64",
         "type": "float"
        },
        {
         "name": "Weight",
         "rawType": "float64",
         "type": "float"
        },
        {
         "name": "Wheelbase",
         "rawType": "float64",
         "type": "float"
        },
        {
         "name": "Length",
         "rawType": "float64",
         "type": "float"
        }
       ],
       "ref": "2538f0df-1c75-4c10-a321-7bbd9dd6958e",
       "rows": [
        [
         "Asia",
         "24741.322784810127",
         "22602.177215189873",
         "2.7740506329113925",
         "5.185897435897436",
         "190.70253164556962",
         "22.0126582278481",
         "28.265822784810126",
         "3319.3164556962024",
         "105.88607594936708",
         "182.81645569620252"
        ],
        [
         "Europe",
         "48349.79674796748",
         "44395.081300813006",
         "3.2065040650406504",
         "6.235772357723577",
         "251.89430894308944",
         "18.73170731707317",
         "26.008130081300813",
         "3680.723577235772",
         "106.44715447154472",
         "181.84552845528455"
        ],
        [
         "USA",
         "28377.442176870747",
         "25949.340136054423",
         "3.642857142857143",
         "6.108843537414966",
         "212.8231292517007",
         "19.07482993197279",
         "26.01360544217687",
         "3769.9523809523807",
         "112.0204081632653",
         "193.95238095238096"
        ]
       ],
       "shape": {
        "columns": 10,
        "rows": 3
       }
      },
      "text/html": [
       "<div>\n",
       "<style scoped>\n",
       "    .dataframe tbody tr th:only-of-type {\n",
       "        vertical-align: middle;\n",
       "    }\n",
       "\n",
       "    .dataframe tbody tr th {\n",
       "        vertical-align: top;\n",
       "    }\n",
       "\n",
       "    .dataframe thead th {\n",
       "        text-align: right;\n",
       "    }\n",
       "</style>\n",
       "<table border=\"1\" class=\"dataframe\">\n",
       "  <thead>\n",
       "    <tr style=\"text-align: right;\">\n",
       "      <th></th>\n",
       "      <th>MSRP</th>\n",
       "      <th>Invoice</th>\n",
       "      <th>EngineSize</th>\n",
       "      <th>Cylinders</th>\n",
       "      <th>Horsepower</th>\n",
       "      <th>MPG_City</th>\n",
       "      <th>MPG_Highway</th>\n",
       "      <th>Weight</th>\n",
       "      <th>Wheelbase</th>\n",
       "      <th>Length</th>\n",
       "    </tr>\n",
       "    <tr>\n",
       "      <th>Origin</th>\n",
       "      <th></th>\n",
       "      <th></th>\n",
       "      <th></th>\n",
       "      <th></th>\n",
       "      <th></th>\n",
       "      <th></th>\n",
       "      <th></th>\n",
       "      <th></th>\n",
       "      <th></th>\n",
       "      <th></th>\n",
       "    </tr>\n",
       "  </thead>\n",
       "  <tbody>\n",
       "    <tr>\n",
       "      <th>Asia</th>\n",
       "      <td>24741.322785</td>\n",
       "      <td>22602.177215</td>\n",
       "      <td>2.774051</td>\n",
       "      <td>5.185897</td>\n",
       "      <td>190.702532</td>\n",
       "      <td>22.012658</td>\n",
       "      <td>28.265823</td>\n",
       "      <td>3319.316456</td>\n",
       "      <td>105.886076</td>\n",
       "      <td>182.816456</td>\n",
       "    </tr>\n",
       "    <tr>\n",
       "      <th>Europe</th>\n",
       "      <td>48349.796748</td>\n",
       "      <td>44395.081301</td>\n",
       "      <td>3.206504</td>\n",
       "      <td>6.235772</td>\n",
       "      <td>251.894309</td>\n",
       "      <td>18.731707</td>\n",
       "      <td>26.008130</td>\n",
       "      <td>3680.723577</td>\n",
       "      <td>106.447154</td>\n",
       "      <td>181.845528</td>\n",
       "    </tr>\n",
       "    <tr>\n",
       "      <th>USA</th>\n",
       "      <td>28377.442177</td>\n",
       "      <td>25949.340136</td>\n",
       "      <td>3.642857</td>\n",
       "      <td>6.108844</td>\n",
       "      <td>212.823129</td>\n",
       "      <td>19.074830</td>\n",
       "      <td>26.013605</td>\n",
       "      <td>3769.952381</td>\n",
       "      <td>112.020408</td>\n",
       "      <td>193.952381</td>\n",
       "    </tr>\n",
       "  </tbody>\n",
       "</table>\n",
       "</div>"
      ],
      "text/plain": [
       "                MSRP       Invoice  EngineSize  Cylinders  Horsepower  \\\n",
       "Origin                                                                  \n",
       "Asia    24741.322785  22602.177215    2.774051   5.185897  190.702532   \n",
       "Europe  48349.796748  44395.081301    3.206504   6.235772  251.894309   \n",
       "USA     28377.442177  25949.340136    3.642857   6.108844  212.823129   \n",
       "\n",
       "         MPG_City  MPG_Highway       Weight   Wheelbase      Length  \n",
       "Origin                                                               \n",
       "Asia    22.012658    28.265823  3319.316456  105.886076  182.816456  \n",
       "Europe  18.731707    26.008130  3680.723577  106.447154  181.845528  \n",
       "USA     19.074830    26.013605  3769.952381  112.020408  193.952381  "
      ]
     },
     "execution_count": 22,
     "metadata": {},
     "output_type": "execute_result"
    }
   ],
   "source": [
    "# average engine size of cars based on origin \n",
    "cars.groupby('Origin').mean(['EngineSize'])"
   ]
  },
  {
   "cell_type": "code",
   "execution_count": null,
   "id": "ca123ddd",
   "metadata": {},
   "outputs": [
    {
     "data": {
      "application/vnd.microsoft.datawrangler.viewer.v0+json": {
       "columns": [
        {
         "name": "Origin",
         "rawType": "object",
         "type": "string"
        },
        {
         "name": "EngineSize",
         "rawType": "float64",
         "type": "float"
        }
       ],
       "ref": "af71d1fb-7484-4cef-90a4-af9093f66436",
       "rows": [
        [
         "Asia",
         "2.7740506329113925"
        ],
        [
         "Europe",
         "3.2065040650406504"
        ],
        [
         "USA",
         "3.642857142857143"
        ]
       ],
       "shape": {
        "columns": 1,
        "rows": 3
       }
      },
      "text/plain": [
       "Origin\n",
       "Asia      2.774051\n",
       "Europe    3.206504\n",
       "USA       3.642857\n",
       "Name: EngineSize, dtype: float64"
      ]
     },
     "execution_count": 23,
     "metadata": {},
     "output_type": "execute_result"
    }
   ],
   "source": [
    "# focus just one coulmn\n",
    "cars.groupby('Origin')['EngineSize'].mean()"
   ]
  },
  {
   "cell_type": "markdown",
   "id": "4983706a",
   "metadata": {},
   "source": [
    "# _Median_"
   ]
  },
  {
   "cell_type": "code",
   "execution_count": null,
   "id": "fb6f7998",
   "metadata": {},
   "outputs": [
    {
     "data": {
      "text/plain": [
       "3.0"
      ]
     },
     "execution_count": 24,
     "metadata": {},
     "output_type": "execute_result"
    }
   ],
   "source": [
    "cars['EngineSize'].median()"
   ]
  },
  {
   "cell_type": "code",
   "execution_count": null,
   "id": "5017762c",
   "metadata": {},
   "outputs": [
    {
     "name": "stdout",
     "output_type": "stream",
     "text": [
      "MSRP           27635.0\n",
      "Invoice        25294.5\n",
      "EngineSize         3.0\n",
      "Cylinders          6.0\n",
      "Horsepower       210.0\n",
      "MPG_City          19.0\n",
      "MPG_Highway       26.0\n",
      "Weight          3474.5\n",
      "Wheelbase        107.0\n",
      "Length           187.0\n",
      "dtype: float64\n"
     ]
    }
   ],
   "source": [
    "print(cars.median(numeric_only=True))"
   ]
  },
  {
   "cell_type": "code",
   "execution_count": null,
   "id": "d7a1310a",
   "metadata": {},
   "outputs": [
    {
     "name": "stdout",
     "output_type": "stream",
     "text": [
      "0      147.5\n",
      "1      136.5\n",
      "2      144.0\n",
      "3      147.0\n",
      "4      156.0\n",
      "       ...  \n",
      "423    145.5\n",
      "424    145.5\n",
      "425    150.0\n",
      "426    135.5\n",
      "427    147.5\n",
      "Length: 428, dtype: float64\n"
     ]
    }
   ],
   "source": [
    "print(cars.median(axis=1,numeric_only=True))"
   ]
  },
  {
   "cell_type": "markdown",
   "id": "ff930335",
   "metadata": {},
   "source": [
    "# _Mode_"
   ]
  },
  {
   "cell_type": "code",
   "execution_count": null,
   "id": "84b0e58d",
   "metadata": {},
   "outputs": [
    {
     "data": {
      "application/vnd.microsoft.datawrangler.viewer.v0+json": {
       "columns": [
        {
         "name": "index",
         "rawType": "int64",
         "type": "integer"
        },
        {
         "name": "Make",
         "rawType": "object",
         "type": "unknown"
        },
        {
         "name": "Model",
         "rawType": "object",
         "type": "unknown"
        },
        {
         "name": "Type",
         "rawType": "object",
         "type": "unknown"
        },
        {
         "name": "Origin",
         "rawType": "object",
         "type": "unknown"
        },
        {
         "name": "DriveTrain",
         "rawType": "object",
         "type": "unknown"
        },
        {
         "name": "MSRP",
         "rawType": "int64",
         "type": "integer"
        },
        {
         "name": "Invoice",
         "rawType": "float64",
         "type": "float"
        },
        {
         "name": "EngineSize",
         "rawType": "float64",
         "type": "float"
        },
        {
         "name": "Cylinders",
         "rawType": "float64",
         "type": "float"
        },
        {
         "name": "Horsepower",
         "rawType": "float64",
         "type": "float"
        },
        {
         "name": "MPG_City",
         "rawType": "float64",
         "type": "float"
        },
        {
         "name": "MPG_Highway",
         "rawType": "float64",
         "type": "float"
        },
        {
         "name": "Weight",
         "rawType": "float64",
         "type": "float"
        },
        {
         "name": "Wheelbase",
         "rawType": "float64",
         "type": "float"
        },
        {
         "name": "Length",
         "rawType": "float64",
         "type": "float"
        }
       ],
       "ref": "3ccfe0b8-2cdc-4705-bdaa-14284ea35950",
       "rows": [
        [
         "0",
         "Toyota",
         " C240 4dr",
         "Sedan",
         "Asia",
         "Front",
         "13270",
         "14207.0",
         "3.0",
         "6.0",
         "200.0",
         "18.0",
         "26.0",
         "3175.0",
         "107.0",
         "178.0"
        ],
        [
         "1",
         null,
         " C320 4dr",
         null,
         null,
         null,
         "15389",
         "19638.0",
         null,
         null,
         null,
         null,
         null,
         "3285.0",
         null,
         null
        ],
        [
         "2",
         null,
         " G35 4dr",
         null,
         null,
         null,
         "19635",
         "68306.0",
         null,
         null,
         null,
         null,
         null,
         "3450.0",
         null,
         null
        ],
        [
         "3",
         null,
         null,
         null,
         null,
         null,
         "19860",
         null,
         null,
         null,
         null,
         null,
         null,
         null,
         null,
         null
        ],
        [
         "4",
         null,
         null,
         null,
         null,
         null,
         "21055",
         null,
         null,
         null,
         null,
         null,
         null,
         null,
         null,
         null
        ],
        [
         "5",
         null,
         null,
         null,
         null,
         null,
         "21595",
         null,
         null,
         null,
         null,
         null,
         null,
         null,
         null,
         null
        ],
        [
         "6",
         null,
         null,
         null,
         null,
         null,
         "23495",
         null,
         null,
         null,
         null,
         null,
         null,
         null,
         null,
         null
        ],
        [
         "7",
         null,
         null,
         null,
         null,
         null,
         "23895",
         null,
         null,
         null,
         null,
         null,
         null,
         null,
         null,
         null
        ],
        [
         "8",
         null,
         null,
         null,
         null,
         null,
         "25700",
         null,
         null,
         null,
         null,
         null,
         null,
         null,
         null,
         null
        ],
        [
         "9",
         null,
         null,
         null,
         null,
         null,
         "27490",
         null,
         null,
         null,
         null,
         null,
         null,
         null,
         null,
         null
        ],
        [
         "10",
         null,
         null,
         null,
         null,
         null,
         "28495",
         null,
         null,
         null,
         null,
         null,
         null,
         null,
         null,
         null
        ],
        [
         "11",
         null,
         null,
         null,
         null,
         null,
         "29995",
         null,
         null,
         null,
         null,
         null,
         null,
         null,
         null,
         null
        ],
        [
         "12",
         null,
         null,
         null,
         null,
         null,
         "31545",
         null,
         null,
         null,
         null,
         null,
         null,
         null,
         null,
         null
        ],
        [
         "13",
         null,
         null,
         null,
         null,
         null,
         "33995",
         null,
         null,
         null,
         null,
         null,
         null,
         null,
         null,
         null
        ],
        [
         "14",
         null,
         null,
         null,
         null,
         null,
         "34495",
         null,
         null,
         null,
         null,
         null,
         null,
         null,
         null,
         null
        ],
        [
         "15",
         null,
         null,
         null,
         null,
         null,
         "35940",
         null,
         null,
         null,
         null,
         null,
         null,
         null,
         null,
         null
        ],
        [
         "16",
         null,
         null,
         null,
         null,
         null,
         "49995",
         null,
         null,
         null,
         null,
         null,
         null,
         null,
         null,
         null
        ],
        [
         "17",
         null,
         null,
         null,
         null,
         null,
         "74995",
         null,
         null,
         null,
         null,
         null,
         null,
         null,
         null,
         null
        ]
       ],
       "shape": {
        "columns": 15,
        "rows": 18
       }
      },
      "text/html": [
       "<div>\n",
       "<style scoped>\n",
       "    .dataframe tbody tr th:only-of-type {\n",
       "        vertical-align: middle;\n",
       "    }\n",
       "\n",
       "    .dataframe tbody tr th {\n",
       "        vertical-align: top;\n",
       "    }\n",
       "\n",
       "    .dataframe thead th {\n",
       "        text-align: right;\n",
       "    }\n",
       "</style>\n",
       "<table border=\"1\" class=\"dataframe\">\n",
       "  <thead>\n",
       "    <tr style=\"text-align: right;\">\n",
       "      <th></th>\n",
       "      <th>Make</th>\n",
       "      <th>Model</th>\n",
       "      <th>Type</th>\n",
       "      <th>Origin</th>\n",
       "      <th>DriveTrain</th>\n",
       "      <th>MSRP</th>\n",
       "      <th>Invoice</th>\n",
       "      <th>EngineSize</th>\n",
       "      <th>Cylinders</th>\n",
       "      <th>Horsepower</th>\n",
       "      <th>MPG_City</th>\n",
       "      <th>MPG_Highway</th>\n",
       "      <th>Weight</th>\n",
       "      <th>Wheelbase</th>\n",
       "      <th>Length</th>\n",
       "    </tr>\n",
       "  </thead>\n",
       "  <tbody>\n",
       "    <tr>\n",
       "      <th>0</th>\n",
       "      <td>Toyota</td>\n",
       "      <td>C240 4dr</td>\n",
       "      <td>Sedan</td>\n",
       "      <td>Asia</td>\n",
       "      <td>Front</td>\n",
       "      <td>13270</td>\n",
       "      <td>14207.0</td>\n",
       "      <td>3.0</td>\n",
       "      <td>6.0</td>\n",
       "      <td>200.0</td>\n",
       "      <td>18.0</td>\n",
       "      <td>26.0</td>\n",
       "      <td>3175.0</td>\n",
       "      <td>107.0</td>\n",
       "      <td>178.0</td>\n",
       "    </tr>\n",
       "    <tr>\n",
       "      <th>1</th>\n",
       "      <td>NaN</td>\n",
       "      <td>C320 4dr</td>\n",
       "      <td>NaN</td>\n",
       "      <td>NaN</td>\n",
       "      <td>NaN</td>\n",
       "      <td>15389</td>\n",
       "      <td>19638.0</td>\n",
       "      <td>NaN</td>\n",
       "      <td>NaN</td>\n",
       "      <td>NaN</td>\n",
       "      <td>NaN</td>\n",
       "      <td>NaN</td>\n",
       "      <td>3285.0</td>\n",
       "      <td>NaN</td>\n",
       "      <td>NaN</td>\n",
       "    </tr>\n",
       "    <tr>\n",
       "      <th>2</th>\n",
       "      <td>NaN</td>\n",
       "      <td>G35 4dr</td>\n",
       "      <td>NaN</td>\n",
       "      <td>NaN</td>\n",
       "      <td>NaN</td>\n",
       "      <td>19635</td>\n",
       "      <td>68306.0</td>\n",
       "      <td>NaN</td>\n",
       "      <td>NaN</td>\n",
       "      <td>NaN</td>\n",
       "      <td>NaN</td>\n",
       "      <td>NaN</td>\n",
       "      <td>3450.0</td>\n",
       "      <td>NaN</td>\n",
       "      <td>NaN</td>\n",
       "    </tr>\n",
       "    <tr>\n",
       "      <th>3</th>\n",
       "      <td>NaN</td>\n",
       "      <td>NaN</td>\n",
       "      <td>NaN</td>\n",
       "      <td>NaN</td>\n",
       "      <td>NaN</td>\n",
       "      <td>19860</td>\n",
       "      <td>NaN</td>\n",
       "      <td>NaN</td>\n",
       "      <td>NaN</td>\n",
       "      <td>NaN</td>\n",
       "      <td>NaN</td>\n",
       "      <td>NaN</td>\n",
       "      <td>NaN</td>\n",
       "      <td>NaN</td>\n",
       "      <td>NaN</td>\n",
       "    </tr>\n",
       "    <tr>\n",
       "      <th>4</th>\n",
       "      <td>NaN</td>\n",
       "      <td>NaN</td>\n",
       "      <td>NaN</td>\n",
       "      <td>NaN</td>\n",
       "      <td>NaN</td>\n",
       "      <td>21055</td>\n",
       "      <td>NaN</td>\n",
       "      <td>NaN</td>\n",
       "      <td>NaN</td>\n",
       "      <td>NaN</td>\n",
       "      <td>NaN</td>\n",
       "      <td>NaN</td>\n",
       "      <td>NaN</td>\n",
       "      <td>NaN</td>\n",
       "      <td>NaN</td>\n",
       "    </tr>\n",
       "    <tr>\n",
       "      <th>5</th>\n",
       "      <td>NaN</td>\n",
       "      <td>NaN</td>\n",
       "      <td>NaN</td>\n",
       "      <td>NaN</td>\n",
       "      <td>NaN</td>\n",
       "      <td>21595</td>\n",
       "      <td>NaN</td>\n",
       "      <td>NaN</td>\n",
       "      <td>NaN</td>\n",
       "      <td>NaN</td>\n",
       "      <td>NaN</td>\n",
       "      <td>NaN</td>\n",
       "      <td>NaN</td>\n",
       "      <td>NaN</td>\n",
       "      <td>NaN</td>\n",
       "    </tr>\n",
       "    <tr>\n",
       "      <th>6</th>\n",
       "      <td>NaN</td>\n",
       "      <td>NaN</td>\n",
       "      <td>NaN</td>\n",
       "      <td>NaN</td>\n",
       "      <td>NaN</td>\n",
       "      <td>23495</td>\n",
       "      <td>NaN</td>\n",
       "      <td>NaN</td>\n",
       "      <td>NaN</td>\n",
       "      <td>NaN</td>\n",
       "      <td>NaN</td>\n",
       "      <td>NaN</td>\n",
       "      <td>NaN</td>\n",
       "      <td>NaN</td>\n",
       "      <td>NaN</td>\n",
       "    </tr>\n",
       "    <tr>\n",
       "      <th>7</th>\n",
       "      <td>NaN</td>\n",
       "      <td>NaN</td>\n",
       "      <td>NaN</td>\n",
       "      <td>NaN</td>\n",
       "      <td>NaN</td>\n",
       "      <td>23895</td>\n",
       "      <td>NaN</td>\n",
       "      <td>NaN</td>\n",
       "      <td>NaN</td>\n",
       "      <td>NaN</td>\n",
       "      <td>NaN</td>\n",
       "      <td>NaN</td>\n",
       "      <td>NaN</td>\n",
       "      <td>NaN</td>\n",
       "      <td>NaN</td>\n",
       "    </tr>\n",
       "    <tr>\n",
       "      <th>8</th>\n",
       "      <td>NaN</td>\n",
       "      <td>NaN</td>\n",
       "      <td>NaN</td>\n",
       "      <td>NaN</td>\n",
       "      <td>NaN</td>\n",
       "      <td>25700</td>\n",
       "      <td>NaN</td>\n",
       "      <td>NaN</td>\n",
       "      <td>NaN</td>\n",
       "      <td>NaN</td>\n",
       "      <td>NaN</td>\n",
       "      <td>NaN</td>\n",
       "      <td>NaN</td>\n",
       "      <td>NaN</td>\n",
       "      <td>NaN</td>\n",
       "    </tr>\n",
       "    <tr>\n",
       "      <th>9</th>\n",
       "      <td>NaN</td>\n",
       "      <td>NaN</td>\n",
       "      <td>NaN</td>\n",
       "      <td>NaN</td>\n",
       "      <td>NaN</td>\n",
       "      <td>27490</td>\n",
       "      <td>NaN</td>\n",
       "      <td>NaN</td>\n",
       "      <td>NaN</td>\n",
       "      <td>NaN</td>\n",
       "      <td>NaN</td>\n",
       "      <td>NaN</td>\n",
       "      <td>NaN</td>\n",
       "      <td>NaN</td>\n",
       "      <td>NaN</td>\n",
       "    </tr>\n",
       "    <tr>\n",
       "      <th>10</th>\n",
       "      <td>NaN</td>\n",
       "      <td>NaN</td>\n",
       "      <td>NaN</td>\n",
       "      <td>NaN</td>\n",
       "      <td>NaN</td>\n",
       "      <td>28495</td>\n",
       "      <td>NaN</td>\n",
       "      <td>NaN</td>\n",
       "      <td>NaN</td>\n",
       "      <td>NaN</td>\n",
       "      <td>NaN</td>\n",
       "      <td>NaN</td>\n",
       "      <td>NaN</td>\n",
       "      <td>NaN</td>\n",
       "      <td>NaN</td>\n",
       "    </tr>\n",
       "    <tr>\n",
       "      <th>11</th>\n",
       "      <td>NaN</td>\n",
       "      <td>NaN</td>\n",
       "      <td>NaN</td>\n",
       "      <td>NaN</td>\n",
       "      <td>NaN</td>\n",
       "      <td>29995</td>\n",
       "      <td>NaN</td>\n",
       "      <td>NaN</td>\n",
       "      <td>NaN</td>\n",
       "      <td>NaN</td>\n",
       "      <td>NaN</td>\n",
       "      <td>NaN</td>\n",
       "      <td>NaN</td>\n",
       "      <td>NaN</td>\n",
       "      <td>NaN</td>\n",
       "    </tr>\n",
       "    <tr>\n",
       "      <th>12</th>\n",
       "      <td>NaN</td>\n",
       "      <td>NaN</td>\n",
       "      <td>NaN</td>\n",
       "      <td>NaN</td>\n",
       "      <td>NaN</td>\n",
       "      <td>31545</td>\n",
       "      <td>NaN</td>\n",
       "      <td>NaN</td>\n",
       "      <td>NaN</td>\n",
       "      <td>NaN</td>\n",
       "      <td>NaN</td>\n",
       "      <td>NaN</td>\n",
       "      <td>NaN</td>\n",
       "      <td>NaN</td>\n",
       "      <td>NaN</td>\n",
       "    </tr>\n",
       "    <tr>\n",
       "      <th>13</th>\n",
       "      <td>NaN</td>\n",
       "      <td>NaN</td>\n",
       "      <td>NaN</td>\n",
       "      <td>NaN</td>\n",
       "      <td>NaN</td>\n",
       "      <td>33995</td>\n",
       "      <td>NaN</td>\n",
       "      <td>NaN</td>\n",
       "      <td>NaN</td>\n",
       "      <td>NaN</td>\n",
       "      <td>NaN</td>\n",
       "      <td>NaN</td>\n",
       "      <td>NaN</td>\n",
       "      <td>NaN</td>\n",
       "      <td>NaN</td>\n",
       "    </tr>\n",
       "    <tr>\n",
       "      <th>14</th>\n",
       "      <td>NaN</td>\n",
       "      <td>NaN</td>\n",
       "      <td>NaN</td>\n",
       "      <td>NaN</td>\n",
       "      <td>NaN</td>\n",
       "      <td>34495</td>\n",
       "      <td>NaN</td>\n",
       "      <td>NaN</td>\n",
       "      <td>NaN</td>\n",
       "      <td>NaN</td>\n",
       "      <td>NaN</td>\n",
       "      <td>NaN</td>\n",
       "      <td>NaN</td>\n",
       "      <td>NaN</td>\n",
       "      <td>NaN</td>\n",
       "    </tr>\n",
       "    <tr>\n",
       "      <th>15</th>\n",
       "      <td>NaN</td>\n",
       "      <td>NaN</td>\n",
       "      <td>NaN</td>\n",
       "      <td>NaN</td>\n",
       "      <td>NaN</td>\n",
       "      <td>35940</td>\n",
       "      <td>NaN</td>\n",
       "      <td>NaN</td>\n",
       "      <td>NaN</td>\n",
       "      <td>NaN</td>\n",
       "      <td>NaN</td>\n",
       "      <td>NaN</td>\n",
       "      <td>NaN</td>\n",
       "      <td>NaN</td>\n",
       "      <td>NaN</td>\n",
       "    </tr>\n",
       "    <tr>\n",
       "      <th>16</th>\n",
       "      <td>NaN</td>\n",
       "      <td>NaN</td>\n",
       "      <td>NaN</td>\n",
       "      <td>NaN</td>\n",
       "      <td>NaN</td>\n",
       "      <td>49995</td>\n",
       "      <td>NaN</td>\n",
       "      <td>NaN</td>\n",
       "      <td>NaN</td>\n",
       "      <td>NaN</td>\n",
       "      <td>NaN</td>\n",
       "      <td>NaN</td>\n",
       "      <td>NaN</td>\n",
       "      <td>NaN</td>\n",
       "      <td>NaN</td>\n",
       "    </tr>\n",
       "    <tr>\n",
       "      <th>17</th>\n",
       "      <td>NaN</td>\n",
       "      <td>NaN</td>\n",
       "      <td>NaN</td>\n",
       "      <td>NaN</td>\n",
       "      <td>NaN</td>\n",
       "      <td>74995</td>\n",
       "      <td>NaN</td>\n",
       "      <td>NaN</td>\n",
       "      <td>NaN</td>\n",
       "      <td>NaN</td>\n",
       "      <td>NaN</td>\n",
       "      <td>NaN</td>\n",
       "      <td>NaN</td>\n",
       "      <td>NaN</td>\n",
       "      <td>NaN</td>\n",
       "    </tr>\n",
       "  </tbody>\n",
       "</table>\n",
       "</div>"
      ],
      "text/plain": [
       "      Make      Model   Type Origin DriveTrain   MSRP  Invoice  EngineSize  \\\n",
       "0   Toyota   C240 4dr  Sedan   Asia      Front  13270  14207.0         3.0   \n",
       "1      NaN   C320 4dr    NaN    NaN        NaN  15389  19638.0         NaN   \n",
       "2      NaN    G35 4dr    NaN    NaN        NaN  19635  68306.0         NaN   \n",
       "3      NaN        NaN    NaN    NaN        NaN  19860      NaN         NaN   \n",
       "4      NaN        NaN    NaN    NaN        NaN  21055      NaN         NaN   \n",
       "5      NaN        NaN    NaN    NaN        NaN  21595      NaN         NaN   \n",
       "6      NaN        NaN    NaN    NaN        NaN  23495      NaN         NaN   \n",
       "7      NaN        NaN    NaN    NaN        NaN  23895      NaN         NaN   \n",
       "8      NaN        NaN    NaN    NaN        NaN  25700      NaN         NaN   \n",
       "9      NaN        NaN    NaN    NaN        NaN  27490      NaN         NaN   \n",
       "10     NaN        NaN    NaN    NaN        NaN  28495      NaN         NaN   \n",
       "11     NaN        NaN    NaN    NaN        NaN  29995      NaN         NaN   \n",
       "12     NaN        NaN    NaN    NaN        NaN  31545      NaN         NaN   \n",
       "13     NaN        NaN    NaN    NaN        NaN  33995      NaN         NaN   \n",
       "14     NaN        NaN    NaN    NaN        NaN  34495      NaN         NaN   \n",
       "15     NaN        NaN    NaN    NaN        NaN  35940      NaN         NaN   \n",
       "16     NaN        NaN    NaN    NaN        NaN  49995      NaN         NaN   \n",
       "17     NaN        NaN    NaN    NaN        NaN  74995      NaN         NaN   \n",
       "\n",
       "    Cylinders  Horsepower  MPG_City  MPG_Highway  Weight  Wheelbase  Length  \n",
       "0         6.0       200.0      18.0         26.0  3175.0      107.0   178.0  \n",
       "1         NaN         NaN       NaN          NaN  3285.0        NaN     NaN  \n",
       "2         NaN         NaN       NaN          NaN  3450.0        NaN     NaN  \n",
       "3         NaN         NaN       NaN          NaN     NaN        NaN     NaN  \n",
       "4         NaN         NaN       NaN          NaN     NaN        NaN     NaN  \n",
       "5         NaN         NaN       NaN          NaN     NaN        NaN     NaN  \n",
       "6         NaN         NaN       NaN          NaN     NaN        NaN     NaN  \n",
       "7         NaN         NaN       NaN          NaN     NaN        NaN     NaN  \n",
       "8         NaN         NaN       NaN          NaN     NaN        NaN     NaN  \n",
       "9         NaN         NaN       NaN          NaN     NaN        NaN     NaN  \n",
       "10        NaN         NaN       NaN          NaN     NaN        NaN     NaN  \n",
       "11        NaN         NaN       NaN          NaN     NaN        NaN     NaN  \n",
       "12        NaN         NaN       NaN          NaN     NaN        NaN     NaN  \n",
       "13        NaN         NaN       NaN          NaN     NaN        NaN     NaN  \n",
       "14        NaN         NaN       NaN          NaN     NaN        NaN     NaN  \n",
       "15        NaN         NaN       NaN          NaN     NaN        NaN     NaN  \n",
       "16        NaN         NaN       NaN          NaN     NaN        NaN     NaN  \n",
       "17        NaN         NaN       NaN          NaN     NaN        NaN     NaN  "
      ]
     },
     "execution_count": 27,
     "metadata": {},
     "output_type": "execute_result"
    }
   ],
   "source": [
    "cars.mode(axis=0,numeric_only=False,dropna=True)"
   ]
  },
  {
   "cell_type": "code",
   "execution_count": null,
   "id": "dd6b799a",
   "metadata": {},
   "outputs": [
    {
     "name": "stderr",
     "output_type": "stream",
     "text": [
      "C:\\Users\\hp\\AppData\\Local\\Temp\\ipykernel_1376\\1809561256.py:1: UserWarning: Unable to sort modes: '<' not supported between instances of 'int' and 'str'\n",
      "  cars.mode(axis='columns',numeric_only=False,dropna=True)\n"
     ]
    },
    {
     "data": {
      "application/vnd.microsoft.datawrangler.viewer.v0+json": {
       "columns": [
        {
         "name": "index",
         "rawType": "int64",
         "type": "integer"
        },
        {
         "name": "0",
         "rawType": "object",
         "type": "unknown"
        },
        {
         "name": "1",
         "rawType": "object",
         "type": "unknown"
        },
        {
         "name": "2",
         "rawType": "object",
         "type": "unknown"
        },
        {
         "name": "3",
         "rawType": "object",
         "type": "unknown"
        },
        {
         "name": "4",
         "rawType": "object",
         "type": "unknown"
        },
        {
         "name": "5",
         "rawType": "float64",
         "type": "float"
        },
        {
         "name": "6",
         "rawType": "float64",
         "type": "float"
        },
        {
         "name": "7",
         "rawType": "float64",
         "type": "float"
        },
        {
         "name": "8",
         "rawType": "float64",
         "type": "float"
        },
        {
         "name": "9",
         "rawType": "float64",
         "type": "float"
        },
        {
         "name": "10",
         "rawType": "float64",
         "type": "float"
        },
        {
         "name": "11",
         "rawType": "float64",
         "type": "float"
        },
        {
         "name": "12",
         "rawType": "float64",
         "type": "float"
        },
        {
         "name": "13",
         "rawType": "float64",
         "type": "float"
        },
        {
         "name": "14",
         "rawType": "float64",
         "type": "float"
        }
       ],
       "ref": "c50c92cf-e7f5-4d99-8725-5f533fb0174a",
       "rows": [
        [
         "0",
         "Acura",
         " MDX",
         "SUV",
         "Asia",
         "All",
         "36945.0",
         "33337.0",
         "3.5",
         "6.0",
         "265.0",
         "17.0",
         "23.0",
         "4451.0",
         "106.0",
         "189.0"
        ],
        [
         "1",
         "Acura",
         " RSX Type S 2dr",
         "Sedan",
         "Asia",
         "Front",
         "23820.0",
         "21761.0",
         "2.0",
         "4.0",
         "200.0",
         "24.0",
         "31.0",
         "2778.0",
         "101.0",
         "172.0"
        ],
        [
         "2",
         "Acura",
         " TSX 4dr",
         "Sedan",
         "Asia",
         "Front",
         "26990.0",
         "24647.0",
         "2.4",
         "4.0",
         "200.0",
         "22.0",
         "29.0",
         "3230.0",
         "105.0",
         "183.0"
        ],
        [
         "3",
         "Acura",
         " TL 4dr",
         "Sedan",
         "Asia",
         "Front",
         "33195.0",
         "30299.0",
         "3.2",
         "6.0",
         "270.0",
         "20.0",
         "28.0",
         "3575.0",
         "108.0",
         "186.0"
        ],
        [
         "4",
         "Acura",
         " 3.5 RL 4dr",
         "Sedan",
         "Asia",
         "Front",
         "43755.0",
         "39014.0",
         "3.5",
         "6.0",
         "225.0",
         "18.0",
         "24.0",
         "3880.0",
         "115.0",
         "197.0"
        ],
        [
         "5",
         "Acura",
         " 3.5 RL w/Navigation 4dr",
         "Sedan",
         "Asia",
         "Front",
         "46100.0",
         "41100.0",
         "3.5",
         "6.0",
         "225.0",
         "18.0",
         "24.0",
         "3893.0",
         "115.0",
         "197.0"
        ],
        [
         "6",
         "Acura",
         " NSX coupe 2dr manual S",
         "Sports",
         "Asia",
         "Rear",
         "89765.0",
         "79978.0",
         "3.2",
         "6.0",
         "290.0",
         "17.0",
         "24.0",
         "3153.0",
         "100.0",
         "174.0"
        ],
        [
         "7",
         "Audi",
         " A4 1.8T 4dr",
         "Sedan",
         "Europe",
         "Front",
         "25940.0",
         "23508.0",
         "1.8",
         "4.0",
         "170.0",
         "22.0",
         "31.0",
         "3252.0",
         "104.0",
         "179.0"
        ],
        [
         "8",
         "Audi",
         " A41.8T convertible 2dr",
         "Sedan",
         "Europe",
         "Front",
         "35940.0",
         "32506.0",
         "1.8",
         "4.0",
         "170.0",
         "23.0",
         "30.0",
         "3638.0",
         "105.0",
         "180.0"
        ],
        [
         "9",
         "Audi",
         " A4 3.0 4dr",
         "Sedan",
         "Europe",
         "Front",
         "31840.0",
         "28846.0",
         "3.0",
         "6.0",
         "220.0",
         "20.0",
         "28.0",
         "3462.0",
         "104.0",
         "179.0"
        ],
        [
         "10",
         "Audi",
         " A4 3.0 Quattro 4dr manual",
         "Sedan",
         "Europe",
         "All",
         "33430.0",
         "30366.0",
         "3.0",
         "6.0",
         "220.0",
         "17.0",
         "26.0",
         "3583.0",
         "104.0",
         "179.0"
        ],
        [
         "11",
         "Audi",
         " A4 3.0 Quattro 4dr auto",
         "Sedan",
         "Europe",
         "All",
         "34480.0",
         "31388.0",
         "3.0",
         "6.0",
         "220.0",
         "18.0",
         "25.0",
         "3627.0",
         "104.0",
         "179.0"
        ],
        [
         "12",
         "Audi",
         " A6 3.0 4dr",
         "Sedan",
         "Europe",
         "Front",
         "36640.0",
         "33129.0",
         "3.0",
         "6.0",
         "220.0",
         "20.0",
         "27.0",
         "3561.0",
         "109.0",
         "192.0"
        ],
        [
         "13",
         "Audi",
         " A6 3.0 Quattro 4dr",
         "Sedan",
         "Europe",
         "All",
         "39640.0",
         "35992.0",
         "3.0",
         "6.0",
         "220.0",
         "18.0",
         "25.0",
         "3880.0",
         "109.0",
         "192.0"
        ],
        [
         "14",
         "Audi",
         " A4 3.0 convertible 2dr",
         "Sedan",
         "Europe",
         "Front",
         "42490.0",
         "38325.0",
         "3.0",
         "6.0",
         "220.0",
         "20.0",
         "27.0",
         "3814.0",
         "105.0",
         "180.0"
        ],
        [
         "15",
         "Audi",
         " A4 3.0 Quattro convertible 2dr",
         "Sedan",
         "Europe",
         "All",
         "44240.0",
         "40075.0",
         "3.0",
         "6.0",
         "220.0",
         "18.0",
         "25.0",
         "4013.0",
         "105.0",
         "180.0"
        ],
        [
         "16",
         "Audi",
         " A6 2.7 Turbo Quattro 4dr",
         "Sedan",
         "Europe",
         "All",
         "42840.0",
         "38840.0",
         "2.7",
         "6.0",
         "250.0",
         "18.0",
         "25.0",
         "3836.0",
         "109.0",
         "192.0"
        ],
        [
         "17",
         "Audi",
         " A6 4.2 Quattro 4dr",
         "Sedan",
         "Europe",
         "All",
         "49690.0",
         "44936.0",
         "4.2",
         "8.0",
         "300.0",
         "17.0",
         "24.0",
         "4024.0",
         "109.0",
         "193.0"
        ],
        [
         "18",
         "Audi",
         " A8 L Quattro 4dr",
         "Sedan",
         "Europe",
         "All",
         "69190.0",
         "64740.0",
         "4.2",
         "8.0",
         "330.0",
         "17.0",
         "24.0",
         "4399.0",
         "121.0",
         "204.0"
        ],
        [
         "19",
         "Audi",
         " S4 Quattro 4dr",
         "Sedan",
         "Europe",
         "All",
         "48040.0",
         "43556.0",
         "4.2",
         "8.0",
         "340.0",
         "14.0",
         "20.0",
         "3825.0",
         "104.0",
         "179.0"
        ],
        [
         "20",
         "Audi",
         " RS 6 4dr",
         "Sports",
         "Europe",
         "Front",
         "84600.0",
         "76417.0",
         "4.2",
         "8.0",
         "450.0",
         "15.0",
         "22.0",
         "4024.0",
         "109.0",
         "191.0"
        ],
        [
         "21",
         "Audi",
         " TT 1.8 convertible 2dr (coupe)",
         "Sports",
         "Europe",
         "Front",
         "35940.0",
         "32512.0",
         "1.8",
         "4.0",
         "180.0",
         "20.0",
         "28.0",
         "3131.0",
         "95.0",
         "159.0"
        ],
        [
         "22",
         "Audi",
         " TT 1.8 Quattro 2dr (convertible)",
         "Sports",
         "Europe",
         "All",
         "37390.0",
         "33891.0",
         "1.8",
         "4.0",
         "225.0",
         "20.0",
         "28.0",
         "2921.0",
         "96.0",
         "159.0"
        ],
        [
         "23",
         "Audi",
         " TT 3.2 coupe 2dr (convertible)",
         "Sports",
         "Europe",
         "All",
         "40590.0",
         "36739.0",
         "3.2",
         "6.0",
         "250.0",
         "21.0",
         "29.0",
         "3351.0",
         "96.0",
         "159.0"
        ],
        [
         "24",
         "Audi",
         " A6 3.0 Avant Quattro",
         "Wagon",
         "Europe",
         "All",
         "40840.0",
         "37060.0",
         "3.0",
         "6.0",
         "220.0",
         "18.0",
         "25.0",
         "4035.0",
         "109.0",
         "192.0"
        ],
        [
         "25",
         "Audi",
         " S4 Avant Quattro",
         "Wagon",
         "Europe",
         "All",
         "49090.0",
         "44446.0",
         "4.2",
         "8.0",
         "340.0",
         "15.0",
         "21.0",
         "3936.0",
         "104.0",
         "179.0"
        ],
        [
         "26",
         "BMW",
         " X3 3.0i",
         "SUV",
         "Europe",
         "All",
         "37000.0",
         "33873.0",
         "3.0",
         "6.0",
         "225.0",
         "16.0",
         "23.0",
         "4023.0",
         "110.0",
         "180.0"
        ],
        [
         "27",
         "BMW",
         " X5 4.4i",
         "SUV",
         "Europe",
         "All",
         "52195.0",
         "47720.0",
         "4.4",
         "8.0",
         "325.0",
         "16.0",
         "22.0",
         "4824.0",
         "111.0",
         "184.0"
        ],
        [
         "28",
         "BMW",
         " 325i 4dr",
         "Sedan",
         "Europe",
         "Rear",
         "28495.0",
         "26155.0",
         "2.5",
         "6.0",
         "184.0",
         "20.0",
         "29.0",
         "3219.0",
         "107.0",
         "176.0"
        ],
        [
         "29",
         "BMW",
         " 325Ci 2dr",
         "Sedan",
         "Europe",
         "Rear",
         "30795.0",
         "28245.0",
         "2.5",
         "6.0",
         "184.0",
         "20.0",
         "29.0",
         "3197.0",
         "107.0",
         "177.0"
        ],
        [
         "30",
         "BMW",
         " 325Ci convertible 2dr",
         "Sedan",
         "Europe",
         "Rear",
         "37995.0",
         "34800.0",
         "2.5",
         "6.0",
         "184.0",
         "19.0",
         "27.0",
         "3560.0",
         "107.0",
         "177.0"
        ],
        [
         "31",
         "BMW",
         " 325xi 4dr",
         "Sedan",
         "Europe",
         "All",
         "30245.0",
         "27745.0",
         "2.5",
         "6.0",
         "184.0",
         "19.0",
         "27.0",
         "3461.0",
         "107.0",
         "176.0"
        ],
        [
         "32",
         "BMW",
         " 330i 4dr",
         "Sedan",
         "Europe",
         "Rear",
         "35495.0",
         "32525.0",
         "3.0",
         "6.0",
         "225.0",
         "20.0",
         "30.0",
         "3285.0",
         "107.0",
         "176.0"
        ],
        [
         "33",
         "BMW",
         " 330Ci 2dr",
         "Sedan",
         "Europe",
         "Rear",
         "36995.0",
         "33890.0",
         "3.0",
         "6.0",
         "225.0",
         "20.0",
         "30.0",
         "3285.0",
         "107.0",
         "176.0"
        ],
        [
         "34",
         "BMW",
         " 330xi 4dr",
         "Sedan",
         "Europe",
         "All",
         "37245.0",
         "34115.0",
         "3.0",
         "6.0",
         "225.0",
         "20.0",
         "29.0",
         "3483.0",
         "107.0",
         "176.0"
        ],
        [
         "35",
         "BMW",
         " 525i 4dr",
         "Sedan",
         "Europe",
         "Rear",
         "39995.0",
         "36620.0",
         "2.5",
         "6.0",
         "184.0",
         "19.0",
         "28.0",
         "3428.0",
         "114.0",
         "191.0"
        ],
        [
         "36",
         "BMW",
         " 330Ci convertible 2dr",
         "Sedan",
         "Europe",
         "Rear",
         "44295.0",
         "40530.0",
         "3.0",
         "6.0",
         "225.0",
         "19.0",
         "28.0",
         "3616.0",
         "107.0",
         "177.0"
        ],
        [
         "37",
         "BMW",
         " 530i 4dr",
         "Sedan",
         "Europe",
         "Rear",
         "44995.0",
         "41170.0",
         "3.0",
         "6.0",
         "225.0",
         "20.0",
         "30.0",
         "3472.0",
         "114.0",
         "191.0"
        ],
        [
         "38",
         "BMW",
         " 545iA 4dr",
         "Sedan",
         "Europe",
         "Rear",
         "54995.0",
         "50270.0",
         "4.4",
         "8.0",
         "325.0",
         "18.0",
         "26.0",
         "3814.0",
         "114.0",
         "191.0"
        ],
        [
         "39",
         "BMW",
         " 745i 4dr",
         "Sedan",
         "Europe",
         "Rear",
         "69195.0",
         "63190.0",
         "4.4",
         "8.0",
         "325.0",
         "18.0",
         "26.0",
         "4376.0",
         "118.0",
         "198.0"
        ],
        [
         "40",
         "BMW",
         " 745Li 4dr",
         "Sedan",
         "Europe",
         "Rear",
         "73195.0",
         "66830.0",
         "4.4",
         "8.0",
         "325.0",
         "18.0",
         "26.0",
         "4464.0",
         "123.0",
         "204.0"
        ],
        [
         "41",
         "BMW",
         " M3 coupe 2dr",
         "Sports",
         "Europe",
         "Rear",
         "48195.0",
         "44170.0",
         "3.2",
         "6.0",
         "333.0",
         "16.0",
         "24.0",
         "3415.0",
         "108.0",
         "177.0"
        ],
        [
         "42",
         "BMW",
         " M3 convertible 2dr",
         "Sports",
         "Europe",
         "Rear",
         "56595.0",
         "51815.0",
         "3.2",
         "6.0",
         "333.0",
         "16.0",
         "23.0",
         "3781.0",
         "108.0",
         "177.0"
        ],
        [
         "43",
         "BMW",
         " Z4 convertible 2.5i 2dr",
         "Sports",
         "Europe",
         "Rear",
         "33895.0",
         "31065.0",
         "2.5",
         "6.0",
         "184.0",
         "20.0",
         "28.0",
         "2932.0",
         "98.0",
         "161.0"
        ],
        [
         "44",
         "BMW",
         " Z4 convertible 3.0i 2dr",
         "Sports",
         "Europe",
         "Rear",
         "41045.0",
         "37575.0",
         "3.0",
         "6.0",
         "225.0",
         "21.0",
         "29.0",
         "2998.0",
         "98.0",
         "161.0"
        ],
        [
         "45",
         "BMW",
         " 325xi Sport",
         "Wagon",
         "Europe",
         "All",
         "32845.0",
         "30110.0",
         "2.5",
         "6.0",
         "184.0",
         "19.0",
         "26.0",
         "3594.0",
         "107.0",
         "176.0"
        ],
        [
         "46",
         "Buick",
         " Rainier",
         "SUV",
         "USA",
         "All",
         "37895.0",
         "34357.0",
         "4.2",
         "6.0",
         "275.0",
         "15.0",
         "21.0",
         "4600.0",
         "113.0",
         "193.0"
        ],
        [
         "47",
         "Buick",
         " Rendezvous CX",
         "SUV",
         "USA",
         "Front",
         "26545.0",
         "24085.0",
         "3.4",
         "6.0",
         "185.0",
         "19.0",
         "26.0",
         "4024.0",
         "112.0",
         "187.0"
        ],
        [
         "48",
         "Buick",
         " Century Custom 4dr",
         "Sedan",
         "USA",
         "Front",
         "22180.0",
         "20351.0",
         "3.1",
         "6.0",
         "175.0",
         "20.0",
         "30.0",
         "3353.0",
         "109.0",
         "195.0"
        ],
        [
         "49",
         "Buick",
         " LeSabre Custom 4dr",
         "Sedan",
         "USA",
         "Front",
         "26470.0",
         "24282.0",
         "3.8",
         "6.0",
         "205.0",
         "20.0",
         "29.0",
         "3567.0",
         "112.0",
         "200.0"
        ]
       ],
       "shape": {
        "columns": 15,
        "rows": 428
       }
      },
      "text/html": [
       "<div>\n",
       "<style scoped>\n",
       "    .dataframe tbody tr th:only-of-type {\n",
       "        vertical-align: middle;\n",
       "    }\n",
       "\n",
       "    .dataframe tbody tr th {\n",
       "        vertical-align: top;\n",
       "    }\n",
       "\n",
       "    .dataframe thead th {\n",
       "        text-align: right;\n",
       "    }\n",
       "</style>\n",
       "<table border=\"1\" class=\"dataframe\">\n",
       "  <thead>\n",
       "    <tr style=\"text-align: right;\">\n",
       "      <th></th>\n",
       "      <th>0</th>\n",
       "      <th>1</th>\n",
       "      <th>2</th>\n",
       "      <th>3</th>\n",
       "      <th>4</th>\n",
       "      <th>5</th>\n",
       "      <th>6</th>\n",
       "      <th>7</th>\n",
       "      <th>8</th>\n",
       "      <th>9</th>\n",
       "      <th>10</th>\n",
       "      <th>11</th>\n",
       "      <th>12</th>\n",
       "      <th>13</th>\n",
       "      <th>14</th>\n",
       "    </tr>\n",
       "  </thead>\n",
       "  <tbody>\n",
       "    <tr>\n",
       "      <th>0</th>\n",
       "      <td>Acura</td>\n",
       "      <td>MDX</td>\n",
       "      <td>SUV</td>\n",
       "      <td>Asia</td>\n",
       "      <td>All</td>\n",
       "      <td>36945.0</td>\n",
       "      <td>33337.0</td>\n",
       "      <td>3.5</td>\n",
       "      <td>6.0</td>\n",
       "      <td>265.0</td>\n",
       "      <td>17.0</td>\n",
       "      <td>23.0</td>\n",
       "      <td>4451.0</td>\n",
       "      <td>106.0</td>\n",
       "      <td>189.0</td>\n",
       "    </tr>\n",
       "    <tr>\n",
       "      <th>1</th>\n",
       "      <td>Acura</td>\n",
       "      <td>RSX Type S 2dr</td>\n",
       "      <td>Sedan</td>\n",
       "      <td>Asia</td>\n",
       "      <td>Front</td>\n",
       "      <td>23820.0</td>\n",
       "      <td>21761.0</td>\n",
       "      <td>2.0</td>\n",
       "      <td>4.0</td>\n",
       "      <td>200.0</td>\n",
       "      <td>24.0</td>\n",
       "      <td>31.0</td>\n",
       "      <td>2778.0</td>\n",
       "      <td>101.0</td>\n",
       "      <td>172.0</td>\n",
       "    </tr>\n",
       "    <tr>\n",
       "      <th>2</th>\n",
       "      <td>Acura</td>\n",
       "      <td>TSX 4dr</td>\n",
       "      <td>Sedan</td>\n",
       "      <td>Asia</td>\n",
       "      <td>Front</td>\n",
       "      <td>26990.0</td>\n",
       "      <td>24647.0</td>\n",
       "      <td>2.4</td>\n",
       "      <td>4.0</td>\n",
       "      <td>200.0</td>\n",
       "      <td>22.0</td>\n",
       "      <td>29.0</td>\n",
       "      <td>3230.0</td>\n",
       "      <td>105.0</td>\n",
       "      <td>183.0</td>\n",
       "    </tr>\n",
       "    <tr>\n",
       "      <th>3</th>\n",
       "      <td>Acura</td>\n",
       "      <td>TL 4dr</td>\n",
       "      <td>Sedan</td>\n",
       "      <td>Asia</td>\n",
       "      <td>Front</td>\n",
       "      <td>33195.0</td>\n",
       "      <td>30299.0</td>\n",
       "      <td>3.2</td>\n",
       "      <td>6.0</td>\n",
       "      <td>270.0</td>\n",
       "      <td>20.0</td>\n",
       "      <td>28.0</td>\n",
       "      <td>3575.0</td>\n",
       "      <td>108.0</td>\n",
       "      <td>186.0</td>\n",
       "    </tr>\n",
       "    <tr>\n",
       "      <th>4</th>\n",
       "      <td>Acura</td>\n",
       "      <td>3.5 RL 4dr</td>\n",
       "      <td>Sedan</td>\n",
       "      <td>Asia</td>\n",
       "      <td>Front</td>\n",
       "      <td>43755.0</td>\n",
       "      <td>39014.0</td>\n",
       "      <td>3.5</td>\n",
       "      <td>6.0</td>\n",
       "      <td>225.0</td>\n",
       "      <td>18.0</td>\n",
       "      <td>24.0</td>\n",
       "      <td>3880.0</td>\n",
       "      <td>115.0</td>\n",
       "      <td>197.0</td>\n",
       "    </tr>\n",
       "    <tr>\n",
       "      <th>...</th>\n",
       "      <td>...</td>\n",
       "      <td>...</td>\n",
       "      <td>...</td>\n",
       "      <td>...</td>\n",
       "      <td>...</td>\n",
       "      <td>...</td>\n",
       "      <td>...</td>\n",
       "      <td>...</td>\n",
       "      <td>...</td>\n",
       "      <td>...</td>\n",
       "      <td>...</td>\n",
       "      <td>...</td>\n",
       "      <td>...</td>\n",
       "      <td>...</td>\n",
       "      <td>...</td>\n",
       "    </tr>\n",
       "    <tr>\n",
       "      <th>423</th>\n",
       "      <td>Volvo</td>\n",
       "      <td>C70 LPT convertible 2dr</td>\n",
       "      <td>Sedan</td>\n",
       "      <td>Europe</td>\n",
       "      <td>Front</td>\n",
       "      <td>40565.0</td>\n",
       "      <td>38203.0</td>\n",
       "      <td>2.4</td>\n",
       "      <td>5.0</td>\n",
       "      <td>197.0</td>\n",
       "      <td>21.0</td>\n",
       "      <td>28.0</td>\n",
       "      <td>3450.0</td>\n",
       "      <td>105.0</td>\n",
       "      <td>186.0</td>\n",
       "    </tr>\n",
       "    <tr>\n",
       "      <th>424</th>\n",
       "      <td>Volvo</td>\n",
       "      <td>C70 HPT convertible 2dr</td>\n",
       "      <td>Sedan</td>\n",
       "      <td>Europe</td>\n",
       "      <td>Front</td>\n",
       "      <td>42565.0</td>\n",
       "      <td>40083.0</td>\n",
       "      <td>2.3</td>\n",
       "      <td>5.0</td>\n",
       "      <td>242.0</td>\n",
       "      <td>20.0</td>\n",
       "      <td>26.0</td>\n",
       "      <td>3450.0</td>\n",
       "      <td>105.0</td>\n",
       "      <td>186.0</td>\n",
       "    </tr>\n",
       "    <tr>\n",
       "      <th>425</th>\n",
       "      <td>Volvo</td>\n",
       "      <td>S80 T6 4dr</td>\n",
       "      <td>Sedan</td>\n",
       "      <td>Europe</td>\n",
       "      <td>Front</td>\n",
       "      <td>45210.0</td>\n",
       "      <td>42573.0</td>\n",
       "      <td>2.9</td>\n",
       "      <td>6.0</td>\n",
       "      <td>268.0</td>\n",
       "      <td>19.0</td>\n",
       "      <td>26.0</td>\n",
       "      <td>3653.0</td>\n",
       "      <td>110.0</td>\n",
       "      <td>190.0</td>\n",
       "    </tr>\n",
       "    <tr>\n",
       "      <th>426</th>\n",
       "      <td>Volvo</td>\n",
       "      <td>V40</td>\n",
       "      <td>Wagon</td>\n",
       "      <td>Europe</td>\n",
       "      <td>Front</td>\n",
       "      <td>26135.0</td>\n",
       "      <td>24641.0</td>\n",
       "      <td>1.9</td>\n",
       "      <td>4.0</td>\n",
       "      <td>170.0</td>\n",
       "      <td>22.0</td>\n",
       "      <td>29.0</td>\n",
       "      <td>2822.0</td>\n",
       "      <td>101.0</td>\n",
       "      <td>180.0</td>\n",
       "    </tr>\n",
       "    <tr>\n",
       "      <th>427</th>\n",
       "      <td>Volvo</td>\n",
       "      <td>XC70</td>\n",
       "      <td>Wagon</td>\n",
       "      <td>Europe</td>\n",
       "      <td>All</td>\n",
       "      <td>35145.0</td>\n",
       "      <td>33112.0</td>\n",
       "      <td>2.5</td>\n",
       "      <td>5.0</td>\n",
       "      <td>208.0</td>\n",
       "      <td>20.0</td>\n",
       "      <td>27.0</td>\n",
       "      <td>3823.0</td>\n",
       "      <td>109.0</td>\n",
       "      <td>186.0</td>\n",
       "    </tr>\n",
       "  </tbody>\n",
       "</table>\n",
       "<p>428 rows × 15 columns</p>\n",
       "</div>"
      ],
      "text/plain": [
       "        0                         1      2       3      4        5        6   \\\n",
       "0    Acura                       MDX    SUV    Asia    All  36945.0  33337.0   \n",
       "1    Acura            RSX Type S 2dr  Sedan    Asia  Front  23820.0  21761.0   \n",
       "2    Acura                   TSX 4dr  Sedan    Asia  Front  26990.0  24647.0   \n",
       "3    Acura                    TL 4dr  Sedan    Asia  Front  33195.0  30299.0   \n",
       "4    Acura                3.5 RL 4dr  Sedan    Asia  Front  43755.0  39014.0   \n",
       "..     ...                       ...    ...     ...    ...      ...      ...   \n",
       "423  Volvo   C70 LPT convertible 2dr  Sedan  Europe  Front  40565.0  38203.0   \n",
       "424  Volvo   C70 HPT convertible 2dr  Sedan  Europe  Front  42565.0  40083.0   \n",
       "425  Volvo                S80 T6 4dr  Sedan  Europe  Front  45210.0  42573.0   \n",
       "426  Volvo                       V40  Wagon  Europe  Front  26135.0  24641.0   \n",
       "427  Volvo                      XC70  Wagon  Europe    All  35145.0  33112.0   \n",
       "\n",
       "      7    8      9     10    11      12     13     14  \n",
       "0    3.5  6.0  265.0  17.0  23.0  4451.0  106.0  189.0  \n",
       "1    2.0  4.0  200.0  24.0  31.0  2778.0  101.0  172.0  \n",
       "2    2.4  4.0  200.0  22.0  29.0  3230.0  105.0  183.0  \n",
       "3    3.2  6.0  270.0  20.0  28.0  3575.0  108.0  186.0  \n",
       "4    3.5  6.0  225.0  18.0  24.0  3880.0  115.0  197.0  \n",
       "..   ...  ...    ...   ...   ...     ...    ...    ...  \n",
       "423  2.4  5.0  197.0  21.0  28.0  3450.0  105.0  186.0  \n",
       "424  2.3  5.0  242.0  20.0  26.0  3450.0  105.0  186.0  \n",
       "425  2.9  6.0  268.0  19.0  26.0  3653.0  110.0  190.0  \n",
       "426  1.9  4.0  170.0  22.0  29.0  2822.0  101.0  180.0  \n",
       "427  2.5  5.0  208.0  20.0  27.0  3823.0  109.0  186.0  \n",
       "\n",
       "[428 rows x 15 columns]"
      ]
     },
     "execution_count": 28,
     "metadata": {},
     "output_type": "execute_result"
    }
   ],
   "source": [
    "cars.mode(axis='columns',numeric_only=False,dropna=True)"
   ]
  },
  {
   "cell_type": "code",
   "execution_count": null,
   "id": "d8f7de3f",
   "metadata": {},
   "outputs": [
    {
     "data": {
      "application/vnd.microsoft.datawrangler.viewer.v0+json": {
       "columns": [
        {
         "name": "index",
         "rawType": "int64",
         "type": "integer"
        },
        {
         "name": "EngineSize",
         "rawType": "float64",
         "type": "float"
        }
       ],
       "ref": "6cf227d2-7e2a-4cbb-ad45-63bc865f276a",
       "rows": [
        [
         "0",
         "3.0"
        ]
       ],
       "shape": {
        "columns": 1,
        "rows": 1
       }
      },
      "text/plain": [
       "0    3.0\n",
       "Name: EngineSize, dtype: float64"
      ]
     },
     "execution_count": 30,
     "metadata": {},
     "output_type": "execute_result"
    }
   ],
   "source": [
    "mode = cars['EngineSize'].mode()\n",
    "mode"
   ]
  },
  {
   "cell_type": "code",
   "execution_count": null,
   "id": "8152a724",
   "metadata": {},
   "outputs": [
    {
     "data": {
      "text/plain": [
       "np.float64(3.0)"
      ]
     },
     "execution_count": 31,
     "metadata": {},
     "output_type": "execute_result"
    }
   ],
   "source": [
    "mode = cars['EngineSize'].mode()[0]\n",
    "mode"
   ]
  },
  {
   "cell_type": "code",
   "execution_count": null,
   "id": "a0d6bbfb",
   "metadata": {},
   "outputs": [
    {
     "data": {
      "application/vnd.microsoft.datawrangler.viewer.v0+json": {
       "columns": [
        {
         "name": "index",
         "rawType": "object",
         "type": "string"
        },
        {
         "name": "0",
         "rawType": "float64",
         "type": "float"
        }
       ],
       "ref": "d40e7260-f59d-45df-8287-a37d2ec6c103",
       "rows": [
        [
         "MSRP",
         "10280.0"
        ],
        [
         "Invoice",
         "9875.0"
        ],
        [
         "EngineSize",
         "1.3"
        ],
        [
         "Cylinders",
         "3.0"
        ],
        [
         "Horsepower",
         "73.0"
        ],
        [
         "MPG_City",
         "10.0"
        ],
        [
         "MPG_Highway",
         "12.0"
        ],
        [
         "Weight",
         "1850.0"
        ],
        [
         "Wheelbase",
         "89.0"
        ],
        [
         "Length",
         "143.0"
        ]
       ],
       "shape": {
        "columns": 1,
        "rows": 10
       }
      },
      "text/plain": [
       "MSRP           10280.0\n",
       "Invoice         9875.0\n",
       "EngineSize         1.3\n",
       "Cylinders          3.0\n",
       "Horsepower        73.0\n",
       "MPG_City          10.0\n",
       "MPG_Highway       12.0\n",
       "Weight          1850.0\n",
       "Wheelbase         89.0\n",
       "Length           143.0\n",
       "dtype: float64"
      ]
     },
     "execution_count": 32,
     "metadata": {},
     "output_type": "execute_result"
    }
   ],
   "source": [
    "cars.min(axis=0,numeric_only=True)"
   ]
  },
  {
   "cell_type": "code",
   "execution_count": null,
   "id": "5ce4fc5d",
   "metadata": {},
   "outputs": [
    {
     "data": {
      "application/vnd.microsoft.datawrangler.viewer.v0+json": {
       "columns": [
        {
         "name": "index",
         "rawType": "object",
         "type": "string"
        },
        {
         "name": "0",
         "rawType": "float64",
         "type": "float"
        }
       ],
       "ref": "60838b03-3538-4de7-ab31-52ba3ea490a8",
       "rows": [
        [
         "MSRP",
         "192465.0"
        ],
        [
         "Invoice",
         "173560.0"
        ],
        [
         "EngineSize",
         "8.3"
        ],
        [
         "Cylinders",
         "12.0"
        ],
        [
         "Horsepower",
         "500.0"
        ],
        [
         "MPG_City",
         "60.0"
        ],
        [
         "MPG_Highway",
         "66.0"
        ],
        [
         "Weight",
         "7190.0"
        ],
        [
         "Wheelbase",
         "144.0"
        ],
        [
         "Length",
         "238.0"
        ]
       ],
       "shape": {
        "columns": 1,
        "rows": 10
       }
      },
      "text/plain": [
       "MSRP           192465.0\n",
       "Invoice        173560.0\n",
       "EngineSize          8.3\n",
       "Cylinders          12.0\n",
       "Horsepower        500.0\n",
       "MPG_City           60.0\n",
       "MPG_Highway        66.0\n",
       "Weight           7190.0\n",
       "Wheelbase         144.0\n",
       "Length            238.0\n",
       "dtype: float64"
      ]
     },
     "execution_count": 33,
     "metadata": {},
     "output_type": "execute_result"
    }
   ],
   "source": [
    "cars.max(axis=0,numeric_only=True)"
   ]
  },
  {
   "cell_type": "markdown",
   "id": "5a7018e3",
   "metadata": {},
   "source": [
    "# MSRP"
   ]
  },
  {
   "cell_type": "code",
   "execution_count": null,
   "id": "91be3350",
   "metadata": {},
   "outputs": [
    {
     "data": {
      "application/vnd.microsoft.datawrangler.viewer.v0+json": {
       "columns": [
        {
         "name": "index",
         "rawType": "object",
         "type": "string"
        },
        {
         "name": "MSRP",
         "rawType": "float64",
         "type": "float"
        }
       ],
       "ref": "d61f90e3-97eb-42f5-b787-c90b02d24d4e",
       "rows": [
        [
         "count",
         "428.0"
        ],
        [
         "mean",
         "32774.85514018692"
        ],
        [
         "std",
         "19431.716673717518"
        ],
        [
         "min",
         "10280.0"
        ],
        [
         "25%",
         "20334.25"
        ],
        [
         "50%",
         "27635.0"
        ],
        [
         "75%",
         "39205.0"
        ],
        [
         "max",
         "192465.0"
        ]
       ],
       "shape": {
        "columns": 1,
        "rows": 8
       }
      },
      "text/plain": [
       "count       428.000000\n",
       "mean      32774.855140\n",
       "std       19431.716674\n",
       "min       10280.000000\n",
       "25%       20334.250000\n",
       "50%       27635.000000\n",
       "75%       39205.000000\n",
       "max      192465.000000\n",
       "Name: MSRP, dtype: float64"
      ]
     },
     "execution_count": 34,
     "metadata": {},
     "output_type": "execute_result"
    }
   ],
   "source": [
    "cars['MSRP'].describe()"
   ]
  },
  {
   "cell_type": "markdown",
   "id": "97c1ab70",
   "metadata": {},
   "source": [
    "# Handle Outliers"
   ]
  },
  {
   "cell_type": "code",
   "execution_count": 29,
   "id": "42da2141",
   "metadata": {},
   "outputs": [
    {
     "data": {
      "image/png": "[encoded data removed]",
      "text/plain": [
       "<Figure size 600x400 with 1 Axes>"
      ]
     },
     "metadata": {},
     "output_type": "display_data"
    }
   ],
   "source": [
    "plt.figure(figsize=(6, 4))\n",
    "plt.boxplot(cars['MSRP'])\n",
    "plt.title('Box and Whisker Plot ')\n",
    "plt.xlabel('MSRP')\n",
    "plt.show()"
   ]
  },
  {
   "cell_type": "code",
   "execution_count": null,
   "id": "c9d85292-3efb-4df0-aac1-54618adff37f",
   "metadata": {},
   "outputs": [],
   "source": []
  },
  {
   "cell_type": "code",
   "execution_count": null,
   "id": "d739e164",
   "metadata": {},
   "outputs": [
    {
     "data": {
      "image/png": "[encoded data removed]",
      "text/plain": [
       "<Figure size 640x480 with 1 Axes>"
      ]
     },
     "metadata": {},
     "output_type": "display_data"
    }
   ],
   "source": [
    "sns.boxplot(x='Origin', y='Invoice', data=cars)\n",
    "plt.title('Box-and-Whisker Plot by Group', fontsize=14)\n",
    "plt.show()"
   ]
  },
  {
   "cell_type": "code",
   "execution_count": null,
   "id": "ebc1b0b9",
   "metadata": {},
   "outputs": [
    {
     "name": "stderr",
     "output_type": "stream",
     "text": [
      "C:\\Users\\hp\\AppData\\Local\\Temp\\ipykernel_1376\\1166509147.py:2: FutureWarning: \n",
      "\n",
      "Passing `palette` without assigning `hue` is deprecated and will be removed in v0.14.0. Assign the `x` variable to `hue` and set `legend=False` for the same effect.\n",
      "\n",
      "  sns.boxplot(x='Origin', y='Invoice', data=cars, palette='coolwarm')\n"
     ]
    },
    {
     "data": {
      "image/png": "[encoded data removed]",
      "text/plain": [
       "<Figure size 800x500 with 1 Axes>"
      ]
     },
     "metadata": {},
     "output_type": "display_data"
    }
   ],
   "source": [
    "plt.figure(figsize=(8, 5))\n",
    "sns.boxplot(x='Origin', y='Invoice', data=cars, palette='coolwarm')\n",
    "plt.title('Box-and-Whisker Plot by Group', fontsize=14)\n",
    "plt.xlabel('Origin', fontsize=12)\n",
    "plt.ylabel('Invoice', fontsize=12)\n",
    "plt.show()"
   ]
  },
  {
   "cell_type": "markdown",
   "id": "e7d91c98",
   "metadata": {},
   "source": [
    "# Histogram"
   ]
  },
  {
   "cell_type": "code",
   "execution_count": 31,
   "id": "437d65d3",
   "metadata": {},
   "outputs": [
    {
     "data": {
      "image/png": "[encoded data removed]",
      "text/plain": [
       "<Figure size 640x480 with 1 Axes>"
      ]
     },
     "metadata": {},
     "output_type": "display_data"
    }
   ],
   "source": [
    "plt.hist(cars['EngineSize'], bins=10, color='green', edgecolor='black')\n",
    "plt.title('Histogram of Engine Size')\n",
    "plt.xlabel('Engine Size')\n",
    "plt.ylabel('Frequency')\n",
    "plt.show()"
   ]
  },
  {
   "cell_type": "code",
   "execution_count": null,
   "id": "ec6cf8eb",
   "metadata": {},
   "outputs": [
    {
     "data": {
      "image/png": "[encoded data removed]",
      "text/plain": [
       "<Figure size 640x480 with 1 Axes>"
      ]
     },
     "metadata": {},
     "output_type": "display_data"
    }
   ],
   "source": [
    "plt.hist(cars['Weight'])\n",
    "plt.show()"
   ]
  },
  {
   "cell_type": "code",
   "execution_count": null,
   "id": "1f0b98e0",
   "metadata": {},
   "outputs": [
    {
     "data": {
      "image/png": "[encoded data removed]",
      "text/plain": [
       "<Figure size 700x500 with 1 Axes>"
      ]
     },
     "metadata": {},
     "output_type": "display_data"
    }
   ],
   "source": [
    "\n",
    " plt.figure(figsize=(7,5))\n",
    " plt.hist(cars['Weight'], bins=15, color='skyblue', edgecolor='black')\n",
    " plt.title(\"Distribution of Car Weights\", fontsize=14)\n",
    " plt.xlabel(\"Weight (lbs)\", fontsize=12)\n",
    " plt.ylabel(\"Number of Cars\", fontsize=12)\n",
    " plt.show()"
   ]
  },
  {
   "cell_type": "code",
   "execution_count": 35,
   "id": "4c71aa6a",
   "metadata": {},
   "outputs": [],
   "source": [
    "import scipy.stats as stats"
   ]
  },
  {
   "cell_type": "code",
   "execution_count": 36,
   "id": "7cd58b1a",
   "metadata": {},
   "outputs": [
    {
     "data": {
      "text/html": [
       "<div>\n",
       "<style scoped>\n",
       "    .dataframe tbody tr th:only-of-type {\n",
       "        vertical-align: middle;\n",
       "    }\n",
       "\n",
       "    .dataframe tbody tr th {\n",
       "        vertical-align: top;\n",
       "    }\n",
       "\n",
       "    .dataframe thead th {\n",
       "        text-align: right;\n",
       "    }\n",
       "</style>\n",
       "<table border=\"1\" class=\"dataframe\">\n",
       "  <thead>\n",
       "    <tr style=\"text-align: right;\">\n",
       "      <th></th>\n",
       "      <th>MSRP</th>\n",
       "      <th>Invoice</th>\n",
       "      <th>EngineSize</th>\n",
       "      <th>Cylinders</th>\n",
       "      <th>Horsepower</th>\n",
       "      <th>MPG_City</th>\n",
       "      <th>MPG_Highway</th>\n",
       "      <th>Weight</th>\n",
       "      <th>Wheelbase</th>\n",
       "      <th>Length</th>\n",
       "    </tr>\n",
       "  </thead>\n",
       "  <tbody>\n",
       "    <tr>\n",
       "      <th>0</th>\n",
       "      <td>36945</td>\n",
       "      <td>33337</td>\n",
       "      <td>3.5</td>\n",
       "      <td>6.0</td>\n",
       "      <td>265</td>\n",
       "      <td>17</td>\n",
       "      <td>23</td>\n",
       "      <td>4451</td>\n",
       "      <td>106</td>\n",
       "      <td>189</td>\n",
       "    </tr>\n",
       "    <tr>\n",
       "      <th>1</th>\n",
       "      <td>23820</td>\n",
       "      <td>21761</td>\n",
       "      <td>2.0</td>\n",
       "      <td>4.0</td>\n",
       "      <td>200</td>\n",
       "      <td>24</td>\n",
       "      <td>31</td>\n",
       "      <td>2778</td>\n",
       "      <td>101</td>\n",
       "      <td>172</td>\n",
       "    </tr>\n",
       "    <tr>\n",
       "      <th>2</th>\n",
       "      <td>26990</td>\n",
       "      <td>24647</td>\n",
       "      <td>2.4</td>\n",
       "      <td>4.0</td>\n",
       "      <td>200</td>\n",
       "      <td>22</td>\n",
       "      <td>29</td>\n",
       "      <td>3230</td>\n",
       "      <td>105</td>\n",
       "      <td>183</td>\n",
       "    </tr>\n",
       "    <tr>\n",
       "      <th>3</th>\n",
       "      <td>33195</td>\n",
       "      <td>30299</td>\n",
       "      <td>3.2</td>\n",
       "      <td>6.0</td>\n",
       "      <td>270</td>\n",
       "      <td>20</td>\n",
       "      <td>28</td>\n",
       "      <td>3575</td>\n",
       "      <td>108</td>\n",
       "      <td>186</td>\n",
       "    </tr>\n",
       "    <tr>\n",
       "      <th>4</th>\n",
       "      <td>43755</td>\n",
       "      <td>39014</td>\n",
       "      <td>3.5</td>\n",
       "      <td>6.0</td>\n",
       "      <td>225</td>\n",
       "      <td>18</td>\n",
       "      <td>24</td>\n",
       "      <td>3880</td>\n",
       "      <td>115</td>\n",
       "      <td>197</td>\n",
       "    </tr>\n",
       "    <tr>\n",
       "      <th>...</th>\n",
       "      <td>...</td>\n",
       "      <td>...</td>\n",
       "      <td>...</td>\n",
       "      <td>...</td>\n",
       "      <td>...</td>\n",
       "      <td>...</td>\n",
       "      <td>...</td>\n",
       "      <td>...</td>\n",
       "      <td>...</td>\n",
       "      <td>...</td>\n",
       "    </tr>\n",
       "    <tr>\n",
       "      <th>423</th>\n",
       "      <td>40565</td>\n",
       "      <td>38203</td>\n",
       "      <td>2.4</td>\n",
       "      <td>5.0</td>\n",
       "      <td>197</td>\n",
       "      <td>21</td>\n",
       "      <td>28</td>\n",
       "      <td>3450</td>\n",
       "      <td>105</td>\n",
       "      <td>186</td>\n",
       "    </tr>\n",
       "    <tr>\n",
       "      <th>424</th>\n",
       "      <td>42565</td>\n",
       "      <td>40083</td>\n",
       "      <td>2.3</td>\n",
       "      <td>5.0</td>\n",
       "      <td>242</td>\n",
       "      <td>20</td>\n",
       "      <td>26</td>\n",
       "      <td>3450</td>\n",
       "      <td>105</td>\n",
       "      <td>186</td>\n",
       "    </tr>\n",
       "    <tr>\n",
       "      <th>425</th>\n",
       "      <td>45210</td>\n",
       "      <td>42573</td>\n",
       "      <td>2.9</td>\n",
       "      <td>6.0</td>\n",
       "      <td>268</td>\n",
       "      <td>19</td>\n",
       "      <td>26</td>\n",
       "      <td>3653</td>\n",
       "      <td>110</td>\n",
       "      <td>190</td>\n",
       "    </tr>\n",
       "    <tr>\n",
       "      <th>426</th>\n",
       "      <td>26135</td>\n",
       "      <td>24641</td>\n",
       "      <td>1.9</td>\n",
       "      <td>4.0</td>\n",
       "      <td>170</td>\n",
       "      <td>22</td>\n",
       "      <td>29</td>\n",
       "      <td>2822</td>\n",
       "      <td>101</td>\n",
       "      <td>180</td>\n",
       "    </tr>\n",
       "    <tr>\n",
       "      <th>427</th>\n",
       "      <td>35145</td>\n",
       "      <td>33112</td>\n",
       "      <td>2.5</td>\n",
       "      <td>5.0</td>\n",
       "      <td>208</td>\n",
       "      <td>20</td>\n",
       "      <td>27</td>\n",
       "      <td>3823</td>\n",
       "      <td>109</td>\n",
       "      <td>186</td>\n",
       "    </tr>\n",
       "  </tbody>\n",
       "</table>\n",
       "<p>424 rows × 10 columns</p>\n",
       "</div>"
      ],
      "text/plain": [
       "      MSRP  Invoice  EngineSize  Cylinders  Horsepower  MPG_City  MPG_Highway  \\\n",
       "0    36945    33337         3.5        6.0         265        17           23   \n",
       "1    23820    21761         2.0        4.0         200        24           31   \n",
       "2    26990    24647         2.4        4.0         200        22           29   \n",
       "3    33195    30299         3.2        6.0         270        20           28   \n",
       "4    43755    39014         3.5        6.0         225        18           24   \n",
       "..     ...      ...         ...        ...         ...       ...          ...   \n",
       "423  40565    38203         2.4        5.0         197        21           28   \n",
       "424  42565    40083         2.3        5.0         242        20           26   \n",
       "425  45210    42573         2.9        6.0         268        19           26   \n",
       "426  26135    24641         1.9        4.0         170        22           29   \n",
       "427  35145    33112         2.5        5.0         208        20           27   \n",
       "\n",
       "     Weight  Wheelbase  Length  \n",
       "0      4451        106     189  \n",
       "1      2778        101     172  \n",
       "2      3230        105     183  \n",
       "3      3575        108     186  \n",
       "4      3880        115     197  \n",
       "..      ...        ...     ...  \n",
       "423    3450        105     186  \n",
       "424    3450        105     186  \n",
       "425    3653        110     190  \n",
       "426    2822        101     180  \n",
       "427    3823        109     186  \n",
       "\n",
       "[424 rows x 10 columns]"
      ]
     },
     "execution_count": 36,
     "metadata": {},
     "output_type": "execute_result"
    }
   ],
   "source": [
    "numeric_data = cars.select_dtypes(include=['number'])\n",
    "numeric_data"
   ]
  },
  {
   "cell_type": "markdown",
   "id": "04bc54c9-aaf4-4f88-a0eb-62a9b52f64bf",
   "metadata": {},
   "source": [
    "# Feature Engineering"
   ]
  },
  {
   "cell_type": "code",
   "execution_count": 43,
   "id": "60bd8ab7-1db3-47d7-a562-f32ca110188f",
   "metadata": {},
   "outputs": [],
   "source": [
    "# Add price difference \n",
    "cars['Price_Difference'] = cars['MSRP'] - cars['Invoice']\n"
   ]
  },
  {
   "cell_type": "code",
   "execution_count": 44,
   "id": "6f3f6266-a128-40b8-ad84-f177c89ff062",
   "metadata": {},
   "outputs": [],
   "source": [
    "# Fuel efficiency ratio\n",
    "cars['Efficiency_Ratio'] = cars['MPG_Highway'] / cars['MPG_City']"
   ]
  },
  {
   "cell_type": "code",
   "execution_count": 45,
   "id": "89ae9eb4-2c70-4073-bdf0-849f070f587d",
   "metadata": {},
   "outputs": [],
   "source": [
    "# Horsepower category\n",
    "cars['HP_Category'] = pd.cut(cars['Horsepower'], \n",
    "                             bins=[0,150,300,500], \n",
    "                             labels=['Low','Medium','High'])"
   ]
  },
  {
   "cell_type": "code",
   "execution_count": 47,
   "id": "377de689-cd37-4123-8447-0021579fa7b3",
   "metadata": {},
   "outputs": [
    {
     "data": {
      "image/png": "[encoded data removed]",
      "text/plain": [
       "<Figure size 640x480 with 1 Axes>"
      ]
     },
     "metadata": {},
     "output_type": "display_data"
    }
   ],
   "source": [
    "sns.boxplot(x=cars['MSRP'])\n",
    "plt.title(\"MSRP After Cleaning\")\n",
    "plt.show()\n"
   ]
  },
  {
   "cell_type": "markdown",
   "id": "11d66c9b-ec41-41bf-ab22-2da2fee8e302",
   "metadata": {},
   "source": [
    "# Data Visualization"
   ]
  },
  {
   "cell_type": "markdown",
   "id": "08a07c30",
   "metadata": {},
   "source": [
    "# Z_Score "
   ]
  },
  {
   "cell_type": "code",
   "execution_count": 37,
   "id": "f2d7784e",
   "metadata": {},
   "outputs": [
    {
     "data": {
      "text/html": [
       "<div>\n",
       "<style scoped>\n",
       "    .dataframe tbody tr th:only-of-type {\n",
       "        vertical-align: middle;\n",
       "    }\n",
       "\n",
       "    .dataframe tbody tr th {\n",
       "        vertical-align: top;\n",
       "    }\n",
       "\n",
       "    .dataframe thead th {\n",
       "        text-align: right;\n",
       "    }\n",
       "</style>\n",
       "<table border=\"1\" class=\"dataframe\">\n",
       "  <thead>\n",
       "    <tr style=\"text-align: right;\">\n",
       "      <th></th>\n",
       "      <th>MSRP</th>\n",
       "      <th>Invoice</th>\n",
       "      <th>EngineSize</th>\n",
       "      <th>Cylinders</th>\n",
       "      <th>Horsepower</th>\n",
       "      <th>MPG_City</th>\n",
       "      <th>MPG_Highway</th>\n",
       "      <th>Weight</th>\n",
       "      <th>Wheelbase</th>\n",
       "      <th>Length</th>\n",
       "    </tr>\n",
       "  </thead>\n",
       "  <tbody>\n",
       "    <tr>\n",
       "      <th>0</th>\n",
       "      <td>0.323966</td>\n",
       "      <td>0.294773</td>\n",
       "      <td>0.292658</td>\n",
       "      <td>0.151240</td>\n",
       "      <td>0.771754</td>\n",
       "      <td>-0.596438</td>\n",
       "      <td>-0.681119</td>\n",
       "      <td>1.157401</td>\n",
       "      <td>-0.266606</td>\n",
       "      <td>0.180721</td>\n",
       "    </tr>\n",
       "    <tr>\n",
       "      <th>1</th>\n",
       "      <td>-0.493156</td>\n",
       "      <td>-0.503249</td>\n",
       "      <td>-1.076956</td>\n",
       "      <td>-1.184712</td>\n",
       "      <td>-0.198704</td>\n",
       "      <td>0.743629</td>\n",
       "      <td>0.715710</td>\n",
       "      <td>-1.048842</td>\n",
       "      <td>-0.869811</td>\n",
       "      <td>-1.001346</td>\n",
       "    </tr>\n",
       "    <tr>\n",
       "      <th>2</th>\n",
       "      <td>-0.295801</td>\n",
       "      <td>-0.304295</td>\n",
       "      <td>-0.711726</td>\n",
       "      <td>-1.184712</td>\n",
       "      <td>-0.198704</td>\n",
       "      <td>0.360753</td>\n",
       "      <td>0.366503</td>\n",
       "      <td>-0.452774</td>\n",
       "      <td>-0.387247</td>\n",
       "      <td>-0.236479</td>\n",
       "    </tr>\n",
       "    <tr>\n",
       "      <th>3</th>\n",
       "      <td>0.090503</td>\n",
       "      <td>0.085341</td>\n",
       "      <td>0.018735</td>\n",
       "      <td>0.151240</td>\n",
       "      <td>0.846404</td>\n",
       "      <td>-0.022124</td>\n",
       "      <td>0.191899</td>\n",
       "      <td>0.002190</td>\n",
       "      <td>-0.025323</td>\n",
       "      <td>-0.027879</td>\n",
       "    </tr>\n",
       "    <tr>\n",
       "      <th>4</th>\n",
       "      <td>0.747936</td>\n",
       "      <td>0.686132</td>\n",
       "      <td>0.292658</td>\n",
       "      <td>0.151240</td>\n",
       "      <td>0.174549</td>\n",
       "      <td>-0.405000</td>\n",
       "      <td>-0.506515</td>\n",
       "      <td>0.404404</td>\n",
       "      <td>0.819165</td>\n",
       "      <td>0.736988</td>\n",
       "    </tr>\n",
       "    <tr>\n",
       "      <th>...</th>\n",
       "      <td>...</td>\n",
       "      <td>...</td>\n",
       "      <td>...</td>\n",
       "      <td>...</td>\n",
       "      <td>...</td>\n",
       "      <td>...</td>\n",
       "      <td>...</td>\n",
       "      <td>...</td>\n",
       "      <td>...</td>\n",
       "      <td>...</td>\n",
       "    </tr>\n",
       "    <tr>\n",
       "      <th>423</th>\n",
       "      <td>0.549336</td>\n",
       "      <td>0.630224</td>\n",
       "      <td>-0.711726</td>\n",
       "      <td>-0.516736</td>\n",
       "      <td>-0.243495</td>\n",
       "      <td>0.169314</td>\n",
       "      <td>0.191899</td>\n",
       "      <td>-0.162652</td>\n",
       "      <td>-0.387247</td>\n",
       "      <td>-0.027879</td>\n",
       "    </tr>\n",
       "    <tr>\n",
       "      <th>424</th>\n",
       "      <td>0.673850</td>\n",
       "      <td>0.759827</td>\n",
       "      <td>-0.803033</td>\n",
       "      <td>-0.516736</td>\n",
       "      <td>0.428361</td>\n",
       "      <td>-0.022124</td>\n",
       "      <td>-0.157308</td>\n",
       "      <td>-0.162652</td>\n",
       "      <td>-0.387247</td>\n",
       "      <td>-0.027879</td>\n",
       "    </tr>\n",
       "    <tr>\n",
       "      <th>425</th>\n",
       "      <td>0.838519</td>\n",
       "      <td>0.931481</td>\n",
       "      <td>-0.255188</td>\n",
       "      <td>0.151240</td>\n",
       "      <td>0.816544</td>\n",
       "      <td>-0.213562</td>\n",
       "      <td>-0.157308</td>\n",
       "      <td>0.105051</td>\n",
       "      <td>0.215959</td>\n",
       "      <td>0.250255</td>\n",
       "    </tr>\n",
       "    <tr>\n",
       "      <th>426</th>\n",
       "      <td>-0.349031</td>\n",
       "      <td>-0.304709</td>\n",
       "      <td>-1.168264</td>\n",
       "      <td>-1.184712</td>\n",
       "      <td>-0.646608</td>\n",
       "      <td>0.360753</td>\n",
       "      <td>0.366503</td>\n",
       "      <td>-0.990817</td>\n",
       "      <td>-0.869811</td>\n",
       "      <td>-0.445079</td>\n",
       "    </tr>\n",
       "    <tr>\n",
       "      <th>427</th>\n",
       "      <td>0.211904</td>\n",
       "      <td>0.279262</td>\n",
       "      <td>-0.620418</td>\n",
       "      <td>-0.516736</td>\n",
       "      <td>-0.079263</td>\n",
       "      <td>-0.022124</td>\n",
       "      <td>0.017296</td>\n",
       "      <td>0.329236</td>\n",
       "      <td>0.095318</td>\n",
       "      <td>-0.027879</td>\n",
       "    </tr>\n",
       "  </tbody>\n",
       "</table>\n",
       "<p>424 rows × 10 columns</p>\n",
       "</div>"
      ],
      "text/plain": [
       "         MSRP   Invoice  EngineSize  Cylinders  Horsepower  MPG_City  \\\n",
       "0    0.323966  0.294773    0.292658   0.151240    0.771754 -0.596438   \n",
       "1   -0.493156 -0.503249   -1.076956  -1.184712   -0.198704  0.743629   \n",
       "2   -0.295801 -0.304295   -0.711726  -1.184712   -0.198704  0.360753   \n",
       "3    0.090503  0.085341    0.018735   0.151240    0.846404 -0.022124   \n",
       "4    0.747936  0.686132    0.292658   0.151240    0.174549 -0.405000   \n",
       "..        ...       ...         ...        ...         ...       ...   \n",
       "423  0.549336  0.630224   -0.711726  -0.516736   -0.243495  0.169314   \n",
       "424  0.673850  0.759827   -0.803033  -0.516736    0.428361 -0.022124   \n",
       "425  0.838519  0.931481   -0.255188   0.151240    0.816544 -0.213562   \n",
       "426 -0.349031 -0.304709   -1.168264  -1.184712   -0.646608  0.360753   \n",
       "427  0.211904  0.279262   -0.620418  -0.516736   -0.079263 -0.022124   \n",
       "\n",
       "     MPG_Highway    Weight  Wheelbase    Length  \n",
       "0      -0.681119  1.157401  -0.266606  0.180721  \n",
       "1       0.715710 -1.048842  -0.869811 -1.001346  \n",
       "2       0.366503 -0.452774  -0.387247 -0.236479  \n",
       "3       0.191899  0.002190  -0.025323 -0.027879  \n",
       "4      -0.506515  0.404404   0.819165  0.736988  \n",
       "..           ...       ...        ...       ...  \n",
       "423     0.191899 -0.162652  -0.387247 -0.027879  \n",
       "424    -0.157308 -0.162652  -0.387247 -0.027879  \n",
       "425    -0.157308  0.105051   0.215959  0.250255  \n",
       "426     0.366503 -0.990817  -0.869811 -0.445079  \n",
       "427     0.017296  0.329236   0.095318 -0.027879  \n",
       "\n",
       "[424 rows x 10 columns]"
      ]
     },
     "execution_count": 37,
     "metadata": {},
     "output_type": "execute_result"
    }
   ],
   "source": [
    "z_df = numeric_data.apply(stats.zscore)\n",
    "z_df"
   ]
  },
  {
   "cell_type": "code",
   "execution_count": 22,
   "id": "d61657c5",
   "metadata": {},
   "outputs": [
    {
     "data": {
      "application/vnd.microsoft.datawrangler.viewer.v0+json": {
       "columns": [
        {
         "name": "index",
         "rawType": "object",
         "type": "string"
        },
        {
         "name": "count",
         "rawType": "float64",
         "type": "float"
        },
        {
         "name": "mean",
         "rawType": "float64",
         "type": "float"
        },
        {
         "name": "std",
         "rawType": "float64",
         "type": "float"
        },
        {
         "name": "min",
         "rawType": "float64",
         "type": "float"
        },
        {
         "name": "25%",
         "rawType": "float64",
         "type": "float"
        },
        {
         "name": "50%",
         "rawType": "float64",
         "type": "float"
        },
        {
         "name": "75%",
         "rawType": "float64",
         "type": "float"
        },
        {
         "name": "max",
         "rawType": "float64",
         "type": "float"
        }
       ],
       "ref": "b23da99a-a1e6-4953-8e6a-033184dd94d0",
       "rows": [
        [
         "MSRP",
         "428.0",
         "-0.0",
         "1.0",
         "-1.16",
         "-0.64",
         "-0.26",
         "0.33",
         "8.23"
        ],
        [
         "Invoice",
         "428.0",
         "0.0",
         "1.0",
         "-1.14",
         "-0.63",
         "-0.27",
         "0.32",
         "8.15"
        ],
        [
         "EngineSize",
         "428.0",
         "0.0",
         "1.0",
         "-1.71",
         "-0.74",
         "-0.18",
         "0.64",
         "4.61"
        ],
        [
         "Cylinders",
         "0.0",
         null,
         null,
         null,
         null,
         null,
         null,
         null
        ],
        [
         "Horsepower",
         "428.0",
         "-0.0",
         "1.0",
         "-1.99",
         "-0.71",
         "-0.08",
         "0.55",
         "3.96"
        ],
        [
         "MPG_City",
         "428.0",
         "-0.0",
         "1.0",
         "-1.92",
         "-0.58",
         "-0.2",
         "0.23",
         "7.63"
        ],
        [
         "MPG_Highway",
         "428.0",
         "-0.0",
         "1.0",
         "-2.59",
         "-0.5",
         "-0.15",
         "0.38",
         "6.83"
        ],
        [
         "Weight",
         "428.0",
         "0.0",
         "1.0",
         "-2.28",
         "-0.63",
         "-0.14",
         "0.53",
         "4.76"
        ],
        [
         "Wheelbase",
         "428.0",
         "-0.0",
         "1.0",
         "-2.31",
         "-0.62",
         "-0.14",
         "0.46",
         "4.32"
        ],
        [
         "Length",
         "428.0",
         "0.0",
         "1.0",
         "-3.02",
         "-0.58",
         "0.04",
         "0.53",
         "3.6"
        ]
       ],
       "shape": {
        "columns": 8,
        "rows": 10
       }
      },
      "text/html": [
       "<div>\n",
       "<style scoped>\n",
       "    .dataframe tbody tr th:only-of-type {\n",
       "        vertical-align: middle;\n",
       "    }\n",
       "\n",
       "    .dataframe tbody tr th {\n",
       "        vertical-align: top;\n",
       "    }\n",
       "\n",
       "    .dataframe thead th {\n",
       "        text-align: right;\n",
       "    }\n",
       "</style>\n",
       "<table border=\"1\" class=\"dataframe\">\n",
       "  <thead>\n",
       "    <tr style=\"text-align: right;\">\n",
       "      <th></th>\n",
       "      <th>count</th>\n",
       "      <th>mean</th>\n",
       "      <th>std</th>\n",
       "      <th>min</th>\n",
       "      <th>25%</th>\n",
       "      <th>50%</th>\n",
       "      <th>75%</th>\n",
       "      <th>max</th>\n",
       "    </tr>\n",
       "  </thead>\n",
       "  <tbody>\n",
       "    <tr>\n",
       "      <th>MSRP</th>\n",
       "      <td>428.0</td>\n",
       "      <td>-0.0</td>\n",
       "      <td>1.0</td>\n",
       "      <td>-1.16</td>\n",
       "      <td>-0.64</td>\n",
       "      <td>-0.26</td>\n",
       "      <td>0.33</td>\n",
       "      <td>8.23</td>\n",
       "    </tr>\n",
       "    <tr>\n",
       "      <th>Invoice</th>\n",
       "      <td>428.0</td>\n",
       "      <td>0.0</td>\n",
       "      <td>1.0</td>\n",
       "      <td>-1.14</td>\n",
       "      <td>-0.63</td>\n",
       "      <td>-0.27</td>\n",
       "      <td>0.32</td>\n",
       "      <td>8.15</td>\n",
       "    </tr>\n",
       "    <tr>\n",
       "      <th>EngineSize</th>\n",
       "      <td>428.0</td>\n",
       "      <td>0.0</td>\n",
       "      <td>1.0</td>\n",
       "      <td>-1.71</td>\n",
       "      <td>-0.74</td>\n",
       "      <td>-0.18</td>\n",
       "      <td>0.64</td>\n",
       "      <td>4.61</td>\n",
       "    </tr>\n",
       "    <tr>\n",
       "      <th>Cylinders</th>\n",
       "      <td>0.0</td>\n",
       "      <td>NaN</td>\n",
       "      <td>NaN</td>\n",
       "      <td>NaN</td>\n",
       "      <td>NaN</td>\n",
       "      <td>NaN</td>\n",
       "      <td>NaN</td>\n",
       "      <td>NaN</td>\n",
       "    </tr>\n",
       "    <tr>\n",
       "      <th>Horsepower</th>\n",
       "      <td>428.0</td>\n",
       "      <td>-0.0</td>\n",
       "      <td>1.0</td>\n",
       "      <td>-1.99</td>\n",
       "      <td>-0.71</td>\n",
       "      <td>-0.08</td>\n",
       "      <td>0.55</td>\n",
       "      <td>3.96</td>\n",
       "    </tr>\n",
       "    <tr>\n",
       "      <th>MPG_City</th>\n",
       "      <td>428.0</td>\n",
       "      <td>-0.0</td>\n",
       "      <td>1.0</td>\n",
       "      <td>-1.92</td>\n",
       "      <td>-0.58</td>\n",
       "      <td>-0.20</td>\n",
       "      <td>0.23</td>\n",
       "      <td>7.63</td>\n",
       "    </tr>\n",
       "    <tr>\n",
       "      <th>MPG_Highway</th>\n",
       "      <td>428.0</td>\n",
       "      <td>-0.0</td>\n",
       "      <td>1.0</td>\n",
       "      <td>-2.59</td>\n",
       "      <td>-0.50</td>\n",
       "      <td>-0.15</td>\n",
       "      <td>0.38</td>\n",
       "      <td>6.83</td>\n",
       "    </tr>\n",
       "    <tr>\n",
       "      <th>Weight</th>\n",
       "      <td>428.0</td>\n",
       "      <td>0.0</td>\n",
       "      <td>1.0</td>\n",
       "      <td>-2.28</td>\n",
       "      <td>-0.63</td>\n",
       "      <td>-0.14</td>\n",
       "      <td>0.53</td>\n",
       "      <td>4.76</td>\n",
       "    </tr>\n",
       "    <tr>\n",
       "      <th>Wheelbase</th>\n",
       "      <td>428.0</td>\n",
       "      <td>-0.0</td>\n",
       "      <td>1.0</td>\n",
       "      <td>-2.31</td>\n",
       "      <td>-0.62</td>\n",
       "      <td>-0.14</td>\n",
       "      <td>0.46</td>\n",
       "      <td>4.32</td>\n",
       "    </tr>\n",
       "    <tr>\n",
       "      <th>Length</th>\n",
       "      <td>428.0</td>\n",
       "      <td>0.0</td>\n",
       "      <td>1.0</td>\n",
       "      <td>-3.02</td>\n",
       "      <td>-0.58</td>\n",
       "      <td>0.04</td>\n",
       "      <td>0.53</td>\n",
       "      <td>3.60</td>\n",
       "    </tr>\n",
       "  </tbody>\n",
       "</table>\n",
       "</div>"
      ],
      "text/plain": [
       "             count  mean  std   min   25%   50%   75%   max\n",
       "MSRP         428.0  -0.0  1.0 -1.16 -0.64 -0.26  0.33  8.23\n",
       "Invoice      428.0   0.0  1.0 -1.14 -0.63 -0.27  0.32  8.15\n",
       "EngineSize   428.0   0.0  1.0 -1.71 -0.74 -0.18  0.64  4.61\n",
       "Cylinders      0.0   NaN  NaN   NaN   NaN   NaN   NaN   NaN\n",
       "Horsepower   428.0  -0.0  1.0 -1.99 -0.71 -0.08  0.55  3.96\n",
       "MPG_City     428.0  -0.0  1.0 -1.92 -0.58 -0.20  0.23  7.63\n",
       "MPG_Highway  428.0  -0.0  1.0 -2.59 -0.50 -0.15  0.38  6.83\n",
       "Weight       428.0   0.0  1.0 -2.28 -0.63 -0.14  0.53  4.76\n",
       "Wheelbase    428.0  -0.0  1.0 -2.31 -0.62 -0.14  0.46  4.32\n",
       "Length       428.0   0.0  1.0 -3.02 -0.58  0.04  0.53  3.60"
      ]
     },
     "execution_count": 22,
     "metadata": {},
     "output_type": "execute_result"
    }
   ],
   "source": [
    "z_df .describe().round(2).T"
   ]
  },
  {
   "cell_type": "code",
   "execution_count": 40,
   "id": "462ef37a",
   "metadata": {},
   "outputs": [
    {
     "data": {
      "image/png": "[encoded data removed]",
      "text/plain": [
       "<Figure size 640x480 with 1 Axes>"
      ]
     },
     "metadata": {},
     "output_type": "display_data"
    }
   ],
   "source": [
    "plt.hist(z_df['Weight'], bins=10, color='gray', edgecolor='black')\n",
    "plt.title('Histogram of Z-scores for Weight')\n",
    "plt.xlabel('Z-score') \n",
    "plt.ylabel('Frequency')\n",
    "plt.show()\n"
   ]
  },
  {
   "cell_type": "code",
   "execution_count": 41,
   "id": "10dcddb4",
   "metadata": {},
   "outputs": [
    {
     "data": {
      "image/png": "[encoded data removed]",
      "text/plain": [
       "<Figure size 640x480 with 1 Axes>"
      ]
     },
     "metadata": {},
     "output_type": "display_data"
    }
   ],
   "source": [
    "plt.hist(z_df['Weight'], bins=10, color='lightblue', edgecolor='black')\n",
    "plt.title('Histogram of Z-scores for Weight')\n",
    "plt.xlabel('Z-score') \n",
    "plt.ylabel('Frequency')\n",
    "plt.axvline(0, color='red', linestyle='dashed', linewidth=1)\n",
    "plt.show()"
   ]
  },
  {
   "cell_type": "code",
   "execution_count": 29,
   "id": "61c0e061",
   "metadata": {},
   "outputs": [],
   "source": [
    "from scipy.stats import skew, kurtosis\n"
   ]
  },
  {
   "cell_type": "code",
   "execution_count": 32,
   "id": "fd263008",
   "metadata": {},
   "outputs": [
    {
     "data": {
      "application/vnd.microsoft.datawrangler.viewer.v0+json": {
       "columns": [
        {
         "name": "index",
         "rawType": "int64",
         "type": "integer"
        },
        {
         "name": "Make",
         "rawType": "object",
         "type": "string"
        },
        {
         "name": "Model",
         "rawType": "object",
         "type": "string"
        },
        {
         "name": "Type",
         "rawType": "object",
         "type": "string"
        },
        {
         "name": "Origin",
         "rawType": "object",
         "type": "string"
        },
        {
         "name": "DriveTrain",
         "rawType": "object",
         "type": "string"
        },
        {
         "name": "MSRP",
         "rawType": "int64",
         "type": "integer"
        },
        {
         "name": "Invoice",
         "rawType": "int64",
         "type": "integer"
        },
        {
         "name": "EngineSize",
         "rawType": "float64",
         "type": "float"
        },
        {
         "name": "Cylinders",
         "rawType": "float64",
         "type": "float"
        },
        {
         "name": "Horsepower",
         "rawType": "int64",
         "type": "integer"
        },
        {
         "name": "MPG_City",
         "rawType": "int64",
         "type": "integer"
        },
        {
         "name": "MPG_Highway",
         "rawType": "int64",
         "type": "integer"
        },
        {
         "name": "Weight",
         "rawType": "int64",
         "type": "integer"
        },
        {
         "name": "Wheelbase",
         "rawType": "int64",
         "type": "integer"
        },
        {
         "name": "Length",
         "rawType": "int64",
         "type": "integer"
        }
       ],
       "ref": "b19bd70c-64be-429a-a741-8f2a0ddd1b2c",
       "rows": [
        [
         "0",
         "Acura",
         " MDX",
         "SUV",
         "Asia",
         "All",
         "36945",
         "33337",
         "3.5",
         "6.0",
         "265",
         "17",
         "23",
         "4451",
         "106",
         "189"
        ],
        [
         "1",
         "Acura",
         " RSX Type S 2dr",
         "Sedan",
         "Asia",
         "Front",
         "23820",
         "21761",
         "2.0",
         "4.0",
         "200",
         "24",
         "31",
         "2778",
         "101",
         "172"
        ],
        [
         "2",
         "Acura",
         " TSX 4dr",
         "Sedan",
         "Asia",
         "Front",
         "26990",
         "24647",
         "2.4",
         "4.0",
         "200",
         "22",
         "29",
         "3230",
         "105",
         "183"
        ],
        [
         "3",
         "Acura",
         " TL 4dr",
         "Sedan",
         "Asia",
         "Front",
         "33195",
         "30299",
         "3.2",
         "6.0",
         "270",
         "20",
         "28",
         "3575",
         "108",
         "186"
        ],
        [
         "4",
         "Acura",
         " 3.5 RL 4dr",
         "Sedan",
         "Asia",
         "Front",
         "43755",
         "39014",
         "3.5",
         "6.0",
         "225",
         "18",
         "24",
         "3880",
         "115",
         "197"
        ],
        [
         "5",
         "Acura",
         " 3.5 RL w/Navigation 4dr",
         "Sedan",
         "Asia",
         "Front",
         "46100",
         "41100",
         "3.5",
         "6.0",
         "225",
         "18",
         "24",
         "3893",
         "115",
         "197"
        ],
        [
         "6",
         "Acura",
         " NSX coupe 2dr manual S",
         "Sports",
         "Asia",
         "Rear",
         "89765",
         "79978",
         "3.2",
         "6.0",
         "290",
         "17",
         "24",
         "3153",
         "100",
         "174"
        ],
        [
         "7",
         "Audi",
         " A4 1.8T 4dr",
         "Sedan",
         "Europe",
         "Front",
         "25940",
         "23508",
         "1.8",
         "4.0",
         "170",
         "22",
         "31",
         "3252",
         "104",
         "179"
        ],
        [
         "8",
         "Audi",
         " A41.8T convertible 2dr",
         "Sedan",
         "Europe",
         "Front",
         "35940",
         "32506",
         "1.8",
         "4.0",
         "170",
         "23",
         "30",
         "3638",
         "105",
         "180"
        ],
        [
         "9",
         "Audi",
         " A4 3.0 4dr",
         "Sedan",
         "Europe",
         "Front",
         "31840",
         "28846",
         "3.0",
         "6.0",
         "220",
         "20",
         "28",
         "3462",
         "104",
         "179"
        ],
        [
         "10",
         "Audi",
         " A4 3.0 Quattro 4dr manual",
         "Sedan",
         "Europe",
         "All",
         "33430",
         "30366",
         "3.0",
         "6.0",
         "220",
         "17",
         "26",
         "3583",
         "104",
         "179"
        ],
        [
         "11",
         "Audi",
         " A4 3.0 Quattro 4dr auto",
         "Sedan",
         "Europe",
         "All",
         "34480",
         "31388",
         "3.0",
         "6.0",
         "220",
         "18",
         "25",
         "3627",
         "104",
         "179"
        ],
        [
         "12",
         "Audi",
         " A6 3.0 4dr",
         "Sedan",
         "Europe",
         "Front",
         "36640",
         "33129",
         "3.0",
         "6.0",
         "220",
         "20",
         "27",
         "3561",
         "109",
         "192"
        ],
        [
         "13",
         "Audi",
         " A6 3.0 Quattro 4dr",
         "Sedan",
         "Europe",
         "All",
         "39640",
         "35992",
         "3.0",
         "6.0",
         "220",
         "18",
         "25",
         "3880",
         "109",
         "192"
        ],
        [
         "14",
         "Audi",
         " A4 3.0 convertible 2dr",
         "Sedan",
         "Europe",
         "Front",
         "42490",
         "38325",
         "3.0",
         "6.0",
         "220",
         "20",
         "27",
         "3814",
         "105",
         "180"
        ],
        [
         "15",
         "Audi",
         " A4 3.0 Quattro convertible 2dr",
         "Sedan",
         "Europe",
         "All",
         "44240",
         "40075",
         "3.0",
         "6.0",
         "220",
         "18",
         "25",
         "4013",
         "105",
         "180"
        ],
        [
         "16",
         "Audi",
         " A6 2.7 Turbo Quattro 4dr",
         "Sedan",
         "Europe",
         "All",
         "42840",
         "38840",
         "2.7",
         "6.0",
         "250",
         "18",
         "25",
         "3836",
         "109",
         "192"
        ],
        [
         "17",
         "Audi",
         " A6 4.2 Quattro 4dr",
         "Sedan",
         "Europe",
         "All",
         "49690",
         "44936",
         "4.2",
         "8.0",
         "300",
         "17",
         "24",
         "4024",
         "109",
         "193"
        ],
        [
         "18",
         "Audi",
         " A8 L Quattro 4dr",
         "Sedan",
         "Europe",
         "All",
         "69190",
         "64740",
         "4.2",
         "8.0",
         "330",
         "17",
         "24",
         "4399",
         "121",
         "204"
        ],
        [
         "19",
         "Audi",
         " S4 Quattro 4dr",
         "Sedan",
         "Europe",
         "All",
         "48040",
         "43556",
         "4.2",
         "8.0",
         "340",
         "14",
         "20",
         "3825",
         "104",
         "179"
        ],
        [
         "20",
         "Audi",
         " RS 6 4dr",
         "Sports",
         "Europe",
         "Front",
         "84600",
         "76417",
         "4.2",
         "8.0",
         "450",
         "15",
         "22",
         "4024",
         "109",
         "191"
        ],
        [
         "21",
         "Audi",
         " TT 1.8 convertible 2dr (coupe)",
         "Sports",
         "Europe",
         "Front",
         "35940",
         "32512",
         "1.8",
         "4.0",
         "180",
         "20",
         "28",
         "3131",
         "95",
         "159"
        ],
        [
         "22",
         "Audi",
         " TT 1.8 Quattro 2dr (convertible)",
         "Sports",
         "Europe",
         "All",
         "37390",
         "33891",
         "1.8",
         "4.0",
         "225",
         "20",
         "28",
         "2921",
         "96",
         "159"
        ],
        [
         "23",
         "Audi",
         " TT 3.2 coupe 2dr (convertible)",
         "Sports",
         "Europe",
         "All",
         "40590",
         "36739",
         "3.2",
         "6.0",
         "250",
         "21",
         "29",
         "3351",
         "96",
         "159"
        ],
        [
         "24",
         "Audi",
         " A6 3.0 Avant Quattro",
         "Wagon",
         "Europe",
         "All",
         "40840",
         "37060",
         "3.0",
         "6.0",
         "220",
         "18",
         "25",
         "4035",
         "109",
         "192"
        ],
        [
         "25",
         "Audi",
         " S4 Avant Quattro",
         "Wagon",
         "Europe",
         "All",
         "49090",
         "44446",
         "4.2",
         "8.0",
         "340",
         "15",
         "21",
         "3936",
         "104",
         "179"
        ],
        [
         "26",
         "BMW",
         " X3 3.0i",
         "SUV",
         "Europe",
         "All",
         "37000",
         "33873",
         "3.0",
         "6.0",
         "225",
         "16",
         "23",
         "4023",
         "110",
         "180"
        ],
        [
         "27",
         "BMW",
         " X5 4.4i",
         "SUV",
         "Europe",
         "All",
         "52195",
         "47720",
         "4.4",
         "8.0",
         "325",
         "16",
         "22",
         "4824",
         "111",
         "184"
        ],
        [
         "28",
         "BMW",
         " 325i 4dr",
         "Sedan",
         "Europe",
         "Rear",
         "28495",
         "26155",
         "2.5",
         "6.0",
         "184",
         "20",
         "29",
         "3219",
         "107",
         "176"
        ],
        [
         "29",
         "BMW",
         " 325Ci 2dr",
         "Sedan",
         "Europe",
         "Rear",
         "30795",
         "28245",
         "2.5",
         "6.0",
         "184",
         "20",
         "29",
         "3197",
         "107",
         "177"
        ],
        [
         "30",
         "BMW",
         " 325Ci convertible 2dr",
         "Sedan",
         "Europe",
         "Rear",
         "37995",
         "34800",
         "2.5",
         "6.0",
         "184",
         "19",
         "27",
         "3560",
         "107",
         "177"
        ],
        [
         "31",
         "BMW",
         " 325xi 4dr",
         "Sedan",
         "Europe",
         "All",
         "30245",
         "27745",
         "2.5",
         "6.0",
         "184",
         "19",
         "27",
         "3461",
         "107",
         "176"
        ],
        [
         "32",
         "BMW",
         " 330i 4dr",
         "Sedan",
         "Europe",
         "Rear",
         "35495",
         "32525",
         "3.0",
         "6.0",
         "225",
         "20",
         "30",
         "3285",
         "107",
         "176"
        ],
        [
         "33",
         "BMW",
         " 330Ci 2dr",
         "Sedan",
         "Europe",
         "Rear",
         "36995",
         "33890",
         "3.0",
         "6.0",
         "225",
         "20",
         "30",
         "3285",
         "107",
         "176"
        ],
        [
         "34",
         "BMW",
         " 330xi 4dr",
         "Sedan",
         "Europe",
         "All",
         "37245",
         "34115",
         "3.0",
         "6.0",
         "225",
         "20",
         "29",
         "3483",
         "107",
         "176"
        ],
        [
         "35",
         "BMW",
         " 525i 4dr",
         "Sedan",
         "Europe",
         "Rear",
         "39995",
         "36620",
         "2.5",
         "6.0",
         "184",
         "19",
         "28",
         "3428",
         "114",
         "191"
        ],
        [
         "36",
         "BMW",
         " 330Ci convertible 2dr",
         "Sedan",
         "Europe",
         "Rear",
         "44295",
         "40530",
         "3.0",
         "6.0",
         "225",
         "19",
         "28",
         "3616",
         "107",
         "177"
        ],
        [
         "37",
         "BMW",
         " 530i 4dr",
         "Sedan",
         "Europe",
         "Rear",
         "44995",
         "41170",
         "3.0",
         "6.0",
         "225",
         "20",
         "30",
         "3472",
         "114",
         "191"
        ],
        [
         "38",
         "BMW",
         " 545iA 4dr",
         "Sedan",
         "Europe",
         "Rear",
         "54995",
         "50270",
         "4.4",
         "8.0",
         "325",
         "18",
         "26",
         "3814",
         "114",
         "191"
        ],
        [
         "39",
         "BMW",
         " 745i 4dr",
         "Sedan",
         "Europe",
         "Rear",
         "69195",
         "63190",
         "4.4",
         "8.0",
         "325",
         "18",
         "26",
         "4376",
         "118",
         "198"
        ],
        [
         "40",
         "BMW",
         " 745Li 4dr",
         "Sedan",
         "Europe",
         "Rear",
         "73195",
         "66830",
         "4.4",
         "8.0",
         "325",
         "18",
         "26",
         "4464",
         "123",
         "204"
        ],
        [
         "41",
         "BMW",
         " M3 coupe 2dr",
         "Sports",
         "Europe",
         "Rear",
         "48195",
         "44170",
         "3.2",
         "6.0",
         "333",
         "16",
         "24",
         "3415",
         "108",
         "177"
        ],
        [
         "42",
         "BMW",
         " M3 convertible 2dr",
         "Sports",
         "Europe",
         "Rear",
         "56595",
         "51815",
         "3.2",
         "6.0",
         "333",
         "16",
         "23",
         "3781",
         "108",
         "177"
        ],
        [
         "43",
         "BMW",
         " Z4 convertible 2.5i 2dr",
         "Sports",
         "Europe",
         "Rear",
         "33895",
         "31065",
         "2.5",
         "6.0",
         "184",
         "20",
         "28",
         "2932",
         "98",
         "161"
        ],
        [
         "44",
         "BMW",
         " Z4 convertible 3.0i 2dr",
         "Sports",
         "Europe",
         "Rear",
         "41045",
         "37575",
         "3.0",
         "6.0",
         "225",
         "21",
         "29",
         "2998",
         "98",
         "161"
        ],
        [
         "45",
         "BMW",
         " 325xi Sport",
         "Wagon",
         "Europe",
         "All",
         "32845",
         "30110",
         "2.5",
         "6.0",
         "184",
         "19",
         "26",
         "3594",
         "107",
         "176"
        ],
        [
         "46",
         "Buick",
         " Rainier",
         "SUV",
         "USA",
         "All",
         "37895",
         "34357",
         "4.2",
         "6.0",
         "275",
         "15",
         "21",
         "4600",
         "113",
         "193"
        ],
        [
         "47",
         "Buick",
         " Rendezvous CX",
         "SUV",
         "USA",
         "Front",
         "26545",
         "24085",
         "3.4",
         "6.0",
         "185",
         "19",
         "26",
         "4024",
         "112",
         "187"
        ],
        [
         "48",
         "Buick",
         " Century Custom 4dr",
         "Sedan",
         "USA",
         "Front",
         "22180",
         "20351",
         "3.1",
         "6.0",
         "175",
         "20",
         "30",
         "3353",
         "109",
         "195"
        ],
        [
         "49",
         "Buick",
         " LeSabre Custom 4dr",
         "Sedan",
         "USA",
         "Front",
         "26470",
         "24282",
         "3.8",
         "6.0",
         "205",
         "20",
         "29",
         "3567",
         "112",
         "200"
        ]
       ],
       "shape": {
        "columns": 15,
        "rows": 357
       }
      },
      "text/html": [
       "<div>\n",
       "<style scoped>\n",
       "    .dataframe tbody tr th:only-of-type {\n",
       "        vertical-align: middle;\n",
       "    }\n",
       "\n",
       "    .dataframe tbody tr th {\n",
       "        vertical-align: top;\n",
       "    }\n",
       "\n",
       "    .dataframe thead th {\n",
       "        text-align: right;\n",
       "    }\n",
       "</style>\n",
       "<table border=\"1\" class=\"dataframe\">\n",
       "  <thead>\n",
       "    <tr style=\"text-align: right;\">\n",
       "      <th></th>\n",
       "      <th>Make</th>\n",
       "      <th>Model</th>\n",
       "      <th>Type</th>\n",
       "      <th>Origin</th>\n",
       "      <th>DriveTrain</th>\n",
       "      <th>MSRP</th>\n",
       "      <th>Invoice</th>\n",
       "      <th>EngineSize</th>\n",
       "      <th>Cylinders</th>\n",
       "      <th>Horsepower</th>\n",
       "      <th>MPG_City</th>\n",
       "      <th>MPG_Highway</th>\n",
       "      <th>Weight</th>\n",
       "      <th>Wheelbase</th>\n",
       "      <th>Length</th>\n",
       "    </tr>\n",
       "  </thead>\n",
       "  <tbody>\n",
       "    <tr>\n",
       "      <th>0</th>\n",
       "      <td>Acura</td>\n",
       "      <td>MDX</td>\n",
       "      <td>SUV</td>\n",
       "      <td>Asia</td>\n",
       "      <td>All</td>\n",
       "      <td>36945</td>\n",
       "      <td>33337</td>\n",
       "      <td>3.5</td>\n",
       "      <td>6.0</td>\n",
       "      <td>265</td>\n",
       "      <td>17</td>\n",
       "      <td>23</td>\n",
       "      <td>4451</td>\n",
       "      <td>106</td>\n",
       "      <td>189</td>\n",
       "    </tr>\n",
       "    <tr>\n",
       "      <th>1</th>\n",
       "      <td>Acura</td>\n",
       "      <td>RSX Type S 2dr</td>\n",
       "      <td>Sedan</td>\n",
       "      <td>Asia</td>\n",
       "      <td>Front</td>\n",
       "      <td>23820</td>\n",
       "      <td>21761</td>\n",
       "      <td>2.0</td>\n",
       "      <td>4.0</td>\n",
       "      <td>200</td>\n",
       "      <td>24</td>\n",
       "      <td>31</td>\n",
       "      <td>2778</td>\n",
       "      <td>101</td>\n",
       "      <td>172</td>\n",
       "    </tr>\n",
       "    <tr>\n",
       "      <th>2</th>\n",
       "      <td>Acura</td>\n",
       "      <td>TSX 4dr</td>\n",
       "      <td>Sedan</td>\n",
       "      <td>Asia</td>\n",
       "      <td>Front</td>\n",
       "      <td>26990</td>\n",
       "      <td>24647</td>\n",
       "      <td>2.4</td>\n",
       "      <td>4.0</td>\n",
       "      <td>200</td>\n",
       "      <td>22</td>\n",
       "      <td>29</td>\n",
       "      <td>3230</td>\n",
       "      <td>105</td>\n",
       "      <td>183</td>\n",
       "    </tr>\n",
       "    <tr>\n",
       "      <th>3</th>\n",
       "      <td>Acura</td>\n",
       "      <td>TL 4dr</td>\n",
       "      <td>Sedan</td>\n",
       "      <td>Asia</td>\n",
       "      <td>Front</td>\n",
       "      <td>33195</td>\n",
       "      <td>30299</td>\n",
       "      <td>3.2</td>\n",
       "      <td>6.0</td>\n",
       "      <td>270</td>\n",
       "      <td>20</td>\n",
       "      <td>28</td>\n",
       "      <td>3575</td>\n",
       "      <td>108</td>\n",
       "      <td>186</td>\n",
       "    </tr>\n",
       "    <tr>\n",
       "      <th>4</th>\n",
       "      <td>Acura</td>\n",
       "      <td>3.5 RL 4dr</td>\n",
       "      <td>Sedan</td>\n",
       "      <td>Asia</td>\n",
       "      <td>Front</td>\n",
       "      <td>43755</td>\n",
       "      <td>39014</td>\n",
       "      <td>3.5</td>\n",
       "      <td>6.0</td>\n",
       "      <td>225</td>\n",
       "      <td>18</td>\n",
       "      <td>24</td>\n",
       "      <td>3880</td>\n",
       "      <td>115</td>\n",
       "      <td>197</td>\n",
       "    </tr>\n",
       "    <tr>\n",
       "      <th>...</th>\n",
       "      <td>...</td>\n",
       "      <td>...</td>\n",
       "      <td>...</td>\n",
       "      <td>...</td>\n",
       "      <td>...</td>\n",
       "      <td>...</td>\n",
       "      <td>...</td>\n",
       "      <td>...</td>\n",
       "      <td>...</td>\n",
       "      <td>...</td>\n",
       "      <td>...</td>\n",
       "      <td>...</td>\n",
       "      <td>...</td>\n",
       "      <td>...</td>\n",
       "      <td>...</td>\n",
       "    </tr>\n",
       "    <tr>\n",
       "      <th>423</th>\n",
       "      <td>Volvo</td>\n",
       "      <td>C70 LPT convertible 2dr</td>\n",
       "      <td>Sedan</td>\n",
       "      <td>Europe</td>\n",
       "      <td>Front</td>\n",
       "      <td>40565</td>\n",
       "      <td>38203</td>\n",
       "      <td>2.4</td>\n",
       "      <td>5.0</td>\n",
       "      <td>197</td>\n",
       "      <td>21</td>\n",
       "      <td>28</td>\n",
       "      <td>3450</td>\n",
       "      <td>105</td>\n",
       "      <td>186</td>\n",
       "    </tr>\n",
       "    <tr>\n",
       "      <th>424</th>\n",
       "      <td>Volvo</td>\n",
       "      <td>C70 HPT convertible 2dr</td>\n",
       "      <td>Sedan</td>\n",
       "      <td>Europe</td>\n",
       "      <td>Front</td>\n",
       "      <td>42565</td>\n",
       "      <td>40083</td>\n",
       "      <td>2.3</td>\n",
       "      <td>5.0</td>\n",
       "      <td>242</td>\n",
       "      <td>20</td>\n",
       "      <td>26</td>\n",
       "      <td>3450</td>\n",
       "      <td>105</td>\n",
       "      <td>186</td>\n",
       "    </tr>\n",
       "    <tr>\n",
       "      <th>425</th>\n",
       "      <td>Volvo</td>\n",
       "      <td>S80 T6 4dr</td>\n",
       "      <td>Sedan</td>\n",
       "      <td>Europe</td>\n",
       "      <td>Front</td>\n",
       "      <td>45210</td>\n",
       "      <td>42573</td>\n",
       "      <td>2.9</td>\n",
       "      <td>6.0</td>\n",
       "      <td>268</td>\n",
       "      <td>19</td>\n",
       "      <td>26</td>\n",
       "      <td>3653</td>\n",
       "      <td>110</td>\n",
       "      <td>190</td>\n",
       "    </tr>\n",
       "    <tr>\n",
       "      <th>426</th>\n",
       "      <td>Volvo</td>\n",
       "      <td>V40</td>\n",
       "      <td>Wagon</td>\n",
       "      <td>Europe</td>\n",
       "      <td>Front</td>\n",
       "      <td>26135</td>\n",
       "      <td>24641</td>\n",
       "      <td>1.9</td>\n",
       "      <td>4.0</td>\n",
       "      <td>170</td>\n",
       "      <td>22</td>\n",
       "      <td>29</td>\n",
       "      <td>2822</td>\n",
       "      <td>101</td>\n",
       "      <td>180</td>\n",
       "    </tr>\n",
       "    <tr>\n",
       "      <th>427</th>\n",
       "      <td>Volvo</td>\n",
       "      <td>XC70</td>\n",
       "      <td>Wagon</td>\n",
       "      <td>Europe</td>\n",
       "      <td>All</td>\n",
       "      <td>35145</td>\n",
       "      <td>33112</td>\n",
       "      <td>2.5</td>\n",
       "      <td>5.0</td>\n",
       "      <td>208</td>\n",
       "      <td>20</td>\n",
       "      <td>27</td>\n",
       "      <td>3823</td>\n",
       "      <td>109</td>\n",
       "      <td>186</td>\n",
       "    </tr>\n",
       "  </tbody>\n",
       "</table>\n",
       "<p>357 rows × 15 columns</p>\n",
       "</div>"
      ],
      "text/plain": [
       "      Make                     Model   Type  Origin DriveTrain   MSRP  \\\n",
       "0    Acura                       MDX    SUV    Asia        All  36945   \n",
       "1    Acura            RSX Type S 2dr  Sedan    Asia      Front  23820   \n",
       "2    Acura                   TSX 4dr  Sedan    Asia      Front  26990   \n",
       "3    Acura                    TL 4dr  Sedan    Asia      Front  33195   \n",
       "4    Acura                3.5 RL 4dr  Sedan    Asia      Front  43755   \n",
       "..     ...                       ...    ...     ...        ...    ...   \n",
       "423  Volvo   C70 LPT convertible 2dr  Sedan  Europe      Front  40565   \n",
       "424  Volvo   C70 HPT convertible 2dr  Sedan  Europe      Front  42565   \n",
       "425  Volvo                S80 T6 4dr  Sedan  Europe      Front  45210   \n",
       "426  Volvo                       V40  Wagon  Europe      Front  26135   \n",
       "427  Volvo                      XC70  Wagon  Europe        All  35145   \n",
       "\n",
       "     Invoice  EngineSize  Cylinders  Horsepower  MPG_City  MPG_Highway  \\\n",
       "0      33337         3.5        6.0         265        17           23   \n",
       "1      21761         2.0        4.0         200        24           31   \n",
       "2      24647         2.4        4.0         200        22           29   \n",
       "3      30299         3.2        6.0         270        20           28   \n",
       "4      39014         3.5        6.0         225        18           24   \n",
       "..       ...         ...        ...         ...       ...          ...   \n",
       "423    38203         2.4        5.0         197        21           28   \n",
       "424    40083         2.3        5.0         242        20           26   \n",
       "425    42573         2.9        6.0         268        19           26   \n",
       "426    24641         1.9        4.0         170        22           29   \n",
       "427    33112         2.5        5.0         208        20           27   \n",
       "\n",
       "     Weight  Wheelbase  Length  \n",
       "0      4451        106     189  \n",
       "1      2778        101     172  \n",
       "2      3230        105     183  \n",
       "3      3575        108     186  \n",
       "4      3880        115     197  \n",
       "..      ...        ...     ...  \n",
       "423    3450        105     186  \n",
       "424    3450        105     186  \n",
       "425    3653        110     190  \n",
       "426    2822        101     180  \n",
       "427    3823        109     186  \n",
       "\n",
       "[357 rows x 15 columns]"
      ]
     },
     "execution_count": 32,
     "metadata": {},
     "output_type": "execute_result"
    }
   ],
   "source": [
    "result = cars[cars['Invoice'] > 17000]\n",
    "result"
   ]
  },
  {
   "cell_type": "code",
   "execution_count": 33,
   "id": "aae6c20e",
   "metadata": {},
   "outputs": [
    {
     "data": {
      "text/plain": [
       "np.int64(0)"
      ]
     },
     "execution_count": 33,
     "metadata": {},
     "output_type": "execute_result"
    }
   ],
   "source": [
    "cars['Invoice'].isnull().sum()"
   ]
  },
  {
   "cell_type": "code",
   "execution_count": 35,
   "id": "9c79b1f9",
   "metadata": {},
   "outputs": [
    {
     "data": {
      "application/vnd.microsoft.datawrangler.viewer.v0+json": {
       "columns": [
        {
         "name": "index",
         "rawType": "object",
         "type": "string"
        },
        {
         "name": "count",
         "rawType": "float64",
         "type": "float"
        },
        {
         "name": "mean",
         "rawType": "float64",
         "type": "float"
        },
        {
         "name": "std",
         "rawType": "float64",
         "type": "float"
        },
        {
         "name": "min",
         "rawType": "float64",
         "type": "float"
        },
        {
         "name": "25%",
         "rawType": "float64",
         "type": "float"
        },
        {
         "name": "50%",
         "rawType": "float64",
         "type": "float"
        },
        {
         "name": "75%",
         "rawType": "float64",
         "type": "float"
        },
        {
         "name": "max",
         "rawType": "float64",
         "type": "float"
        }
       ],
       "ref": "430b560e-d81d-4071-83b9-849ad5702705",
       "rows": [
        [
         "MSRP",
         "428.0",
         "32774.85514018692",
         "19431.716673717518",
         "10280.0",
         "20334.25",
         "27635.0",
         "39205.0",
         "192465.0"
        ],
        [
         "Invoice",
         "428.0",
         "30014.70093457944",
         "17642.117750314763",
         "9875.0",
         "18866.0",
         "25294.5",
         "35710.25",
         "173560.0"
        ],
        [
         "EngineSize",
         "428.0",
         "3.1967289719626164",
         "1.1085947183514753",
         "1.3",
         "2.375",
         "3.0",
         "3.9",
         "8.3"
        ],
        [
         "Cylinders",
         "426.0",
         "5.807511737089202",
         "1.5584426332202217",
         "3.0",
         "4.0",
         "6.0",
         "6.0",
         "12.0"
        ],
        [
         "Horsepower",
         "428.0",
         "215.8855140186916",
         "71.83603158369077",
         "73.0",
         "165.0",
         "210.0",
         "255.0",
         "500.0"
        ],
        [
         "MPG_City",
         "428.0",
         "20.060747663551403",
         "5.238217638649044",
         "10.0",
         "17.0",
         "19.0",
         "21.25",
         "60.0"
        ],
        [
         "MPG_Highway",
         "428.0",
         "26.843457943925234",
         "5.741200716984228",
         "12.0",
         "24.0",
         "26.0",
         "29.0",
         "66.0"
        ],
        [
         "Weight",
         "428.0",
         "3577.9532710280373",
         "758.9832146098709",
         "1850.0",
         "3104.0",
         "3474.5",
         "3977.75",
         "7190.0"
        ],
        [
         "Wheelbase",
         "428.0",
         "108.15420560747664",
         "8.31181299108951",
         "89.0",
         "103.0",
         "107.0",
         "112.0",
         "144.0"
        ],
        [
         "Length",
         "428.0",
         "186.36214953271028",
         "14.357991256895623",
         "143.0",
         "178.0",
         "187.0",
         "194.0",
         "238.0"
        ]
       ],
       "shape": {
        "columns": 8,
        "rows": 10
       }
      },
      "text/html": [
       "<div>\n",
       "<style scoped>\n",
       "    .dataframe tbody tr th:only-of-type {\n",
       "        vertical-align: middle;\n",
       "    }\n",
       "\n",
       "    .dataframe tbody tr th {\n",
       "        vertical-align: top;\n",
       "    }\n",
       "\n",
       "    .dataframe thead th {\n",
       "        text-align: right;\n",
       "    }\n",
       "</style>\n",
       "<table border=\"1\" class=\"dataframe\">\n",
       "  <thead>\n",
       "    <tr style=\"text-align: right;\">\n",
       "      <th></th>\n",
       "      <th>count</th>\n",
       "      <th>mean</th>\n",
       "      <th>std</th>\n",
       "      <th>min</th>\n",
       "      <th>25%</th>\n",
       "      <th>50%</th>\n",
       "      <th>75%</th>\n",
       "      <th>max</th>\n",
       "    </tr>\n",
       "  </thead>\n",
       "  <tbody>\n",
       "    <tr>\n",
       "      <th>MSRP</th>\n",
       "      <td>428.0</td>\n",
       "      <td>32774.855140</td>\n",
       "      <td>19431.716674</td>\n",
       "      <td>10280.0</td>\n",
       "      <td>20334.250</td>\n",
       "      <td>27635.0</td>\n",
       "      <td>39205.00</td>\n",
       "      <td>192465.0</td>\n",
       "    </tr>\n",
       "    <tr>\n",
       "      <th>Invoice</th>\n",
       "      <td>428.0</td>\n",
       "      <td>30014.700935</td>\n",
       "      <td>17642.117750</td>\n",
       "      <td>9875.0</td>\n",
       "      <td>18866.000</td>\n",
       "      <td>25294.5</td>\n",
       "      <td>35710.25</td>\n",
       "      <td>173560.0</td>\n",
       "    </tr>\n",
       "    <tr>\n",
       "      <th>EngineSize</th>\n",
       "      <td>428.0</td>\n",
       "      <td>3.196729</td>\n",
       "      <td>1.108595</td>\n",
       "      <td>1.3</td>\n",
       "      <td>2.375</td>\n",
       "      <td>3.0</td>\n",
       "      <td>3.90</td>\n",
       "      <td>8.3</td>\n",
       "    </tr>\n",
       "    <tr>\n",
       "      <th>Cylinders</th>\n",
       "      <td>426.0</td>\n",
       "      <td>5.807512</td>\n",
       "      <td>1.558443</td>\n",
       "      <td>3.0</td>\n",
       "      <td>4.000</td>\n",
       "      <td>6.0</td>\n",
       "      <td>6.00</td>\n",
       "      <td>12.0</td>\n",
       "    </tr>\n",
       "    <tr>\n",
       "      <th>Horsepower</th>\n",
       "      <td>428.0</td>\n",
       "      <td>215.885514</td>\n",
       "      <td>71.836032</td>\n",
       "      <td>73.0</td>\n",
       "      <td>165.000</td>\n",
       "      <td>210.0</td>\n",
       "      <td>255.00</td>\n",
       "      <td>500.0</td>\n",
       "    </tr>\n",
       "    <tr>\n",
       "      <th>MPG_City</th>\n",
       "      <td>428.0</td>\n",
       "      <td>20.060748</td>\n",
       "      <td>5.238218</td>\n",
       "      <td>10.0</td>\n",
       "      <td>17.000</td>\n",
       "      <td>19.0</td>\n",
       "      <td>21.25</td>\n",
       "      <td>60.0</td>\n",
       "    </tr>\n",
       "    <tr>\n",
       "      <th>MPG_Highway</th>\n",
       "      <td>428.0</td>\n",
       "      <td>26.843458</td>\n",
       "      <td>5.741201</td>\n",
       "      <td>12.0</td>\n",
       "      <td>24.000</td>\n",
       "      <td>26.0</td>\n",
       "      <td>29.00</td>\n",
       "      <td>66.0</td>\n",
       "    </tr>\n",
       "    <tr>\n",
       "      <th>Weight</th>\n",
       "      <td>428.0</td>\n",
       "      <td>3577.953271</td>\n",
       "      <td>758.983215</td>\n",
       "      <td>1850.0</td>\n",
       "      <td>3104.000</td>\n",
       "      <td>3474.5</td>\n",
       "      <td>3977.75</td>\n",
       "      <td>7190.0</td>\n",
       "    </tr>\n",
       "    <tr>\n",
       "      <th>Wheelbase</th>\n",
       "      <td>428.0</td>\n",
       "      <td>108.154206</td>\n",
       "      <td>8.311813</td>\n",
       "      <td>89.0</td>\n",
       "      <td>103.000</td>\n",
       "      <td>107.0</td>\n",
       "      <td>112.00</td>\n",
       "      <td>144.0</td>\n",
       "    </tr>\n",
       "    <tr>\n",
       "      <th>Length</th>\n",
       "      <td>428.0</td>\n",
       "      <td>186.362150</td>\n",
       "      <td>14.357991</td>\n",
       "      <td>143.0</td>\n",
       "      <td>178.000</td>\n",
       "      <td>187.0</td>\n",
       "      <td>194.00</td>\n",
       "      <td>238.0</td>\n",
       "    </tr>\n",
       "  </tbody>\n",
       "</table>\n",
       "</div>"
      ],
      "text/plain": [
       "             count          mean           std      min        25%      50%  \\\n",
       "MSRP         428.0  32774.855140  19431.716674  10280.0  20334.250  27635.0   \n",
       "Invoice      428.0  30014.700935  17642.117750   9875.0  18866.000  25294.5   \n",
       "EngineSize   428.0      3.196729      1.108595      1.3      2.375      3.0   \n",
       "Cylinders    426.0      5.807512      1.558443      3.0      4.000      6.0   \n",
       "Horsepower   428.0    215.885514     71.836032     73.0    165.000    210.0   \n",
       "MPG_City     428.0     20.060748      5.238218     10.0     17.000     19.0   \n",
       "MPG_Highway  428.0     26.843458      5.741201     12.0     24.000     26.0   \n",
       "Weight       428.0   3577.953271    758.983215   1850.0   3104.000   3474.5   \n",
       "Wheelbase    428.0    108.154206      8.311813     89.0    103.000    107.0   \n",
       "Length       428.0    186.362150     14.357991    143.0    178.000    187.0   \n",
       "\n",
       "                  75%       max  \n",
       "MSRP         39205.00  192465.0  \n",
       "Invoice      35710.25  173560.0  \n",
       "EngineSize       3.90       8.3  \n",
       "Cylinders        6.00      12.0  \n",
       "Horsepower     255.00     500.0  \n",
       "MPG_City        21.25      60.0  \n",
       "MPG_Highway     29.00      66.0  \n",
       "Weight        3977.75    7190.0  \n",
       "Wheelbase      112.00     144.0  \n",
       "Length         194.00     238.0  "
      ]
     },
     "execution_count": 35,
     "metadata": {},
     "output_type": "execute_result"
    }
   ],
   "source": [
    "cars.describe(include=[np.number]).T\n"
   ]
  },
  {
   "cell_type": "code",
   "execution_count": 36,
   "id": "64ede2b8",
   "metadata": {},
   "outputs": [
    {
     "data": {
      "application/vnd.microsoft.datawrangler.viewer.v0+json": {
       "columns": [
        {
         "name": "index",
         "rawType": "object",
         "type": "string"
        },
        {
         "name": "Make",
         "rawType": "object",
         "type": "unknown"
        },
        {
         "name": "Model",
         "rawType": "object",
         "type": "unknown"
        },
        {
         "name": "Type",
         "rawType": "object",
         "type": "unknown"
        },
        {
         "name": "Origin",
         "rawType": "object",
         "type": "unknown"
        },
        {
         "name": "DriveTrain",
         "rawType": "object",
         "type": "unknown"
        },
        {
         "name": "MSRP",
         "rawType": "float64",
         "type": "float"
        },
        {
         "name": "Invoice",
         "rawType": "float64",
         "type": "float"
        },
        {
         "name": "EngineSize",
         "rawType": "float64",
         "type": "float"
        },
        {
         "name": "Cylinders",
         "rawType": "float64",
         "type": "float"
        },
        {
         "name": "Horsepower",
         "rawType": "float64",
         "type": "float"
        },
        {
         "name": "MPG_City",
         "rawType": "float64",
         "type": "float"
        },
        {
         "name": "MPG_Highway",
         "rawType": "float64",
         "type": "float"
        },
        {
         "name": "Weight",
         "rawType": "float64",
         "type": "float"
        },
        {
         "name": "Wheelbase",
         "rawType": "float64",
         "type": "float"
        },
        {
         "name": "Length",
         "rawType": "float64",
         "type": "float"
        }
       ],
       "ref": "7b1c7857-1882-4e26-a83e-feb3776999bb",
       "rows": [
        [
         "count",
         "428",
         "428",
         "428",
         "428",
         "428",
         "428.0",
         "428.0",
         "428.0",
         "426.0",
         "428.0",
         "428.0",
         "428.0",
         "428.0",
         "428.0",
         "428.0"
        ],
        [
         "unique",
         "38",
         "425",
         "6",
         "3",
         "3",
         null,
         null,
         null,
         null,
         null,
         null,
         null,
         null,
         null,
         null
        ],
        [
         "top",
         "Toyota",
         " G35 4dr",
         "Sedan",
         "Asia",
         "Front",
         null,
         null,
         null,
         null,
         null,
         null,
         null,
         null,
         null,
         null
        ],
        [
         "freq",
         "28",
         "2",
         "262",
         "158",
         "226",
         null,
         null,
         null,
         null,
         null,
         null,
         null,
         null,
         null,
         null
        ],
        [
         "mean",
         null,
         null,
         null,
         null,
         null,
         "32774.85514018692",
         "30014.70093457944",
         "3.1967289719626164",
         "5.807511737089202",
         "215.8855140186916",
         "20.060747663551403",
         "26.843457943925234",
         "3577.9532710280373",
         "108.15420560747664",
         "186.36214953271028"
        ],
        [
         "std",
         null,
         null,
         null,
         null,
         null,
         "19431.716673717518",
         "17642.117750314763",
         "1.1085947183514753",
         "1.5584426332202217",
         "71.83603158369077",
         "5.238217638649044",
         "5.741200716984228",
         "758.9832146098709",
         "8.31181299108951",
         "14.357991256895623"
        ],
        [
         "min",
         null,
         null,
         null,
         null,
         null,
         "10280.0",
         "9875.0",
         "1.3",
         "3.0",
         "73.0",
         "10.0",
         "12.0",
         "1850.0",
         "89.0",
         "143.0"
        ],
        [
         "25%",
         null,
         null,
         null,
         null,
         null,
         "20334.25",
         "18866.0",
         "2.375",
         "4.0",
         "165.0",
         "17.0",
         "24.0",
         "3104.0",
         "103.0",
         "178.0"
        ],
        [
         "50%",
         null,
         null,
         null,
         null,
         null,
         "27635.0",
         "25294.5",
         "3.0",
         "6.0",
         "210.0",
         "19.0",
         "26.0",
         "3474.5",
         "107.0",
         "187.0"
        ],
        [
         "75%",
         null,
         null,
         null,
         null,
         null,
         "39205.0",
         "35710.25",
         "3.9",
         "6.0",
         "255.0",
         "21.25",
         "29.0",
         "3977.75",
         "112.0",
         "194.0"
        ],
        [
         "max",
         null,
         null,
         null,
         null,
         null,
         "192465.0",
         "173560.0",
         "8.3",
         "12.0",
         "500.0",
         "60.0",
         "66.0",
         "7190.0",
         "144.0",
         "238.0"
        ]
       ],
       "shape": {
        "columns": 15,
        "rows": 11
       }
      },
      "text/html": [
       "<div>\n",
       "<style scoped>\n",
       "    .dataframe tbody tr th:only-of-type {\n",
       "        vertical-align: middle;\n",
       "    }\n",
       "\n",
       "    .dataframe tbody tr th {\n",
       "        vertical-align: top;\n",
       "    }\n",
       "\n",
       "    .dataframe thead th {\n",
       "        text-align: right;\n",
       "    }\n",
       "</style>\n",
       "<table border=\"1\" class=\"dataframe\">\n",
       "  <thead>\n",
       "    <tr style=\"text-align: right;\">\n",
       "      <th></th>\n",
       "      <th>Make</th>\n",
       "      <th>Model</th>\n",
       "      <th>Type</th>\n",
       "      <th>Origin</th>\n",
       "      <th>DriveTrain</th>\n",
       "      <th>MSRP</th>\n",
       "      <th>Invoice</th>\n",
       "      <th>EngineSize</th>\n",
       "      <th>Cylinders</th>\n",
       "      <th>Horsepower</th>\n",
       "      <th>MPG_City</th>\n",
       "      <th>MPG_Highway</th>\n",
       "      <th>Weight</th>\n",
       "      <th>Wheelbase</th>\n",
       "      <th>Length</th>\n",
       "    </tr>\n",
       "  </thead>\n",
       "  <tbody>\n",
       "    <tr>\n",
       "      <th>count</th>\n",
       "      <td>428</td>\n",
       "      <td>428</td>\n",
       "      <td>428</td>\n",
       "      <td>428</td>\n",
       "      <td>428</td>\n",
       "      <td>428.000000</td>\n",
       "      <td>428.000000</td>\n",
       "      <td>428.000000</td>\n",
       "      <td>426.000000</td>\n",
       "      <td>428.000000</td>\n",
       "      <td>428.000000</td>\n",
       "      <td>428.000000</td>\n",
       "      <td>428.000000</td>\n",
       "      <td>428.000000</td>\n",
       "      <td>428.000000</td>\n",
       "    </tr>\n",
       "    <tr>\n",
       "      <th>unique</th>\n",
       "      <td>38</td>\n",
       "      <td>425</td>\n",
       "      <td>6</td>\n",
       "      <td>3</td>\n",
       "      <td>3</td>\n",
       "      <td>NaN</td>\n",
       "      <td>NaN</td>\n",
       "      <td>NaN</td>\n",
       "      <td>NaN</td>\n",
       "      <td>NaN</td>\n",
       "      <td>NaN</td>\n",
       "      <td>NaN</td>\n",
       "      <td>NaN</td>\n",
       "      <td>NaN</td>\n",
       "      <td>NaN</td>\n",
       "    </tr>\n",
       "    <tr>\n",
       "      <th>top</th>\n",
       "      <td>Toyota</td>\n",
       "      <td>G35 4dr</td>\n",
       "      <td>Sedan</td>\n",
       "      <td>Asia</td>\n",
       "      <td>Front</td>\n",
       "      <td>NaN</td>\n",
       "      <td>NaN</td>\n",
       "      <td>NaN</td>\n",
       "      <td>NaN</td>\n",
       "      <td>NaN</td>\n",
       "      <td>NaN</td>\n",
       "      <td>NaN</td>\n",
       "      <td>NaN</td>\n",
       "      <td>NaN</td>\n",
       "      <td>NaN</td>\n",
       "    </tr>\n",
       "    <tr>\n",
       "      <th>freq</th>\n",
       "      <td>28</td>\n",
       "      <td>2</td>\n",
       "      <td>262</td>\n",
       "      <td>158</td>\n",
       "      <td>226</td>\n",
       "      <td>NaN</td>\n",
       "      <td>NaN</td>\n",
       "      <td>NaN</td>\n",
       "      <td>NaN</td>\n",
       "      <td>NaN</td>\n",
       "      <td>NaN</td>\n",
       "      <td>NaN</td>\n",
       "      <td>NaN</td>\n",
       "      <td>NaN</td>\n",
       "      <td>NaN</td>\n",
       "    </tr>\n",
       "    <tr>\n",
       "      <th>mean</th>\n",
       "      <td>NaN</td>\n",
       "      <td>NaN</td>\n",
       "      <td>NaN</td>\n",
       "      <td>NaN</td>\n",
       "      <td>NaN</td>\n",
       "      <td>32774.855140</td>\n",
       "      <td>30014.700935</td>\n",
       "      <td>3.196729</td>\n",
       "      <td>5.807512</td>\n",
       "      <td>215.885514</td>\n",
       "      <td>20.060748</td>\n",
       "      <td>26.843458</td>\n",
       "      <td>3577.953271</td>\n",
       "      <td>108.154206</td>\n",
       "      <td>186.362150</td>\n",
       "    </tr>\n",
       "    <tr>\n",
       "      <th>std</th>\n",
       "      <td>NaN</td>\n",
       "      <td>NaN</td>\n",
       "      <td>NaN</td>\n",
       "      <td>NaN</td>\n",
       "      <td>NaN</td>\n",
       "      <td>19431.716674</td>\n",
       "      <td>17642.117750</td>\n",
       "      <td>1.108595</td>\n",
       "      <td>1.558443</td>\n",
       "      <td>71.836032</td>\n",
       "      <td>5.238218</td>\n",
       "      <td>5.741201</td>\n",
       "      <td>758.983215</td>\n",
       "      <td>8.311813</td>\n",
       "      <td>14.357991</td>\n",
       "    </tr>\n",
       "    <tr>\n",
       "      <th>min</th>\n",
       "      <td>NaN</td>\n",
       "      <td>NaN</td>\n",
       "      <td>NaN</td>\n",
       "      <td>NaN</td>\n",
       "      <td>NaN</td>\n",
       "      <td>10280.000000</td>\n",
       "      <td>9875.000000</td>\n",
       "      <td>1.300000</td>\n",
       "      <td>3.000000</td>\n",
       "      <td>73.000000</td>\n",
       "      <td>10.000000</td>\n",
       "      <td>12.000000</td>\n",
       "      <td>1850.000000</td>\n",
       "      <td>89.000000</td>\n",
       "      <td>143.000000</td>\n",
       "    </tr>\n",
       "    <tr>\n",
       "      <th>25%</th>\n",
       "      <td>NaN</td>\n",
       "      <td>NaN</td>\n",
       "      <td>NaN</td>\n",
       "      <td>NaN</td>\n",
       "      <td>NaN</td>\n",
       "      <td>20334.250000</td>\n",
       "      <td>18866.000000</td>\n",
       "      <td>2.375000</td>\n",
       "      <td>4.000000</td>\n",
       "      <td>165.000000</td>\n",
       "      <td>17.000000</td>\n",
       "      <td>24.000000</td>\n",
       "      <td>3104.000000</td>\n",
       "      <td>103.000000</td>\n",
       "      <td>178.000000</td>\n",
       "    </tr>\n",
       "    <tr>\n",
       "      <th>50%</th>\n",
       "      <td>NaN</td>\n",
       "      <td>NaN</td>\n",
       "      <td>NaN</td>\n",
       "      <td>NaN</td>\n",
       "      <td>NaN</td>\n",
       "      <td>27635.000000</td>\n",
       "      <td>25294.500000</td>\n",
       "      <td>3.000000</td>\n",
       "      <td>6.000000</td>\n",
       "      <td>210.000000</td>\n",
       "      <td>19.000000</td>\n",
       "      <td>26.000000</td>\n",
       "      <td>3474.500000</td>\n",
       "      <td>107.000000</td>\n",
       "      <td>187.000000</td>\n",
       "    </tr>\n",
       "    <tr>\n",
       "      <th>75%</th>\n",
       "      <td>NaN</td>\n",
       "      <td>NaN</td>\n",
       "      <td>NaN</td>\n",
       "      <td>NaN</td>\n",
       "      <td>NaN</td>\n",
       "      <td>39205.000000</td>\n",
       "      <td>35710.250000</td>\n",
       "      <td>3.900000</td>\n",
       "      <td>6.000000</td>\n",
       "      <td>255.000000</td>\n",
       "      <td>21.250000</td>\n",
       "      <td>29.000000</td>\n",
       "      <td>3977.750000</td>\n",
       "      <td>112.000000</td>\n",
       "      <td>194.000000</td>\n",
       "    </tr>\n",
       "    <tr>\n",
       "      <th>max</th>\n",
       "      <td>NaN</td>\n",
       "      <td>NaN</td>\n",
       "      <td>NaN</td>\n",
       "      <td>NaN</td>\n",
       "      <td>NaN</td>\n",
       "      <td>192465.000000</td>\n",
       "      <td>173560.000000</td>\n",
       "      <td>8.300000</td>\n",
       "      <td>12.000000</td>\n",
       "      <td>500.000000</td>\n",
       "      <td>60.000000</td>\n",
       "      <td>66.000000</td>\n",
       "      <td>7190.000000</td>\n",
       "      <td>144.000000</td>\n",
       "      <td>238.000000</td>\n",
       "    </tr>\n",
       "  </tbody>\n",
       "</table>\n",
       "</div>"
      ],
      "text/plain": [
       "          Make     Model   Type Origin DriveTrain           MSRP  \\\n",
       "count      428       428    428    428        428     428.000000   \n",
       "unique      38       425      6      3          3            NaN   \n",
       "top     Toyota   G35 4dr  Sedan   Asia      Front            NaN   \n",
       "freq        28         2    262    158        226            NaN   \n",
       "mean       NaN       NaN    NaN    NaN        NaN   32774.855140   \n",
       "std        NaN       NaN    NaN    NaN        NaN   19431.716674   \n",
       "min        NaN       NaN    NaN    NaN        NaN   10280.000000   \n",
       "25%        NaN       NaN    NaN    NaN        NaN   20334.250000   \n",
       "50%        NaN       NaN    NaN    NaN        NaN   27635.000000   \n",
       "75%        NaN       NaN    NaN    NaN        NaN   39205.000000   \n",
       "max        NaN       NaN    NaN    NaN        NaN  192465.000000   \n",
       "\n",
       "              Invoice  EngineSize   Cylinders  Horsepower    MPG_City  \\\n",
       "count      428.000000  428.000000  426.000000  428.000000  428.000000   \n",
       "unique            NaN         NaN         NaN         NaN         NaN   \n",
       "top               NaN         NaN         NaN         NaN         NaN   \n",
       "freq              NaN         NaN         NaN         NaN         NaN   \n",
       "mean     30014.700935    3.196729    5.807512  215.885514   20.060748   \n",
       "std      17642.117750    1.108595    1.558443   71.836032    5.238218   \n",
       "min       9875.000000    1.300000    3.000000   73.000000   10.000000   \n",
       "25%      18866.000000    2.375000    4.000000  165.000000   17.000000   \n",
       "50%      25294.500000    3.000000    6.000000  210.000000   19.000000   \n",
       "75%      35710.250000    3.900000    6.000000  255.000000   21.250000   \n",
       "max     173560.000000    8.300000   12.000000  500.000000   60.000000   \n",
       "\n",
       "        MPG_Highway       Weight   Wheelbase      Length  \n",
       "count    428.000000   428.000000  428.000000  428.000000  \n",
       "unique          NaN          NaN         NaN         NaN  \n",
       "top             NaN          NaN         NaN         NaN  \n",
       "freq            NaN          NaN         NaN         NaN  \n",
       "mean      26.843458  3577.953271  108.154206  186.362150  \n",
       "std        5.741201   758.983215    8.311813   14.357991  \n",
       "min       12.000000  1850.000000   89.000000  143.000000  \n",
       "25%       24.000000  3104.000000  103.000000  178.000000  \n",
       "50%       26.000000  3474.500000  107.000000  187.000000  \n",
       "75%       29.000000  3977.750000  112.000000  194.000000  \n",
       "max       66.000000  7190.000000  144.000000  238.000000  "
      ]
     },
     "execution_count": 36,
     "metadata": {},
     "output_type": "execute_result"
    }
   ],
   "source": [
    "cars.describe(include='all')"
   ]
  },
  {
   "cell_type": "code",
   "execution_count": 37,
   "id": "245bf976",
   "metadata": {},
   "outputs": [
    {
     "data": {
      "application/vnd.microsoft.datawrangler.viewer.v0+json": {
       "columns": [
        {
         "name": "index",
         "rawType": "object",
         "type": "string"
        },
        {
         "name": "Make",
         "rawType": "object",
         "type": "unknown"
        },
        {
         "name": "Model",
         "rawType": "object",
         "type": "unknown"
        },
        {
         "name": "Type",
         "rawType": "object",
         "type": "unknown"
        },
        {
         "name": "Origin",
         "rawType": "object",
         "type": "unknown"
        },
        {
         "name": "DriveTrain",
         "rawType": "object",
         "type": "unknown"
        }
       ],
       "ref": "3adf4e3e-8d90-4656-b697-e2bffe1ff5e4",
       "rows": [
        [
         "count",
         "428",
         "428",
         "428",
         "428",
         "428"
        ],
        [
         "unique",
         "38",
         "425",
         "6",
         "3",
         "3"
        ],
        [
         "top",
         "Toyota",
         " G35 4dr",
         "Sedan",
         "Asia",
         "Front"
        ],
        [
         "freq",
         "28",
         "2",
         "262",
         "158",
         "226"
        ]
       ],
       "shape": {
        "columns": 5,
        "rows": 4
       }
      },
      "text/html": [
       "<div>\n",
       "<style scoped>\n",
       "    .dataframe tbody tr th:only-of-type {\n",
       "        vertical-align: middle;\n",
       "    }\n",
       "\n",
       "    .dataframe tbody tr th {\n",
       "        vertical-align: top;\n",
       "    }\n",
       "\n",
       "    .dataframe thead th {\n",
       "        text-align: right;\n",
       "    }\n",
       "</style>\n",
       "<table border=\"1\" class=\"dataframe\">\n",
       "  <thead>\n",
       "    <tr style=\"text-align: right;\">\n",
       "      <th></th>\n",
       "      <th>Make</th>\n",
       "      <th>Model</th>\n",
       "      <th>Type</th>\n",
       "      <th>Origin</th>\n",
       "      <th>DriveTrain</th>\n",
       "    </tr>\n",
       "  </thead>\n",
       "  <tbody>\n",
       "    <tr>\n",
       "      <th>count</th>\n",
       "      <td>428</td>\n",
       "      <td>428</td>\n",
       "      <td>428</td>\n",
       "      <td>428</td>\n",
       "      <td>428</td>\n",
       "    </tr>\n",
       "    <tr>\n",
       "      <th>unique</th>\n",
       "      <td>38</td>\n",
       "      <td>425</td>\n",
       "      <td>6</td>\n",
       "      <td>3</td>\n",
       "      <td>3</td>\n",
       "    </tr>\n",
       "    <tr>\n",
       "      <th>top</th>\n",
       "      <td>Toyota</td>\n",
       "      <td>G35 4dr</td>\n",
       "      <td>Sedan</td>\n",
       "      <td>Asia</td>\n",
       "      <td>Front</td>\n",
       "    </tr>\n",
       "    <tr>\n",
       "      <th>freq</th>\n",
       "      <td>28</td>\n",
       "      <td>2</td>\n",
       "      <td>262</td>\n",
       "      <td>158</td>\n",
       "      <td>226</td>\n",
       "    </tr>\n",
       "  </tbody>\n",
       "</table>\n",
       "</div>"
      ],
      "text/plain": [
       "          Make     Model   Type Origin DriveTrain\n",
       "count      428       428    428    428        428\n",
       "unique      38       425      6      3          3\n",
       "top     Toyota   G35 4dr  Sedan   Asia      Front\n",
       "freq        28         2    262    158        226"
      ]
     },
     "execution_count": 37,
     "metadata": {},
     "output_type": "execute_result"
    }
   ],
   "source": [
    "# only non-numeric columns\n",
    "cars.describe(exclude=[np.number])"
   ]
  },
  {
   "cell_type": "code",
   "execution_count": 40,
   "id": "61b7d335",
   "metadata": {},
   "outputs": [
    {
     "data": {
      "text/plain": [
       "Index(['Make', 'Model', 'Type', 'Origin', 'DriveTrain', 'MSRP', 'Invoice',\n",
       "       'EngineSize', 'Cylinders', 'Horsepower', 'MPG_City', 'MPG_Highway',\n",
       "       'Weight', 'Wheelbase', 'Length'],\n",
       "      dtype='object')"
      ]
     },
     "execution_count": 40,
     "metadata": {},
     "output_type": "execute_result"
    }
   ],
   "source": [
    "cars.columns"
   ]
  },
  {
   "cell_type": "code",
   "execution_count": 42,
   "id": "4d997106",
   "metadata": {},
   "outputs": [
    {
     "data": {
      "application/vnd.microsoft.datawrangler.viewer.v0+json": {
       "columns": [
        {
         "name": "index",
         "rawType": "object",
         "type": "string"
        },
        {
         "name": "count",
         "rawType": "float64",
         "type": "float"
        },
        {
         "name": "mean",
         "rawType": "float64",
         "type": "float"
        },
        {
         "name": "std",
         "rawType": "float64",
         "type": "float"
        },
        {
         "name": "min",
         "rawType": "float64",
         "type": "float"
        },
        {
         "name": "1%",
         "rawType": "float64",
         "type": "float"
        },
        {
         "name": "5%",
         "rawType": "float64",
         "type": "float"
        },
        {
         "name": "10%",
         "rawType": "float64",
         "type": "float"
        },
        {
         "name": "25%",
         "rawType": "float64",
         "type": "float"
        },
        {
         "name": "50%",
         "rawType": "float64",
         "type": "float"
        },
        {
         "name": "75%",
         "rawType": "float64",
         "type": "float"
        },
        {
         "name": "90%",
         "rawType": "float64",
         "type": "float"
        },
        {
         "name": "95%",
         "rawType": "float64",
         "type": "float"
        },
        {
         "name": "99%",
         "rawType": "float64",
         "type": "float"
        },
        {
         "name": "max",
         "rawType": "float64",
         "type": "float"
        }
       ],
       "ref": "5e483bef-0ce6-4d78-8407-da8b5362e99c",
       "rows": [
        [
         "MSRP",
         "428.0",
         "32774.85514018692",
         "19431.716673717518",
         "10280.0",
         "11191.45",
         "13691.0",
         "15484.5",
         "20334.25",
         "27635.0",
         "39205.0",
         "52781.0",
         "72864.24999999999",
         "93659.00000000007",
         "192465.0"
        ],
        [
         "Invoice",
         "428.0",
         "30014.70093457944",
         "17642.117750314763",
         "9875.0",
         "10659.01",
         "12836.65",
         "14459.7",
         "18866.0",
         "25294.5",
         "35710.25",
         "48103.3",
         "66471.94999999998",
         "87244.27000000008",
         "173560.0"
        ],
        [
         "EngineSize",
         "428.0",
         "3.1967289719626164",
         "1.1085947183514753",
         "1.3",
         "1.5",
         "1.7",
         "1.8",
         "2.375",
         "3.0",
         "3.9",
         "4.6",
         "5.3",
         "6.0",
         "8.3"
        ],
        [
         "Cylinders",
         "426.0",
         "5.807511737089202",
         "1.5584426332202217",
         "3.0",
         "4.0",
         "4.0",
         "4.0",
         "4.0",
         "6.0",
         "6.0",
         "8.0",
         "8.0",
         "9.5",
         "12.0"
        ],
        [
         "Horsepower",
         "428.0",
         "215.8855140186916",
         "71.83603158369077",
         "73.0",
         "103.0",
         "115.0",
         "130.0",
         "165.0",
         "210.0",
         "255.0",
         "302.0",
         "338.2499999999999",
         "469.7100000000005",
         "500.0"
        ],
        [
         "MPG_City",
         "428.0",
         "20.060747663551403",
         "5.238217638649044",
         "10.0",
         "12.0",
         "14.0",
         "15.0",
         "17.0",
         "19.0",
         "21.25",
         "26.0",
         "29.0",
         "35.73000000000002",
         "60.0"
        ],
        [
         "MPG_Highway",
         "428.0",
         "26.843457943925234",
         "5.741200716984228",
         "12.0",
         "16.27",
         "18.0",
         "20.0",
         "24.0",
         "26.0",
         "29.0",
         "33.30000000000001",
         "36.0",
         "43.73000000000002",
         "66.0"
        ],
        [
         "Weight",
         "428.0",
         "3577.9532710280373",
         "758.9832146098709",
         "1850.0",
         "2211.2",
         "2513.0",
         "2678.7",
         "3104.0",
         "3474.5",
         "3977.75",
         "4494.400000000001",
         "4995.45",
         "5824.730000000003",
         "7190.0"
        ],
        [
         "Wheelbase",
         "428.0",
         "108.15420560747664",
         "8.31181299108951",
         "89.0",
         "93.0",
         "95.35",
         "99.0",
         "103.0",
         "107.0",
         "112.0",
         "119.0",
         "123.0",
         "133.0",
         "144.0"
        ],
        [
         "Length",
         "428.0",
         "186.36214953271028",
         "14.357991256895623",
         "143.0",
         "153.27",
         "163.0",
         "168.0",
         "178.0",
         "187.0",
         "194.0",
         "204.0",
         "212.0",
         "222.0",
         "238.0"
        ]
       ],
       "shape": {
        "columns": 14,
        "rows": 10
       }
      },
      "text/html": [
       "<div>\n",
       "<style scoped>\n",
       "    .dataframe tbody tr th:only-of-type {\n",
       "        vertical-align: middle;\n",
       "    }\n",
       "\n",
       "    .dataframe tbody tr th {\n",
       "        vertical-align: top;\n",
       "    }\n",
       "\n",
       "    .dataframe thead th {\n",
       "        text-align: right;\n",
       "    }\n",
       "</style>\n",
       "<table border=\"1\" class=\"dataframe\">\n",
       "  <thead>\n",
       "    <tr style=\"text-align: right;\">\n",
       "      <th></th>\n",
       "      <th>count</th>\n",
       "      <th>mean</th>\n",
       "      <th>std</th>\n",
       "      <th>min</th>\n",
       "      <th>1%</th>\n",
       "      <th>5%</th>\n",
       "      <th>10%</th>\n",
       "      <th>25%</th>\n",
       "      <th>50%</th>\n",
       "      <th>75%</th>\n",
       "      <th>90%</th>\n",
       "      <th>95%</th>\n",
       "      <th>99%</th>\n",
       "      <th>max</th>\n",
       "    </tr>\n",
       "  </thead>\n",
       "  <tbody>\n",
       "    <tr>\n",
       "      <th>MSRP</th>\n",
       "      <td>428.0</td>\n",
       "      <td>32774.855140</td>\n",
       "      <td>19431.716674</td>\n",
       "      <td>10280.0</td>\n",
       "      <td>11191.45</td>\n",
       "      <td>13691.00</td>\n",
       "      <td>15484.5</td>\n",
       "      <td>20334.250</td>\n",
       "      <td>27635.0</td>\n",
       "      <td>39205.00</td>\n",
       "      <td>52781.0</td>\n",
       "      <td>72864.25</td>\n",
       "      <td>93659.00</td>\n",
       "      <td>192465.0</td>\n",
       "    </tr>\n",
       "    <tr>\n",
       "      <th>Invoice</th>\n",
       "      <td>428.0</td>\n",
       "      <td>30014.700935</td>\n",
       "      <td>17642.117750</td>\n",
       "      <td>9875.0</td>\n",
       "      <td>10659.01</td>\n",
       "      <td>12836.65</td>\n",
       "      <td>14459.7</td>\n",
       "      <td>18866.000</td>\n",
       "      <td>25294.5</td>\n",
       "      <td>35710.25</td>\n",
       "      <td>48103.3</td>\n",
       "      <td>66471.95</td>\n",
       "      <td>87244.27</td>\n",
       "      <td>173560.0</td>\n",
       "    </tr>\n",
       "    <tr>\n",
       "      <th>EngineSize</th>\n",
       "      <td>428.0</td>\n",
       "      <td>3.196729</td>\n",
       "      <td>1.108595</td>\n",
       "      <td>1.3</td>\n",
       "      <td>1.50</td>\n",
       "      <td>1.70</td>\n",
       "      <td>1.8</td>\n",
       "      <td>2.375</td>\n",
       "      <td>3.0</td>\n",
       "      <td>3.90</td>\n",
       "      <td>4.6</td>\n",
       "      <td>5.30</td>\n",
       "      <td>6.00</td>\n",
       "      <td>8.3</td>\n",
       "    </tr>\n",
       "    <tr>\n",
       "      <th>Cylinders</th>\n",
       "      <td>426.0</td>\n",
       "      <td>5.807512</td>\n",
       "      <td>1.558443</td>\n",
       "      <td>3.0</td>\n",
       "      <td>4.00</td>\n",
       "      <td>4.00</td>\n",
       "      <td>4.0</td>\n",
       "      <td>4.000</td>\n",
       "      <td>6.0</td>\n",
       "      <td>6.00</td>\n",
       "      <td>8.0</td>\n",
       "      <td>8.00</td>\n",
       "      <td>9.50</td>\n",
       "      <td>12.0</td>\n",
       "    </tr>\n",
       "    <tr>\n",
       "      <th>Horsepower</th>\n",
       "      <td>428.0</td>\n",
       "      <td>215.885514</td>\n",
       "      <td>71.836032</td>\n",
       "      <td>73.0</td>\n",
       "      <td>103.00</td>\n",
       "      <td>115.00</td>\n",
       "      <td>130.0</td>\n",
       "      <td>165.000</td>\n",
       "      <td>210.0</td>\n",
       "      <td>255.00</td>\n",
       "      <td>302.0</td>\n",
       "      <td>338.25</td>\n",
       "      <td>469.71</td>\n",
       "      <td>500.0</td>\n",
       "    </tr>\n",
       "    <tr>\n",
       "      <th>MPG_City</th>\n",
       "      <td>428.0</td>\n",
       "      <td>20.060748</td>\n",
       "      <td>5.238218</td>\n",
       "      <td>10.0</td>\n",
       "      <td>12.00</td>\n",
       "      <td>14.00</td>\n",
       "      <td>15.0</td>\n",
       "      <td>17.000</td>\n",
       "      <td>19.0</td>\n",
       "      <td>21.25</td>\n",
       "      <td>26.0</td>\n",
       "      <td>29.00</td>\n",
       "      <td>35.73</td>\n",
       "      <td>60.0</td>\n",
       "    </tr>\n",
       "    <tr>\n",
       "      <th>MPG_Highway</th>\n",
       "      <td>428.0</td>\n",
       "      <td>26.843458</td>\n",
       "      <td>5.741201</td>\n",
       "      <td>12.0</td>\n",
       "      <td>16.27</td>\n",
       "      <td>18.00</td>\n",
       "      <td>20.0</td>\n",
       "      <td>24.000</td>\n",
       "      <td>26.0</td>\n",
       "      <td>29.00</td>\n",
       "      <td>33.3</td>\n",
       "      <td>36.00</td>\n",
       "      <td>43.73</td>\n",
       "      <td>66.0</td>\n",
       "    </tr>\n",
       "    <tr>\n",
       "      <th>Weight</th>\n",
       "      <td>428.0</td>\n",
       "      <td>3577.953271</td>\n",
       "      <td>758.983215</td>\n",
       "      <td>1850.0</td>\n",
       "      <td>2211.20</td>\n",
       "      <td>2513.00</td>\n",
       "      <td>2678.7</td>\n",
       "      <td>3104.000</td>\n",
       "      <td>3474.5</td>\n",
       "      <td>3977.75</td>\n",
       "      <td>4494.4</td>\n",
       "      <td>4995.45</td>\n",
       "      <td>5824.73</td>\n",
       "      <td>7190.0</td>\n",
       "    </tr>\n",
       "    <tr>\n",
       "      <th>Wheelbase</th>\n",
       "      <td>428.0</td>\n",
       "      <td>108.154206</td>\n",
       "      <td>8.311813</td>\n",
       "      <td>89.0</td>\n",
       "      <td>93.00</td>\n",
       "      <td>95.35</td>\n",
       "      <td>99.0</td>\n",
       "      <td>103.000</td>\n",
       "      <td>107.0</td>\n",
       "      <td>112.00</td>\n",
       "      <td>119.0</td>\n",
       "      <td>123.00</td>\n",
       "      <td>133.00</td>\n",
       "      <td>144.0</td>\n",
       "    </tr>\n",
       "    <tr>\n",
       "      <th>Length</th>\n",
       "      <td>428.0</td>\n",
       "      <td>186.362150</td>\n",
       "      <td>14.357991</td>\n",
       "      <td>143.0</td>\n",
       "      <td>153.27</td>\n",
       "      <td>163.00</td>\n",
       "      <td>168.0</td>\n",
       "      <td>178.000</td>\n",
       "      <td>187.0</td>\n",
       "      <td>194.00</td>\n",
       "      <td>204.0</td>\n",
       "      <td>212.00</td>\n",
       "      <td>222.00</td>\n",
       "      <td>238.0</td>\n",
       "    </tr>\n",
       "  </tbody>\n",
       "</table>\n",
       "</div>"
      ],
      "text/plain": [
       "             count          mean           std      min        1%        5%  \\\n",
       "MSRP         428.0  32774.855140  19431.716674  10280.0  11191.45  13691.00   \n",
       "Invoice      428.0  30014.700935  17642.117750   9875.0  10659.01  12836.65   \n",
       "EngineSize   428.0      3.196729      1.108595      1.3      1.50      1.70   \n",
       "Cylinders    426.0      5.807512      1.558443      3.0      4.00      4.00   \n",
       "Horsepower   428.0    215.885514     71.836032     73.0    103.00    115.00   \n",
       "MPG_City     428.0     20.060748      5.238218     10.0     12.00     14.00   \n",
       "MPG_Highway  428.0     26.843458      5.741201     12.0     16.27     18.00   \n",
       "Weight       428.0   3577.953271    758.983215   1850.0   2211.20   2513.00   \n",
       "Wheelbase    428.0    108.154206      8.311813     89.0     93.00     95.35   \n",
       "Length       428.0    186.362150     14.357991    143.0    153.27    163.00   \n",
       "\n",
       "                 10%        25%      50%       75%      90%       95%  \\\n",
       "MSRP         15484.5  20334.250  27635.0  39205.00  52781.0  72864.25   \n",
       "Invoice      14459.7  18866.000  25294.5  35710.25  48103.3  66471.95   \n",
       "EngineSize       1.8      2.375      3.0      3.90      4.6      5.30   \n",
       "Cylinders        4.0      4.000      6.0      6.00      8.0      8.00   \n",
       "Horsepower     130.0    165.000    210.0    255.00    302.0    338.25   \n",
       "MPG_City        15.0     17.000     19.0     21.25     26.0     29.00   \n",
       "MPG_Highway     20.0     24.000     26.0     29.00     33.3     36.00   \n",
       "Weight        2678.7   3104.000   3474.5   3977.75   4494.4   4995.45   \n",
       "Wheelbase       99.0    103.000    107.0    112.00    119.0    123.00   \n",
       "Length         168.0    178.000    187.0    194.00    204.0    212.00   \n",
       "\n",
       "                  99%       max  \n",
       "MSRP         93659.00  192465.0  \n",
       "Invoice      87244.27  173560.0  \n",
       "EngineSize       6.00       8.3  \n",
       "Cylinders        9.50      12.0  \n",
       "Horsepower     469.71     500.0  \n",
       "MPG_City        35.73      60.0  \n",
       "MPG_Highway     43.73      66.0  \n",
       "Weight        5824.73    7190.0  \n",
       "Wheelbase      133.00     144.0  \n",
       "Length         222.00     238.0  "
      ]
     },
     "execution_count": 42,
     "metadata": {},
     "output_type": "execute_result"
    }
   ],
   "source": [
    "cars.describe(include=[np.number], percentiles=[.01, .05, .10, .25, .5, .75, .90, .95, .99]).T\n"
   ]
  },
  {
   "cell_type": "code",
   "execution_count": 43,
   "id": "f8d8c191",
   "metadata": {},
   "outputs": [
    {
     "data": {
      "application/vnd.microsoft.datawrangler.viewer.v0+json": {
       "columns": [
        {
         "name": "index",
         "rawType": "object",
         "type": "string"
        },
        {
         "name": "count",
         "rawType": "float64",
         "type": "float"
        },
        {
         "name": "mean",
         "rawType": "float64",
         "type": "float"
        },
        {
         "name": "std",
         "rawType": "float64",
         "type": "float"
        },
        {
         "name": "min",
         "rawType": "float64",
         "type": "float"
        },
        {
         "name": "1%",
         "rawType": "float64",
         "type": "float"
        },
        {
         "name": "5%",
         "rawType": "float64",
         "type": "float"
        },
        {
         "name": "10%",
         "rawType": "float64",
         "type": "float"
        },
        {
         "name": "25%",
         "rawType": "float64",
         "type": "float"
        },
        {
         "name": "50%",
         "rawType": "float64",
         "type": "float"
        },
        {
         "name": "75%",
         "rawType": "float64",
         "type": "float"
        },
        {
         "name": "90%",
         "rawType": "float64",
         "type": "float"
        },
        {
         "name": "95%",
         "rawType": "float64",
         "type": "float"
        },
        {
         "name": "99%",
         "rawType": "float64",
         "type": "float"
        },
        {
         "name": "max",
         "rawType": "float64",
         "type": "float"
        }
       ],
       "ref": "7762f7b3-de2b-479b-971f-17230ed26f30",
       "rows": [
        [
         "MSRP",
         "428.0",
         "32774.85514018692",
         "19431.716673717518",
         "10280.0",
         "11191.45",
         "13691.0",
         "15484.5",
         "20334.25",
         "27635.0",
         "39205.0",
         "52781.0",
         "72864.24999999999",
         "93659.00000000007",
         "192465.0"
        ],
        [
         "Invoice",
         "428.0",
         "30014.70093457944",
         "17642.117750314763",
         "9875.0",
         "10659.01",
         "12836.65",
         "14459.7",
         "18866.0",
         "25294.5",
         "35710.25",
         "48103.3",
         "66471.94999999998",
         "87244.27000000008",
         "173560.0"
        ],
        [
         "EngineSize",
         "428.0",
         "3.1967289719626164",
         "1.1085947183514753",
         "1.3",
         "1.5",
         "1.7",
         "1.8",
         "2.375",
         "3.0",
         "3.9",
         "4.6",
         "5.3",
         "6.0",
         "8.3"
        ],
        [
         "Cylinders",
         "426.0",
         "5.807511737089202",
         "1.5584426332202217",
         "3.0",
         "4.0",
         "4.0",
         "4.0",
         "4.0",
         "6.0",
         "6.0",
         "8.0",
         "8.0",
         "9.5",
         "12.0"
        ],
        [
         "Horsepower",
         "428.0",
         "215.8855140186916",
         "71.83603158369077",
         "73.0",
         "103.0",
         "115.0",
         "130.0",
         "165.0",
         "210.0",
         "255.0",
         "302.0",
         "338.2499999999999",
         "469.7100000000005",
         "500.0"
        ],
        [
         "MPG_City",
         "428.0",
         "20.060747663551403",
         "5.238217638649044",
         "10.0",
         "12.0",
         "14.0",
         "15.0",
         "17.0",
         "19.0",
         "21.25",
         "26.0",
         "29.0",
         "35.73000000000002",
         "60.0"
        ],
        [
         "MPG_Highway",
         "428.0",
         "26.843457943925234",
         "5.741200716984228",
         "12.0",
         "16.27",
         "18.0",
         "20.0",
         "24.0",
         "26.0",
         "29.0",
         "33.30000000000001",
         "36.0",
         "43.73000000000002",
         "66.0"
        ],
        [
         "Weight",
         "428.0",
         "3577.9532710280373",
         "758.9832146098709",
         "1850.0",
         "2211.2",
         "2513.0",
         "2678.7",
         "3104.0",
         "3474.5",
         "3977.75",
         "4494.400000000001",
         "4995.45",
         "5824.730000000003",
         "7190.0"
        ],
        [
         "Wheelbase",
         "428.0",
         "108.15420560747664",
         "8.31181299108951",
         "89.0",
         "93.0",
         "95.35",
         "99.0",
         "103.0",
         "107.0",
         "112.0",
         "119.0",
         "123.0",
         "133.0",
         "144.0"
        ],
        [
         "Length",
         "428.0",
         "186.36214953271028",
         "14.357991256895623",
         "143.0",
         "153.27",
         "163.0",
         "168.0",
         "178.0",
         "187.0",
         "194.0",
         "204.0",
         "212.0",
         "222.0",
         "238.0"
        ]
       ],
       "shape": {
        "columns": 14,
        "rows": 10
       }
      },
      "text/html": [
       "<div>\n",
       "<style scoped>\n",
       "    .dataframe tbody tr th:only-of-type {\n",
       "        vertical-align: middle;\n",
       "    }\n",
       "\n",
       "    .dataframe tbody tr th {\n",
       "        vertical-align: top;\n",
       "    }\n",
       "\n",
       "    .dataframe thead th {\n",
       "        text-align: right;\n",
       "    }\n",
       "</style>\n",
       "<table border=\"1\" class=\"dataframe\">\n",
       "  <thead>\n",
       "    <tr style=\"text-align: right;\">\n",
       "      <th></th>\n",
       "      <th>count</th>\n",
       "      <th>mean</th>\n",
       "      <th>std</th>\n",
       "      <th>min</th>\n",
       "      <th>1%</th>\n",
       "      <th>5%</th>\n",
       "      <th>10%</th>\n",
       "      <th>25%</th>\n",
       "      <th>50%</th>\n",
       "      <th>75%</th>\n",
       "      <th>90%</th>\n",
       "      <th>95%</th>\n",
       "      <th>99%</th>\n",
       "      <th>max</th>\n",
       "    </tr>\n",
       "  </thead>\n",
       "  <tbody>\n",
       "    <tr>\n",
       "      <th>MSRP</th>\n",
       "      <td>428.0</td>\n",
       "      <td>32774.855140</td>\n",
       "      <td>19431.716674</td>\n",
       "      <td>10280.0</td>\n",
       "      <td>11191.45</td>\n",
       "      <td>13691.00</td>\n",
       "      <td>15484.5</td>\n",
       "      <td>20334.25</td>\n",
       "      <td>27635.0</td>\n",
       "      <td>39205.00</td>\n",
       "      <td>52781.0</td>\n",
       "      <td>72864.25</td>\n",
       "      <td>93659.00</td>\n",
       "      <td>192465.0</td>\n",
       "    </tr>\n",
       "    <tr>\n",
       "      <th>Invoice</th>\n",
       "      <td>428.0</td>\n",
       "      <td>30014.700935</td>\n",
       "      <td>17642.117750</td>\n",
       "      <td>9875.0</td>\n",
       "      <td>10659.01</td>\n",
       "      <td>12836.65</td>\n",
       "      <td>14459.7</td>\n",
       "      <td>18866.00</td>\n",
       "      <td>25294.5</td>\n",
       "      <td>35710.25</td>\n",
       "      <td>48103.3</td>\n",
       "      <td>66471.95</td>\n",
       "      <td>87244.27</td>\n",
       "      <td>173560.0</td>\n",
       "    </tr>\n",
       "    <tr>\n",
       "      <th>...</th>\n",
       "      <td>...</td>\n",
       "      <td>...</td>\n",
       "      <td>...</td>\n",
       "      <td>...</td>\n",
       "      <td>...</td>\n",
       "      <td>...</td>\n",
       "      <td>...</td>\n",
       "      <td>...</td>\n",
       "      <td>...</td>\n",
       "      <td>...</td>\n",
       "      <td>...</td>\n",
       "      <td>...</td>\n",
       "      <td>...</td>\n",
       "      <td>...</td>\n",
       "    </tr>\n",
       "    <tr>\n",
       "      <th>Wheelbase</th>\n",
       "      <td>428.0</td>\n",
       "      <td>108.154206</td>\n",
       "      <td>8.311813</td>\n",
       "      <td>89.0</td>\n",
       "      <td>93.00</td>\n",
       "      <td>95.35</td>\n",
       "      <td>99.0</td>\n",
       "      <td>103.00</td>\n",
       "      <td>107.0</td>\n",
       "      <td>112.00</td>\n",
       "      <td>119.0</td>\n",
       "      <td>123.00</td>\n",
       "      <td>133.00</td>\n",
       "      <td>144.0</td>\n",
       "    </tr>\n",
       "    <tr>\n",
       "      <th>Length</th>\n",
       "      <td>428.0</td>\n",
       "      <td>186.362150</td>\n",
       "      <td>14.357991</td>\n",
       "      <td>143.0</td>\n",
       "      <td>153.27</td>\n",
       "      <td>163.00</td>\n",
       "      <td>168.0</td>\n",
       "      <td>178.00</td>\n",
       "      <td>187.0</td>\n",
       "      <td>194.00</td>\n",
       "      <td>204.0</td>\n",
       "      <td>212.00</td>\n",
       "      <td>222.00</td>\n",
       "      <td>238.0</td>\n",
       "    </tr>\n",
       "  </tbody>\n",
       "</table>\n",
       "<p>10 rows × 14 columns</p>\n",
       "</div>"
      ],
      "text/plain": [
       "           count          mean           std      min        1%        5%  \\\n",
       "MSRP       428.0  32774.855140  19431.716674  10280.0  11191.45  13691.00   \n",
       "Invoice    428.0  30014.700935  17642.117750   9875.0  10659.01  12836.65   \n",
       "...          ...           ...           ...      ...       ...       ...   \n",
       "Wheelbase  428.0    108.154206      8.311813     89.0     93.00     95.35   \n",
       "Length     428.0    186.362150     14.357991    143.0    153.27    163.00   \n",
       "\n",
       "               10%       25%      50%       75%      90%       95%       99%  \\\n",
       "MSRP       15484.5  20334.25  27635.0  39205.00  52781.0  72864.25  93659.00   \n",
       "Invoice    14459.7  18866.00  25294.5  35710.25  48103.3  66471.95  87244.27   \n",
       "...            ...       ...      ...       ...      ...       ...       ...   \n",
       "Wheelbase     99.0    103.00    107.0    112.00    119.0    123.00    133.00   \n",
       "Length       168.0    178.00    187.0    194.00    204.0    212.00    222.00   \n",
       "\n",
       "                max  \n",
       "MSRP       192465.0  \n",
       "Invoice    173560.0  \n",
       "...             ...  \n",
       "Wheelbase     144.0  \n",
       "Length        238.0  \n",
       "\n",
       "[10 rows x 14 columns]"
      ]
     },
     "metadata": {},
     "output_type": "display_data"
    }
   ],
   "source": [
    "with pd.option_context('display.max_rows', 5):\n",
    "    display(cars.describe(include=[np.number], \n",
    "                 percentiles=[.01, .05, .10, .25, .5, .75, .9, .95, .99]).T)"
   ]
  },
  {
   "cell_type": "code",
   "execution_count": 45,
   "id": "ac28592a",
   "metadata": {},
   "outputs": [
    {
     "data": {
      "application/vnd.microsoft.datawrangler.viewer.v0+json": {
       "columns": [
        {
         "name": "Origin",
         "rawType": "object",
         "type": "string"
        },
        {
         "name": "count",
         "rawType": "float64",
         "type": "float"
        },
        {
         "name": "mean",
         "rawType": "float64",
         "type": "float"
        },
        {
         "name": "std",
         "rawType": "float64",
         "type": "float"
        },
        {
         "name": "min",
         "rawType": "float64",
         "type": "float"
        },
        {
         "name": "25%",
         "rawType": "float64",
         "type": "float"
        },
        {
         "name": "50%",
         "rawType": "float64",
         "type": "float"
        },
        {
         "name": "75%",
         "rawType": "float64",
         "type": "float"
        },
        {
         "name": "max",
         "rawType": "float64",
         "type": "float"
        }
       ],
       "ref": "738f3a68-b35e-472d-8611-20f87565afea",
       "rows": [
        [
         "Asia",
         "158.0",
         "3.0",
         "1.0",
         "1.0",
         "2.0",
         "3.0",
         "4.0",
         "6.0"
        ],
        [
         "Europe",
         "123.0",
         "3.0",
         "1.0",
         "2.0",
         "2.0",
         "3.0",
         "4.0",
         "6.0"
        ],
        [
         "USA",
         "147.0",
         "4.0",
         "1.0",
         "2.0",
         "3.0",
         "4.0",
         "5.0",
         "8.0"
        ]
       ],
       "shape": {
        "columns": 8,
        "rows": 3
       }
      },
      "text/html": [
       "<div>\n",
       "<style scoped>\n",
       "    .dataframe tbody tr th:only-of-type {\n",
       "        vertical-align: middle;\n",
       "    }\n",
       "\n",
       "    .dataframe tbody tr th {\n",
       "        vertical-align: top;\n",
       "    }\n",
       "\n",
       "    .dataframe thead th {\n",
       "        text-align: right;\n",
       "    }\n",
       "</style>\n",
       "<table border=\"1\" class=\"dataframe\">\n",
       "  <thead>\n",
       "    <tr style=\"text-align: right;\">\n",
       "      <th></th>\n",
       "      <th>count</th>\n",
       "      <th>mean</th>\n",
       "      <th>std</th>\n",
       "      <th>min</th>\n",
       "      <th>25%</th>\n",
       "      <th>50%</th>\n",
       "      <th>75%</th>\n",
       "      <th>max</th>\n",
       "    </tr>\n",
       "    <tr>\n",
       "      <th>Origin</th>\n",
       "      <th></th>\n",
       "      <th></th>\n",
       "      <th></th>\n",
       "      <th></th>\n",
       "      <th></th>\n",
       "      <th></th>\n",
       "      <th></th>\n",
       "      <th></th>\n",
       "    </tr>\n",
       "  </thead>\n",
       "  <tbody>\n",
       "    <tr>\n",
       "      <th>Asia</th>\n",
       "      <td>158.0</td>\n",
       "      <td>3.0</td>\n",
       "      <td>1.0</td>\n",
       "      <td>1.0</td>\n",
       "      <td>2.0</td>\n",
       "      <td>3.0</td>\n",
       "      <td>4.0</td>\n",
       "      <td>6.0</td>\n",
       "    </tr>\n",
       "    <tr>\n",
       "      <th>Europe</th>\n",
       "      <td>123.0</td>\n",
       "      <td>3.0</td>\n",
       "      <td>1.0</td>\n",
       "      <td>2.0</td>\n",
       "      <td>2.0</td>\n",
       "      <td>3.0</td>\n",
       "      <td>4.0</td>\n",
       "      <td>6.0</td>\n",
       "    </tr>\n",
       "    <tr>\n",
       "      <th>USA</th>\n",
       "      <td>147.0</td>\n",
       "      <td>4.0</td>\n",
       "      <td>1.0</td>\n",
       "      <td>2.0</td>\n",
       "      <td>3.0</td>\n",
       "      <td>4.0</td>\n",
       "      <td>5.0</td>\n",
       "      <td>8.0</td>\n",
       "    </tr>\n",
       "  </tbody>\n",
       "</table>\n",
       "</div>"
      ],
      "text/plain": [
       "        count  mean  std  min  25%  50%  75%  max\n",
       "Origin                                           \n",
       "Asia    158.0   3.0  1.0  1.0  2.0  3.0  4.0  6.0\n",
       "Europe  123.0   3.0  1.0  2.0  2.0  3.0  4.0  6.0\n",
       "USA     147.0   4.0  1.0  2.0  3.0  4.0  5.0  8.0"
      ]
     },
     "execution_count": 45,
     "metadata": {},
     "output_type": "execute_result"
    }
   ],
   "source": [
    "cars.groupby(['Origin'])['EngineSize'].describe().round()\n"
   ]
  },
  {
   "cell_type": "code",
   "execution_count": 46,
   "id": "b50df199",
   "metadata": {},
   "outputs": [
    {
     "data": {
      "application/vnd.microsoft.datawrangler.viewer.v0+json": {
       "columns": [
        {
         "name": "Origin",
         "rawType": "object",
         "type": "string"
        },
        {
         "name": "('EngineSize', 'count')",
         "rawType": "float64",
         "type": "float"
        },
        {
         "name": "('EngineSize', 'mean')",
         "rawType": "float64",
         "type": "float"
        },
        {
         "name": "('EngineSize', 'std')",
         "rawType": "float64",
         "type": "float"
        },
        {
         "name": "('EngineSize', 'min')",
         "rawType": "float64",
         "type": "float"
        },
        {
         "name": "('EngineSize', '25%')",
         "rawType": "float64",
         "type": "float"
        },
        {
         "name": "('EngineSize', '50%')",
         "rawType": "float64",
         "type": "float"
        },
        {
         "name": "('EngineSize', '75%')",
         "rawType": "float64",
         "type": "float"
        },
        {
         "name": "('EngineSize', 'max')",
         "rawType": "float64",
         "type": "float"
        },
        {
         "name": "('MPG_City', 'count')",
         "rawType": "float64",
         "type": "float"
        },
        {
         "name": "('MPG_City', 'mean')",
         "rawType": "float64",
         "type": "float"
        },
        {
         "name": "('MPG_City', 'std')",
         "rawType": "float64",
         "type": "float"
        },
        {
         "name": "('MPG_City', 'min')",
         "rawType": "float64",
         "type": "float"
        },
        {
         "name": "('MPG_City', '25%')",
         "rawType": "float64",
         "type": "float"
        },
        {
         "name": "('MPG_City', '50%')",
         "rawType": "float64",
         "type": "float"
        },
        {
         "name": "('MPG_City', '75%')",
         "rawType": "float64",
         "type": "float"
        },
        {
         "name": "('MPG_City', 'max')",
         "rawType": "float64",
         "type": "float"
        }
       ],
       "ref": "aafa63f0-3cac-4eeb-8b2a-c0d54b11cf15",
       "rows": [
        [
         "Asia",
         "158.0",
         "3.0",
         "1.0",
         "1.0",
         "2.0",
         "3.0",
         "4.0",
         "6.0",
         "158.0",
         "22.0",
         "7.0",
         "13.0",
         "18.0",
         "20.0",
         "24.0",
         "60.0"
        ],
        [
         "Europe",
         "123.0",
         "3.0",
         "1.0",
         "2.0",
         "2.0",
         "3.0",
         "4.0",
         "6.0",
         "123.0",
         "19.0",
         "3.0",
         "12.0",
         "17.0",
         "19.0",
         "20.0",
         "38.0"
        ],
        [
         "USA",
         "147.0",
         "4.0",
         "1.0",
         "2.0",
         "3.0",
         "4.0",
         "5.0",
         "8.0",
         "147.0",
         "19.0",
         "4.0",
         "10.0",
         "17.0",
         "18.0",
         "21.0",
         "29.0"
        ]
       ],
       "shape": {
        "columns": 16,
        "rows": 3
       }
      },
      "text/html": [
       "<div>\n",
       "<style scoped>\n",
       "    .dataframe tbody tr th:only-of-type {\n",
       "        vertical-align: middle;\n",
       "    }\n",
       "\n",
       "    .dataframe tbody tr th {\n",
       "        vertical-align: top;\n",
       "    }\n",
       "\n",
       "    .dataframe thead tr th {\n",
       "        text-align: left;\n",
       "    }\n",
       "\n",
       "    .dataframe thead tr:last-of-type th {\n",
       "        text-align: right;\n",
       "    }\n",
       "</style>\n",
       "<table border=\"1\" class=\"dataframe\">\n",
       "  <thead>\n",
       "    <tr>\n",
       "      <th></th>\n",
       "      <th colspan=\"8\" halign=\"left\">EngineSize</th>\n",
       "      <th colspan=\"8\" halign=\"left\">MPG_City</th>\n",
       "    </tr>\n",
       "    <tr>\n",
       "      <th></th>\n",
       "      <th>count</th>\n",
       "      <th>mean</th>\n",
       "      <th>std</th>\n",
       "      <th>min</th>\n",
       "      <th>25%</th>\n",
       "      <th>50%</th>\n",
       "      <th>75%</th>\n",
       "      <th>max</th>\n",
       "      <th>count</th>\n",
       "      <th>mean</th>\n",
       "      <th>std</th>\n",
       "      <th>min</th>\n",
       "      <th>25%</th>\n",
       "      <th>50%</th>\n",
       "      <th>75%</th>\n",
       "      <th>max</th>\n",
       "    </tr>\n",
       "    <tr>\n",
       "      <th>Origin</th>\n",
       "      <th></th>\n",
       "      <th></th>\n",
       "      <th></th>\n",
       "      <th></th>\n",
       "      <th></th>\n",
       "      <th></th>\n",
       "      <th></th>\n",
       "      <th></th>\n",
       "      <th></th>\n",
       "      <th></th>\n",
       "      <th></th>\n",
       "      <th></th>\n",
       "      <th></th>\n",
       "      <th></th>\n",
       "      <th></th>\n",
       "      <th></th>\n",
       "    </tr>\n",
       "  </thead>\n",
       "  <tbody>\n",
       "    <tr>\n",
       "      <th>Asia</th>\n",
       "      <td>158.0</td>\n",
       "      <td>3.0</td>\n",
       "      <td>1.0</td>\n",
       "      <td>1.0</td>\n",
       "      <td>2.0</td>\n",
       "      <td>3.0</td>\n",
       "      <td>4.0</td>\n",
       "      <td>6.0</td>\n",
       "      <td>158.0</td>\n",
       "      <td>22.0</td>\n",
       "      <td>7.0</td>\n",
       "      <td>13.0</td>\n",
       "      <td>18.0</td>\n",
       "      <td>20.0</td>\n",
       "      <td>24.0</td>\n",
       "      <td>60.0</td>\n",
       "    </tr>\n",
       "    <tr>\n",
       "      <th>Europe</th>\n",
       "      <td>123.0</td>\n",
       "      <td>3.0</td>\n",
       "      <td>1.0</td>\n",
       "      <td>2.0</td>\n",
       "      <td>2.0</td>\n",
       "      <td>3.0</td>\n",
       "      <td>4.0</td>\n",
       "      <td>6.0</td>\n",
       "      <td>123.0</td>\n",
       "      <td>19.0</td>\n",
       "      <td>3.0</td>\n",
       "      <td>12.0</td>\n",
       "      <td>17.0</td>\n",
       "      <td>19.0</td>\n",
       "      <td>20.0</td>\n",
       "      <td>38.0</td>\n",
       "    </tr>\n",
       "    <tr>\n",
       "      <th>USA</th>\n",
       "      <td>147.0</td>\n",
       "      <td>4.0</td>\n",
       "      <td>1.0</td>\n",
       "      <td>2.0</td>\n",
       "      <td>3.0</td>\n",
       "      <td>4.0</td>\n",
       "      <td>5.0</td>\n",
       "      <td>8.0</td>\n",
       "      <td>147.0</td>\n",
       "      <td>19.0</td>\n",
       "      <td>4.0</td>\n",
       "      <td>10.0</td>\n",
       "      <td>17.0</td>\n",
       "      <td>18.0</td>\n",
       "      <td>21.0</td>\n",
       "      <td>29.0</td>\n",
       "    </tr>\n",
       "  </tbody>\n",
       "</table>\n",
       "</div>"
      ],
      "text/plain": [
       "       EngineSize                                    MPG_City             \\\n",
       "            count mean  std  min  25%  50%  75%  max    count  mean  std   \n",
       "Origin                                                                     \n",
       "Asia        158.0  3.0  1.0  1.0  2.0  3.0  4.0  6.0    158.0  22.0  7.0   \n",
       "Europe      123.0  3.0  1.0  2.0  2.0  3.0  4.0  6.0    123.0  19.0  3.0   \n",
       "USA         147.0  4.0  1.0  2.0  3.0  4.0  5.0  8.0    147.0  19.0  4.0   \n",
       "\n",
       "                                      \n",
       "         min   25%   50%   75%   max  \n",
       "Origin                                \n",
       "Asia    13.0  18.0  20.0  24.0  60.0  \n",
       "Europe  12.0  17.0  19.0  20.0  38.0  \n",
       "USA     10.0  17.0  18.0  21.0  29.0  "
      ]
     },
     "execution_count": 46,
     "metadata": {},
     "output_type": "execute_result"
    }
   ],
   "source": [
    "cars.groupby(['Origin'])[['EngineSize', 'MPG_City']].describe().round()\n"
   ]
  },
  {
   "cell_type": "code",
   "execution_count": 47,
   "id": "0225968f",
   "metadata": {},
   "outputs": [
    {
     "data": {
      "application/vnd.microsoft.datawrangler.viewer.v0+json": {
       "columns": [
        {
         "name": "('Origin', 'Make')",
         "rawType": "object",
         "type": "unknown"
        },
        {
         "name": "('EngineSize', 'count')",
         "rawType": "float64",
         "type": "float"
        },
        {
         "name": "('EngineSize', 'mean')",
         "rawType": "float64",
         "type": "float"
        },
        {
         "name": "('EngineSize', 'std')",
         "rawType": "float64",
         "type": "float"
        },
        {
         "name": "('EngineSize', 'min')",
         "rawType": "float64",
         "type": "float"
        },
        {
         "name": "('EngineSize', '25%')",
         "rawType": "float64",
         "type": "float"
        },
        {
         "name": "('EngineSize', '50%')",
         "rawType": "float64",
         "type": "float"
        },
        {
         "name": "('EngineSize', '75%')",
         "rawType": "float64",
         "type": "float"
        },
        {
         "name": "('EngineSize', 'max')",
         "rawType": "float64",
         "type": "float"
        },
        {
         "name": "('MPG_City', 'count')",
         "rawType": "float64",
         "type": "float"
        },
        {
         "name": "('MPG_City', 'mean')",
         "rawType": "float64",
         "type": "float"
        },
        {
         "name": "('MPG_City', 'std')",
         "rawType": "float64",
         "type": "float"
        },
        {
         "name": "('MPG_City', 'min')",
         "rawType": "float64",
         "type": "float"
        },
        {
         "name": "('MPG_City', '25%')",
         "rawType": "float64",
         "type": "float"
        },
        {
         "name": "('MPG_City', '50%')",
         "rawType": "float64",
         "type": "float"
        },
        {
         "name": "('MPG_City', '75%')",
         "rawType": "float64",
         "type": "float"
        },
        {
         "name": "('MPG_City', 'max')",
         "rawType": "float64",
         "type": "float"
        }
       ],
       "ref": "e62abcbe-29cc-41fb-ace5-90f22114ede5",
       "rows": [
        [
         "('Asia', 'Acura')",
         "7.0",
         "3.0",
         "1.0",
         "2.0",
         "3.0",
         "3.0",
         "4.0",
         "4.0",
         "7.0",
         "19.0",
         "3.0",
         "17.0",
         "18.0",
         "18.0",
         "21.0",
         "24.0"
        ],
        [
         "('Asia', 'Honda')",
         "17.0",
         "2.0",
         "1.0",
         "1.0",
         "2.0",
         "2.0",
         "3.0",
         "4.0",
         "17.0",
         "28.0",
         "11.0",
         "17.0",
         "21.0",
         "26.0",
         "32.0",
         "60.0"
        ],
        [
         "('Asia', 'Hyundai')",
         "12.0",
         "2.0",
         "1.0",
         "2.0",
         "2.0",
         "2.0",
         "3.0",
         "4.0",
         "12.0",
         "23.0",
         "5.0",
         "17.0",
         "19.0",
         "23.0",
         "27.0",
         "29.0"
        ],
        [
         "('Asia', 'Infiniti')",
         "8.0",
         "4.0",
         "1.0",
         "4.0",
         "4.0",
         "4.0",
         "4.0",
         "4.0",
         "8.0",
         "17.0",
         "1.0",
         "15.0",
         "17.0",
         "18.0",
         "18.0",
         "19.0"
        ],
        [
         "('Asia', 'Isuzu')",
         "2.0",
         "4.0",
         "1.0",
         "3.0",
         "3.0",
         "4.0",
         "4.0",
         "4.0",
         "2.0",
         "16.0",
         "1.0",
         "15.0",
         "16.0",
         "16.0",
         "16.0",
         "17.0"
        ],
        [
         "('Asia', 'Kia')",
         "11.0",
         "2.0",
         "1.0",
         "2.0",
         "2.0",
         "2.0",
         "3.0",
         "4.0",
         "11.0",
         "22.0",
         "4.0",
         "16.0",
         "18.0",
         "24.0",
         "24.0",
         "26.0"
        ],
        [
         "('Asia', 'Lexus')",
         "11.0",
         "4.0",
         "1.0",
         "3.0",
         "3.0",
         "3.0",
         "4.0",
         "5.0",
         "11.0",
         "17.0",
         "2.0",
         "13.0",
         "18.0",
         "18.0",
         "18.0",
         "20.0"
        ],
        [
         "('Asia', 'Mazda')",
         "11.0",
         "2.0",
         "1.0",
         "1.0",
         "2.0",
         "2.0",
         "2.0",
         "4.0",
         "11.0",
         "21.0",
         "4.0",
         "15.0",
         "18.0",
         "23.0",
         "24.0",
         "26.0"
        ],
        [
         "('Asia', 'Mitsubishi')",
         "13.0",
         "3.0",
         "1.0",
         "2.0",
         "2.0",
         "2.0",
         "4.0",
         "4.0",
         "13.0",
         "21.0",
         "3.0",
         "15.0",
         "18.0",
         "21.0",
         "25.0",
         "25.0"
        ],
        [
         "('Asia', 'Nissan')",
         "17.0",
         "3.0",
         "1.0",
         "2.0",
         "3.0",
         "4.0",
         "4.0",
         "6.0",
         "17.0",
         "20.0",
         "4.0",
         "13.0",
         "17.0",
         "20.0",
         "21.0",
         "28.0"
        ],
        [
         "('Asia', 'Scion')",
         "2.0",
         "2.0",
         "0.0",
         "2.0",
         "2.0",
         "2.0",
         "2.0",
         "2.0",
         "2.0",
         "32.0",
         "1.0",
         "31.0",
         "31.0",
         "32.0",
         "32.0",
         "32.0"
        ],
        [
         "('Asia', 'Subaru')",
         "11.0",
         "3.0",
         "0.0",
         "2.0",
         "2.0",
         "2.0",
         "2.0",
         "3.0",
         "11.0",
         "20.0",
         "1.0",
         "18.0",
         "20.0",
         "21.0",
         "21.0",
         "22.0"
        ],
        [
         "('Asia', 'Suzuki')",
         "8.0",
         "2.0",
         "0.0",
         "2.0",
         "2.0",
         "2.0",
         "2.0",
         "3.0",
         "8.0",
         "22.0",
         "3.0",
         "18.0",
         "20.0",
         "23.0",
         "24.0",
         "25.0"
        ],
        [
         "('Asia', 'Toyota')",
         "28.0",
         "3.0",
         "1.0",
         "2.0",
         "2.0",
         "3.0",
         "3.0",
         "5.0",
         "28.0",
         "24.0",
         "9.0",
         "13.0",
         "19.0",
         "22.0",
         "30.0",
         "59.0"
        ],
        [
         "('Europe', 'Audi')",
         "19.0",
         "3.0",
         "1.0",
         "2.0",
         "3.0",
         "3.0",
         "4.0",
         "4.0",
         "19.0",
         "18.0",
         "2.0",
         "14.0",
         "17.0",
         "18.0",
         "20.0",
         "23.0"
        ],
        [
         "('Europe', 'BMW')",
         "20.0",
         "3.0",
         "1.0",
         "2.0",
         "2.0",
         "3.0",
         "3.0",
         "4.0",
         "20.0",
         "19.0",
         "2.0",
         "16.0",
         "18.0",
         "19.0",
         "20.0",
         "21.0"
        ],
        [
         "('Europe', 'Jaguar')",
         "12.0",
         "4.0",
         "1.0",
         "2.0",
         "4.0",
         "4.0",
         "4.0",
         "4.0",
         "12.0",
         "18.0",
         "1.0",
         "16.0",
         "17.0",
         "18.0",
         "18.0",
         "18.0"
        ],
        [
         "('Europe', 'Land Rover')",
         "3.0",
         "4.0",
         "1.0",
         "2.0",
         "3.0",
         "4.0",
         "4.0",
         "5.0",
         "3.0",
         "14.0",
         "3.0",
         "12.0",
         "12.0",
         "12.0",
         "15.0",
         "18.0"
        ],
        [
         "('Europe', 'MINI')",
         "2.0",
         "2.0",
         "0.0",
         "2.0",
         "2.0",
         "2.0",
         "2.0",
         "2.0",
         "2.0",
         "26.0",
         "2.0",
         "25.0",
         "26.0",
         "26.0",
         "27.0",
         "28.0"
        ],
        [
         "('Europe', 'Mercedes-Benz')",
         "26.0",
         "4.0",
         "1.0",
         "2.0",
         "3.0",
         "3.0",
         "5.0",
         "6.0",
         "26.0",
         "17.0",
         "3.0",
         "13.0",
         "16.0",
         "18.0",
         "19.0",
         "22.0"
        ],
        [
         "('Europe', 'Porsche')",
         "7.0",
         "4.0",
         "1.0",
         "3.0",
         "3.0",
         "4.0",
         "4.0",
         "4.0",
         "7.0",
         "17.0",
         "2.0",
         "14.0",
         "17.0",
         "18.0",
         "18.0",
         "20.0"
        ],
        [
         "('Europe', 'Saab')",
         "7.0",
         "2.0",
         "0.0",
         "2.0",
         "2.0",
         "2.0",
         "2.0",
         "2.0",
         "7.0",
         "20.0",
         "1.0",
         "19.0",
         "20.0",
         "21.0",
         "21.0",
         "21.0"
        ],
        [
         "('Europe', 'Volkswagen')",
         "15.0",
         "3.0",
         "1.0",
         "2.0",
         "2.0",
         "2.0",
         "4.0",
         "6.0",
         "15.0",
         "21.0",
         "6.0",
         "12.0",
         "18.0",
         "22.0",
         "24.0",
         "38.0"
        ],
        [
         "('Europe', 'Volvo')",
         "12.0",
         "2.0",
         "0.0",
         "2.0",
         "2.0",
         "2.0",
         "3.0",
         "3.0",
         "12.0",
         "20.0",
         "2.0",
         "15.0",
         "20.0",
         "20.0",
         "20.0",
         "22.0"
        ],
        [
         "('USA', 'Buick')",
         "9.0",
         "4.0",
         "0.0",
         "3.0",
         "4.0",
         "4.0",
         "4.0",
         "4.0",
         "9.0",
         "19.0",
         "2.0",
         "15.0",
         "18.0",
         "20.0",
         "20.0",
         "20.0"
        ],
        [
         "('USA', 'Cadillac')",
         "8.0",
         "5.0",
         "1.0",
         "4.0",
         "5.0",
         "5.0",
         "5.0",
         "6.0",
         "8.0",
         "16.0",
         "2.0",
         "13.0",
         "16.0",
         "18.0",
         "18.0",
         "18.0"
        ],
        [
         "('USA', 'Chevrolet')",
         "27.0",
         "4.0",
         "1.0",
         "2.0",
         "3.0",
         "4.0",
         "5.0",
         "6.0",
         "27.0",
         "20.0",
         "5.0",
         "13.0",
         "16.0",
         "19.0",
         "22.0",
         "28.0"
        ],
        [
         "('USA', 'Chrysler')",
         "15.0",
         "3.0",
         "1.0",
         "2.0",
         "2.0",
         "3.0",
         "4.0",
         "4.0",
         "15.0",
         "20.0",
         "2.0",
         "17.0",
         "18.0",
         "21.0",
         "22.0",
         "22.0"
        ],
        [
         "('USA', 'Dodge')",
         "13.0",
         "3.0",
         "2.0",
         "2.0",
         "2.0",
         "4.0",
         "4.0",
         "8.0",
         "13.0",
         "19.0",
         "5.0",
         "12.0",
         "16.0",
         "18.0",
         "21.0",
         "29.0"
        ],
        [
         "('USA', 'Ford')",
         "23.0",
         "4.0",
         "1.0",
         "2.0",
         "2.0",
         "4.0",
         "5.0",
         "7.0",
         "23.0",
         "19.0",
         "5.0",
         "10.0",
         "17.0",
         "18.0",
         "22.0",
         "27.0"
        ],
        [
         "('USA', 'GMC')",
         "8.0",
         "5.0",
         "1.0",
         "3.0",
         "4.0",
         "5.0",
         "5.0",
         "6.0",
         "8.0",
         "15.0",
         "2.0",
         "13.0",
         "14.0",
         "16.0",
         "16.0",
         "18.0"
        ],
        [
         "('USA', 'Hummer')",
         "1.0",
         "6.0",
         null,
         "6.0",
         "6.0",
         "6.0",
         "6.0",
         "6.0",
         "1.0",
         "10.0",
         null,
         "10.0",
         "10.0",
         "10.0",
         "10.0",
         "10.0"
        ],
        [
         "('USA', 'Jeep')",
         "3.0",
         "3.0",
         "1.0",
         "2.0",
         "3.0",
         "4.0",
         "4.0",
         "4.0",
         "3.0",
         "17.0",
         "2.0",
         "16.0",
         "16.0",
         "16.0",
         "18.0",
         "20.0"
        ],
        [
         "('USA', 'Lincoln')",
         "9.0",
         "4.0",
         "1.0",
         "3.0",
         "4.0",
         "5.0",
         "5.0",
         "5.0",
         "9.0",
         "17.0",
         "2.0",
         "13.0",
         "17.0",
         "17.0",
         "17.0",
         "20.0"
        ],
        [
         "('USA', 'Mercury')",
         "9.0",
         "4.0",
         "1.0",
         "3.0",
         "3.0",
         "4.0",
         "5.0",
         "5.0",
         "9.0",
         "18.0",
         "1.0",
         "16.0",
         "17.0",
         "17.0",
         "19.0",
         "20.0"
        ],
        [
         "('USA', 'Oldsmobile')",
         "3.0",
         "3.0",
         "1.0",
         "2.0",
         "3.0",
         "3.0",
         "3.0",
         "3.0",
         "3.0",
         "21.0",
         "3.0",
         "19.0",
         "20.0",
         "20.0",
         "22.0",
         "24.0"
        ],
        [
         "('USA', 'Pontiac')",
         "11.0",
         "3.0",
         "1.0",
         "2.0",
         "3.0",
         "3.0",
         "4.0",
         "6.0",
         "11.0",
         "21.0",
         "4.0",
         "16.0",
         "18.0",
         "20.0",
         "22.0",
         "29.0"
        ],
        [
         "('USA', 'Saturn')",
         "8.0",
         "2.0",
         "0.0",
         "2.0",
         "2.0",
         "2.0",
         "2.0",
         "3.0",
         "8.0",
         "24.0",
         "3.0",
         "20.0",
         "23.0",
         "26.0",
         "26.0",
         "26.0"
        ]
       ],
       "shape": {
        "columns": 16,
        "rows": 38
       }
      },
      "text/html": [
       "<div>\n",
       "<style scoped>\n",
       "    .dataframe tbody tr th:only-of-type {\n",
       "        vertical-align: middle;\n",
       "    }\n",
       "\n",
       "    .dataframe tbody tr th {\n",
       "        vertical-align: top;\n",
       "    }\n",
       "\n",
       "    .dataframe thead tr th {\n",
       "        text-align: left;\n",
       "    }\n",
       "\n",
       "    .dataframe thead tr:last-of-type th {\n",
       "        text-align: right;\n",
       "    }\n",
       "</style>\n",
       "<table border=\"1\" class=\"dataframe\">\n",
       "  <thead>\n",
       "    <tr>\n",
       "      <th></th>\n",
       "      <th></th>\n",
       "      <th colspan=\"8\" halign=\"left\">EngineSize</th>\n",
       "      <th colspan=\"8\" halign=\"left\">MPG_City</th>\n",
       "    </tr>\n",
       "    <tr>\n",
       "      <th></th>\n",
       "      <th></th>\n",
       "      <th>count</th>\n",
       "      <th>mean</th>\n",
       "      <th>std</th>\n",
       "      <th>min</th>\n",
       "      <th>25%</th>\n",
       "      <th>50%</th>\n",
       "      <th>75%</th>\n",
       "      <th>max</th>\n",
       "      <th>count</th>\n",
       "      <th>mean</th>\n",
       "      <th>std</th>\n",
       "      <th>min</th>\n",
       "      <th>25%</th>\n",
       "      <th>50%</th>\n",
       "      <th>75%</th>\n",
       "      <th>max</th>\n",
       "    </tr>\n",
       "    <tr>\n",
       "      <th>Origin</th>\n",
       "      <th>Make</th>\n",
       "      <th></th>\n",
       "      <th></th>\n",
       "      <th></th>\n",
       "      <th></th>\n",
       "      <th></th>\n",
       "      <th></th>\n",
       "      <th></th>\n",
       "      <th></th>\n",
       "      <th></th>\n",
       "      <th></th>\n",
       "      <th></th>\n",
       "      <th></th>\n",
       "      <th></th>\n",
       "      <th></th>\n",
       "      <th></th>\n",
       "      <th></th>\n",
       "    </tr>\n",
       "  </thead>\n",
       "  <tbody>\n",
       "    <tr>\n",
       "      <th rowspan=\"14\" valign=\"top\">Asia</th>\n",
       "      <th>Acura</th>\n",
       "      <td>7.0</td>\n",
       "      <td>3.0</td>\n",
       "      <td>1.0</td>\n",
       "      <td>2.0</td>\n",
       "      <td>3.0</td>\n",
       "      <td>3.0</td>\n",
       "      <td>4.0</td>\n",
       "      <td>4.0</td>\n",
       "      <td>7.0</td>\n",
       "      <td>19.0</td>\n",
       "      <td>3.0</td>\n",
       "      <td>17.0</td>\n",
       "      <td>18.0</td>\n",
       "      <td>18.0</td>\n",
       "      <td>21.0</td>\n",
       "      <td>24.0</td>\n",
       "    </tr>\n",
       "    <tr>\n",
       "      <th>Honda</th>\n",
       "      <td>17.0</td>\n",
       "      <td>2.0</td>\n",
       "      <td>1.0</td>\n",
       "      <td>1.0</td>\n",
       "      <td>2.0</td>\n",
       "      <td>2.0</td>\n",
       "      <td>3.0</td>\n",
       "      <td>4.0</td>\n",
       "      <td>17.0</td>\n",
       "      <td>28.0</td>\n",
       "      <td>11.0</td>\n",
       "      <td>17.0</td>\n",
       "      <td>21.0</td>\n",
       "      <td>26.0</td>\n",
       "      <td>32.0</td>\n",
       "      <td>60.0</td>\n",
       "    </tr>\n",
       "    <tr>\n",
       "      <th>Hyundai</th>\n",
       "      <td>12.0</td>\n",
       "      <td>2.0</td>\n",
       "      <td>1.0</td>\n",
       "      <td>2.0</td>\n",
       "      <td>2.0</td>\n",
       "      <td>2.0</td>\n",
       "      <td>3.0</td>\n",
       "      <td>4.0</td>\n",
       "      <td>12.0</td>\n",
       "      <td>23.0</td>\n",
       "      <td>5.0</td>\n",
       "      <td>17.0</td>\n",
       "      <td>19.0</td>\n",
       "      <td>23.0</td>\n",
       "      <td>27.0</td>\n",
       "      <td>29.0</td>\n",
       "    </tr>\n",
       "    <tr>\n",
       "      <th>Infiniti</th>\n",
       "      <td>8.0</td>\n",
       "      <td>4.0</td>\n",
       "      <td>1.0</td>\n",
       "      <td>4.0</td>\n",
       "      <td>4.0</td>\n",
       "      <td>4.0</td>\n",
       "      <td>4.0</td>\n",
       "      <td>4.0</td>\n",
       "      <td>8.0</td>\n",
       "      <td>17.0</td>\n",
       "      <td>1.0</td>\n",
       "      <td>15.0</td>\n",
       "      <td>17.0</td>\n",
       "      <td>18.0</td>\n",
       "      <td>18.0</td>\n",
       "      <td>19.0</td>\n",
       "    </tr>\n",
       "    <tr>\n",
       "      <th>Isuzu</th>\n",
       "      <td>2.0</td>\n",
       "      <td>4.0</td>\n",
       "      <td>1.0</td>\n",
       "      <td>3.0</td>\n",
       "      <td>3.0</td>\n",
       "      <td>4.0</td>\n",
       "      <td>4.0</td>\n",
       "      <td>4.0</td>\n",
       "      <td>2.0</td>\n",
       "      <td>16.0</td>\n",
       "      <td>1.0</td>\n",
       "      <td>15.0</td>\n",
       "      <td>16.0</td>\n",
       "      <td>16.0</td>\n",
       "      <td>16.0</td>\n",
       "      <td>17.0</td>\n",
       "    </tr>\n",
       "    <tr>\n",
       "      <th>Kia</th>\n",
       "      <td>11.0</td>\n",
       "      <td>2.0</td>\n",
       "      <td>1.0</td>\n",
       "      <td>2.0</td>\n",
       "      <td>2.0</td>\n",
       "      <td>2.0</td>\n",
       "      <td>3.0</td>\n",
       "      <td>4.0</td>\n",
       "      <td>11.0</td>\n",
       "      <td>22.0</td>\n",
       "      <td>4.0</td>\n",
       "      <td>16.0</td>\n",
       "      <td>18.0</td>\n",
       "      <td>24.0</td>\n",
       "      <td>24.0</td>\n",
       "      <td>26.0</td>\n",
       "    </tr>\n",
       "    <tr>\n",
       "      <th>Lexus</th>\n",
       "      <td>11.0</td>\n",
       "      <td>4.0</td>\n",
       "      <td>1.0</td>\n",
       "      <td>3.0</td>\n",
       "      <td>3.0</td>\n",
       "      <td>3.0</td>\n",
       "      <td>4.0</td>\n",
       "      <td>5.0</td>\n",
       "      <td>11.0</td>\n",
       "      <td>17.0</td>\n",
       "      <td>2.0</td>\n",
       "      <td>13.0</td>\n",
       "      <td>18.0</td>\n",
       "      <td>18.0</td>\n",
       "      <td>18.0</td>\n",
       "      <td>20.0</td>\n",
       "    </tr>\n",
       "    <tr>\n",
       "      <th>Mazda</th>\n",
       "      <td>11.0</td>\n",
       "      <td>2.0</td>\n",
       "      <td>1.0</td>\n",
       "      <td>1.0</td>\n",
       "      <td>2.0</td>\n",
       "      <td>2.0</td>\n",
       "      <td>2.0</td>\n",
       "      <td>4.0</td>\n",
       "      <td>11.0</td>\n",
       "      <td>21.0</td>\n",
       "      <td>4.0</td>\n",
       "      <td>15.0</td>\n",
       "      <td>18.0</td>\n",
       "      <td>23.0</td>\n",
       "      <td>24.0</td>\n",
       "      <td>26.0</td>\n",
       "    </tr>\n",
       "    <tr>\n",
       "      <th>Mitsubishi</th>\n",
       "      <td>13.0</td>\n",
       "      <td>3.0</td>\n",
       "      <td>1.0</td>\n",
       "      <td>2.0</td>\n",
       "      <td>2.0</td>\n",
       "      <td>2.0</td>\n",
       "      <td>4.0</td>\n",
       "      <td>4.0</td>\n",
       "      <td>13.0</td>\n",
       "      <td>21.0</td>\n",
       "      <td>3.0</td>\n",
       "      <td>15.0</td>\n",
       "      <td>18.0</td>\n",
       "      <td>21.0</td>\n",
       "      <td>25.0</td>\n",
       "      <td>25.0</td>\n",
       "    </tr>\n",
       "    <tr>\n",
       "      <th>Nissan</th>\n",
       "      <td>17.0</td>\n",
       "      <td>3.0</td>\n",
       "      <td>1.0</td>\n",
       "      <td>2.0</td>\n",
       "      <td>3.0</td>\n",
       "      <td>4.0</td>\n",
       "      <td>4.0</td>\n",
       "      <td>6.0</td>\n",
       "      <td>17.0</td>\n",
       "      <td>20.0</td>\n",
       "      <td>4.0</td>\n",
       "      <td>13.0</td>\n",
       "      <td>17.0</td>\n",
       "      <td>20.0</td>\n",
       "      <td>21.0</td>\n",
       "      <td>28.0</td>\n",
       "    </tr>\n",
       "    <tr>\n",
       "      <th>Scion</th>\n",
       "      <td>2.0</td>\n",
       "      <td>2.0</td>\n",
       "      <td>0.0</td>\n",
       "      <td>2.0</td>\n",
       "      <td>2.0</td>\n",
       "      <td>2.0</td>\n",
       "      <td>2.0</td>\n",
       "      <td>2.0</td>\n",
       "      <td>2.0</td>\n",
       "      <td>32.0</td>\n",
       "      <td>1.0</td>\n",
       "      <td>31.0</td>\n",
       "      <td>31.0</td>\n",
       "      <td>32.0</td>\n",
       "      <td>32.0</td>\n",
       "      <td>32.0</td>\n",
       "    </tr>\n",
       "    <tr>\n",
       "      <th>Subaru</th>\n",
       "      <td>11.0</td>\n",
       "      <td>3.0</td>\n",
       "      <td>0.0</td>\n",
       "      <td>2.0</td>\n",
       "      <td>2.0</td>\n",
       "      <td>2.0</td>\n",
       "      <td>2.0</td>\n",
       "      <td>3.0</td>\n",
       "      <td>11.0</td>\n",
       "      <td>20.0</td>\n",
       "      <td>1.0</td>\n",
       "      <td>18.0</td>\n",
       "      <td>20.0</td>\n",
       "      <td>21.0</td>\n",
       "      <td>21.0</td>\n",
       "      <td>22.0</td>\n",
       "    </tr>\n",
       "    <tr>\n",
       "      <th>Suzuki</th>\n",
       "      <td>8.0</td>\n",
       "      <td>2.0</td>\n",
       "      <td>0.0</td>\n",
       "      <td>2.0</td>\n",
       "      <td>2.0</td>\n",
       "      <td>2.0</td>\n",
       "      <td>2.0</td>\n",
       "      <td>3.0</td>\n",
       "      <td>8.0</td>\n",
       "      <td>22.0</td>\n",
       "      <td>3.0</td>\n",
       "      <td>18.0</td>\n",
       "      <td>20.0</td>\n",
       "      <td>23.0</td>\n",
       "      <td>24.0</td>\n",
       "      <td>25.0</td>\n",
       "    </tr>\n",
       "    <tr>\n",
       "      <th>Toyota</th>\n",
       "      <td>28.0</td>\n",
       "      <td>3.0</td>\n",
       "      <td>1.0</td>\n",
       "      <td>2.0</td>\n",
       "      <td>2.0</td>\n",
       "      <td>3.0</td>\n",
       "      <td>3.0</td>\n",
       "      <td>5.0</td>\n",
       "      <td>28.0</td>\n",
       "      <td>24.0</td>\n",
       "      <td>9.0</td>\n",
       "      <td>13.0</td>\n",
       "      <td>19.0</td>\n",
       "      <td>22.0</td>\n",
       "      <td>30.0</td>\n",
       "      <td>59.0</td>\n",
       "    </tr>\n",
       "    <tr>\n",
       "      <th rowspan=\"10\" valign=\"top\">Europe</th>\n",
       "      <th>Audi</th>\n",
       "      <td>19.0</td>\n",
       "      <td>3.0</td>\n",
       "      <td>1.0</td>\n",
       "      <td>2.0</td>\n",
       "      <td>3.0</td>\n",
       "      <td>3.0</td>\n",
       "      <td>4.0</td>\n",
       "      <td>4.0</td>\n",
       "      <td>19.0</td>\n",
       "      <td>18.0</td>\n",
       "      <td>2.0</td>\n",
       "      <td>14.0</td>\n",
       "      <td>17.0</td>\n",
       "      <td>18.0</td>\n",
       "      <td>20.0</td>\n",
       "      <td>23.0</td>\n",
       "    </tr>\n",
       "    <tr>\n",
       "      <th>BMW</th>\n",
       "      <td>20.0</td>\n",
       "      <td>3.0</td>\n",
       "      <td>1.0</td>\n",
       "      <td>2.0</td>\n",
       "      <td>2.0</td>\n",
       "      <td>3.0</td>\n",
       "      <td>3.0</td>\n",
       "      <td>4.0</td>\n",
       "      <td>20.0</td>\n",
       "      <td>19.0</td>\n",
       "      <td>2.0</td>\n",
       "      <td>16.0</td>\n",
       "      <td>18.0</td>\n",
       "      <td>19.0</td>\n",
       "      <td>20.0</td>\n",
       "      <td>21.0</td>\n",
       "    </tr>\n",
       "    <tr>\n",
       "      <th>Jaguar</th>\n",
       "      <td>12.0</td>\n",
       "      <td>4.0</td>\n",
       "      <td>1.0</td>\n",
       "      <td>2.0</td>\n",
       "      <td>4.0</td>\n",
       "      <td>4.0</td>\n",
       "      <td>4.0</td>\n",
       "      <td>4.0</td>\n",
       "      <td>12.0</td>\n",
       "      <td>18.0</td>\n",
       "      <td>1.0</td>\n",
       "      <td>16.0</td>\n",
       "      <td>17.0</td>\n",
       "      <td>18.0</td>\n",
       "      <td>18.0</td>\n",
       "      <td>18.0</td>\n",
       "    </tr>\n",
       "    <tr>\n",
       "      <th>Land Rover</th>\n",
       "      <td>3.0</td>\n",
       "      <td>4.0</td>\n",
       "      <td>1.0</td>\n",
       "      <td>2.0</td>\n",
       "      <td>3.0</td>\n",
       "      <td>4.0</td>\n",
       "      <td>4.0</td>\n",
       "      <td>5.0</td>\n",
       "      <td>3.0</td>\n",
       "      <td>14.0</td>\n",
       "      <td>3.0</td>\n",
       "      <td>12.0</td>\n",
       "      <td>12.0</td>\n",
       "      <td>12.0</td>\n",
       "      <td>15.0</td>\n",
       "      <td>18.0</td>\n",
       "    </tr>\n",
       "    <tr>\n",
       "      <th>MINI</th>\n",
       "      <td>2.0</td>\n",
       "      <td>2.0</td>\n",
       "      <td>0.0</td>\n",
       "      <td>2.0</td>\n",
       "      <td>2.0</td>\n",
       "      <td>2.0</td>\n",
       "      <td>2.0</td>\n",
       "      <td>2.0</td>\n",
       "      <td>2.0</td>\n",
       "      <td>26.0</td>\n",
       "      <td>2.0</td>\n",
       "      <td>25.0</td>\n",
       "      <td>26.0</td>\n",
       "      <td>26.0</td>\n",
       "      <td>27.0</td>\n",
       "      <td>28.0</td>\n",
       "    </tr>\n",
       "    <tr>\n",
       "      <th>Mercedes-Benz</th>\n",
       "      <td>26.0</td>\n",
       "      <td>4.0</td>\n",
       "      <td>1.0</td>\n",
       "      <td>2.0</td>\n",
       "      <td>3.0</td>\n",
       "      <td>3.0</td>\n",
       "      <td>5.0</td>\n",
       "      <td>6.0</td>\n",
       "      <td>26.0</td>\n",
       "      <td>17.0</td>\n",
       "      <td>3.0</td>\n",
       "      <td>13.0</td>\n",
       "      <td>16.0</td>\n",
       "      <td>18.0</td>\n",
       "      <td>19.0</td>\n",
       "      <td>22.0</td>\n",
       "    </tr>\n",
       "    <tr>\n",
       "      <th>Porsche</th>\n",
       "      <td>7.0</td>\n",
       "      <td>4.0</td>\n",
       "      <td>1.0</td>\n",
       "      <td>3.0</td>\n",
       "      <td>3.0</td>\n",
       "      <td>4.0</td>\n",
       "      <td>4.0</td>\n",
       "      <td>4.0</td>\n",
       "      <td>7.0</td>\n",
       "      <td>17.0</td>\n",
       "      <td>2.0</td>\n",
       "      <td>14.0</td>\n",
       "      <td>17.0</td>\n",
       "      <td>18.0</td>\n",
       "      <td>18.0</td>\n",
       "      <td>20.0</td>\n",
       "    </tr>\n",
       "    <tr>\n",
       "      <th>Saab</th>\n",
       "      <td>7.0</td>\n",
       "      <td>2.0</td>\n",
       "      <td>0.0</td>\n",
       "      <td>2.0</td>\n",
       "      <td>2.0</td>\n",
       "      <td>2.0</td>\n",
       "      <td>2.0</td>\n",
       "      <td>2.0</td>\n",
       "      <td>7.0</td>\n",
       "      <td>20.0</td>\n",
       "      <td>1.0</td>\n",
       "      <td>19.0</td>\n",
       "      <td>20.0</td>\n",
       "      <td>21.0</td>\n",
       "      <td>21.0</td>\n",
       "      <td>21.0</td>\n",
       "    </tr>\n",
       "    <tr>\n",
       "      <th>Volkswagen</th>\n",
       "      <td>15.0</td>\n",
       "      <td>3.0</td>\n",
       "      <td>1.0</td>\n",
       "      <td>2.0</td>\n",
       "      <td>2.0</td>\n",
       "      <td>2.0</td>\n",
       "      <td>4.0</td>\n",
       "      <td>6.0</td>\n",
       "      <td>15.0</td>\n",
       "      <td>21.0</td>\n",
       "      <td>6.0</td>\n",
       "      <td>12.0</td>\n",
       "      <td>18.0</td>\n",
       "      <td>22.0</td>\n",
       "      <td>24.0</td>\n",
       "      <td>38.0</td>\n",
       "    </tr>\n",
       "    <tr>\n",
       "      <th>Volvo</th>\n",
       "      <td>12.0</td>\n",
       "      <td>2.0</td>\n",
       "      <td>0.0</td>\n",
       "      <td>2.0</td>\n",
       "      <td>2.0</td>\n",
       "      <td>2.0</td>\n",
       "      <td>3.0</td>\n",
       "      <td>3.0</td>\n",
       "      <td>12.0</td>\n",
       "      <td>20.0</td>\n",
       "      <td>2.0</td>\n",
       "      <td>15.0</td>\n",
       "      <td>20.0</td>\n",
       "      <td>20.0</td>\n",
       "      <td>20.0</td>\n",
       "      <td>22.0</td>\n",
       "    </tr>\n",
       "    <tr>\n",
       "      <th rowspan=\"14\" valign=\"top\">USA</th>\n",
       "      <th>Buick</th>\n",
       "      <td>9.0</td>\n",
       "      <td>4.0</td>\n",
       "      <td>0.0</td>\n",
       "      <td>3.0</td>\n",
       "      <td>4.0</td>\n",
       "      <td>4.0</td>\n",
       "      <td>4.0</td>\n",
       "      <td>4.0</td>\n",
       "      <td>9.0</td>\n",
       "      <td>19.0</td>\n",
       "      <td>2.0</td>\n",
       "      <td>15.0</td>\n",
       "      <td>18.0</td>\n",
       "      <td>20.0</td>\n",
       "      <td>20.0</td>\n",
       "      <td>20.0</td>\n",
       "    </tr>\n",
       "    <tr>\n",
       "      <th>Cadillac</th>\n",
       "      <td>8.0</td>\n",
       "      <td>5.0</td>\n",
       "      <td>1.0</td>\n",
       "      <td>4.0</td>\n",
       "      <td>5.0</td>\n",
       "      <td>5.0</td>\n",
       "      <td>5.0</td>\n",
       "      <td>6.0</td>\n",
       "      <td>8.0</td>\n",
       "      <td>16.0</td>\n",
       "      <td>2.0</td>\n",
       "      <td>13.0</td>\n",
       "      <td>16.0</td>\n",
       "      <td>18.0</td>\n",
       "      <td>18.0</td>\n",
       "      <td>18.0</td>\n",
       "    </tr>\n",
       "    <tr>\n",
       "      <th>Chevrolet</th>\n",
       "      <td>27.0</td>\n",
       "      <td>4.0</td>\n",
       "      <td>1.0</td>\n",
       "      <td>2.0</td>\n",
       "      <td>3.0</td>\n",
       "      <td>4.0</td>\n",
       "      <td>5.0</td>\n",
       "      <td>6.0</td>\n",
       "      <td>27.0</td>\n",
       "      <td>20.0</td>\n",
       "      <td>5.0</td>\n",
       "      <td>13.0</td>\n",
       "      <td>16.0</td>\n",
       "      <td>19.0</td>\n",
       "      <td>22.0</td>\n",
       "      <td>28.0</td>\n",
       "    </tr>\n",
       "    <tr>\n",
       "      <th>Chrysler</th>\n",
       "      <td>15.0</td>\n",
       "      <td>3.0</td>\n",
       "      <td>1.0</td>\n",
       "      <td>2.0</td>\n",
       "      <td>2.0</td>\n",
       "      <td>3.0</td>\n",
       "      <td>4.0</td>\n",
       "      <td>4.0</td>\n",
       "      <td>15.0</td>\n",
       "      <td>20.0</td>\n",
       "      <td>2.0</td>\n",
       "      <td>17.0</td>\n",
       "      <td>18.0</td>\n",
       "      <td>21.0</td>\n",
       "      <td>22.0</td>\n",
       "      <td>22.0</td>\n",
       "    </tr>\n",
       "    <tr>\n",
       "      <th>Dodge</th>\n",
       "      <td>13.0</td>\n",
       "      <td>3.0</td>\n",
       "      <td>2.0</td>\n",
       "      <td>2.0</td>\n",
       "      <td>2.0</td>\n",
       "      <td>4.0</td>\n",
       "      <td>4.0</td>\n",
       "      <td>8.0</td>\n",
       "      <td>13.0</td>\n",
       "      <td>19.0</td>\n",
       "      <td>5.0</td>\n",
       "      <td>12.0</td>\n",
       "      <td>16.0</td>\n",
       "      <td>18.0</td>\n",
       "      <td>21.0</td>\n",
       "      <td>29.0</td>\n",
       "    </tr>\n",
       "    <tr>\n",
       "      <th>Ford</th>\n",
       "      <td>23.0</td>\n",
       "      <td>4.0</td>\n",
       "      <td>1.0</td>\n",
       "      <td>2.0</td>\n",
       "      <td>2.0</td>\n",
       "      <td>4.0</td>\n",
       "      <td>5.0</td>\n",
       "      <td>7.0</td>\n",
       "      <td>23.0</td>\n",
       "      <td>19.0</td>\n",
       "      <td>5.0</td>\n",
       "      <td>10.0</td>\n",
       "      <td>17.0</td>\n",
       "      <td>18.0</td>\n",
       "      <td>22.0</td>\n",
       "      <td>27.0</td>\n",
       "    </tr>\n",
       "    <tr>\n",
       "      <th>GMC</th>\n",
       "      <td>8.0</td>\n",
       "      <td>5.0</td>\n",
       "      <td>1.0</td>\n",
       "      <td>3.0</td>\n",
       "      <td>4.0</td>\n",
       "      <td>5.0</td>\n",
       "      <td>5.0</td>\n",
       "      <td>6.0</td>\n",
       "      <td>8.0</td>\n",
       "      <td>15.0</td>\n",
       "      <td>2.0</td>\n",
       "      <td>13.0</td>\n",
       "      <td>14.0</td>\n",
       "      <td>16.0</td>\n",
       "      <td>16.0</td>\n",
       "      <td>18.0</td>\n",
       "    </tr>\n",
       "    <tr>\n",
       "      <th>Hummer</th>\n",
       "      <td>1.0</td>\n",
       "      <td>6.0</td>\n",
       "      <td>NaN</td>\n",
       "      <td>6.0</td>\n",
       "      <td>6.0</td>\n",
       "      <td>6.0</td>\n",
       "      <td>6.0</td>\n",
       "      <td>6.0</td>\n",
       "      <td>1.0</td>\n",
       "      <td>10.0</td>\n",
       "      <td>NaN</td>\n",
       "      <td>10.0</td>\n",
       "      <td>10.0</td>\n",
       "      <td>10.0</td>\n",
       "      <td>10.0</td>\n",
       "      <td>10.0</td>\n",
       "    </tr>\n",
       "    <tr>\n",
       "      <th>Jeep</th>\n",
       "      <td>3.0</td>\n",
       "      <td>3.0</td>\n",
       "      <td>1.0</td>\n",
       "      <td>2.0</td>\n",
       "      <td>3.0</td>\n",
       "      <td>4.0</td>\n",
       "      <td>4.0</td>\n",
       "      <td>4.0</td>\n",
       "      <td>3.0</td>\n",
       "      <td>17.0</td>\n",
       "      <td>2.0</td>\n",
       "      <td>16.0</td>\n",
       "      <td>16.0</td>\n",
       "      <td>16.0</td>\n",
       "      <td>18.0</td>\n",
       "      <td>20.0</td>\n",
       "    </tr>\n",
       "    <tr>\n",
       "      <th>Lincoln</th>\n",
       "      <td>9.0</td>\n",
       "      <td>4.0</td>\n",
       "      <td>1.0</td>\n",
       "      <td>3.0</td>\n",
       "      <td>4.0</td>\n",
       "      <td>5.0</td>\n",
       "      <td>5.0</td>\n",
       "      <td>5.0</td>\n",
       "      <td>9.0</td>\n",
       "      <td>17.0</td>\n",
       "      <td>2.0</td>\n",
       "      <td>13.0</td>\n",
       "      <td>17.0</td>\n",
       "      <td>17.0</td>\n",
       "      <td>17.0</td>\n",
       "      <td>20.0</td>\n",
       "    </tr>\n",
       "    <tr>\n",
       "      <th>Mercury</th>\n",
       "      <td>9.0</td>\n",
       "      <td>4.0</td>\n",
       "      <td>1.0</td>\n",
       "      <td>3.0</td>\n",
       "      <td>3.0</td>\n",
       "      <td>4.0</td>\n",
       "      <td>5.0</td>\n",
       "      <td>5.0</td>\n",
       "      <td>9.0</td>\n",
       "      <td>18.0</td>\n",
       "      <td>1.0</td>\n",
       "      <td>16.0</td>\n",
       "      <td>17.0</td>\n",
       "      <td>17.0</td>\n",
       "      <td>19.0</td>\n",
       "      <td>20.0</td>\n",
       "    </tr>\n",
       "    <tr>\n",
       "      <th>Oldsmobile</th>\n",
       "      <td>3.0</td>\n",
       "      <td>3.0</td>\n",
       "      <td>1.0</td>\n",
       "      <td>2.0</td>\n",
       "      <td>3.0</td>\n",
       "      <td>3.0</td>\n",
       "      <td>3.0</td>\n",
       "      <td>3.0</td>\n",
       "      <td>3.0</td>\n",
       "      <td>21.0</td>\n",
       "      <td>3.0</td>\n",
       "      <td>19.0</td>\n",
       "      <td>20.0</td>\n",
       "      <td>20.0</td>\n",
       "      <td>22.0</td>\n",
       "      <td>24.0</td>\n",
       "    </tr>\n",
       "    <tr>\n",
       "      <th>Pontiac</th>\n",
       "      <td>11.0</td>\n",
       "      <td>3.0</td>\n",
       "      <td>1.0</td>\n",
       "      <td>2.0</td>\n",
       "      <td>3.0</td>\n",
       "      <td>3.0</td>\n",
       "      <td>4.0</td>\n",
       "      <td>6.0</td>\n",
       "      <td>11.0</td>\n",
       "      <td>21.0</td>\n",
       "      <td>4.0</td>\n",
       "      <td>16.0</td>\n",
       "      <td>18.0</td>\n",
       "      <td>20.0</td>\n",
       "      <td>22.0</td>\n",
       "      <td>29.0</td>\n",
       "    </tr>\n",
       "    <tr>\n",
       "      <th>Saturn</th>\n",
       "      <td>8.0</td>\n",
       "      <td>2.0</td>\n",
       "      <td>0.0</td>\n",
       "      <td>2.0</td>\n",
       "      <td>2.0</td>\n",
       "      <td>2.0</td>\n",
       "      <td>2.0</td>\n",
       "      <td>3.0</td>\n",
       "      <td>8.0</td>\n",
       "      <td>24.0</td>\n",
       "      <td>3.0</td>\n",
       "      <td>20.0</td>\n",
       "      <td>23.0</td>\n",
       "      <td>26.0</td>\n",
       "      <td>26.0</td>\n",
       "      <td>26.0</td>\n",
       "    </tr>\n",
       "  </tbody>\n",
       "</table>\n",
       "</div>"
      ],
      "text/plain": [
       "                     EngineSize                                    MPG_City  \\\n",
       "                          count mean  std  min  25%  50%  75%  max    count   \n",
       "Origin Make                                                                   \n",
       "Asia   Acura                7.0  3.0  1.0  2.0  3.0  3.0  4.0  4.0      7.0   \n",
       "       Honda               17.0  2.0  1.0  1.0  2.0  2.0  3.0  4.0     17.0   \n",
       "       Hyundai             12.0  2.0  1.0  2.0  2.0  2.0  3.0  4.0     12.0   \n",
       "       Infiniti             8.0  4.0  1.0  4.0  4.0  4.0  4.0  4.0      8.0   \n",
       "       Isuzu                2.0  4.0  1.0  3.0  3.0  4.0  4.0  4.0      2.0   \n",
       "       Kia                 11.0  2.0  1.0  2.0  2.0  2.0  3.0  4.0     11.0   \n",
       "       Lexus               11.0  4.0  1.0  3.0  3.0  3.0  4.0  5.0     11.0   \n",
       "       Mazda               11.0  2.0  1.0  1.0  2.0  2.0  2.0  4.0     11.0   \n",
       "       Mitsubishi          13.0  3.0  1.0  2.0  2.0  2.0  4.0  4.0     13.0   \n",
       "       Nissan              17.0  3.0  1.0  2.0  3.0  4.0  4.0  6.0     17.0   \n",
       "       Scion                2.0  2.0  0.0  2.0  2.0  2.0  2.0  2.0      2.0   \n",
       "       Subaru              11.0  3.0  0.0  2.0  2.0  2.0  2.0  3.0     11.0   \n",
       "       Suzuki               8.0  2.0  0.0  2.0  2.0  2.0  2.0  3.0      8.0   \n",
       "       Toyota              28.0  3.0  1.0  2.0  2.0  3.0  3.0  5.0     28.0   \n",
       "Europe Audi                19.0  3.0  1.0  2.0  3.0  3.0  4.0  4.0     19.0   \n",
       "       BMW                 20.0  3.0  1.0  2.0  2.0  3.0  3.0  4.0     20.0   \n",
       "       Jaguar              12.0  4.0  1.0  2.0  4.0  4.0  4.0  4.0     12.0   \n",
       "       Land Rover           3.0  4.0  1.0  2.0  3.0  4.0  4.0  5.0      3.0   \n",
       "       MINI                 2.0  2.0  0.0  2.0  2.0  2.0  2.0  2.0      2.0   \n",
       "       Mercedes-Benz       26.0  4.0  1.0  2.0  3.0  3.0  5.0  6.0     26.0   \n",
       "       Porsche              7.0  4.0  1.0  3.0  3.0  4.0  4.0  4.0      7.0   \n",
       "       Saab                 7.0  2.0  0.0  2.0  2.0  2.0  2.0  2.0      7.0   \n",
       "       Volkswagen          15.0  3.0  1.0  2.0  2.0  2.0  4.0  6.0     15.0   \n",
       "       Volvo               12.0  2.0  0.0  2.0  2.0  2.0  3.0  3.0     12.0   \n",
       "USA    Buick                9.0  4.0  0.0  3.0  4.0  4.0  4.0  4.0      9.0   \n",
       "       Cadillac             8.0  5.0  1.0  4.0  5.0  5.0  5.0  6.0      8.0   \n",
       "       Chevrolet           27.0  4.0  1.0  2.0  3.0  4.0  5.0  6.0     27.0   \n",
       "       Chrysler            15.0  3.0  1.0  2.0  2.0  3.0  4.0  4.0     15.0   \n",
       "       Dodge               13.0  3.0  2.0  2.0  2.0  4.0  4.0  8.0     13.0   \n",
       "       Ford                23.0  4.0  1.0  2.0  2.0  4.0  5.0  7.0     23.0   \n",
       "       GMC                  8.0  5.0  1.0  3.0  4.0  5.0  5.0  6.0      8.0   \n",
       "       Hummer               1.0  6.0  NaN  6.0  6.0  6.0  6.0  6.0      1.0   \n",
       "       Jeep                 3.0  3.0  1.0  2.0  3.0  4.0  4.0  4.0      3.0   \n",
       "       Lincoln              9.0  4.0  1.0  3.0  4.0  5.0  5.0  5.0      9.0   \n",
       "       Mercury              9.0  4.0  1.0  3.0  3.0  4.0  5.0  5.0      9.0   \n",
       "       Oldsmobile           3.0  3.0  1.0  2.0  3.0  3.0  3.0  3.0      3.0   \n",
       "       Pontiac             11.0  3.0  1.0  2.0  3.0  3.0  4.0  6.0     11.0   \n",
       "       Saturn               8.0  2.0  0.0  2.0  2.0  2.0  2.0  3.0      8.0   \n",
       "\n",
       "                                                                \n",
       "                      mean   std   min   25%   50%   75%   max  \n",
       "Origin Make                                                     \n",
       "Asia   Acura          19.0   3.0  17.0  18.0  18.0  21.0  24.0  \n",
       "       Honda          28.0  11.0  17.0  21.0  26.0  32.0  60.0  \n",
       "       Hyundai        23.0   5.0  17.0  19.0  23.0  27.0  29.0  \n",
       "       Infiniti       17.0   1.0  15.0  17.0  18.0  18.0  19.0  \n",
       "       Isuzu          16.0   1.0  15.0  16.0  16.0  16.0  17.0  \n",
       "       Kia            22.0   4.0  16.0  18.0  24.0  24.0  26.0  \n",
       "       Lexus          17.0   2.0  13.0  18.0  18.0  18.0  20.0  \n",
       "       Mazda          21.0   4.0  15.0  18.0  23.0  24.0  26.0  \n",
       "       Mitsubishi     21.0   3.0  15.0  18.0  21.0  25.0  25.0  \n",
       "       Nissan         20.0   4.0  13.0  17.0  20.0  21.0  28.0  \n",
       "       Scion          32.0   1.0  31.0  31.0  32.0  32.0  32.0  \n",
       "       Subaru         20.0   1.0  18.0  20.0  21.0  21.0  22.0  \n",
       "       Suzuki         22.0   3.0  18.0  20.0  23.0  24.0  25.0  \n",
       "       Toyota         24.0   9.0  13.0  19.0  22.0  30.0  59.0  \n",
       "Europe Audi           18.0   2.0  14.0  17.0  18.0  20.0  23.0  \n",
       "       BMW            19.0   2.0  16.0  18.0  19.0  20.0  21.0  \n",
       "       Jaguar         18.0   1.0  16.0  17.0  18.0  18.0  18.0  \n",
       "       Land Rover     14.0   3.0  12.0  12.0  12.0  15.0  18.0  \n",
       "       MINI           26.0   2.0  25.0  26.0  26.0  27.0  28.0  \n",
       "       Mercedes-Benz  17.0   3.0  13.0  16.0  18.0  19.0  22.0  \n",
       "       Porsche        17.0   2.0  14.0  17.0  18.0  18.0  20.0  \n",
       "       Saab           20.0   1.0  19.0  20.0  21.0  21.0  21.0  \n",
       "       Volkswagen     21.0   6.0  12.0  18.0  22.0  24.0  38.0  \n",
       "       Volvo          20.0   2.0  15.0  20.0  20.0  20.0  22.0  \n",
       "USA    Buick          19.0   2.0  15.0  18.0  20.0  20.0  20.0  \n",
       "       Cadillac       16.0   2.0  13.0  16.0  18.0  18.0  18.0  \n",
       "       Chevrolet      20.0   5.0  13.0  16.0  19.0  22.0  28.0  \n",
       "       Chrysler       20.0   2.0  17.0  18.0  21.0  22.0  22.0  \n",
       "       Dodge          19.0   5.0  12.0  16.0  18.0  21.0  29.0  \n",
       "       Ford           19.0   5.0  10.0  17.0  18.0  22.0  27.0  \n",
       "       GMC            15.0   2.0  13.0  14.0  16.0  16.0  18.0  \n",
       "       Hummer         10.0   NaN  10.0  10.0  10.0  10.0  10.0  \n",
       "       Jeep           17.0   2.0  16.0  16.0  16.0  18.0  20.0  \n",
       "       Lincoln        17.0   2.0  13.0  17.0  17.0  17.0  20.0  \n",
       "       Mercury        18.0   1.0  16.0  17.0  17.0  19.0  20.0  \n",
       "       Oldsmobile     21.0   3.0  19.0  20.0  20.0  22.0  24.0  \n",
       "       Pontiac        21.0   4.0  16.0  18.0  20.0  22.0  29.0  \n",
       "       Saturn         24.0   3.0  20.0  23.0  26.0  26.0  26.0  "
      ]
     },
     "execution_count": 47,
     "metadata": {},
     "output_type": "execute_result"
    }
   ],
   "source": [
    "cars.groupby(['Origin','Make'])[['EngineSize', 'MPG_City']].describe().round()\n"
   ]
  },
  {
   "cell_type": "code",
   "execution_count": null,
   "id": "cb2cd489",
   "metadata": {},
   "outputs": [
    {
     "data": {
      "application/vnd.plotly.v1+json": {
       "config": {
        "plotlyServerURL": "https://plot.ly"
       },
       "data": [
        {
         "coloraxis": "coloraxis",
         "geo": "geo",
         "hovertemplate": "<b>%{hovertext}</b><br><br>locations=%{location}<br>color=%{z}<extra></extra>",
         "hovertext": [
          "Asia",
          "USA",
          "Europe"
         ],
         "locationmode": "country names",
         "locations": [
          "Asia",
          "USA",
          "Europe"
         ],
         "name": "",
         "type": "choropleth",
         "z": [
          158,
          147,
          123
         ]
        }
       ],
       "layout": {
        "coloraxis": {
         "colorbar": {
          "title": {
           "text": "color"
          }
         },
         "colorscale": [
          [
           0,
           "#0d0887"
          ],
          [
           0.1111111111111111,
           "#46039f"
          ],
          [
           0.2222222222222222,
           "#7201a8"
          ],
          [
           0.3333333333333333,
           "#9c179e"
          ],
          [
           0.4444444444444444,
           "#bd3786"
          ],
          [
           0.5555555555555556,
           "#d8576b"
          ],
          [
           0.6666666666666666,
           "#ed7953"
          ],
          [
           0.7777777777777778,
           "#fb9f3a"
          ],
          [
           0.8888888888888888,
           "#fdca26"
          ],
          [
           1,
           "#f0f921"
          ]
         ]
        },
        "geo": {
         "bgcolor": "black",
         "center": {},
         "domain": {
          "x": [
           0,
           1
          ],
          "y": [
           0,
           1
          ]
         }
        },
        "legend": {
         "tracegroupgap": 0
        },
        "template": {
         "data": {
          "bar": [
           {
            "error_x": {
             "color": "#2a3f5f"
            },
            "error_y": {
             "color": "#2a3f5f"
            },
            "marker": {
             "line": {
              "color": "#E5ECF6",
              "width": 0.5
             },
             "pattern": {
              "fillmode": "overlay",
              "size": 10,
              "solidity": 0.2
             }
            },
            "type": "bar"
           }
          ],
          "barpolar": [
           {
            "marker": {
             "line": {
              "color": "#E5ECF6",
              "width": 0.5
             },
             "pattern": {
              "fillmode": "overlay",
              "size": 10,
              "solidity": 0.2
             }
            },
            "type": "barpolar"
           }
          ],
          "carpet": [
           {
            "aaxis": {
             "endlinecolor": "#2a3f5f",
             "gridcolor": "white",
             "linecolor": "white",
             "minorgridcolor": "white",
             "startlinecolor": "#2a3f5f"
            },
            "baxis": {
             "endlinecolor": "#2a3f5f",
             "gridcolor": "white",
             "linecolor": "white",
             "minorgridcolor": "white",
             "startlinecolor": "#2a3f5f"
            },
            "type": "carpet"
           }
          ],
          "choropleth": [
           {
            "colorbar": {
             "outlinewidth": 0,
             "ticks": ""
            },
            "type": "choropleth"
           }
          ],
          "contour": [
           {
            "colorbar": {
             "outlinewidth": 0,
             "ticks": ""
            },
            "colorscale": [
             [
              0,
              "#0d0887"
             ],
             [
              0.1111111111111111,
              "#46039f"
             ],
             [
              0.2222222222222222,
              "#7201a8"
             ],
             [
              0.3333333333333333,
              "#9c179e"
             ],
             [
              0.4444444444444444,
              "#bd3786"
             ],
             [
              0.5555555555555556,
              "#d8576b"
             ],
             [
              0.6666666666666666,
              "#ed7953"
             ],
             [
              0.7777777777777778,
              "#fb9f3a"
             ],
             [
              0.8888888888888888,
              "#fdca26"
             ],
             [
              1,
              "#f0f921"
             ]
            ],
            "type": "contour"
           }
          ],
          "contourcarpet": [
           {
            "colorbar": {
             "outlinewidth": 0,
             "ticks": ""
            },
            "type": "contourcarpet"
           }
          ],
          "heatmap": [
           {
            "colorbar": {
             "outlinewidth": 0,
             "ticks": ""
            },
            "colorscale": [
             [
              0,
              "#0d0887"
             ],
             [
              0.1111111111111111,
              "#46039f"
             ],
             [
              0.2222222222222222,
              "#7201a8"
             ],
             [
              0.3333333333333333,
              "#9c179e"
             ],
             [
              0.4444444444444444,
              "#bd3786"
             ],
             [
              0.5555555555555556,
              "#d8576b"
             ],
             [
              0.6666666666666666,
              "#ed7953"
             ],
             [
              0.7777777777777778,
              "#fb9f3a"
             ],
             [
              0.8888888888888888,
              "#fdca26"
             ],
             [
              1,
              "#f0f921"
             ]
            ],
            "type": "heatmap"
           }
          ],
          "heatmapgl": [
           {
            "colorbar": {
             "outlinewidth": 0,
             "ticks": ""
            },
            "colorscale": [
             [
              0,
              "#0d0887"
             ],
             [
              0.1111111111111111,
              "#46039f"
             ],
             [
              0.2222222222222222,
              "#7201a8"
             ],
             [
              0.3333333333333333,
              "#9c179e"
             ],
             [
              0.4444444444444444,
              "#bd3786"
             ],
             [
              0.5555555555555556,
              "#d8576b"
             ],
             [
              0.6666666666666666,
              "#ed7953"
             ],
             [
              0.7777777777777778,
              "#fb9f3a"
             ],
             [
              0.8888888888888888,
              "#fdca26"
             ],
             [
              1,
              "#f0f921"
             ]
            ],
            "type": "heatmapgl"
           }
          ],
          "histogram": [
           {
            "marker": {
             "pattern": {
              "fillmode": "overlay",
              "size": 10,
              "solidity": 0.2
             }
            },
            "type": "histogram"
           }
          ],
          "histogram2d": [
           {
            "colorbar": {
             "outlinewidth": 0,
             "ticks": ""
            },
            "colorscale": [
             [
              0,
              "#0d0887"
             ],
             [
              0.1111111111111111,
              "#46039f"
             ],
             [
              0.2222222222222222,
              "#7201a8"
             ],
             [
              0.3333333333333333,
              "#9c179e"
             ],
             [
              0.4444444444444444,
              "#bd3786"
             ],
             [
              0.5555555555555556,
              "#d8576b"
             ],
             [
              0.6666666666666666,
              "#ed7953"
             ],
             [
              0.7777777777777778,
              "#fb9f3a"
             ],
             [
              0.8888888888888888,
              "#fdca26"
             ],
             [
              1,
              "#f0f921"
             ]
            ],
            "type": "histogram2d"
           }
          ],
          "histogram2dcontour": [
           {
            "colorbar": {
             "outlinewidth": 0,
             "ticks": ""
            },
            "colorscale": [
             [
              0,
              "#0d0887"
             ],
             [
              0.1111111111111111,
              "#46039f"
             ],
             [
              0.2222222222222222,
              "#7201a8"
             ],
             [
              0.3333333333333333,
              "#9c179e"
             ],
             [
              0.4444444444444444,
              "#bd3786"
             ],
             [
              0.5555555555555556,
              "#d8576b"
             ],
             [
              0.6666666666666666,
              "#ed7953"
             ],
             [
              0.7777777777777778,
              "#fb9f3a"
             ],
             [
              0.8888888888888888,
              "#fdca26"
             ],
             [
              1,
              "#f0f921"
             ]
            ],
            "type": "histogram2dcontour"
           }
          ],
          "mesh3d": [
           {
            "colorbar": {
             "outlinewidth": 0,
             "ticks": ""
            },
            "type": "mesh3d"
           }
          ],
          "parcoords": [
           {
            "line": {
             "colorbar": {
              "outlinewidth": 0,
              "ticks": ""
             }
            },
            "type": "parcoords"
           }
          ],
          "pie": [
           {
            "automargin": true,
            "type": "pie"
           }
          ],
          "scatter": [
           {
            "fillpattern": {
             "fillmode": "overlay",
             "size": 10,
             "solidity": 0.2
            },
            "type": "scatter"
           }
          ],
          "scatter3d": [
           {
            "line": {
             "colorbar": {
              "outlinewidth": 0,
              "ticks": ""
             }
            },
            "marker": {
             "colorbar": {
              "outlinewidth": 0,
              "ticks": ""
             }
            },
            "type": "scatter3d"
           }
          ],
          "scattercarpet": [
           {
            "marker": {
             "colorbar": {
              "outlinewidth": 0,
              "ticks": ""
             }
            },
            "type": "scattercarpet"
           }
          ],
          "scattergeo": [
           {
            "marker": {
             "colorbar": {
              "outlinewidth": 0,
              "ticks": ""
             }
            },
            "type": "scattergeo"
           }
          ],
          "scattergl": [
           {
            "marker": {
             "colorbar": {
              "outlinewidth": 0,
              "ticks": ""
             }
            },
            "type": "scattergl"
           }
          ],
          "scattermapbox": [
           {
            "marker": {
             "colorbar": {
              "outlinewidth": 0,
              "ticks": ""
             }
            },
            "type": "scattermapbox"
           }
          ],
          "scatterpolar": [
           {
            "marker": {
             "colorbar": {
              "outlinewidth": 0,
              "ticks": ""
             }
            },
            "type": "scatterpolar"
           }
          ],
          "scatterpolargl": [
           {
            "marker": {
             "colorbar": {
              "outlinewidth": 0,
              "ticks": ""
             }
            },
            "type": "scatterpolargl"
           }
          ],
          "scatterternary": [
           {
            "marker": {
             "colorbar": {
              "outlinewidth": 0,
              "ticks": ""
             }
            },
            "type": "scatterternary"
           }
          ],
          "surface": [
           {
            "colorbar": {
             "outlinewidth": 0,
             "ticks": ""
            },
            "colorscale": [
             [
              0,
              "#0d0887"
             ],
             [
              0.1111111111111111,
              "#46039f"
             ],
             [
              0.2222222222222222,
              "#7201a8"
             ],
             [
              0.3333333333333333,
              "#9c179e"
             ],
             [
              0.4444444444444444,
              "#bd3786"
             ],
             [
              0.5555555555555556,
              "#d8576b"
             ],
             [
              0.6666666666666666,
              "#ed7953"
             ],
             [
              0.7777777777777778,
              "#fb9f3a"
             ],
             [
              0.8888888888888888,
              "#fdca26"
             ],
             [
              1,
              "#f0f921"
             ]
            ],
            "type": "surface"
           }
          ],
          "table": [
           {
            "cells": {
             "fill": {
              "color": "#EBF0F8"
             },
             "line": {
              "color": "white"
             }
            },
            "header": {
             "fill": {
              "color": "#C8D4E3"
             },
             "line": {
              "color": "white"
             }
            },
            "type": "table"
           }
          ]
         },
         "layout": {
          "annotationdefaults": {
           "arrowcolor": "#2a3f5f",
           "arrowhead": 0,
           "arrowwidth": 1
          },
          "autotypenumbers": "strict",
          "coloraxis": {
           "colorbar": {
            "outlinewidth": 0,
            "ticks": ""
           }
          },
          "colorscale": {
           "diverging": [
            [
             0,
             "#8e0152"
            ],
            [
             0.1,
             "#c51b7d"
            ],
            [
             0.2,
             "#de77ae"
            ],
            [
             0.3,
             "#f1b6da"
            ],
            [
             0.4,
             "#fde0ef"
            ],
            [
             0.5,
             "#f7f7f7"
            ],
            [
             0.6,
             "#e6f5d0"
            ],
            [
             0.7,
             "#b8e186"
            ],
            [
             0.8,
             "#7fbc41"
            ],
            [
             0.9,
             "#4d9221"
            ],
            [
             1,
             "#276419"
            ]
           ],
           "sequential": [
            [
             0,
             "#0d0887"
            ],
            [
             0.1111111111111111,
             "#46039f"
            ],
            [
             0.2222222222222222,
             "#7201a8"
            ],
            [
             0.3333333333333333,
             "#9c179e"
            ],
            [
             0.4444444444444444,
             "#bd3786"
            ],
            [
             0.5555555555555556,
             "#d8576b"
            ],
            [
             0.6666666666666666,
             "#ed7953"
            ],
            [
             0.7777777777777778,
             "#fb9f3a"
            ],
            [
             0.8888888888888888,
             "#fdca26"
            ],
            [
             1,
             "#f0f921"
            ]
           ],
           "sequentialminus": [
            [
             0,
             "#0d0887"
            ],
            [
             0.1111111111111111,
             "#46039f"
            ],
            [
             0.2222222222222222,
             "#7201a8"
            ],
            [
             0.3333333333333333,
             "#9c179e"
            ],
            [
             0.4444444444444444,
             "#bd3786"
            ],
            [
             0.5555555555555556,
             "#d8576b"
            ],
            [
             0.6666666666666666,
             "#ed7953"
            ],
            [
             0.7777777777777778,
             "#fb9f3a"
            ],
            [
             0.8888888888888888,
             "#fdca26"
            ],
            [
             1,
             "#f0f921"
            ]
           ]
          },
          "colorway": [
           "#636efa",
           "#EF553B",
           "#00cc96",
           "#ab63fa",
           "#FFA15A",
           "#19d3f3",
           "#FF6692",
           "#B6E880",
           "#FF97FF",
           "#FECB52"
          ],
          "font": {
           "color": "#2a3f5f"
          },
          "geo": {
           "bgcolor": "white",
           "lakecolor": "white",
           "landcolor": "#E5ECF6",
           "showlakes": true,
           "showland": true,
           "subunitcolor": "white"
          },
          "hoverlabel": {
           "align": "left"
          },
          "hovermode": "closest",
          "mapbox": {
           "style": "light"
          },
          "paper_bgcolor": "white",
          "plot_bgcolor": "#E5ECF6",
          "polar": {
           "angularaxis": {
            "gridcolor": "white",
            "linecolor": "white",
            "ticks": ""
           },
           "bgcolor": "#E5ECF6",
           "radialaxis": {
            "gridcolor": "white",
            "linecolor": "white",
            "ticks": ""
           }
          },
          "scene": {
           "xaxis": {
            "backgroundcolor": "#E5ECF6",
            "gridcolor": "white",
            "gridwidth": 2,
            "linecolor": "white",
            "showbackground": true,
            "ticks": "",
            "zerolinecolor": "white"
           },
           "yaxis": {
            "backgroundcolor": "#E5ECF6",
            "gridcolor": "white",
            "gridwidth": 2,
            "linecolor": "white",
            "showbackground": true,
            "ticks": "",
            "zerolinecolor": "white"
           },
           "zaxis": {
            "backgroundcolor": "#E5ECF6",
            "gridcolor": "white",
            "gridwidth": 2,
            "linecolor": "white",
            "showbackground": true,
            "ticks": "",
            "zerolinecolor": "white"
           }
          },
          "shapedefaults": {
           "line": {
            "color": "#2a3f5f"
           }
          },
          "ternary": {
           "aaxis": {
            "gridcolor": "white",
            "linecolor": "white",
            "ticks": ""
           },
           "baxis": {
            "gridcolor": "white",
            "linecolor": "white",
            "ticks": ""
           },
           "bgcolor": "#E5ECF6",
           "caxis": {
            "gridcolor": "white",
            "linecolor": "white",
            "ticks": ""
           }
          },
          "title": {
           "x": 0.05
          },
          "xaxis": {
           "automargin": true,
           "gridcolor": "white",
           "linecolor": "white",
           "ticks": "",
           "title": {
            "standoff": 15
           },
           "zerolinecolor": "white",
           "zerolinewidth": 2
          },
          "yaxis": {
           "automargin": true,
           "gridcolor": "white",
           "linecolor": "white",
           "ticks": "",
           "title": {
            "standoff": 15
           },
           "zerolinecolor": "white",
           "zerolinewidth": 2
          }
         }
        },
        "title": {
         "text": "Occurrences by Country"
        }
       }
      }
     },
     "metadata": {},
     "output_type": "display_data"
    }
   ],
   "source": [
    "# Plotting the world map based on  occurrences\n",
    "import pandas as pd\n",
    "import plotly.express as px\n",
    "country_counts = cars['Origin'].value_counts().reset_index()\n",
    "country_counts.columns = ['Country', 'count']\n",
    "fig = px.choropleth(locations=country_counts['Country'], locationmode='country names', \n",
    "                    color=country_counts['count'], hover_name=country_counts['Country'],\n",
    "                    title='Occurrences by Country')\n",
    "fig.update_layout(geo=dict(bgcolor='black'))\n",
    "fig.show()\n",
    "\n"
   ]
  },
  {
   "cell_type": "markdown",
   "id": "d165e0d5-88aa-4d5e-952b-542eb71b86a1",
   "metadata": {},
   "source": [
    " # Heatmap"
   ]
  },
  {
   "cell_type": "code",
   "execution_count": 49,
   "id": "d5b8f6b2-05d3-4c5b-b0e7-381ec0940ffd",
   "metadata": {},
   "outputs": [
    {
     "data": {
      "text/html": [
       "<div>\n",
       "<style scoped>\n",
       "    .dataframe tbody tr th:only-of-type {\n",
       "        vertical-align: middle;\n",
       "    }\n",
       "\n",
       "    .dataframe tbody tr th {\n",
       "        vertical-align: top;\n",
       "    }\n",
       "\n",
       "    .dataframe thead th {\n",
       "        text-align: right;\n",
       "    }\n",
       "</style>\n",
       "<table border=\"1\" class=\"dataframe\">\n",
       "  <thead>\n",
       "    <tr style=\"text-align: right;\">\n",
       "      <th></th>\n",
       "      <th>MSRP</th>\n",
       "      <th>Invoice</th>\n",
       "      <th>EngineSize</th>\n",
       "      <th>Cylinders</th>\n",
       "      <th>Horsepower</th>\n",
       "      <th>MPG_City</th>\n",
       "      <th>MPG_Highway</th>\n",
       "      <th>Weight</th>\n",
       "      <th>Wheelbase</th>\n",
       "      <th>Length</th>\n",
       "      <th>Price_Difference</th>\n",
       "      <th>Efficiency_Ratio</th>\n",
       "    </tr>\n",
       "  </thead>\n",
       "  <tbody>\n",
       "    <tr>\n",
       "      <th>MSRP</th>\n",
       "      <td>1.000000</td>\n",
       "      <td>0.998856</td>\n",
       "      <td>0.609439</td>\n",
       "      <td>0.682940</td>\n",
       "      <td>0.817451</td>\n",
       "      <td>-0.513148</td>\n",
       "      <td>-0.473169</td>\n",
       "      <td>0.516873</td>\n",
       "      <td>0.242266</td>\n",
       "      <td>0.232286</td>\n",
       "      <td>0.915004</td>\n",
       "      <td>0.395095</td>\n",
       "    </tr>\n",
       "    <tr>\n",
       "      <th>Invoice</th>\n",
       "      <td>0.998856</td>\n",
       "      <td>1.000000</td>\n",
       "      <td>0.601055</td>\n",
       "      <td>0.676663</td>\n",
       "      <td>0.813153</td>\n",
       "      <td>-0.508727</td>\n",
       "      <td>-0.467997</td>\n",
       "      <td>0.510650</td>\n",
       "      <td>0.239036</td>\n",
       "      <td>0.226808</td>\n",
       "      <td>0.894665</td>\n",
       "      <td>0.395436</td>\n",
       "    </tr>\n",
       "    <tr>\n",
       "      <th>EngineSize</th>\n",
       "      <td>0.609439</td>\n",
       "      <td>0.601055</td>\n",
       "      <td>1.000000</td>\n",
       "      <td>0.904843</td>\n",
       "      <td>0.795363</td>\n",
       "      <td>-0.705414</td>\n",
       "      <td>-0.713757</td>\n",
       "      <td>0.808970</td>\n",
       "      <td>0.657401</td>\n",
       "      <td>0.651227</td>\n",
       "      <td>0.622487</td>\n",
       "      <td>0.314088</td>\n",
       "    </tr>\n",
       "    <tr>\n",
       "      <th>Cylinders</th>\n",
       "      <td>0.682940</td>\n",
       "      <td>0.676663</td>\n",
       "      <td>0.904843</td>\n",
       "      <td>1.000000</td>\n",
       "      <td>0.811777</td>\n",
       "      <td>-0.687004</td>\n",
       "      <td>-0.678195</td>\n",
       "      <td>0.750218</td>\n",
       "      <td>0.578381</td>\n",
       "      <td>0.570997</td>\n",
       "      <td>0.671266</td>\n",
       "      <td>0.367509</td>\n",
       "    </tr>\n",
       "    <tr>\n",
       "      <th>Horsepower</th>\n",
       "      <td>0.817451</td>\n",
       "      <td>0.813153</td>\n",
       "      <td>0.795363</td>\n",
       "      <td>0.811777</td>\n",
       "      <td>1.000000</td>\n",
       "      <td>-0.689460</td>\n",
       "      <td>-0.659110</td>\n",
       "      <td>0.656201</td>\n",
       "      <td>0.446612</td>\n",
       "      <td>0.422263</td>\n",
       "      <td>0.776345</td>\n",
       "      <td>0.416077</td>\n",
       "    </tr>\n",
       "    <tr>\n",
       "      <th>MPG_City</th>\n",
       "      <td>-0.513148</td>\n",
       "      <td>-0.508727</td>\n",
       "      <td>-0.705414</td>\n",
       "      <td>-0.687004</td>\n",
       "      <td>-0.689460</td>\n",
       "      <td>1.000000</td>\n",
       "      <td>0.940326</td>\n",
       "      <td>-0.736972</td>\n",
       "      <td>-0.519170</td>\n",
       "      <td>-0.507673</td>\n",
       "      <td>-0.501879</td>\n",
       "      <td>-0.426060</td>\n",
       "    </tr>\n",
       "    <tr>\n",
       "      <th>MPG_Highway</th>\n",
       "      <td>-0.473169</td>\n",
       "      <td>-0.467997</td>\n",
       "      <td>-0.713757</td>\n",
       "      <td>-0.678195</td>\n",
       "      <td>-0.659110</td>\n",
       "      <td>0.940326</td>\n",
       "      <td>1.000000</td>\n",
       "      <td>-0.790348</td>\n",
       "      <td>-0.535909</td>\n",
       "      <td>-0.471433</td>\n",
       "      <td>-0.472025</td>\n",
       "      <td>-0.123128</td>\n",
       "    </tr>\n",
       "    <tr>\n",
       "      <th>Weight</th>\n",
       "      <td>0.516873</td>\n",
       "      <td>0.510650</td>\n",
       "      <td>0.808970</td>\n",
       "      <td>0.750218</td>\n",
       "      <td>0.656201</td>\n",
       "      <td>-0.736972</td>\n",
       "      <td>-0.790348</td>\n",
       "      <td>1.000000</td>\n",
       "      <td>0.768463</td>\n",
       "      <td>0.693839</td>\n",
       "      <td>0.520459</td>\n",
       "      <td>0.168943</td>\n",
       "    </tr>\n",
       "    <tr>\n",
       "      <th>Wheelbase</th>\n",
       "      <td>0.242266</td>\n",
       "      <td>0.239036</td>\n",
       "      <td>0.657401</td>\n",
       "      <td>0.578381</td>\n",
       "      <td>0.446612</td>\n",
       "      <td>-0.519170</td>\n",
       "      <td>-0.535909</td>\n",
       "      <td>0.768463</td>\n",
       "      <td>1.000000</td>\n",
       "      <td>0.889849</td>\n",
       "      <td>0.246587</td>\n",
       "      <td>0.181847</td>\n",
       "    </tr>\n",
       "    <tr>\n",
       "      <th>Length</th>\n",
       "      <td>0.232286</td>\n",
       "      <td>0.226808</td>\n",
       "      <td>0.651227</td>\n",
       "      <td>0.570997</td>\n",
       "      <td>0.422263</td>\n",
       "      <td>-0.507673</td>\n",
       "      <td>-0.471433</td>\n",
       "      <td>0.693839</td>\n",
       "      <td>0.889849</td>\n",
       "      <td>1.000000</td>\n",
       "      <td>0.256519</td>\n",
       "      <td>0.316806</td>\n",
       "    </tr>\n",
       "    <tr>\n",
       "      <th>Price_Difference</th>\n",
       "      <td>0.915004</td>\n",
       "      <td>0.894665</td>\n",
       "      <td>0.622487</td>\n",
       "      <td>0.671266</td>\n",
       "      <td>0.776345</td>\n",
       "      <td>-0.501879</td>\n",
       "      <td>-0.472025</td>\n",
       "      <td>0.520459</td>\n",
       "      <td>0.246587</td>\n",
       "      <td>0.256519</td>\n",
       "      <td>1.000000</td>\n",
       "      <td>0.354825</td>\n",
       "    </tr>\n",
       "    <tr>\n",
       "      <th>Efficiency_Ratio</th>\n",
       "      <td>0.395095</td>\n",
       "      <td>0.395436</td>\n",
       "      <td>0.314088</td>\n",
       "      <td>0.367509</td>\n",
       "      <td>0.416077</td>\n",
       "      <td>-0.426060</td>\n",
       "      <td>-0.123128</td>\n",
       "      <td>0.168943</td>\n",
       "      <td>0.181847</td>\n",
       "      <td>0.316806</td>\n",
       "      <td>0.354825</td>\n",
       "      <td>1.000000</td>\n",
       "    </tr>\n",
       "  </tbody>\n",
       "</table>\n",
       "</div>"
      ],
      "text/plain": [
       "                      MSRP   Invoice  EngineSize  Cylinders  Horsepower  \\\n",
       "MSRP              1.000000  0.998856    0.609439   0.682940    0.817451   \n",
       "Invoice           0.998856  1.000000    0.601055   0.676663    0.813153   \n",
       "EngineSize        0.609439  0.601055    1.000000   0.904843    0.795363   \n",
       "Cylinders         0.682940  0.676663    0.904843   1.000000    0.811777   \n",
       "Horsepower        0.817451  0.813153    0.795363   0.811777    1.000000   \n",
       "MPG_City         -0.513148 -0.508727   -0.705414  -0.687004   -0.689460   \n",
       "MPG_Highway      -0.473169 -0.467997   -0.713757  -0.678195   -0.659110   \n",
       "Weight            0.516873  0.510650    0.808970   0.750218    0.656201   \n",
       "Wheelbase         0.242266  0.239036    0.657401   0.578381    0.446612   \n",
       "Length            0.232286  0.226808    0.651227   0.570997    0.422263   \n",
       "Price_Difference  0.915004  0.894665    0.622487   0.671266    0.776345   \n",
       "Efficiency_Ratio  0.395095  0.395436    0.314088   0.367509    0.416077   \n",
       "\n",
       "                  MPG_City  MPG_Highway    Weight  Wheelbase    Length  \\\n",
       "MSRP             -0.513148    -0.473169  0.516873   0.242266  0.232286   \n",
       "Invoice          -0.508727    -0.467997  0.510650   0.239036  0.226808   \n",
       "EngineSize       -0.705414    -0.713757  0.808970   0.657401  0.651227   \n",
       "Cylinders        -0.687004    -0.678195  0.750218   0.578381  0.570997   \n",
       "Horsepower       -0.689460    -0.659110  0.656201   0.446612  0.422263   \n",
       "MPG_City          1.000000     0.940326 -0.736972  -0.519170 -0.507673   \n",
       "MPG_Highway       0.940326     1.000000 -0.790348  -0.535909 -0.471433   \n",
       "Weight           -0.736972    -0.790348  1.000000   0.768463  0.693839   \n",
       "Wheelbase        -0.519170    -0.535909  0.768463   1.000000  0.889849   \n",
       "Length           -0.507673    -0.471433  0.693839   0.889849  1.000000   \n",
       "Price_Difference -0.501879    -0.472025  0.520459   0.246587  0.256519   \n",
       "Efficiency_Ratio -0.426060    -0.123128  0.168943   0.181847  0.316806   \n",
       "\n",
       "                  Price_Difference  Efficiency_Ratio  \n",
       "MSRP                      0.915004          0.395095  \n",
       "Invoice                   0.894665          0.395436  \n",
       "EngineSize                0.622487          0.314088  \n",
       "Cylinders                 0.671266          0.367509  \n",
       "Horsepower                0.776345          0.416077  \n",
       "MPG_City                 -0.501879         -0.426060  \n",
       "MPG_Highway              -0.472025         -0.123128  \n",
       "Weight                    0.520459          0.168943  \n",
       "Wheelbase                 0.246587          0.181847  \n",
       "Length                    0.256519          0.316806  \n",
       "Price_Difference          1.000000          0.354825  \n",
       "Efficiency_Ratio          0.354825          1.000000  "
      ]
     },
     "execution_count": 49,
     "metadata": {},
     "output_type": "execute_result"
    }
   ],
   "source": [
    "corr = cars.select_dtypes(include=['number']).corr()\n",
    "corr\n"
   ]
  },
  {
   "cell_type": "code",
   "execution_count": 50,
   "id": "62b4ce89-d82c-4c45-8f10-4653319ff3a3",
   "metadata": {},
   "outputs": [
    {
     "data": {
      "image/png": "[encoded data removed]",
      "text/plain": [
       "<Figure size 1000x600 with 2 Axes>"
      ]
     },
     "metadata": {},
     "output_type": "display_data"
    }
   ],
   "source": [
    "plt.figure(figsize=(10,6))\n",
    "sns.heatmap(corr, annot=True, cmap=\"coolwarm\", linewidths=0.5)\n",
    "plt.title(\"Correlation Heatmap of Cars Dataset\")\n",
    "plt.show()"
   ]
  },
  {
   "cell_type": "markdown",
   "id": "f5a88ed6-b6bc-41aa-be3f-9923d533470b",
   "metadata": {},
   "source": [
    "# Crosstab"
   ]
  },
  {
   "cell_type": "code",
   "execution_count": 51,
   "id": "0dadf9de-2cf0-466a-9e70-5d1dc3afea72",
   "metadata": {},
   "outputs": [
    {
     "data": {
      "text/html": [
       "<div>\n",
       "<style scoped>\n",
       "    .dataframe tbody tr th:only-of-type {\n",
       "        vertical-align: middle;\n",
       "    }\n",
       "\n",
       "    .dataframe tbody tr th {\n",
       "        vertical-align: top;\n",
       "    }\n",
       "\n",
       "    .dataframe thead th {\n",
       "        text-align: right;\n",
       "    }\n",
       "</style>\n",
       "<table border=\"1\" class=\"dataframe\">\n",
       "  <thead>\n",
       "    <tr style=\"text-align: right;\">\n",
       "      <th>Origin</th>\n",
       "      <th>asia</th>\n",
       "      <th>europe</th>\n",
       "      <th>usa</th>\n",
       "    </tr>\n",
       "    <tr>\n",
       "      <th>Type</th>\n",
       "      <th></th>\n",
       "      <th></th>\n",
       "      <th></th>\n",
       "    </tr>\n",
       "  </thead>\n",
       "  <tbody>\n",
       "    <tr>\n",
       "      <th>hybrid</th>\n",
       "      <td>3</td>\n",
       "      <td>0</td>\n",
       "      <td>0</td>\n",
       "    </tr>\n",
       "    <tr>\n",
       "      <th>sedan</th>\n",
       "      <td>94</td>\n",
       "      <td>77</td>\n",
       "      <td>90</td>\n",
       "    </tr>\n",
       "    <tr>\n",
       "      <th>sports</th>\n",
       "      <td>17</td>\n",
       "      <td>20</td>\n",
       "      <td>9</td>\n",
       "    </tr>\n",
       "    <tr>\n",
       "      <th>suv</th>\n",
       "      <td>25</td>\n",
       "      <td>10</td>\n",
       "      <td>25</td>\n",
       "    </tr>\n",
       "    <tr>\n",
       "      <th>truck</th>\n",
       "      <td>8</td>\n",
       "      <td>0</td>\n",
       "      <td>16</td>\n",
       "    </tr>\n",
       "    <tr>\n",
       "      <th>wagon</th>\n",
       "      <td>11</td>\n",
       "      <td>12</td>\n",
       "      <td>7</td>\n",
       "    </tr>\n",
       "  </tbody>\n",
       "</table>\n",
       "</div>"
      ],
      "text/plain": [
       "Origin  asia  europe  usa\n",
       "Type                     \n",
       "hybrid     3       0    0\n",
       "sedan     94      77   90\n",
       "sports    17      20    9\n",
       "suv       25      10   25\n",
       "truck      8       0   16\n",
       "wagon     11      12    7"
      ]
     },
     "execution_count": 51,
     "metadata": {},
     "output_type": "execute_result"
    }
   ],
   "source": [
    "pd.crosstab(cars['Type'], cars['Origin'])\n"
   ]
  },
  {
   "cell_type": "code",
   "execution_count": 52,
   "id": "b532be67-8dfd-4084-a512-fa1395029154",
   "metadata": {},
   "outputs": [
    {
     "data": {
      "text/html": [
       "<div>\n",
       "<style scoped>\n",
       "    .dataframe tbody tr th:only-of-type {\n",
       "        vertical-align: middle;\n",
       "    }\n",
       "\n",
       "    .dataframe tbody tr th {\n",
       "        vertical-align: top;\n",
       "    }\n",
       "\n",
       "    .dataframe thead th {\n",
       "        text-align: right;\n",
       "    }\n",
       "</style>\n",
       "<table border=\"1\" class=\"dataframe\">\n",
       "  <thead>\n",
       "    <tr style=\"text-align: right;\">\n",
       "      <th>Origin</th>\n",
       "      <th>asia</th>\n",
       "      <th>europe</th>\n",
       "      <th>usa</th>\n",
       "    </tr>\n",
       "    <tr>\n",
       "      <th>DriveTrain</th>\n",
       "      <th></th>\n",
       "      <th></th>\n",
       "      <th></th>\n",
       "    </tr>\n",
       "  </thead>\n",
       "  <tbody>\n",
       "    <tr>\n",
       "      <th>all</th>\n",
       "      <td>34</td>\n",
       "      <td>36</td>\n",
       "      <td>22</td>\n",
       "    </tr>\n",
       "    <tr>\n",
       "      <th>front</th>\n",
       "      <td>99</td>\n",
       "      <td>37</td>\n",
       "      <td>90</td>\n",
       "    </tr>\n",
       "    <tr>\n",
       "      <th>rear</th>\n",
       "      <td>25</td>\n",
       "      <td>46</td>\n",
       "      <td>35</td>\n",
       "    </tr>\n",
       "  </tbody>\n",
       "</table>\n",
       "</div>"
      ],
      "text/plain": [
       "Origin      asia  europe  usa\n",
       "DriveTrain                   \n",
       "all           34      36   22\n",
       "front         99      37   90\n",
       "rear          25      46   35"
      ]
     },
     "execution_count": 52,
     "metadata": {},
     "output_type": "execute_result"
    }
   ],
   "source": [
    "pd.crosstab(cars['DriveTrain'], cars['Origin'])\n"
   ]
  },
  {
   "cell_type": "code",
   "execution_count": 53,
   "id": "8c29a84c-3027-45c3-b05d-4031d29c5c50",
   "metadata": {},
   "outputs": [
    {
     "data": {
      "text/html": [
       "<div>\n",
       "<style scoped>\n",
       "    .dataframe tbody tr th:only-of-type {\n",
       "        vertical-align: middle;\n",
       "    }\n",
       "\n",
       "    .dataframe tbody tr th {\n",
       "        vertical-align: top;\n",
       "    }\n",
       "\n",
       "    .dataframe thead th {\n",
       "        text-align: right;\n",
       "    }\n",
       "</style>\n",
       "<table border=\"1\" class=\"dataframe\">\n",
       "  <thead>\n",
       "    <tr style=\"text-align: right;\">\n",
       "      <th>Origin</th>\n",
       "      <th>asia</th>\n",
       "      <th>europe</th>\n",
       "      <th>usa</th>\n",
       "    </tr>\n",
       "    <tr>\n",
       "      <th>Type</th>\n",
       "      <th></th>\n",
       "      <th></th>\n",
       "      <th></th>\n",
       "    </tr>\n",
       "  </thead>\n",
       "  <tbody>\n",
       "    <tr>\n",
       "      <th>hybrid</th>\n",
       "      <td>100.000000</td>\n",
       "      <td>0.000000</td>\n",
       "      <td>0.000000</td>\n",
       "    </tr>\n",
       "    <tr>\n",
       "      <th>sedan</th>\n",
       "      <td>36.015326</td>\n",
       "      <td>29.501916</td>\n",
       "      <td>34.482759</td>\n",
       "    </tr>\n",
       "    <tr>\n",
       "      <th>sports</th>\n",
       "      <td>36.956522</td>\n",
       "      <td>43.478261</td>\n",
       "      <td>19.565217</td>\n",
       "    </tr>\n",
       "    <tr>\n",
       "      <th>suv</th>\n",
       "      <td>41.666667</td>\n",
       "      <td>16.666667</td>\n",
       "      <td>41.666667</td>\n",
       "    </tr>\n",
       "    <tr>\n",
       "      <th>truck</th>\n",
       "      <td>33.333333</td>\n",
       "      <td>0.000000</td>\n",
       "      <td>66.666667</td>\n",
       "    </tr>\n",
       "    <tr>\n",
       "      <th>wagon</th>\n",
       "      <td>36.666667</td>\n",
       "      <td>40.000000</td>\n",
       "      <td>23.333333</td>\n",
       "    </tr>\n",
       "  </tbody>\n",
       "</table>\n",
       "</div>"
      ],
      "text/plain": [
       "Origin        asia     europe        usa\n",
       "Type                                    \n",
       "hybrid  100.000000   0.000000   0.000000\n",
       "sedan    36.015326  29.501916  34.482759\n",
       "sports   36.956522  43.478261  19.565217\n",
       "suv      41.666667  16.666667  41.666667\n",
       "truck    33.333333   0.000000  66.666667\n",
       "wagon    36.666667  40.000000  23.333333"
      ]
     },
     "execution_count": 53,
     "metadata": {},
     "output_type": "execute_result"
    }
   ],
   "source": [
    "pd.crosstab(cars['Type'], cars['Origin'], normalize='index') * 100\n"
   ]
  },
  {
   "cell_type": "code",
   "execution_count": 54,
   "id": "05eae809-f063-4aa0-958e-5ff35ae3ca98",
   "metadata": {},
   "outputs": [
    {
     "data": {
      "text/html": [
       "<div>\n",
       "<style scoped>\n",
       "    .dataframe tbody tr th:only-of-type {\n",
       "        vertical-align: middle;\n",
       "    }\n",
       "\n",
       "    .dataframe tbody tr th {\n",
       "        vertical-align: top;\n",
       "    }\n",
       "\n",
       "    .dataframe thead th {\n",
       "        text-align: right;\n",
       "    }\n",
       "</style>\n",
       "<table border=\"1\" class=\"dataframe\">\n",
       "  <thead>\n",
       "    <tr style=\"text-align: right;\">\n",
       "      <th>Type</th>\n",
       "      <th>hybrid</th>\n",
       "      <th>sedan</th>\n",
       "      <th>sports</th>\n",
       "      <th>suv</th>\n",
       "      <th>truck</th>\n",
       "      <th>wagon</th>\n",
       "    </tr>\n",
       "    <tr>\n",
       "      <th>Origin</th>\n",
       "      <th></th>\n",
       "      <th></th>\n",
       "      <th></th>\n",
       "      <th></th>\n",
       "      <th></th>\n",
       "      <th></th>\n",
       "    </tr>\n",
       "  </thead>\n",
       "  <tbody>\n",
       "    <tr>\n",
       "      <th>asia</th>\n",
       "      <td>92.0</td>\n",
       "      <td>181.978723</td>\n",
       "      <td>225.352941</td>\n",
       "      <td>214.16</td>\n",
       "      <td>190.250</td>\n",
       "      <td>185.636364</td>\n",
       "    </tr>\n",
       "    <tr>\n",
       "      <th>europe</th>\n",
       "      <td>NaN</td>\n",
       "      <td>233.194805</td>\n",
       "      <td>291.100000</td>\n",
       "      <td>263.10</td>\n",
       "      <td>NaN</td>\n",
       "      <td>218.166667</td>\n",
       "    </tr>\n",
       "    <tr>\n",
       "      <th>usa</th>\n",
       "      <td>NaN</td>\n",
       "      <td>191.988889</td>\n",
       "      <td>312.000000</td>\n",
       "      <td>246.56</td>\n",
       "      <td>242.125</td>\n",
       "      <td>165.714286</td>\n",
       "    </tr>\n",
       "  </tbody>\n",
       "</table>\n",
       "</div>"
      ],
      "text/plain": [
       "Type    hybrid       sedan      sports     suv    truck       wagon\n",
       "Origin                                                             \n",
       "asia      92.0  181.978723  225.352941  214.16  190.250  185.636364\n",
       "europe     NaN  233.194805  291.100000  263.10      NaN  218.166667\n",
       "usa        NaN  191.988889  312.000000  246.56  242.125  165.714286"
      ]
     },
     "execution_count": 54,
     "metadata": {},
     "output_type": "execute_result"
    }
   ],
   "source": [
    "cars.pivot_table(values='Horsepower', index='Origin', columns='Type', aggfunc='mean')\n"
   ]
  },
  {
   "cell_type": "code",
   "execution_count": 56,
   "id": "4c8b9d50-e4f6-4277-bba2-521080747d6b",
   "metadata": {},
   "outputs": [
    {
     "data": {
      "image/png": "[encoded data removed]",
      "text/plain": [
       "<Figure size 640x480 with 2 Axes>"
      ]
     },
     "metadata": {},
     "output_type": "display_data"
    }
   ],
   "source": [
    "ct = pd.crosstab(cars['Type'], cars['Origin'])\n",
    "sns.heatmap(ct, annot=True, cmap=\"coolwarm\", fmt=\"d\")\n",
    "plt.title(\"Car Type vs Origin\")\n",
    "plt.show()\n"
   ]
  },
  {
   "cell_type": "markdown",
   "id": "3ad0136f-853a-438b-ac7f-be4180b71aba",
   "metadata": {},
   "source": [
    "## Insights & Conclusions  \n",
    "\n",
    "| Area                   | Key Findings |\n",
    "|-------------------------|--------------|\n",
    "| Fuel Efficiency & Weight | Heavier cars tend to have lower MPG in both city and highway driving. |\n",
    "| Horsepower & Cylinders  | Most cars fall between 4–6 cylinders with horsepower clustering around 200–250 HP. |\n",
    "| Pricing Patterns         | MSRP ranges from $10K to nearly $193K; median price is around $27K. Luxury cars form high-end outliers. |\n",
    "| Regional Differences     | Asian cars are lighter and more fuel-efficient; European cars have higher horsepower and premium pricing; US cars typically have larger engines and heavier builds. |\n",
    "| DriveTrain Trends        | Rear-wheel drive is common in performance/luxury cars, while front-wheel drive dominates economy cars. |\n",
    "| Correlation Insights     | Strong negative correlation between Weight and MPG; positive correlation between Horsepower and Weight. |\n",
    "\n",
    "**Conclusion:**  \n",
    "The Cars dataset highlights clear patterns in performance, efficiency, and pricing. Vehicle specifications such as weight, horsepower, and engine size strongly influence fuel efficiency and cost. Regional differences also show distinct design philosophies across USA, Asia, and Europe.  \n"
   ]
  },
  {
   "cell_type": "code",
   "execution_count": null,
   "id": "4eb6df30",
   "metadata": {},
   "outputs": [],
   "source": []
  }
 ],
 "metadata": {
  "kernelspec": {
   "display_name": "base",
   "language": "python",
   "name": "python3"
  },
  "language_info": {
   "codemirror_mode": {
    "name": "ipython",
    "version": 3
   },
   "file_extension": ".py",
   "mimetype": "text/x-python",
   "name": "python",
   "nbconvert_exporter": "python",
   "pygments_lexer": "ipython3",
   "version": "3.13.5"
  }
 },
 "nbformat": 4,
 "nbformat_minor": 5
}
